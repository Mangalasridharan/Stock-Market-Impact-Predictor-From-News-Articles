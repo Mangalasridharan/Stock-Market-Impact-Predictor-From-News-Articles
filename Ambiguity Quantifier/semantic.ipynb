{
 "cells": [
  {
   "cell_type": "code",
   "execution_count": 2,
   "id": "ae48b3aa",
   "metadata": {},
   "outputs": [
    {
     "name": "stderr",
     "output_type": "stream",
     "text": [
      "[nltk_data] Downloading package wordnet to\n",
      "[nltk_data]     C:\\Users\\saman\\AppData\\Roaming\\nltk_data...\n",
      "[nltk_data]   Package wordnet is already up-to-date!\n",
      "[nltk_data] Downloading package omw-1.4 to\n",
      "[nltk_data]     C:\\Users\\saman\\AppData\\Roaming\\nltk_data...\n",
      "[nltk_data]   Package omw-1.4 is already up-to-date!\n",
      "[nltk_data] Downloading package punkt to\n",
      "[nltk_data]     C:\\Users\\saman\\AppData\\Roaming\\nltk_data...\n",
      "[nltk_data]   Package punkt is already up-to-date!\n",
      "Quantifying semantic ambiguity: 100%|██████████| 10000/10000 [00:59<00:00, 169.22it/s]\n"
     ]
    }
   ],
   "source": [
    "import pandas as pd\n",
    "from nltk.corpus import wordnet as wn\n",
    "from tqdm import tqdm\n",
    "import nltk\n",
    "\n",
    "# Download WordNet if not already\n",
    "nltk.download(\"wordnet\")\n",
    "nltk.download(\"omw-1.4\")\n",
    "nltk.download(\"punkt\")\n",
    "\n",
    "from nltk.tokenize import word_tokenize, sent_tokenize\n",
    "\n",
    "# Load your dataset\n",
    "df = pd.read_csv(r\"C:\\Users\\saman\\Downloads\\preprocessed_fnspid_10k.csv\")  # replace with your dataset path\n",
    "\n",
    "def count_semantic_ambiguity(text, min_meanings=2):\n",
    "    \"\"\"\n",
    "    Counts sentences in the text that contain semantically ambiguous words.\n",
    "    \n",
    "    Args:\n",
    "        text (str): Article text.\n",
    "        min_meanings (int): Minimum number of WordNet senses to consider a word ambiguous.\n",
    "    \n",
    "    Returns:\n",
    "        dict: Count, percentage, flagged sentences\n",
    "    \"\"\"\n",
    "    flagged_sentences = []\n",
    "    sentences = sent_tokenize(text)\n",
    "    \n",
    "    for sent in sentences:\n",
    "        words = word_tokenize(sent)\n",
    "        for word in words:\n",
    "            synsets = wn.synsets(word)\n",
    "            if len(synsets) >= min_meanings:\n",
    "                flagged_sentences.append(sent)\n",
    "                break  # flag the sentence if any word is ambiguous\n",
    "                \n",
    "    total_sentences = len(sentences)\n",
    "    count = len(flagged_sentences)\n",
    "    percentage = (count / total_sentences) * 100 if total_sentences else 0\n",
    "    \n",
    "    return {\n",
    "        \"count\": count,\n",
    "        \"percentage\": percentage,\n",
    "        \"flagged_sentences\": flagged_sentences,\n",
    "        \"total_sentences\": total_sentences\n",
    "    }\n",
    "\n",
    "# Apply to dataset with tqdm\n",
    "results = []\n",
    "for article in tqdm(df['Article'], desc=\"Quantifying semantic ambiguity\"):\n",
    "    res = count_semantic_ambiguity(article)\n",
    "    results.append(res)\n",
    "\n",
    "# Convert results to DataFrame\n",
    "semantic_results = pd.DataFrame(results)\n",
    "semantic_results.to_csv(\"semantic_ambiguity_results.csv\", index=False)\n"
   ]
  }
 ],
 "metadata": {
  "kernelspec": {
   "display_name": "Python 3",
   "language": "python",
   "name": "python3"
  },
  "language_info": {
   "codemirror_mode": {
    "name": "ipython",
    "version": 3
   },
   "file_extension": ".py",
   "mimetype": "text/x-python",
   "name": "python",
   "nbconvert_exporter": "python",
   "pygments_lexer": "ipython3",
   "version": "3.11.9"
  }
 },
 "nbformat": 4,
 "nbformat_minor": 5
}
