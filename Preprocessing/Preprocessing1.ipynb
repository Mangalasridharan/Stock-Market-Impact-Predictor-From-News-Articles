{
 "cells": [
  {
   "cell_type": "code",
   "id": "087f190f",
   "metadata": {
    "ExecuteTime": {
     "end_time": "2025-09-21T09:07:22.492836Z",
     "start_time": "2025-09-21T09:07:21.847577Z"
    }
   },
   "source": [
    "import pandas as pd"
   ],
   "outputs": [],
   "execution_count": 1
  },
  {
   "cell_type": "code",
   "id": "880cada5",
   "metadata": {
    "ExecuteTime": {
     "end_time": "2025-09-21T09:07:30.986808Z",
     "start_time": "2025-09-21T09:07:22.888890Z"
    }
   },
   "source": [
    "df = pd.read_csv(r\"F:\\College\\SEM 7\\19CSE453-Natural Language Processing\\Case Study\\Dataset\\filtered_data.csv\")\n",
    "df"
   ],
   "outputs": [
    {
     "data": {
      "text/plain": [
       "        Unnamed: 0.1  Unnamed: 0                       Date  \\\n",
       "0                  0         0.0  2023-12-16 23:00:00+00:00   \n",
       "1                  1         1.0  2023-12-12 00:00:00+00:00   \n",
       "2                  2         2.0  2023-12-12 00:00:00+00:00   \n",
       "3                  3         3.0  2023-12-07 00:00:00+00:00   \n",
       "4                  4         4.0  2023-12-07 00:00:00+00:00   \n",
       "...              ...         ...                        ...   \n",
       "241354        323558    323558.0  2018-01-09 00:00:00+00:00   \n",
       "241355        323559    323559.0  2018-01-09 00:00:00+00:00   \n",
       "241356        323560    323560.0  2018-01-09 00:00:00+00:00   \n",
       "241357        323561    323561.0  2018-01-05 00:00:00+00:00   \n",
       "241358        323562    323562.0  2018-01-05 00:00:00+00:00   \n",
       "\n",
       "                                            Article_title Stock_symbol  \\\n",
       "0       Interesting A Put And Call Options For August ...            A   \n",
       "1       Wolfe Research Initiates Coverage of Agilent T...            A   \n",
       "2       Agilent Technologies Reaches Analyst Target Price            A   \n",
       "3       Agilent (A) Enhances BioTek Cytation C10 With ...            A   \n",
       "4       Pre-Market Most Active for Dec 7, 2023 : SQQQ,...            A   \n",
       "...                                                   ...          ...   \n",
       "241354  Mid-Morning Market Update: Markets Mostly High...         BGFV   \n",
       "241355  Big 5 (BGFV) Topples on Soft Q4 Sales, Lowers ...         BGFV   \n",
       "241356  Tuesday Sector Laggards: Specialty Retail, App...         BGFV   \n",
       "241357              New Strong Buy Stocks for January 5th         BGFV   \n",
       "241358  Why Big 5 Sporting Goods (BGFV) Could Be a Top...         BGFV   \n",
       "\n",
       "                                                  Article  \\\n",
       "0       Investors in Agilent Technologies, Inc. (Symbo...   \n",
       "1       Fintel reports that on December 13, 2023, Wolf...   \n",
       "2       In recent trading, shares of Agilent Technolog...   \n",
       "3       Agilent Technologies A is enhancing its BioTek...   \n",
       "4       The NASDAQ 100 Pre-Market Indicator is up 70.2...   \n",
       "...                                                   ...   \n",
       "241354  Following the market opening Tuesday, the Dow ...   \n",
       "241355  Big 5 Sporting Goods Corp.BGFV reported dismal...   \n",
       "241356  In trading on Tuesday, specialty retail shares...   \n",
       "241357  Here are 5 stocks added to the Zacks Rank #1 (...   \n",
       "241358  Value investing is always a very popular strat...   \n",
       "\n",
       "                                         Textrank_summary  \n",
       "0       Below is a chart showing the trailing twelve m...  \n",
       "1       Agilent Technologies Declares $0.24 Dividend O...  \n",
       "2       When a stock reaches the target an analyst has...  \n",
       "3       Agilent Technologies, Inc. Price and Consensus...  \n",
       "4       The total Pre-Market volume is currently 39,23...  \n",
       "...                                                   ...  \n",
       "241354  Shares of Big 5 Sporting Goods Corporation (NA...  \n",
       "241355  Click to get this free report American Eagle O...  \n",
       "241356  Helping drag down the group were shares of Big...  \n",
       "241357  American Eagle Outfitters, Inc. Price and Cons...  \n",
       "241358  These factors suggest that Big 5 Sporting Good...  \n",
       "\n",
       "[241359 rows x 7 columns]"
      ],
      "text/html": [
       "<div>\n",
       "<style scoped>\n",
       "    .dataframe tbody tr th:only-of-type {\n",
       "        vertical-align: middle;\n",
       "    }\n",
       "\n",
       "    .dataframe tbody tr th {\n",
       "        vertical-align: top;\n",
       "    }\n",
       "\n",
       "    .dataframe thead th {\n",
       "        text-align: right;\n",
       "    }\n",
       "</style>\n",
       "<table border=\"1\" class=\"dataframe\">\n",
       "  <thead>\n",
       "    <tr style=\"text-align: right;\">\n",
       "      <th></th>\n",
       "      <th>Unnamed: 0.1</th>\n",
       "      <th>Unnamed: 0</th>\n",
       "      <th>Date</th>\n",
       "      <th>Article_title</th>\n",
       "      <th>Stock_symbol</th>\n",
       "      <th>Article</th>\n",
       "      <th>Textrank_summary</th>\n",
       "    </tr>\n",
       "  </thead>\n",
       "  <tbody>\n",
       "    <tr>\n",
       "      <th>0</th>\n",
       "      <td>0</td>\n",
       "      <td>0.0</td>\n",
       "      <td>2023-12-16 23:00:00+00:00</td>\n",
       "      <td>Interesting A Put And Call Options For August ...</td>\n",
       "      <td>A</td>\n",
       "      <td>Investors in Agilent Technologies, Inc. (Symbo...</td>\n",
       "      <td>Below is a chart showing the trailing twelve m...</td>\n",
       "    </tr>\n",
       "    <tr>\n",
       "      <th>1</th>\n",
       "      <td>1</td>\n",
       "      <td>1.0</td>\n",
       "      <td>2023-12-12 00:00:00+00:00</td>\n",
       "      <td>Wolfe Research Initiates Coverage of Agilent T...</td>\n",
       "      <td>A</td>\n",
       "      <td>Fintel reports that on December 13, 2023, Wolf...</td>\n",
       "      <td>Agilent Technologies Declares $0.24 Dividend O...</td>\n",
       "    </tr>\n",
       "    <tr>\n",
       "      <th>2</th>\n",
       "      <td>2</td>\n",
       "      <td>2.0</td>\n",
       "      <td>2023-12-12 00:00:00+00:00</td>\n",
       "      <td>Agilent Technologies Reaches Analyst Target Price</td>\n",
       "      <td>A</td>\n",
       "      <td>In recent trading, shares of Agilent Technolog...</td>\n",
       "      <td>When a stock reaches the target an analyst has...</td>\n",
       "    </tr>\n",
       "    <tr>\n",
       "      <th>3</th>\n",
       "      <td>3</td>\n",
       "      <td>3.0</td>\n",
       "      <td>2023-12-07 00:00:00+00:00</td>\n",
       "      <td>Agilent (A) Enhances BioTek Cytation C10 With ...</td>\n",
       "      <td>A</td>\n",
       "      <td>Agilent Technologies A is enhancing its BioTek...</td>\n",
       "      <td>Agilent Technologies, Inc. Price and Consensus...</td>\n",
       "    </tr>\n",
       "    <tr>\n",
       "      <th>4</th>\n",
       "      <td>4</td>\n",
       "      <td>4.0</td>\n",
       "      <td>2023-12-07 00:00:00+00:00</td>\n",
       "      <td>Pre-Market Most Active for Dec 7, 2023 : SQQQ,...</td>\n",
       "      <td>A</td>\n",
       "      <td>The NASDAQ 100 Pre-Market Indicator is up 70.2...</td>\n",
       "      <td>The total Pre-Market volume is currently 39,23...</td>\n",
       "    </tr>\n",
       "    <tr>\n",
       "      <th>...</th>\n",
       "      <td>...</td>\n",
       "      <td>...</td>\n",
       "      <td>...</td>\n",
       "      <td>...</td>\n",
       "      <td>...</td>\n",
       "      <td>...</td>\n",
       "      <td>...</td>\n",
       "    </tr>\n",
       "    <tr>\n",
       "      <th>241354</th>\n",
       "      <td>323558</td>\n",
       "      <td>323558.0</td>\n",
       "      <td>2018-01-09 00:00:00+00:00</td>\n",
       "      <td>Mid-Morning Market Update: Markets Mostly High...</td>\n",
       "      <td>BGFV</td>\n",
       "      <td>Following the market opening Tuesday, the Dow ...</td>\n",
       "      <td>Shares of Big 5 Sporting Goods Corporation (NA...</td>\n",
       "    </tr>\n",
       "    <tr>\n",
       "      <th>241355</th>\n",
       "      <td>323559</td>\n",
       "      <td>323559.0</td>\n",
       "      <td>2018-01-09 00:00:00+00:00</td>\n",
       "      <td>Big 5 (BGFV) Topples on Soft Q4 Sales, Lowers ...</td>\n",
       "      <td>BGFV</td>\n",
       "      <td>Big 5 Sporting Goods Corp.BGFV reported dismal...</td>\n",
       "      <td>Click to get this free report American Eagle O...</td>\n",
       "    </tr>\n",
       "    <tr>\n",
       "      <th>241356</th>\n",
       "      <td>323560</td>\n",
       "      <td>323560.0</td>\n",
       "      <td>2018-01-09 00:00:00+00:00</td>\n",
       "      <td>Tuesday Sector Laggards: Specialty Retail, App...</td>\n",
       "      <td>BGFV</td>\n",
       "      <td>In trading on Tuesday, specialty retail shares...</td>\n",
       "      <td>Helping drag down the group were shares of Big...</td>\n",
       "    </tr>\n",
       "    <tr>\n",
       "      <th>241357</th>\n",
       "      <td>323561</td>\n",
       "      <td>323561.0</td>\n",
       "      <td>2018-01-05 00:00:00+00:00</td>\n",
       "      <td>New Strong Buy Stocks for January 5th</td>\n",
       "      <td>BGFV</td>\n",
       "      <td>Here are 5 stocks added to the Zacks Rank #1 (...</td>\n",
       "      <td>American Eagle Outfitters, Inc. Price and Cons...</td>\n",
       "    </tr>\n",
       "    <tr>\n",
       "      <th>241358</th>\n",
       "      <td>323562</td>\n",
       "      <td>323562.0</td>\n",
       "      <td>2018-01-05 00:00:00+00:00</td>\n",
       "      <td>Why Big 5 Sporting Goods (BGFV) Could Be a Top...</td>\n",
       "      <td>BGFV</td>\n",
       "      <td>Value investing is always a very popular strat...</td>\n",
       "      <td>These factors suggest that Big 5 Sporting Good...</td>\n",
       "    </tr>\n",
       "  </tbody>\n",
       "</table>\n",
       "<p>241359 rows × 7 columns</p>\n",
       "</div>"
      ]
     },
     "execution_count": 2,
     "metadata": {},
     "output_type": "execute_result"
    }
   ],
   "execution_count": 2
  },
  {
   "metadata": {
    "ExecuteTime": {
     "end_time": "2025-09-21T09:07:43.499225Z",
     "start_time": "2025-09-21T09:07:43.471974Z"
    }
   },
   "cell_type": "code",
   "source": "df_clean=df.drop(columns=['Unnamed: 0','Unnamed: 0.1'])",
   "id": "3fd51cd3",
   "outputs": [],
   "execution_count": 3
  },
  {
   "cell_type": "code",
   "id": "500687e3",
   "metadata": {
    "ExecuteTime": {
     "end_time": "2025-09-21T09:07:46.226813Z",
     "start_time": "2025-09-21T09:07:46.192377Z"
    }
   },
   "source": [
    "df_clean['Date'] = pd.to_datetime(df_clean['Date']).dt.tz_localize(None).dt.normalize()"
   ],
   "outputs": [],
   "execution_count": 4
  },
  {
   "cell_type": "code",
   "id": "973935eb",
   "metadata": {
    "ExecuteTime": {
     "end_time": "2025-09-21T09:07:47.071945Z",
     "start_time": "2025-09-21T09:07:47.059726Z"
    }
   },
   "source": [
    "df_clean"
   ],
   "outputs": [
    {
     "data": {
      "text/plain": [
       "             Date                                      Article_title  \\\n",
       "0      2023-12-16  Interesting A Put And Call Options For August ...   \n",
       "1      2023-12-12  Wolfe Research Initiates Coverage of Agilent T...   \n",
       "2      2023-12-12  Agilent Technologies Reaches Analyst Target Price   \n",
       "3      2023-12-07  Agilent (A) Enhances BioTek Cytation C10 With ...   \n",
       "4      2023-12-07  Pre-Market Most Active for Dec 7, 2023 : SQQQ,...   \n",
       "...           ...                                                ...   \n",
       "241354 2018-01-09  Mid-Morning Market Update: Markets Mostly High...   \n",
       "241355 2018-01-09  Big 5 (BGFV) Topples on Soft Q4 Sales, Lowers ...   \n",
       "241356 2018-01-09  Tuesday Sector Laggards: Specialty Retail, App...   \n",
       "241357 2018-01-05              New Strong Buy Stocks for January 5th   \n",
       "241358 2018-01-05  Why Big 5 Sporting Goods (BGFV) Could Be a Top...   \n",
       "\n",
       "       Stock_symbol                                            Article  \\\n",
       "0                 A  Investors in Agilent Technologies, Inc. (Symbo...   \n",
       "1                 A  Fintel reports that on December 13, 2023, Wolf...   \n",
       "2                 A  In recent trading, shares of Agilent Technolog...   \n",
       "3                 A  Agilent Technologies A is enhancing its BioTek...   \n",
       "4                 A  The NASDAQ 100 Pre-Market Indicator is up 70.2...   \n",
       "...             ...                                                ...   \n",
       "241354         BGFV  Following the market opening Tuesday, the Dow ...   \n",
       "241355         BGFV  Big 5 Sporting Goods Corp.BGFV reported dismal...   \n",
       "241356         BGFV  In trading on Tuesday, specialty retail shares...   \n",
       "241357         BGFV  Here are 5 stocks added to the Zacks Rank #1 (...   \n",
       "241358         BGFV  Value investing is always a very popular strat...   \n",
       "\n",
       "                                         Textrank_summary  \n",
       "0       Below is a chart showing the trailing twelve m...  \n",
       "1       Agilent Technologies Declares $0.24 Dividend O...  \n",
       "2       When a stock reaches the target an analyst has...  \n",
       "3       Agilent Technologies, Inc. Price and Consensus...  \n",
       "4       The total Pre-Market volume is currently 39,23...  \n",
       "...                                                   ...  \n",
       "241354  Shares of Big 5 Sporting Goods Corporation (NA...  \n",
       "241355  Click to get this free report American Eagle O...  \n",
       "241356  Helping drag down the group were shares of Big...  \n",
       "241357  American Eagle Outfitters, Inc. Price and Cons...  \n",
       "241358  These factors suggest that Big 5 Sporting Good...  \n",
       "\n",
       "[241359 rows x 5 columns]"
      ],
      "text/html": [
       "<div>\n",
       "<style scoped>\n",
       "    .dataframe tbody tr th:only-of-type {\n",
       "        vertical-align: middle;\n",
       "    }\n",
       "\n",
       "    .dataframe tbody tr th {\n",
       "        vertical-align: top;\n",
       "    }\n",
       "\n",
       "    .dataframe thead th {\n",
       "        text-align: right;\n",
       "    }\n",
       "</style>\n",
       "<table border=\"1\" class=\"dataframe\">\n",
       "  <thead>\n",
       "    <tr style=\"text-align: right;\">\n",
       "      <th></th>\n",
       "      <th>Date</th>\n",
       "      <th>Article_title</th>\n",
       "      <th>Stock_symbol</th>\n",
       "      <th>Article</th>\n",
       "      <th>Textrank_summary</th>\n",
       "    </tr>\n",
       "  </thead>\n",
       "  <tbody>\n",
       "    <tr>\n",
       "      <th>0</th>\n",
       "      <td>2023-12-16</td>\n",
       "      <td>Interesting A Put And Call Options For August ...</td>\n",
       "      <td>A</td>\n",
       "      <td>Investors in Agilent Technologies, Inc. (Symbo...</td>\n",
       "      <td>Below is a chart showing the trailing twelve m...</td>\n",
       "    </tr>\n",
       "    <tr>\n",
       "      <th>1</th>\n",
       "      <td>2023-12-12</td>\n",
       "      <td>Wolfe Research Initiates Coverage of Agilent T...</td>\n",
       "      <td>A</td>\n",
       "      <td>Fintel reports that on December 13, 2023, Wolf...</td>\n",
       "      <td>Agilent Technologies Declares $0.24 Dividend O...</td>\n",
       "    </tr>\n",
       "    <tr>\n",
       "      <th>2</th>\n",
       "      <td>2023-12-12</td>\n",
       "      <td>Agilent Technologies Reaches Analyst Target Price</td>\n",
       "      <td>A</td>\n",
       "      <td>In recent trading, shares of Agilent Technolog...</td>\n",
       "      <td>When a stock reaches the target an analyst has...</td>\n",
       "    </tr>\n",
       "    <tr>\n",
       "      <th>3</th>\n",
       "      <td>2023-12-07</td>\n",
       "      <td>Agilent (A) Enhances BioTek Cytation C10 With ...</td>\n",
       "      <td>A</td>\n",
       "      <td>Agilent Technologies A is enhancing its BioTek...</td>\n",
       "      <td>Agilent Technologies, Inc. Price and Consensus...</td>\n",
       "    </tr>\n",
       "    <tr>\n",
       "      <th>4</th>\n",
       "      <td>2023-12-07</td>\n",
       "      <td>Pre-Market Most Active for Dec 7, 2023 : SQQQ,...</td>\n",
       "      <td>A</td>\n",
       "      <td>The NASDAQ 100 Pre-Market Indicator is up 70.2...</td>\n",
       "      <td>The total Pre-Market volume is currently 39,23...</td>\n",
       "    </tr>\n",
       "    <tr>\n",
       "      <th>...</th>\n",
       "      <td>...</td>\n",
       "      <td>...</td>\n",
       "      <td>...</td>\n",
       "      <td>...</td>\n",
       "      <td>...</td>\n",
       "    </tr>\n",
       "    <tr>\n",
       "      <th>241354</th>\n",
       "      <td>2018-01-09</td>\n",
       "      <td>Mid-Morning Market Update: Markets Mostly High...</td>\n",
       "      <td>BGFV</td>\n",
       "      <td>Following the market opening Tuesday, the Dow ...</td>\n",
       "      <td>Shares of Big 5 Sporting Goods Corporation (NA...</td>\n",
       "    </tr>\n",
       "    <tr>\n",
       "      <th>241355</th>\n",
       "      <td>2018-01-09</td>\n",
       "      <td>Big 5 (BGFV) Topples on Soft Q4 Sales, Lowers ...</td>\n",
       "      <td>BGFV</td>\n",
       "      <td>Big 5 Sporting Goods Corp.BGFV reported dismal...</td>\n",
       "      <td>Click to get this free report American Eagle O...</td>\n",
       "    </tr>\n",
       "    <tr>\n",
       "      <th>241356</th>\n",
       "      <td>2018-01-09</td>\n",
       "      <td>Tuesday Sector Laggards: Specialty Retail, App...</td>\n",
       "      <td>BGFV</td>\n",
       "      <td>In trading on Tuesday, specialty retail shares...</td>\n",
       "      <td>Helping drag down the group were shares of Big...</td>\n",
       "    </tr>\n",
       "    <tr>\n",
       "      <th>241357</th>\n",
       "      <td>2018-01-05</td>\n",
       "      <td>New Strong Buy Stocks for January 5th</td>\n",
       "      <td>BGFV</td>\n",
       "      <td>Here are 5 stocks added to the Zacks Rank #1 (...</td>\n",
       "      <td>American Eagle Outfitters, Inc. Price and Cons...</td>\n",
       "    </tr>\n",
       "    <tr>\n",
       "      <th>241358</th>\n",
       "      <td>2018-01-05</td>\n",
       "      <td>Why Big 5 Sporting Goods (BGFV) Could Be a Top...</td>\n",
       "      <td>BGFV</td>\n",
       "      <td>Value investing is always a very popular strat...</td>\n",
       "      <td>These factors suggest that Big 5 Sporting Good...</td>\n",
       "    </tr>\n",
       "  </tbody>\n",
       "</table>\n",
       "<p>241359 rows × 5 columns</p>\n",
       "</div>"
      ]
     },
     "execution_count": 5,
     "metadata": {},
     "output_type": "execute_result"
    }
   ],
   "execution_count": 5
  },
  {
   "cell_type": "code",
   "id": "369b60ee",
   "metadata": {
    "ExecuteTime": {
     "end_time": "2025-09-21T09:07:49.597063Z",
     "start_time": "2025-09-21T09:07:49.580175Z"
    }
   },
   "source": "df_clean['Year'] = pd.to_datetime(df_clean['Date']).dt.year\n",
   "outputs": [],
   "execution_count": 6
  },
  {
   "cell_type": "code",
   "id": "252a3fee",
   "metadata": {
    "ExecuteTime": {
     "end_time": "2025-09-21T09:07:51.810861Z",
     "start_time": "2025-09-21T09:07:51.796790Z"
    }
   },
   "source": [
    "df_clean"
   ],
   "outputs": [
    {
     "data": {
      "text/plain": [
       "             Date                                      Article_title  \\\n",
       "0      2023-12-16  Interesting A Put And Call Options For August ...   \n",
       "1      2023-12-12  Wolfe Research Initiates Coverage of Agilent T...   \n",
       "2      2023-12-12  Agilent Technologies Reaches Analyst Target Price   \n",
       "3      2023-12-07  Agilent (A) Enhances BioTek Cytation C10 With ...   \n",
       "4      2023-12-07  Pre-Market Most Active for Dec 7, 2023 : SQQQ,...   \n",
       "...           ...                                                ...   \n",
       "241354 2018-01-09  Mid-Morning Market Update: Markets Mostly High...   \n",
       "241355 2018-01-09  Big 5 (BGFV) Topples on Soft Q4 Sales, Lowers ...   \n",
       "241356 2018-01-09  Tuesday Sector Laggards: Specialty Retail, App...   \n",
       "241357 2018-01-05              New Strong Buy Stocks for January 5th   \n",
       "241358 2018-01-05  Why Big 5 Sporting Goods (BGFV) Could Be a Top...   \n",
       "\n",
       "       Stock_symbol                                            Article  \\\n",
       "0                 A  Investors in Agilent Technologies, Inc. (Symbo...   \n",
       "1                 A  Fintel reports that on December 13, 2023, Wolf...   \n",
       "2                 A  In recent trading, shares of Agilent Technolog...   \n",
       "3                 A  Agilent Technologies A is enhancing its BioTek...   \n",
       "4                 A  The NASDAQ 100 Pre-Market Indicator is up 70.2...   \n",
       "...             ...                                                ...   \n",
       "241354         BGFV  Following the market opening Tuesday, the Dow ...   \n",
       "241355         BGFV  Big 5 Sporting Goods Corp.BGFV reported dismal...   \n",
       "241356         BGFV  In trading on Tuesday, specialty retail shares...   \n",
       "241357         BGFV  Here are 5 stocks added to the Zacks Rank #1 (...   \n",
       "241358         BGFV  Value investing is always a very popular strat...   \n",
       "\n",
       "                                         Textrank_summary  Year  \n",
       "0       Below is a chart showing the trailing twelve m...  2023  \n",
       "1       Agilent Technologies Declares $0.24 Dividend O...  2023  \n",
       "2       When a stock reaches the target an analyst has...  2023  \n",
       "3       Agilent Technologies, Inc. Price and Consensus...  2023  \n",
       "4       The total Pre-Market volume is currently 39,23...  2023  \n",
       "...                                                   ...   ...  \n",
       "241354  Shares of Big 5 Sporting Goods Corporation (NA...  2018  \n",
       "241355  Click to get this free report American Eagle O...  2018  \n",
       "241356  Helping drag down the group were shares of Big...  2018  \n",
       "241357  American Eagle Outfitters, Inc. Price and Cons...  2018  \n",
       "241358  These factors suggest that Big 5 Sporting Good...  2018  \n",
       "\n",
       "[241359 rows x 6 columns]"
      ],
      "text/html": [
       "<div>\n",
       "<style scoped>\n",
       "    .dataframe tbody tr th:only-of-type {\n",
       "        vertical-align: middle;\n",
       "    }\n",
       "\n",
       "    .dataframe tbody tr th {\n",
       "        vertical-align: top;\n",
       "    }\n",
       "\n",
       "    .dataframe thead th {\n",
       "        text-align: right;\n",
       "    }\n",
       "</style>\n",
       "<table border=\"1\" class=\"dataframe\">\n",
       "  <thead>\n",
       "    <tr style=\"text-align: right;\">\n",
       "      <th></th>\n",
       "      <th>Date</th>\n",
       "      <th>Article_title</th>\n",
       "      <th>Stock_symbol</th>\n",
       "      <th>Article</th>\n",
       "      <th>Textrank_summary</th>\n",
       "      <th>Year</th>\n",
       "    </tr>\n",
       "  </thead>\n",
       "  <tbody>\n",
       "    <tr>\n",
       "      <th>0</th>\n",
       "      <td>2023-12-16</td>\n",
       "      <td>Interesting A Put And Call Options For August ...</td>\n",
       "      <td>A</td>\n",
       "      <td>Investors in Agilent Technologies, Inc. (Symbo...</td>\n",
       "      <td>Below is a chart showing the trailing twelve m...</td>\n",
       "      <td>2023</td>\n",
       "    </tr>\n",
       "    <tr>\n",
       "      <th>1</th>\n",
       "      <td>2023-12-12</td>\n",
       "      <td>Wolfe Research Initiates Coverage of Agilent T...</td>\n",
       "      <td>A</td>\n",
       "      <td>Fintel reports that on December 13, 2023, Wolf...</td>\n",
       "      <td>Agilent Technologies Declares $0.24 Dividend O...</td>\n",
       "      <td>2023</td>\n",
       "    </tr>\n",
       "    <tr>\n",
       "      <th>2</th>\n",
       "      <td>2023-12-12</td>\n",
       "      <td>Agilent Technologies Reaches Analyst Target Price</td>\n",
       "      <td>A</td>\n",
       "      <td>In recent trading, shares of Agilent Technolog...</td>\n",
       "      <td>When a stock reaches the target an analyst has...</td>\n",
       "      <td>2023</td>\n",
       "    </tr>\n",
       "    <tr>\n",
       "      <th>3</th>\n",
       "      <td>2023-12-07</td>\n",
       "      <td>Agilent (A) Enhances BioTek Cytation C10 With ...</td>\n",
       "      <td>A</td>\n",
       "      <td>Agilent Technologies A is enhancing its BioTek...</td>\n",
       "      <td>Agilent Technologies, Inc. Price and Consensus...</td>\n",
       "      <td>2023</td>\n",
       "    </tr>\n",
       "    <tr>\n",
       "      <th>4</th>\n",
       "      <td>2023-12-07</td>\n",
       "      <td>Pre-Market Most Active for Dec 7, 2023 : SQQQ,...</td>\n",
       "      <td>A</td>\n",
       "      <td>The NASDAQ 100 Pre-Market Indicator is up 70.2...</td>\n",
       "      <td>The total Pre-Market volume is currently 39,23...</td>\n",
       "      <td>2023</td>\n",
       "    </tr>\n",
       "    <tr>\n",
       "      <th>...</th>\n",
       "      <td>...</td>\n",
       "      <td>...</td>\n",
       "      <td>...</td>\n",
       "      <td>...</td>\n",
       "      <td>...</td>\n",
       "      <td>...</td>\n",
       "    </tr>\n",
       "    <tr>\n",
       "      <th>241354</th>\n",
       "      <td>2018-01-09</td>\n",
       "      <td>Mid-Morning Market Update: Markets Mostly High...</td>\n",
       "      <td>BGFV</td>\n",
       "      <td>Following the market opening Tuesday, the Dow ...</td>\n",
       "      <td>Shares of Big 5 Sporting Goods Corporation (NA...</td>\n",
       "      <td>2018</td>\n",
       "    </tr>\n",
       "    <tr>\n",
       "      <th>241355</th>\n",
       "      <td>2018-01-09</td>\n",
       "      <td>Big 5 (BGFV) Topples on Soft Q4 Sales, Lowers ...</td>\n",
       "      <td>BGFV</td>\n",
       "      <td>Big 5 Sporting Goods Corp.BGFV reported dismal...</td>\n",
       "      <td>Click to get this free report American Eagle O...</td>\n",
       "      <td>2018</td>\n",
       "    </tr>\n",
       "    <tr>\n",
       "      <th>241356</th>\n",
       "      <td>2018-01-09</td>\n",
       "      <td>Tuesday Sector Laggards: Specialty Retail, App...</td>\n",
       "      <td>BGFV</td>\n",
       "      <td>In trading on Tuesday, specialty retail shares...</td>\n",
       "      <td>Helping drag down the group were shares of Big...</td>\n",
       "      <td>2018</td>\n",
       "    </tr>\n",
       "    <tr>\n",
       "      <th>241357</th>\n",
       "      <td>2018-01-05</td>\n",
       "      <td>New Strong Buy Stocks for January 5th</td>\n",
       "      <td>BGFV</td>\n",
       "      <td>Here are 5 stocks added to the Zacks Rank #1 (...</td>\n",
       "      <td>American Eagle Outfitters, Inc. Price and Cons...</td>\n",
       "      <td>2018</td>\n",
       "    </tr>\n",
       "    <tr>\n",
       "      <th>241358</th>\n",
       "      <td>2018-01-05</td>\n",
       "      <td>Why Big 5 Sporting Goods (BGFV) Could Be a Top...</td>\n",
       "      <td>BGFV</td>\n",
       "      <td>Value investing is always a very popular strat...</td>\n",
       "      <td>These factors suggest that Big 5 Sporting Good...</td>\n",
       "      <td>2018</td>\n",
       "    </tr>\n",
       "  </tbody>\n",
       "</table>\n",
       "<p>241359 rows × 6 columns</p>\n",
       "</div>"
      ]
     },
     "execution_count": 7,
     "metadata": {},
     "output_type": "execute_result"
    }
   ],
   "execution_count": 7
  },
  {
   "metadata": {
    "ExecuteTime": {
     "end_time": "2025-09-21T09:08:23.952393Z",
     "start_time": "2025-09-21T09:08:23.910710Z"
    }
   },
   "cell_type": "code",
   "source": "df_clean.drop(columns=[\"Date\"])",
   "id": "d67e2eaf5f64b94b",
   "outputs": [
    {
     "data": {
      "text/plain": [
       "                                            Article_title Stock_symbol  \\\n",
       "0       Interesting A Put And Call Options For August ...            A   \n",
       "1       Wolfe Research Initiates Coverage of Agilent T...            A   \n",
       "2       Agilent Technologies Reaches Analyst Target Price            A   \n",
       "3       Agilent (A) Enhances BioTek Cytation C10 With ...            A   \n",
       "4       Pre-Market Most Active for Dec 7, 2023 : SQQQ,...            A   \n",
       "...                                                   ...          ...   \n",
       "241354  Mid-Morning Market Update: Markets Mostly High...         BGFV   \n",
       "241355  Big 5 (BGFV) Topples on Soft Q4 Sales, Lowers ...         BGFV   \n",
       "241356  Tuesday Sector Laggards: Specialty Retail, App...         BGFV   \n",
       "241357              New Strong Buy Stocks for January 5th         BGFV   \n",
       "241358  Why Big 5 Sporting Goods (BGFV) Could Be a Top...         BGFV   \n",
       "\n",
       "                                                  Article  \\\n",
       "0       Investors in Agilent Technologies, Inc. (Symbo...   \n",
       "1       Fintel reports that on December 13, 2023, Wolf...   \n",
       "2       In recent trading, shares of Agilent Technolog...   \n",
       "3       Agilent Technologies A is enhancing its BioTek...   \n",
       "4       The NASDAQ 100 Pre-Market Indicator is up 70.2...   \n",
       "...                                                   ...   \n",
       "241354  Following the market opening Tuesday, the Dow ...   \n",
       "241355  Big 5 Sporting Goods Corp.BGFV reported dismal...   \n",
       "241356  In trading on Tuesday, specialty retail shares...   \n",
       "241357  Here are 5 stocks added to the Zacks Rank #1 (...   \n",
       "241358  Value investing is always a very popular strat...   \n",
       "\n",
       "                                         Textrank_summary  Year  \n",
       "0       Below is a chart showing the trailing twelve m...  2023  \n",
       "1       Agilent Technologies Declares $0.24 Dividend O...  2023  \n",
       "2       When a stock reaches the target an analyst has...  2023  \n",
       "3       Agilent Technologies, Inc. Price and Consensus...  2023  \n",
       "4       The total Pre-Market volume is currently 39,23...  2023  \n",
       "...                                                   ...   ...  \n",
       "241354  Shares of Big 5 Sporting Goods Corporation (NA...  2018  \n",
       "241355  Click to get this free report American Eagle O...  2018  \n",
       "241356  Helping drag down the group were shares of Big...  2018  \n",
       "241357  American Eagle Outfitters, Inc. Price and Cons...  2018  \n",
       "241358  These factors suggest that Big 5 Sporting Good...  2018  \n",
       "\n",
       "[241359 rows x 5 columns]"
      ],
      "text/html": [
       "<div>\n",
       "<style scoped>\n",
       "    .dataframe tbody tr th:only-of-type {\n",
       "        vertical-align: middle;\n",
       "    }\n",
       "\n",
       "    .dataframe tbody tr th {\n",
       "        vertical-align: top;\n",
       "    }\n",
       "\n",
       "    .dataframe thead th {\n",
       "        text-align: right;\n",
       "    }\n",
       "</style>\n",
       "<table border=\"1\" class=\"dataframe\">\n",
       "  <thead>\n",
       "    <tr style=\"text-align: right;\">\n",
       "      <th></th>\n",
       "      <th>Article_title</th>\n",
       "      <th>Stock_symbol</th>\n",
       "      <th>Article</th>\n",
       "      <th>Textrank_summary</th>\n",
       "      <th>Year</th>\n",
       "    </tr>\n",
       "  </thead>\n",
       "  <tbody>\n",
       "    <tr>\n",
       "      <th>0</th>\n",
       "      <td>Interesting A Put And Call Options For August ...</td>\n",
       "      <td>A</td>\n",
       "      <td>Investors in Agilent Technologies, Inc. (Symbo...</td>\n",
       "      <td>Below is a chart showing the trailing twelve m...</td>\n",
       "      <td>2023</td>\n",
       "    </tr>\n",
       "    <tr>\n",
       "      <th>1</th>\n",
       "      <td>Wolfe Research Initiates Coverage of Agilent T...</td>\n",
       "      <td>A</td>\n",
       "      <td>Fintel reports that on December 13, 2023, Wolf...</td>\n",
       "      <td>Agilent Technologies Declares $0.24 Dividend O...</td>\n",
       "      <td>2023</td>\n",
       "    </tr>\n",
       "    <tr>\n",
       "      <th>2</th>\n",
       "      <td>Agilent Technologies Reaches Analyst Target Price</td>\n",
       "      <td>A</td>\n",
       "      <td>In recent trading, shares of Agilent Technolog...</td>\n",
       "      <td>When a stock reaches the target an analyst has...</td>\n",
       "      <td>2023</td>\n",
       "    </tr>\n",
       "    <tr>\n",
       "      <th>3</th>\n",
       "      <td>Agilent (A) Enhances BioTek Cytation C10 With ...</td>\n",
       "      <td>A</td>\n",
       "      <td>Agilent Technologies A is enhancing its BioTek...</td>\n",
       "      <td>Agilent Technologies, Inc. Price and Consensus...</td>\n",
       "      <td>2023</td>\n",
       "    </tr>\n",
       "    <tr>\n",
       "      <th>4</th>\n",
       "      <td>Pre-Market Most Active for Dec 7, 2023 : SQQQ,...</td>\n",
       "      <td>A</td>\n",
       "      <td>The NASDAQ 100 Pre-Market Indicator is up 70.2...</td>\n",
       "      <td>The total Pre-Market volume is currently 39,23...</td>\n",
       "      <td>2023</td>\n",
       "    </tr>\n",
       "    <tr>\n",
       "      <th>...</th>\n",
       "      <td>...</td>\n",
       "      <td>...</td>\n",
       "      <td>...</td>\n",
       "      <td>...</td>\n",
       "      <td>...</td>\n",
       "    </tr>\n",
       "    <tr>\n",
       "      <th>241354</th>\n",
       "      <td>Mid-Morning Market Update: Markets Mostly High...</td>\n",
       "      <td>BGFV</td>\n",
       "      <td>Following the market opening Tuesday, the Dow ...</td>\n",
       "      <td>Shares of Big 5 Sporting Goods Corporation (NA...</td>\n",
       "      <td>2018</td>\n",
       "    </tr>\n",
       "    <tr>\n",
       "      <th>241355</th>\n",
       "      <td>Big 5 (BGFV) Topples on Soft Q4 Sales, Lowers ...</td>\n",
       "      <td>BGFV</td>\n",
       "      <td>Big 5 Sporting Goods Corp.BGFV reported dismal...</td>\n",
       "      <td>Click to get this free report American Eagle O...</td>\n",
       "      <td>2018</td>\n",
       "    </tr>\n",
       "    <tr>\n",
       "      <th>241356</th>\n",
       "      <td>Tuesday Sector Laggards: Specialty Retail, App...</td>\n",
       "      <td>BGFV</td>\n",
       "      <td>In trading on Tuesday, specialty retail shares...</td>\n",
       "      <td>Helping drag down the group were shares of Big...</td>\n",
       "      <td>2018</td>\n",
       "    </tr>\n",
       "    <tr>\n",
       "      <th>241357</th>\n",
       "      <td>New Strong Buy Stocks for January 5th</td>\n",
       "      <td>BGFV</td>\n",
       "      <td>Here are 5 stocks added to the Zacks Rank #1 (...</td>\n",
       "      <td>American Eagle Outfitters, Inc. Price and Cons...</td>\n",
       "      <td>2018</td>\n",
       "    </tr>\n",
       "    <tr>\n",
       "      <th>241358</th>\n",
       "      <td>Why Big 5 Sporting Goods (BGFV) Could Be a Top...</td>\n",
       "      <td>BGFV</td>\n",
       "      <td>Value investing is always a very popular strat...</td>\n",
       "      <td>These factors suggest that Big 5 Sporting Good...</td>\n",
       "      <td>2018</td>\n",
       "    </tr>\n",
       "  </tbody>\n",
       "</table>\n",
       "<p>241359 rows × 5 columns</p>\n",
       "</div>"
      ]
     },
     "execution_count": 8,
     "metadata": {},
     "output_type": "execute_result"
    }
   ],
   "execution_count": 8
  },
  {
   "metadata": {
    "ExecuteTime": {
     "end_time": "2025-09-21T09:08:34.656135Z",
     "start_time": "2025-09-21T09:08:34.650488Z"
    }
   },
   "cell_type": "code",
   "source": [
    "def stratified_sampling_by_year(df, total_samples=10000):\n",
    "    \"\"\"\n",
    "    Stratified sampling to get roughly equal samples per year\n",
    "    \"\"\"\n",
    "    years = [2018, 2019, 2020, 2021, 2022, 2023]\n",
    "    samples_per_year = total_samples // len(years)\n",
    "    remaining_samples = total_samples % len(years)\n",
    "\n",
    "    sampled_dfs = []\n",
    "\n",
    "    for i, year in enumerate(years):\n",
    "        year_df = df[df['Year'] == year]\n",
    "\n",
    "        # Add extra sample to first few years if there's remainder\n",
    "        current_samples = samples_per_year + (1 if i < remaining_samples else 0)\n",
    "\n",
    "        if len(year_df) >= current_samples:\n",
    "            # If we have enough articles for this year\n",
    "            sampled_year = year_df.sample(n=current_samples, random_state=42)\n",
    "        else:\n",
    "            # If we don't have enough, take all available\n",
    "            sampled_year = year_df\n",
    "            print(f\"Warning: Only {len(year_df)} articles available for {year}, needed {current_samples}\")\n",
    "\n",
    "        sampled_dfs.append(sampled_year)\n",
    "        print(f\"Year {year}: sampled {len(sampled_year)} articles\")\n",
    "\n",
    "    return pd.concat(sampled_dfs, ignore_index=True)"
   ],
   "id": "cca07ced45489b8d",
   "outputs": [],
   "execution_count": 10
  },
  {
   "metadata": {
    "ExecuteTime": {
     "end_time": "2025-09-21T09:08:43.117174Z",
     "start_time": "2025-09-21T09:08:43.052216Z"
    }
   },
   "cell_type": "code",
   "source": [
    "sampled_df = stratified_sampling_by_year(df_clean, total_samples=10000)\n",
    "print(f\"\\nFinal sampled dataset: {len(sampled_df)} articles\")\n",
    "print(f\"Year distribution after sampling:\\n{sampled_df['Year'].value_counts().sort_index()}\")"
   ],
   "id": "20dc60be0ff32a6e",
   "outputs": [
    {
     "name": "stdout",
     "output_type": "stream",
     "text": [
      "Year 2018: sampled 1667 articles\n",
      "Year 2019: sampled 1667 articles\n",
      "Year 2020: sampled 1667 articles\n",
      "Year 2021: sampled 1667 articles\n",
      "Year 2022: sampled 1666 articles\n",
      "Year 2023: sampled 1666 articles\n",
      "\n",
      "Final sampled dataset: 10000 articles\n",
      "Year distribution after sampling:\n",
      "Year\n",
      "2018    1667\n",
      "2019    1667\n",
      "2020    1667\n",
      "2021    1667\n",
      "2022    1666\n",
      "2023    1666\n",
      "Name: count, dtype: int64\n"
     ]
    }
   ],
   "execution_count": 11
  },
  {
   "metadata": {
    "ExecuteTime": {
     "end_time": "2025-09-21T09:10:13.128058Z",
     "start_time": "2025-09-21T09:10:13.116436Z"
    }
   },
   "cell_type": "code",
   "source": "sampled_df",
   "id": "197e2b11e85967ee",
   "outputs": [
    {
     "data": {
      "text/plain": [
       "                                          Article_title Stock_symbol  \\\n",
       "0     5 Growth Stocks at New Highs with Room for Mor...          ADM   \n",
       "1     3 Strong Buy Semiconductor Stocks to Consider Now         AMAT   \n",
       "2     Pfizer's Breast Cancer Drug Misses Overall Sur...         ANIP   \n",
       "3     Microsoft to Launch Second-Gen Hololens AR Hea...           AR   \n",
       "4     Camden Property Trust (CPT) Ex-Dividend Date S...          AMT   \n",
       "...                                                 ...          ...   \n",
       "9995  What Makes Jakks Pacific (JAKK) a Strong Momen...         AFGD   \n",
       "9996  Is Bunge Limited (BG) Stock Undervalued Right ...           BG   \n",
       "9997  Is Wingstop (WING) a Solid Growth Stock? 3 Rea...         ARGD   \n",
       "9998  3 Nasdaq Stocks That Have Generated 10x Return...         AAPL   \n",
       "9999  Tesla (TSLA) Recalls 2M Vehicles to Fix Autopi...         ARGD   \n",
       "\n",
       "                                                Article  \\\n",
       "0     Amid the ongoing trade tensions between the Un...   \n",
       "1     Semiconductor stocks were battered by the rece...   \n",
       "2     Pfizer PFE announced disappointing overall sur...   \n",
       "3     Microsoft is getting ready to launch the next ...   \n",
       "4     Camden Property Trust ( CPT ) will begin tradi...   \n",
       "...                                                 ...   \n",
       "9995  Momentum investing revolves around the idea of...   \n",
       "9996  The proven Zacks Rank system focuses on earnin...   \n",
       "9997  Growth investors focus on stocks that are seei...   \n",
       "9998  The Nasdaq is home to many of the best growth ...   \n",
       "9999  Tesla TSLA is recalling more than 2 million ve...   \n",
       "\n",
       "                                       Textrank_summary  Year  \n",
       "0     Click to get this free report NetApp, Inc. (NT...  2018  \n",
       "1     Click to get this free report Apple Inc. (AAPL...  2018  \n",
       "2     Click to get this free report AstraZeneca PLC ...  2018  \n",
       "3     Microsoft is getting ready to launch the next ...  2018  \n",
       "4     CPT is a part of the Consumer Services sector,...  2018  \n",
       "...                                                 ...   ...  \n",
       "9995  Our research shows that stocks rated Zacks Ran...  2023  \n",
       "9996  Click to get this free report Bunge Limited (B...  2023  \n",
       "9997  However, the task of finding cutting-edge grow...  2023  \n",
       "9998  Some of them have generated life-changing retu...  2023  \n",
       "9999  Per Part 573 Recall report, the company is pla...  2023  \n",
       "\n",
       "[10000 rows x 5 columns]"
      ],
      "text/html": [
       "<div>\n",
       "<style scoped>\n",
       "    .dataframe tbody tr th:only-of-type {\n",
       "        vertical-align: middle;\n",
       "    }\n",
       "\n",
       "    .dataframe tbody tr th {\n",
       "        vertical-align: top;\n",
       "    }\n",
       "\n",
       "    .dataframe thead th {\n",
       "        text-align: right;\n",
       "    }\n",
       "</style>\n",
       "<table border=\"1\" class=\"dataframe\">\n",
       "  <thead>\n",
       "    <tr style=\"text-align: right;\">\n",
       "      <th></th>\n",
       "      <th>Article_title</th>\n",
       "      <th>Stock_symbol</th>\n",
       "      <th>Article</th>\n",
       "      <th>Textrank_summary</th>\n",
       "      <th>Year</th>\n",
       "    </tr>\n",
       "  </thead>\n",
       "  <tbody>\n",
       "    <tr>\n",
       "      <th>0</th>\n",
       "      <td>5 Growth Stocks at New Highs with Room for Mor...</td>\n",
       "      <td>ADM</td>\n",
       "      <td>Amid the ongoing trade tensions between the Un...</td>\n",
       "      <td>Click to get this free report NetApp, Inc. (NT...</td>\n",
       "      <td>2018</td>\n",
       "    </tr>\n",
       "    <tr>\n",
       "      <th>1</th>\n",
       "      <td>3 Strong Buy Semiconductor Stocks to Consider Now</td>\n",
       "      <td>AMAT</td>\n",
       "      <td>Semiconductor stocks were battered by the rece...</td>\n",
       "      <td>Click to get this free report Apple Inc. (AAPL...</td>\n",
       "      <td>2018</td>\n",
       "    </tr>\n",
       "    <tr>\n",
       "      <th>2</th>\n",
       "      <td>Pfizer's Breast Cancer Drug Misses Overall Sur...</td>\n",
       "      <td>ANIP</td>\n",
       "      <td>Pfizer PFE announced disappointing overall sur...</td>\n",
       "      <td>Click to get this free report AstraZeneca PLC ...</td>\n",
       "      <td>2018</td>\n",
       "    </tr>\n",
       "    <tr>\n",
       "      <th>3</th>\n",
       "      <td>Microsoft to Launch Second-Gen Hololens AR Hea...</td>\n",
       "      <td>AR</td>\n",
       "      <td>Microsoft is getting ready to launch the next ...</td>\n",
       "      <td>Microsoft is getting ready to launch the next ...</td>\n",
       "      <td>2018</td>\n",
       "    </tr>\n",
       "    <tr>\n",
       "      <th>4</th>\n",
       "      <td>Camden Property Trust (CPT) Ex-Dividend Date S...</td>\n",
       "      <td>AMT</td>\n",
       "      <td>Camden Property Trust ( CPT ) will begin tradi...</td>\n",
       "      <td>CPT is a part of the Consumer Services sector,...</td>\n",
       "      <td>2018</td>\n",
       "    </tr>\n",
       "    <tr>\n",
       "      <th>...</th>\n",
       "      <td>...</td>\n",
       "      <td>...</td>\n",
       "      <td>...</td>\n",
       "      <td>...</td>\n",
       "      <td>...</td>\n",
       "    </tr>\n",
       "    <tr>\n",
       "      <th>9995</th>\n",
       "      <td>What Makes Jakks Pacific (JAKK) a Strong Momen...</td>\n",
       "      <td>AFGD</td>\n",
       "      <td>Momentum investing revolves around the idea of...</td>\n",
       "      <td>Our research shows that stocks rated Zacks Ran...</td>\n",
       "      <td>2023</td>\n",
       "    </tr>\n",
       "    <tr>\n",
       "      <th>9996</th>\n",
       "      <td>Is Bunge Limited (BG) Stock Undervalued Right ...</td>\n",
       "      <td>BG</td>\n",
       "      <td>The proven Zacks Rank system focuses on earnin...</td>\n",
       "      <td>Click to get this free report Bunge Limited (B...</td>\n",
       "      <td>2023</td>\n",
       "    </tr>\n",
       "    <tr>\n",
       "      <th>9997</th>\n",
       "      <td>Is Wingstop (WING) a Solid Growth Stock? 3 Rea...</td>\n",
       "      <td>ARGD</td>\n",
       "      <td>Growth investors focus on stocks that are seei...</td>\n",
       "      <td>However, the task of finding cutting-edge grow...</td>\n",
       "      <td>2023</td>\n",
       "    </tr>\n",
       "    <tr>\n",
       "      <th>9998</th>\n",
       "      <td>3 Nasdaq Stocks That Have Generated 10x Return...</td>\n",
       "      <td>AAPL</td>\n",
       "      <td>The Nasdaq is home to many of the best growth ...</td>\n",
       "      <td>Some of them have generated life-changing retu...</td>\n",
       "      <td>2023</td>\n",
       "    </tr>\n",
       "    <tr>\n",
       "      <th>9999</th>\n",
       "      <td>Tesla (TSLA) Recalls 2M Vehicles to Fix Autopi...</td>\n",
       "      <td>ARGD</td>\n",
       "      <td>Tesla TSLA is recalling more than 2 million ve...</td>\n",
       "      <td>Per Part 573 Recall report, the company is pla...</td>\n",
       "      <td>2023</td>\n",
       "    </tr>\n",
       "  </tbody>\n",
       "</table>\n",
       "<p>10000 rows × 5 columns</p>\n",
       "</div>"
      ]
     },
     "execution_count": 15,
     "metadata": {},
     "output_type": "execute_result"
    }
   ],
   "execution_count": 15
  },
  {
   "cell_type": "code",
   "id": "9cd230e4",
   "metadata": {
    "ExecuteTime": {
     "end_time": "2025-09-21T09:11:11.604432Z",
     "start_time": "2025-09-21T09:11:10.804911Z"
    }
   },
   "source": "sampled_df.to_csv(r\"F:\\College\\SEM 7\\19CSE453-Natural Language Processing\\Case Study\\Dataset\\filtered_data.csv\")",
   "outputs": [],
   "execution_count": 17
  },
  {
   "cell_type": "code",
   "execution_count": 11,
   "id": "aedebd19",
   "metadata": {},
   "outputs": [],
   "source": [
    "def assign_label(row, stock_data_dict, window=3, roll=30, k=1.0):\n",
    "    \"\"\"\n",
    "    Assign sentiment label based on z-score of returns.\n",
    "\n",
    "    Args:\n",
    "        row: news row with 'Date' (datetime.date or str) and 'Stock_symbol'\n",
    "        stock_data_dict: dict of {symbol: DataFrame with 'Close'}\n",
    "        window: forward days to compute future return\n",
    "        roll: rolling window size for mean/std of returns\n",
    "        k: z-score threshold\n",
    "\n",
    "    Returns:\n",
    "        Positive / Negative / Neutral\n",
    "    \"\"\"\n",
    "    date = pd.to_datetime(row[\"Date\"])\n",
    "    symbol = row[\"Stock_symbol\"]\n",
    "\n",
    "    if symbol not in stock_data_dict:\n",
    "        return \"Neutral\"\n",
    "\n",
    "    stock_df = stock_data_dict[symbol].copy()\n",
    "    stock_df.index = pd.to_datetime(stock_df.index).tz_localize(None).normalize()\n",
    "\n",
    "    # Compute daily returns\n",
    "    stock_df[\"ret\"] = stock_df[\"Close\"].pct_change()\n",
    "\n",
    "    # Rolling stats\n",
    "    stock_df[\"mu\"] = stock_df[\"ret\"].rolling(window=roll, min_periods=5).mean()\n",
    "    stock_df[\"sigma\"] = stock_df[\"ret\"].rolling(window=roll, min_periods=5).std()\n",
    "\n",
    "    # Align article date to nearest trading day\n",
    "    if date not in stock_df.index:\n",
    "        future_dates = stock_df.index[stock_df.index > date]\n",
    "        if len(future_dates) == 0:\n",
    "            return \"Neutral\"\n",
    "        date = future_dates[0]\n",
    "\n",
    "    idx = stock_df.index.get_loc(date)\n",
    "    if idx + window >= len(stock_df):\n",
    "        return \"Neutral\"\n",
    "\n",
    "    today_price = stock_df.iloc[idx][\"Close\"]\n",
    "    future_price = stock_df.iloc[idx + window][\"Close\"]\n",
    "\n",
    "    # Future return\n",
    "    future_ret = (future_price - today_price) / today_price\n",
    "\n",
    "    # z-score\n",
    "    mu = stock_df.iloc[idx][\"mu\"]\n",
    "    sigma = stock_df.iloc[idx][\"sigma\"]\n",
    "\n",
    "    if pd.isna(mu) or pd.isna(sigma) or sigma == 0:\n",
    "        return \"Neutral\"\n",
    "\n",
    "    z = (future_ret - mu) / sigma\n",
    "\n",
    "    # Label by z\n",
    "    if z > k:\n",
    "        return \"Positive\"\n",
    "    elif z < -k:\n",
    "        return \"Negative\"\n",
    "    else:\n",
    "        return \"Neutral\"\n"
   ]
  },
  {
   "cell_type": "code",
   "execution_count": 12,
   "id": "a9022fc6",
   "metadata": {},
   "outputs": [
    {
     "name": "stdout",
     "output_type": "stream",
     "text": [
      "Fetched A with 1509 rows\n",
      "Fetched AA with 1509 rows\n",
      "Fetched AAAU with 1353 rows\n",
      "Fetched AACG with 1509 rows\n",
      "Fetched AADR with 1509 rows\n",
      "Fetched AAL with 1509 rows\n"
     ]
    },
    {
     "name": "stderr",
     "output_type": "stream",
     "text": [
      "$AAMC: possibly delisted; no timezone found\n"
     ]
    },
    {
     "name": "stdout",
     "output_type": "stream",
     "text": [
      "No data for AAMC\n",
      "Fetched AAME with 1509 rows\n"
     ]
    },
    {
     "name": "stderr",
     "output_type": "stream",
     "text": [
      "$AAN: possibly delisted; no timezone found\n"
     ]
    },
    {
     "name": "stdout",
     "output_type": "stream",
     "text": [
      "No data for AAN\n",
      "Fetched AAOI with 1509 rows\n",
      "Fetched AAON with 1509 rows\n",
      "Fetched AAP with 1509 rows\n",
      "Fetched AAPL with 1509 rows\n",
      "Fetched AAT with 1509 rows\n"
     ]
    },
    {
     "name": "stderr",
     "output_type": "stream",
     "text": [
      "$AAU: possibly delisted; no timezone found\n"
     ]
    },
    {
     "name": "stdout",
     "output_type": "stream",
     "text": [
      "No data for AAU\n",
      "Fetched AAXJ with 1509 rows\n",
      "Fetched AB with 1509 rows\n",
      "Fetched ABBV with 1509 rows\n",
      "Fetched ABCB with 1509 rows\n",
      "Fetched ABEO with 1509 rows\n",
      "Fetched ABEQ with 993 rows\n",
      "Fetched ABEV with 1509 rows\n",
      "Fetched ABG with 1509 rows\n"
     ]
    },
    {
     "name": "stderr",
     "output_type": "stream",
     "text": [
      "$ABIO: possibly delisted; no timezone found\n"
     ]
    },
    {
     "name": "stdout",
     "output_type": "stream",
     "text": [
      "No data for ABIO\n",
      "Fetched ABM with 1509 rows\n",
      "Fetched ABR with 1509 rows\n",
      "Fetched ABT with 1509 rows\n",
      "Fetched ABUS with 1509 rows\n",
      "Fetched AC with 1509 rows\n",
      "Fetched ACA with 1296 rows\n",
      "Fetched ACAD with 1509 rows\n",
      "Fetched ACB with 1509 rows\n",
      "Fetched ACCO with 1509 rows\n",
      "Fetched ACEL with 1509 rows\n",
      "Fetched ACES with 1385 rows\n",
      "Fetched ACGL with 1509 rows\n",
      "Fetched ACGLO with 1509 rows\n",
      "Fetched ACHC with 1509 rows\n",
      "Fetched ACHV with 1509 rows\n",
      "Fetched ACI with 884 rows\n",
      "Fetched ACIO with 1128 rows\n",
      "Fetched ACIU with 1509 rows\n",
      "Fetched ACIW with 1509 rows\n",
      "Fetched ACLS with 1509 rows\n",
      "Fetched ACM with 1509 rows\n",
      "Fetched ACMR with 1509 rows\n",
      "Fetched ACN with 1509 rows\n",
      "Fetched ACNB with 1509 rows\n"
     ]
    },
    {
     "name": "stderr",
     "output_type": "stream",
     "text": [
      "$ACOR: possibly delisted; no timezone found\n"
     ]
    },
    {
     "name": "stdout",
     "output_type": "stream",
     "text": [
      "No data for ACOR\n",
      "Fetched ACP with 1509 rows\n",
      "Fetched ACRE with 1509 rows\n",
      "Fetched ACRS with 1509 rows\n"
     ]
    },
    {
     "name": "stderr",
     "output_type": "stream",
     "text": [
      "$ACRX: possibly delisted; no timezone found\n"
     ]
    },
    {
     "name": "stdout",
     "output_type": "stream",
     "text": [
      "No data for ACRX\n",
      "Fetched ACSI with 1509 rows\n"
     ]
    },
    {
     "name": "stderr",
     "output_type": "stream",
     "text": [
      "$ACST: possibly delisted; no timezone found\n"
     ]
    },
    {
     "name": "stdout",
     "output_type": "stream",
     "text": [
      "No data for ACST\n",
      "Fetched ACT with 576 rows\n",
      "Fetched ACTG with 1509 rows\n",
      "Fetched ACU with 1509 rows\n",
      "Fetched ACV with 1509 rows\n",
      "Fetched ACWI with 1509 rows\n",
      "Fetched ACWV with 1509 rows\n",
      "Fetched ACWX with 1509 rows\n",
      "Fetched ADAP with 1509 rows\n",
      "Fetched ADBE with 1509 rows\n",
      "Fetched ADC with 1509 rows\n",
      "Fetched ADCT with 912 rows\n"
     ]
    },
    {
     "name": "stderr",
     "output_type": "stream",
     "text": [
      "$ADES: possibly delisted; no timezone found\n"
     ]
    },
    {
     "name": "stdout",
     "output_type": "stream",
     "text": [
      "No data for ADES\n",
      "Fetched ADI with 1509 rows\n",
      "Fetched ADIL with 1366 rows\n",
      "Fetched ADM with 1509 rows\n",
      "Fetched ADMA with 1509 rows\n",
      "Fetched ADME with 1509 rows\n",
      "Fetched ADNT with 1509 rows\n",
      "Fetched ADP with 1509 rows\n",
      "Fetched ADPT with 1136 rows\n",
      "Fetched ADSK with 1509 rows\n",
      "Fetched ADT with 1497 rows\n",
      "Fetched ADTN with 1509 rows\n",
      "Fetched ADTX with 882 rows\n",
      "Fetched ADUS with 1509 rows\n",
      "Fetched ADVM with 1509 rows\n",
      "Fetched ADX with 1509 rows\n",
      "Fetched ADXN with 978 rows\n",
      "Fetched ADXS with 918 rows\n"
     ]
    },
    {
     "name": "stderr",
     "output_type": "stream",
     "text": [
      "$AE: possibly delisted; no timezone found\n"
     ]
    },
    {
     "name": "stdout",
     "output_type": "stream",
     "text": [
      "No data for AE\n",
      "Fetched AEE with 1509 rows\n",
      "Fetched AEF with 1509 rows\n",
      "Fetched AEFC with 1053 rows\n",
      "Fetched AEG with 1509 rows\n",
      "Fetched AEHR with 1509 rows\n",
      "Fetched AEIS with 1509 rows\n"
     ]
    },
    {
     "name": "stderr",
     "output_type": "stream",
     "text": [
      "$AEL: possibly delisted; no timezone found\n"
     ]
    },
    {
     "name": "stdout",
     "output_type": "stream",
     "text": [
      "No data for AEL\n",
      "Fetched AEM with 1509 rows\n",
      "Fetched AEMD with 1509 rows\n",
      "Fetched AEO with 1509 rows\n",
      "Fetched AEP with 1509 rows\n",
      "Fetched AER with 1509 rows\n",
      "Fetched AES with 1509 rows\n",
      "Fetched AESR with 1016 rows\n"
     ]
    },
    {
     "name": "stderr",
     "output_type": "stream",
     "text": [
      "$AEY: possibly delisted; no timezone found\n"
     ]
    },
    {
     "name": "stdout",
     "output_type": "stream",
     "text": [
      "No data for AEY\n",
      "Fetched AEYE with 1509 rows\n"
     ]
    },
    {
     "name": "stderr",
     "output_type": "stream",
     "text": [
      "$AEZS: possibly delisted; no timezone found\n"
     ]
    },
    {
     "name": "stdout",
     "output_type": "stream",
     "text": [
      "No data for AEZS\n",
      "Fetched AFB with 1509 rows\n",
      "Fetched AFG with 1509 rows\n",
      "Fetched AFGB with 944 rows\n",
      "Fetched AFGC with 994 rows\n",
      "Fetched AFGD with 900 rows\n",
      "Fetched AFIF with 1320 rows\n",
      "Fetched AFK with 1509 rows\n",
      "Fetched AFL with 1509 rows\n",
      "Fetched AFLG with 1025 rows\n",
      "Fetched AFMC with 1025 rows\n"
     ]
    },
    {
     "name": "stderr",
     "output_type": "stream",
     "text": [
      "$AFMD: possibly delisted; no timezone found\n"
     ]
    },
    {
     "name": "stdout",
     "output_type": "stream",
     "text": [
      "No data for AFMD\n",
      "Fetched AFSM with 1025 rows\n"
     ]
    },
    {
     "name": "stderr",
     "output_type": "stream",
     "text": [
      "$AFT: possibly delisted; no timezone found\n"
     ]
    },
    {
     "name": "stdout",
     "output_type": "stream",
     "text": [
      "No data for AFT\n",
      "Fetched AFTY with 1509 rows\n",
      "Fetched AFYA with 1121 rows\n",
      "Fetched AG with 1509 rows\n"
     ]
    },
    {
     "name": "stderr",
     "output_type": "stream",
     "text": [
      "$AGBA: possibly delisted; no timezone found\n"
     ]
    },
    {
     "name": "stdout",
     "output_type": "stream",
     "text": [
      "No data for AGBA\n"
     ]
    },
    {
     "name": "stderr",
     "output_type": "stream",
     "text": [
      "$AGBAW: possibly delisted; no timezone found\n"
     ]
    },
    {
     "name": "stdout",
     "output_type": "stream",
     "text": [
      "No data for AGBAW\n",
      "Fetched AGCO with 1509 rows\n",
      "Fetched AGD with 1509 rows\n"
     ]
    },
    {
     "name": "stderr",
     "output_type": "stream",
     "text": [
      "$AGE: possibly delisted; no timezone found\n"
     ]
    },
    {
     "name": "stdout",
     "output_type": "stream",
     "text": [
      "No data for AGE\n",
      "Fetched AGEN with 1509 rows\n",
      "Fetched AGG with 1509 rows\n",
      "Fetched AGGY with 1509 rows\n",
      "Fetched AGI with 1509 rows\n",
      "Fetched AGIO with 1509 rows\n",
      "Fetched AGM-A with 1509 rows\n",
      "Fetched AGM with 1509 rows\n",
      "Fetched AGMH with 1436 rows\n",
      "Fetched AGNC with 1509 rows\n",
      "Fetched AGNCM with 1215 rows\n",
      "Fetched AGNCN with 1509 rows\n",
      "Fetched AGNCO with 1072 rows\n",
      "Fetched AGNCP with 983 rows\n",
      "Fetched AGO with 1509 rows\n",
      "Fetched AGQ with 1509 rows\n"
     ]
    },
    {
     "name": "stderr",
     "output_type": "stream",
     "text": [
      "$AGR: possibly delisted; no timezone found\n"
     ]
    },
    {
     "name": "stdout",
     "output_type": "stream",
     "text": [
      "No data for AGR\n",
      "Fetched AGRO with 1509 rows\n"
     ]
    },
    {
     "name": "stderr",
     "output_type": "stream",
     "text": [
      "$AGRX: possibly delisted; no timezone found\n"
     ]
    },
    {
     "name": "stdout",
     "output_type": "stream",
     "text": [
      "No data for AGRX\n"
     ]
    },
    {
     "name": "stderr",
     "output_type": "stream",
     "text": [
      "$AGS: possibly delisted; no timezone found\n"
     ]
    },
    {
     "name": "stdout",
     "output_type": "stream",
     "text": [
      "No data for AGS\n",
      "Fetched AGX with 1509 rows\n",
      "Fetched AGYS with 1509 rows\n",
      "Fetched AGZ with 1509 rows\n",
      "Fetched AGZD with 1509 rows\n",
      "Fetched AHCO with 1406 rows\n",
      "Fetched AHH with 1509 rows\n"
     ]
    },
    {
     "name": "stderr",
     "output_type": "stream",
     "text": [
      "$AHPI: possibly delisted; no timezone found\n"
     ]
    },
    {
     "name": "stdout",
     "output_type": "stream",
     "text": [
      "No data for AHPI\n",
      "Fetched AHT with 1509 rows\n",
      "Fetched AI with 769 rows\n",
      "Fetched AIA with 1509 rows\n"
     ]
    },
    {
     "name": "stderr",
     "output_type": "stream",
     "text": [
      "$AIC: possibly delisted; no timezone found\n"
     ]
    },
    {
     "name": "stdout",
     "output_type": "stream",
     "text": [
      "No data for AIC\n",
      "Fetched AIEQ with 1509 rows\n"
     ]
    },
    {
     "name": "stderr",
     "output_type": "stream",
     "text": [
      "$AIF: possibly delisted; no timezone found\n"
     ]
    },
    {
     "name": "stdout",
     "output_type": "stream",
     "text": [
      "No data for AIF\n",
      "Fetched AIG with 1509 rows\n"
     ]
    },
    {
     "name": "stderr",
     "output_type": "stream",
     "text": [
      "$AIH: possibly delisted; no timezone found\n"
     ]
    },
    {
     "name": "stdout",
     "output_type": "stream",
     "text": [
      "No data for AIH\n",
      "Fetched AIHS with 1457 rows\n",
      "Fetched AIM with 1509 rows\n",
      "Fetched AIN with 1509 rows\n"
     ]
    },
    {
     "name": "stderr",
     "output_type": "stream",
     "text": [
      "$AINC: possibly delisted; no timezone found\n"
     ]
    },
    {
     "name": "stdout",
     "output_type": "stream",
     "text": [
      "No data for AINC\n"
     ]
    },
    {
     "name": "stderr",
     "output_type": "stream",
     "text": [
      "$AINV: possibly delisted; no timezone found\n"
     ]
    },
    {
     "name": "stdout",
     "output_type": "stream",
     "text": [
      "No data for AINV\n",
      "Fetched AIO with 1050 rows\n",
      "Fetched AIQ with 1416 rows\n",
      "Fetched AIR with 1509 rows\n",
      "Fetched AIRG with 1509 rows\n",
      "Fetched AIRR with 1509 rows\n",
      "Fetched AIRT with 1509 rows\n",
      "Fetched AIT with 1509 rows\n",
      "Fetched AIV with 1509 rows\n",
      "Fetched AIZ with 1509 rows\n",
      "Fetched AJG with 1509 rows\n"
     ]
    },
    {
     "name": "stderr",
     "output_type": "stream",
     "text": [
      "$AJX: possibly delisted; no timezone found\n"
     ]
    },
    {
     "name": "stdout",
     "output_type": "stream",
     "text": [
      "No data for AJX\n",
      "Fetched AJXA with 1509 rows\n",
      "Fetched AKAM with 1509 rows\n",
      "Fetched AKBA with 1509 rows\n",
      "Fetched AKO-A with 1509 rows\n",
      "Fetched AKO-B with 1509 rows\n",
      "Fetched AKR with 1509 rows\n",
      "Fetched AKRO with 1141 rows\n"
     ]
    },
    {
     "name": "stderr",
     "output_type": "stream",
     "text": [
      "$AKTS: possibly delisted; no timezone found\n"
     ]
    },
    {
     "name": "stdout",
     "output_type": "stream",
     "text": [
      "No data for AKTS\n",
      "Fetched AKTX with 1509 rows\n",
      "Fetched AL with 1509 rows\n",
      "Fetched ALB with 1509 rows\n",
      "Fetched ALC with 1191 rows\n",
      "Fetched ALCO with 1509 rows\n",
      "Fetched ALDX with 1509 rows\n",
      "Fetched ALE with 1509 rows\n",
      "Fetched ALEC with 1233 rows\n",
      "Fetched ALEX with 1509 rows\n",
      "Fetched ALG with 1509 rows\n",
      "Fetched ALGN with 1509 rows\n",
      "Fetched ALGT with 1509 rows\n"
     ]
    },
    {
     "name": "stderr",
     "output_type": "stream",
     "text": [
      "$ALIM: possibly delisted; no timezone found\n"
     ]
    },
    {
     "name": "stdout",
     "output_type": "stream",
     "text": [
      "No data for ALIM\n"
     ]
    },
    {
     "name": "stderr",
     "output_type": "stream",
     "text": [
      "$ALJJ: possibly delisted; no timezone found\n"
     ]
    },
    {
     "name": "stdout",
     "output_type": "stream",
     "text": [
      "No data for ALJJ\n",
      "Fetched ALK with 1509 rows\n",
      "Fetched ALKS with 1509 rows\n",
      "Fetched ALL with 1509 rows\n",
      "Fetched ALLE with 1509 rows\n"
     ]
    },
    {
     "name": "stderr",
     "output_type": "stream",
     "text": [
      "$ALLK: possibly delisted; no timezone found\n"
     ]
    },
    {
     "name": "stdout",
     "output_type": "stream",
     "text": [
      "No data for ALLK\n",
      "Fetched ALLO with 1313 rows\n",
      "Fetched ALLT with 1509 rows\n",
      "Fetched ALNY with 1509 rows\n",
      "Fetched ALOT with 1509 rows\n"
     ]
    },
    {
     "name": "stderr",
     "output_type": "stream",
     "text": [
      "$ALPN: possibly delisted; no timezone found\n"
     ]
    },
    {
     "name": "stdout",
     "output_type": "stream",
     "text": [
      "No data for ALPN\n",
      "Fetched ALRM with 1509 rows\n"
     ]
    },
    {
     "name": "stderr",
     "output_type": "stream",
     "text": [
      "$ALRN: possibly delisted; no timezone found\n"
     ]
    },
    {
     "name": "stdout",
     "output_type": "stream",
     "text": [
      "No data for ALRN\n",
      "Fetched ALRS with 1509 rows\n",
      "Fetched ALSN with 1509 rows\n",
      "Fetched ALT with 1509 rows\n",
      "Fetched ALTG with 1180 rows\n"
     ]
    },
    {
     "name": "stderr",
     "output_type": "stream",
     "text": [
      "$ALTR: possibly delisted; no timezone found\n"
     ]
    },
    {
     "name": "stdout",
     "output_type": "stream",
     "text": [
      "No data for ALTR\n",
      "Fetched ALTY with 1509 rows\n",
      "Fetched ALV with 1509 rows\n",
      "Fetched ALX with 1509 rows\n",
      "Fetched AM with 1509 rows\n",
      "Fetched AMAL with 1357 rows\n",
      "Fetched AMAT with 1509 rows\n",
      "Fetched AMBA with 1509 rows\n",
      "Fetched AMBC with 1509 rows\n",
      "Fetched AMBO with 1400 rows\n",
      "Fetched AMC with 1509 rows\n",
      "Fetched AMD with 1509 rows\n",
      "Fetched AME with 1509 rows\n",
      "Fetched AMED with 1509 rows\n"
     ]
    },
    {
     "name": "stderr",
     "output_type": "stream",
     "text": [
      "$AMEH: possibly delisted; no timezone found\n"
     ]
    },
    {
     "name": "stdout",
     "output_type": "stream",
     "text": [
      "No data for AMEH\n",
      "Fetched AMG with 1509 rows\n",
      "Fetched AMGN with 1509 rows\n",
      "Fetched AMH with 1509 rows\n",
      "Fetched AMJ with 1509 rows\n",
      "Fetched AMKR with 1509 rows\n",
      "Fetched AMLP with 1509 rows\n",
      "Fetched AMN with 1509 rows\n",
      "Fetched AMNA with 887 rows\n"
     ]
    },
    {
     "name": "stderr",
     "output_type": "stream",
     "text": [
      "$AMNB: possibly delisted; no timezone found\n"
     ]
    },
    {
     "name": "stdout",
     "output_type": "stream",
     "text": [
      "No data for AMNB\n",
      "Fetched AMOM with 1162 rows\n",
      "Fetched AMPE with 1509 rows\n",
      "Fetched AMPH with 1509 rows\n",
      "Fetched AMPY with 1509 rows\n",
      "Fetched AMRC with 1509 rows\n",
      "Fetched AMRK with 1509 rows\n",
      "Fetched AMRN with 1509 rows\n",
      "Fetched AMS with 1509 rows\n",
      "Fetched AMSC with 1509 rows\n",
      "Fetched AMSF with 1509 rows\n"
     ]
    },
    {
     "name": "stderr",
     "output_type": "stream",
     "text": [
      "$AMSWA: possibly delisted; no timezone found\n"
     ]
    },
    {
     "name": "stdout",
     "output_type": "stream",
     "text": [
      "No data for AMSWA\n",
      "Fetched AMT with 1509 rows\n",
      "Fetched AMTB with 1308 rows\n",
      "Fetched AMTD with 1110 rows\n"
     ]
    },
    {
     "name": "stderr",
     "output_type": "stream",
     "text": [
      "$AMTI: possibly delisted; no timezone found\n"
     ]
    },
    {
     "name": "stdout",
     "output_type": "stream",
     "text": [
      "No data for AMTI\n",
      "Fetched AMTX with 1509 rows\n",
      "Fetched AMUB with 1509 rows\n",
      "Fetched AMWD with 1509 rows\n",
      "Fetched AMX with 1509 rows\n",
      "Fetched AMZA with 1509 rows\n",
      "Fetched AMZN with 1509 rows\n",
      "Fetched AN with 1509 rows\n",
      "Fetched ANAB with 1509 rows\n",
      "Fetched ANDE with 1509 rows\n",
      "Fetched ANET with 1509 rows\n",
      "Fetched ANF with 1509 rows\n",
      "Fetched ANGI with 1509 rows\n",
      "Fetched ANGL with 1509 rows\n",
      "Fetched ANIK with 1509 rows\n",
      "Fetched ANIP with 1509 rows\n"
     ]
    },
    {
     "name": "stderr",
     "output_type": "stream",
     "text": [
      "$ANSS: possibly delisted; no price data found  (1d 2018-01-01 -> 2023-12-31) (Yahoo error = \"No data found, symbol may be delisted\")\n"
     ]
    },
    {
     "name": "stdout",
     "output_type": "stream",
     "text": [
      "No data for ANSS\n",
      "Fetched ANTE with 1509 rows\n",
      "Fetched ANVS with 988 rows\n",
      "Fetched ANY with 1509 rows\n",
      "Fetched AOA with 1509 rows\n",
      "Fetched AOK with 1509 rows\n",
      "Fetched AOM with 1509 rows\n",
      "Fetched AON with 1509 rows\n",
      "Fetched AOR with 1509 rows\n",
      "Fetched AOS with 1509 rows\n",
      "Fetched AOSL with 1509 rows\n",
      "Fetched AP with 1509 rows\n",
      "Fetched APA with 1509 rows\n",
      "Fetched APAM with 1509 rows\n",
      "Fetched APD with 1509 rows\n",
      "Fetched APDN with 1509 rows\n",
      "Fetched APEI with 1509 rows\n",
      "Fetched APG with 925 rows\n",
      "Fetched APH with 1509 rows\n",
      "Fetched API with 884 rows\n",
      "Fetched APLE with 1509 rows\n",
      "Fetched APLS with 1509 rows\n",
      "Fetched APLT with 1167 rows\n",
      "Fetched APM with 1267 rows\n",
      "Fetched APO with 1509 rows\n",
      "Fetched APOG with 1509 rows\n",
      "Fetched APPF with 1509 rows\n",
      "Fetched APPN with 1509 rows\n",
      "Fetched APPS with 1509 rows\n",
      "Fetched APRE with 1068 rows\n",
      "Fetched APT with 1509 rows\n"
     ]
    },
    {
     "name": "stderr",
     "output_type": "stream",
     "text": [
      "$APTO: possibly delisted; no timezone found\n"
     ]
    },
    {
     "name": "stdout",
     "output_type": "stream",
     "text": [
      "No data for APTO\n",
      "Fetched APTV with 1509 rows\n",
      "Fetched APVO with 1509 rows\n",
      "Fetched APWC with 1509 rows\n",
      "Fetched APYX with 1258 rows\n",
      "Fetched AQB with 1509 rows\n",
      "Fetched AQMS with 1509 rows\n",
      "Fetched AQNB with 1158 rows\n",
      "Fetched AQST with 1368 rows\n",
      "Fetched AR with 1509 rows\n"
     ]
    },
    {
     "name": "stderr",
     "output_type": "stream",
     "text": [
      "$ARAV: possibly delisted; no timezone found\n"
     ]
    },
    {
     "name": "stdout",
     "output_type": "stream",
     "text": [
      "No data for ARAV\n",
      "Fetched ARAY with 1509 rows\n",
      "Fetched ARB with 917 rows\n",
      "Fetched ARCB with 1509 rows\n",
      "Fetched ARCC with 1509 rows\n"
     ]
    },
    {
     "name": "stderr",
     "output_type": "stream",
     "text": [
      "$ARCH: possibly delisted; no timezone found\n"
     ]
    },
    {
     "name": "stdout",
     "output_type": "stream",
     "text": [
      "No data for ARCH\n",
      "Fetched ARCO with 1509 rows\n",
      "Fetched ARCT with 1509 rows\n",
      "Fetched ARDC with 1509 rows\n",
      "Fetched ARDX with 1509 rows\n",
      "Fetched ARE with 1509 rows\n",
      "Fetched AREC with 1509 rows\n",
      "Fetched ARES with 1509 rows\n",
      "Fetched ARGD with 1509 rows\n",
      "Fetched ARGT with 1509 rows\n",
      "Fetched ARGX with 1509 rows\n",
      "Fetched ARI with 1509 rows\n",
      "Fetched ARKF with 1236 rows\n",
      "Fetched ARKG with 1509 rows\n",
      "Fetched ARKK with 1509 rows\n",
      "Fetched ARKQ with 1509 rows\n",
      "Fetched ARKR with 1509 rows\n",
      "Fetched ARLO with 1361 rows\n",
      "Fetched ARLP with 1509 rows\n",
      "Fetched ARMK with 1509 rows\n",
      "Fetched ARMP with 1509 rows\n",
      "Fetched ARMR with 980 rows\n",
      "Fetched AROC with 1509 rows\n",
      "Fetched AROW with 1509 rows\n",
      "Fetched ARQT with 986 rows\n",
      "Fetched ARR with 1509 rows\n"
     ]
    },
    {
     "name": "stderr",
     "output_type": "stream",
     "text": [
      "$ARTLW: possibly delisted; no price data found  (1d 2018-01-01 -> 2023-12-31)\n"
     ]
    },
    {
     "name": "stdout",
     "output_type": "stream",
     "text": [
      "Fetched ARTL with 1140 rows\n",
      "No data for ARTLW\n",
      "Fetched ARTW with 1509 rows\n",
      "Fetched ARVN with 1323 rows\n",
      "Fetched ARW with 1509 rows\n",
      "Fetched ARWR with 1509 rows\n",
      "Fetched ASA with 1509 rows\n",
      "Fetched ASB with 1509 rows\n",
      "Fetched ASC with 1509 rows\n",
      "Fetched ASET with 1509 rows\n",
      "Fetched ASG with 1509 rows\n",
      "Fetched ASGN with 1509 rows\n",
      "Fetched ASH with 1509 rows\n",
      "Fetched ASHR with 1509 rows\n",
      "Fetched ASHS with 1509 rows\n",
      "Fetched ASHX with 1509 rows\n",
      "Fetched ASIX with 1509 rows\n"
     ]
    },
    {
     "name": "stderr",
     "output_type": "stream",
     "text": [
      "$ASLN: possibly delisted; no timezone found\n"
     ]
    },
    {
     "name": "stdout",
     "output_type": "stream",
     "text": [
      "No data for ASLN\n",
      "Fetched ASM with 1509 rows\n",
      "Fetched ASML with 1509 rows\n",
      "Fetched ASPN with 1509 rows\n",
      "Fetched ASRT with 1509 rows\n",
      "Fetched ASRV with 1509 rows\n",
      "Fetched ASTC with 1509 rows\n",
      "Fetched ASTE with 1509 rows\n",
      "Fetched ASUR with 1509 rows\n",
      "Fetched ASX with 1509 rows\n",
      "Fetched ASYS with 1509 rows\n",
      "Fetched ATEC with 1509 rows\n",
      "Fetched ATEN with 1509 rows\n",
      "Fetched ATEX with 1509 rows\n",
      "Fetched ATHE with 1509 rows\n",
      "Fetched ATHM with 1509 rows\n"
     ]
    },
    {
     "name": "stderr",
     "output_type": "stream",
     "text": [
      "$ATHX: possibly delisted; no timezone found\n"
     ]
    },
    {
     "name": "stdout",
     "output_type": "stream",
     "text": [
      "No data for ATHX\n",
      "Fetched ATI with 1509 rows\n"
     ]
    },
    {
     "name": "stderr",
     "output_type": "stream",
     "text": [
      "$ATIF: possibly delisted; no timezone found\n"
     ]
    },
    {
     "name": "stdout",
     "output_type": "stream",
     "text": [
      "No data for ATIF\n",
      "Fetched ATKR with 1509 rows\n",
      "Fetched ATLO with 1509 rows\n",
      "Fetched ATNI with 1509 rows\n",
      "Fetched ATNM with 1509 rows\n",
      "Fetched ATO with 1509 rows\n",
      "Fetched ATOM with 1509 rows\n",
      "Fetched ATOS with 1509 rows\n",
      "Fetched ATR with 1509 rows\n",
      "Fetched ATRA with 1509 rows\n",
      "Fetched ATRC with 1509 rows\n"
     ]
    },
    {
     "name": "stderr",
     "output_type": "stream",
     "text": [
      "$ATRI: possibly delisted; no timezone found\n"
     ]
    },
    {
     "name": "stdout",
     "output_type": "stream",
     "text": [
      "No data for ATRI\n",
      "Fetched ATRO with 1509 rows\n"
     ]
    },
    {
     "name": "stderr",
     "output_type": "stream",
     "text": [
      "$ATSG: possibly delisted; no timezone found\n"
     ]
    },
    {
     "name": "stdout",
     "output_type": "stream",
     "text": [
      "No data for ATSG\n",
      "Fetched ATUS with 1509 rows\n",
      "Fetched ATXI with 1509 rows\n",
      "Fetched AUB with 1509 rows\n",
      "Fetched AUBN with 1509 rows\n",
      "Fetched AUDC with 1509 rows\n",
      "Fetched AUPH with 1509 rows\n",
      "Fetched AVA with 1509 rows\n",
      "Fetched AVAL with 1509 rows\n",
      "Fetched AVAV with 1509 rows\n",
      "Fetched AVB with 1509 rows\n"
     ]
    },
    {
     "name": "stderr",
     "output_type": "stream",
     "text": [
      "$AVCO: possibly delisted; no timezone found\n"
     ]
    },
    {
     "name": "stdout",
     "output_type": "stream",
     "text": [
      "No data for AVCO\n",
      "Fetched AVDE with 1073 rows\n",
      "Fetched AVDL with 1509 rows\n",
      "Fetched AVDV with 1073 rows\n",
      "Fetched AVEM with 1078 rows\n",
      "Fetched AVGO with 1509 rows\n"
     ]
    },
    {
     "name": "stderr",
     "output_type": "stream",
     "text": [
      "$AVGR: possibly delisted; no timezone found\n"
     ]
    },
    {
     "name": "stdout",
     "output_type": "stream",
     "text": [
      "No data for AVGR\n",
      "Fetched AVK with 1509 rows\n",
      "Fetched AVNS with 1509 rows\n",
      "Fetched AVNW with 1509 rows\n"
     ]
    },
    {
     "name": "stderr",
     "output_type": "stream",
     "text": [
      "$AVRO: possibly delisted; no timezone found\n"
     ]
    },
    {
     "name": "stdout",
     "output_type": "stream",
     "text": [
      "No data for AVRO\n",
      "Fetched AVT with 1509 rows\n",
      "Fetched AVTR with 1164 rows\n",
      "Fetched AVUS with 1073 rows\n",
      "Fetched AVUV with 1073 rows\n",
      "Fetched AVY with 1509 rows\n",
      "Fetched AWF with 1509 rows\n",
      "Fetched AWI with 1509 rows\n",
      "Fetched AWK with 1509 rows\n",
      "Fetched AWP with 1509 rows\n",
      "Fetched AWR with 1509 rows\n",
      "Fetched AWRE with 1509 rows\n"
     ]
    },
    {
     "name": "stderr",
     "output_type": "stream",
     "text": [
      "$AXDX: possibly delisted; no timezone found\n"
     ]
    },
    {
     "name": "stdout",
     "output_type": "stream",
     "text": [
      "No data for AXDX\n",
      "Fetched AXGN with 1509 rows\n"
     ]
    },
    {
     "name": "stderr",
     "output_type": "stream",
     "text": [
      "$AXLA: possibly delisted; no timezone found\n"
     ]
    },
    {
     "name": "stdout",
     "output_type": "stream",
     "text": [
      "No data for AXLA\n"
     ]
    },
    {
     "name": "stderr",
     "output_type": "stream",
     "text": [
      "$AXNX: possibly delisted; no timezone found\n"
     ]
    },
    {
     "name": "stdout",
     "output_type": "stream",
     "text": [
      "No data for AXNX\n",
      "Fetched AXP with 1509 rows\n",
      "Fetched AXR with 1509 rows\n",
      "Fetched AXS with 1509 rows\n",
      "Fetched AXTA with 1509 rows\n"
     ]
    },
    {
     "name": "stderr",
     "output_type": "stream",
     "text": [
      "$AY: possibly delisted; no timezone found\n"
     ]
    },
    {
     "name": "stdout",
     "output_type": "stream",
     "text": [
      "No data for AY\n",
      "Fetched AYRO with 904 rows\n"
     ]
    },
    {
     "name": "stderr",
     "output_type": "stream",
     "text": [
      "$AZEK: possibly delisted; no timezone found\n"
     ]
    },
    {
     "name": "stdout",
     "output_type": "stream",
     "text": [
      "No data for AZEK\n",
      "Fetched AZN with 1509 rows\n",
      "Fetched AZO with 1509 rows\n"
     ]
    },
    {
     "name": "stderr",
     "output_type": "stream",
     "text": [
      "$AZUL: possibly delisted; no timezone found\n"
     ]
    },
    {
     "name": "stdout",
     "output_type": "stream",
     "text": [
      "No data for AZUL\n",
      "Fetched AZZ with 1509 rows\n",
      "Fetched B with 1509 rows\n",
      "Fetched BA with 1509 rows\n",
      "Fetched BAB with 1509 rows\n",
      "Fetched BABA with 1509 rows\n",
      "Fetched BAH with 1509 rows\n",
      "Fetched BAK with 1509 rows\n",
      "Fetched BAM with 271 rows\n",
      "Fetched BANC with 1509 rows\n",
      "Fetched BAND with 1509 rows\n",
      "Fetched BANX with 1509 rows\n",
      "Fetched BAP with 1509 rows\n",
      "Fetched BAR with 1509 rows\n",
      "Fetched BATRA with 1509 rows\n",
      "Fetched BATRK with 1509 rows\n",
      "Fetched BATT with 1402 rows\n",
      "Fetched BAX with 1509 rows\n",
      "Fetched BB with 1509 rows\n",
      "Fetched BBAR with 1509 rows\n",
      "Fetched BBAX with 1357 rows\n",
      "Fetched BBC with 1509 rows\n",
      "Fetched BBCA with 1357 rows\n",
      "Fetched BBCP with 1509 rows\n",
      "Fetched BBD with 1509 rows\n",
      "Fetched BBDC with 1509 rows\n",
      "Fetched BBDO with 1509 rows\n",
      "Fetched BBEU with 1394 rows\n",
      "Fetched BBGI with 1509 rows\n",
      "Fetched BBH with 1509 rows\n",
      "Fetched BBIO with 1136 rows\n",
      "Fetched BBJP with 1394 rows\n",
      "Fetched BBN with 1509 rows\n",
      "Fetched BBSI with 1509 rows\n",
      "Fetched BBU with 1509 rows\n",
      "Fetched BBUS with 1210 rows\n",
      "Fetched BBVA with 1509 rows\n",
      "Fetched BBW with 1509 rows\n",
      "Fetched BBY with 1509 rows\n",
      "Fetched BC with 1509 rows\n",
      "Fetched BCBP with 1509 rows\n",
      "Fetched BCDA with 1509 rows\n"
     ]
    },
    {
     "name": "stderr",
     "output_type": "stream",
     "text": [
      "$BCDAW: possibly delisted; no price data found  (1d 2018-01-01 -> 2023-12-31)\n"
     ]
    },
    {
     "name": "stdout",
     "output_type": "stream",
     "text": [
      "No data for BCDAW\n",
      "Fetched BCE with 1509 rows\n",
      "Fetched BCH with 1509 rows\n",
      "Fetched BCI with 1509 rows\n",
      "Fetched BCLI with 1509 rows\n",
      "Fetched BCML with 1509 rows\n",
      "Fetched BCO with 1509 rows\n"
     ]
    },
    {
     "name": "stderr",
     "output_type": "stream",
     "text": [
      "$BCOV: possibly delisted; no timezone found\n"
     ]
    },
    {
     "name": "stdout",
     "output_type": "stream",
     "text": [
      "No data for BCOV\n",
      "Fetched BCPC with 1509 rows\n",
      "Fetched BCRX with 1509 rows\n",
      "Fetched BCSF with 1288 rows\n",
      "Fetched BCV with 1509 rows\n",
      "Fetched BCX with 1509 rows\n",
      "Fetched BCYC with 1160 rows\n",
      "Fetched BDC with 1509 rows\n",
      "Fetched BDJ with 1509 rows\n",
      "Fetched BDN with 1509 rows\n",
      "Fetched BDRY with 1454 rows\n",
      "Fetched BDTX with 986 rows\n",
      "Fetched BE with 1368 rows\n",
      "Fetched BEAM with 982 rows\n",
      "Fetched BEAT with 536 rows\n"
     ]
    },
    {
     "name": "stderr",
     "output_type": "stream",
     "text": [
      "$BECN: possibly delisted; no timezone found\n"
     ]
    },
    {
     "name": "stdout",
     "output_type": "stream",
     "text": [
      "No data for BECN\n",
      "Fetched BEDU with 1509 rows\n",
      "Fetched BELFA with 1509 rows\n",
      "Fetched BEN with 1509 rows\n",
      "Fetched BEP with 1509 rows\n"
     ]
    },
    {
     "name": "stderr",
     "output_type": "stream",
     "text": [
      "$BERY: possibly delisted; no timezone found\n"
     ]
    },
    {
     "name": "stdout",
     "output_type": "stream",
     "text": [
      "No data for BERY\n"
     ]
    },
    {
     "name": "stderr",
     "output_type": "stream",
     "text": [
      "$BEST: possibly delisted; no timezone found\n"
     ]
    },
    {
     "name": "stdout",
     "output_type": "stream",
     "text": [
      "No data for BEST\n",
      "Fetched BETZ with 900 rows\n"
     ]
    },
    {
     "name": "stderr",
     "output_type": "stream",
     "text": [
      "$BF: possibly delisted; no price data found  (1d 2018-01-01 -> 2023-12-31)\n"
     ]
    },
    {
     "name": "stdout",
     "output_type": "stream",
     "text": [
      "No data for BF\n",
      "Fetched BFAM with 1509 rows\n",
      "Fetched BFC with 1509 rows\n",
      "Fetched BFIN with 1509 rows\n",
      "Fetched BFIT with 1509 rows\n",
      "Fetched BFK with 1509 rows\n",
      "Fetched BFOR with 1509 rows\n",
      "Fetched BFS with 1509 rows\n",
      "Fetched BFST with 1433 rows\n",
      "Fetched BFZ with 1509 rows\n",
      "Fetched BG with 1509 rows\n",
      "Fetched BGFV with 1509 rows\n"
     ]
    }
   ],
   "source": [
    "import yfinance as yf\n",
    "\n",
    "# Unique tickers from your dataset\n",
    "tickers = df_clean[\"Stock_symbol\"].unique()\n",
    "\n",
    "stock_data_dict = {}\n",
    "\n",
    "for t in tickers:\n",
    "    try:\n",
    "        stock = yf.Ticker(t)\n",
    "        hist = stock.history(start=\"2018-01-01\", end=\"2023-12-31\")\n",
    "        if not hist.empty:\n",
    "            stock_data_dict[t] = hist\n",
    "            print(f\"Fetched {t} with {len(hist)} rows\")\n",
    "        else:\n",
    "            print(f\"No data for {t}\")\n",
    "    except Exception as e:\n",
    "        print(f\"Error fetching {t}: {e}\")\n"
   ]
  },
  {
   "cell_type": "code",
   "execution_count": 13,
   "id": "be57d4d3",
   "metadata": {},
   "outputs": [
    {
     "name": "stdout",
     "output_type": "stream",
     "text": [
      "Label\n",
      "Neutral     129022\n",
      "Positive     60396\n",
      "Negative     51941\n",
      "Name: count, dtype: int64\n"
     ]
    }
   ],
   "source": [
    "df_clean[\"Label\"] = df_clean.apply(lambda row: assign_label(row, stock_data_dict), axis=1)\n",
    "print(df_clean[\"Label\"].value_counts())\n"
   ]
  },
  {
   "cell_type": "code",
   "execution_count": 14,
   "id": "2dd57f9d",
   "metadata": {},
   "outputs": [],
   "source": [
    "df_clean.to_csv(r\"F:\\College\\SEM 7\\19CSE453-Natural Language Processing\\Case Study\\Dataset\\cleaned_data_z_score.csv\", index = False)"
   ]
  },
  {
   "cell_type": "code",
   "execution_count": 15,
   "id": "896cf3d8",
   "metadata": {},
   "outputs": [
    {
     "data": {
      "application/vnd.microsoft.datawrangler.viewer.v0+json": {
       "columns": [
        {
         "name": "index",
         "rawType": "int64",
         "type": "integer"
        },
        {
         "name": "Date",
         "rawType": "object",
         "type": "string"
        },
        {
         "name": "Article_title",
         "rawType": "object",
         "type": "string"
        },
        {
         "name": "Stock_symbol",
         "rawType": "object",
         "type": "string"
        },
        {
         "name": "Article",
         "rawType": "object",
         "type": "unknown"
        },
        {
         "name": "Label",
         "rawType": "object",
         "type": "string"
        }
       ],
       "ref": "03c3171b-0d24-4352-a058-196a7ff6b66f",
       "rows": [
        [
         "0",
         "2023-12-16",
         "Interesting A Put And Call Options For August 2024",
         "A",
         "Investors in Agilent Technologies, Inc. (Symbol: A) saw new options begin trading this week, for the August 2024 expiration. One of the key inputs that goes into the price an option buyer is willing to pay, is the time value, so with 241 days until expiration the newly trading contracts represent a possible opportunity for sellers of puts or calls to achieve a higher premium than would be available for the contracts with a closer expiration. At Stock Options Channel, our YieldBoost formula has looked up and down the A options chain for the new August 2024 contracts and identified one put and one call contract of particular interest.\nThe put contract at the $125.00 strike price has a current bid of $4.50. If an investor was to sell-to-open that put contract, they are committing to purchase the stock at $125.00, but will also collect the premium, putting the cost basis of the shares at $120.50 (before broker commissions). To an investor already interested in purchasing shares of A, that could represent an attractive alternative to paying $138.99/share today.\nBecause the $125.00 strike represents an approximate 10% discount to the current trading price of the stock (in other words it is out-of-the-money by that percentage), there is also the possibility that the put contract would expire worthless. The current analytical data (including greeks and implied greeks) suggest the current odds of that happening are 77%. Stock Options Channel will track those odds over time to see how they change, publishing a chart of those numbers on our website under the contract detail page for this contract. Should the contract expire worthless, the premium would represent a 3.60% return on the cash commitment, or 5.45% annualized — at Stock Options Channel we call this the YieldBoost.\nBelow is a chart showing the trailing twelve month trading history for Agilent Technologies, Inc., and highlighting in green where the $125.00 strike is located relative to that history:\nTurning to the calls side of the option chain, the call contract at the $150.00 strike price has a current bid of $8.10. If an investor was to purchase shares of A stock at the current price level of $138.99/share, and then sell-to-open that call contract as a \"covered call,\" they are committing to sell the stock at $150.00. Considering the call seller will also collect the premium, that would drive a total return (excluding dividends, if any) of 13.75% if the stock gets called away at the August 2024 expiration (before broker commissions). Of course, a lot of upside could potentially be left on the table if A shares really soar, which is why looking at the trailing twelve month trading history for Agilent Technologies, Inc., as well as studying the business fundamentals becomes important. Below is a chart showing A's trailing twelve month trading history, with the $150.00 strike highlighted in red:\nConsidering the fact that the $150.00 strike represents an approximate 8% premium to the current trading price of the stock (in other words it is out-of-the-money by that percentage), there is also the possibility that the covered call contract would expire worthless, in which case the investor would keep both their shares of stock and the premium collected. The current analytical data (including greeks and implied greeks) suggest the current odds of that happening are 53%. On our website under the contract detail page for this contract, Stock Options Channel will track those odds over time to see how they change and publish a chart of those numbers (the trading history of the option contract will also be charted). Should the covered call contract expire worthless, the premium would represent a 5.83% boost of extra return to the investor, or 8.83% annualized, which we refer to as the YieldBoost.\nThe implied volatility in the put contract example is 32%, while the implied volatility in the call contract example is 29%.\nMeanwhile, we calculate the actual trailing twelve month volatility (considering the last 251 trading day closing values as well as today's price of $138.99) to be 27%. For more put and call options contract ideas worth looking at, visit StockOptionsChannel.com.\nTop YieldBoost Calls of Stocks Analysts Like »\nAlso see:\n Canadian Stocks Crossing Below Their 200 Day Moving Avg\n Funds Holding SNUG\n CCE Insider Buying\nThe views and opinions expressed herein are the views and opinions of the author and do not necessarily reflect those of Nasdaq, Inc.",
         "Neutral"
        ],
        [
         "1",
         "2023-12-12",
         "Wolfe Research Initiates Coverage of Agilent Technologies (A) with Outperform Recommendation",
         "A",
         "Fintel reports that on December 13, 2023, Wolfe Research initiated coverage of Agilent Technologies (NYSE:A) with a Outperform recommendation.\nAnalyst Price Forecast Suggests 1.04% Downside\nAs of November 27, 2023, the average one-year price target for Agilent Technologies is 132.34. The forecasts range from a low of 101.00 to a high of $157.50. The average price target represents a decrease of 1.04% from its latest reported closing price of 133.74.\nSee our leaderboard of companies with the largest price target upside.\nThe projected annual revenue for Agilent Technologies is 7,130MM, an increase of 4.35%. The projected annual non-GAAP EPS is 5.77.\nAgilent Technologies Declares $0.24 Dividend\nOn November 15, 2023 the company declared a regular quarterly dividend of $0.24 per share ($0.94 annualized). Shareholders of record as of January 2, 2024 will receive the payment on January 24, 2024. Previously, the company paid $0.22 per share.\nAt the current share price of $133.74 / share, the stock's dividend yield is 0.71%.\nLooking back five years and taking a sample every week, the average dividend yield has been 0.72%, the lowest has been 0.44%, and the highest has been 1.14%. The standard deviation of yields is 0.14 (n=235).\nThe current dividend yield is 0.12 standard deviations below the historical average.\nAdditionally, the company's dividend payout ratio is 0.22. The payout ratio tells us how much of a company's income is paid out in dividends. A payout ratio of one (1.0) means 100% of the company's income is paid in a dividend. A payout ratio greater than one means the company is dipping into savings in order to maintain its dividend - not a healthy situation. Companies with few growth prospects are expected to pay out most of their income in dividends, which typically means a payout ratio between 0.5 and 1.0. Companies with good growth prospects are expected to retain some earnings in order to invest in those growth prospects, which translates to a payout ratio of zero to 0.5.\nThe company's 3-Year dividend growth rate is 0.22%, demonstrating that it has increased its dividend over time.\nWhat is the Fund Sentiment?\nThere are 1945 funds or institutions reporting positions in Agilent Technologies. This is an increase of 30 owner(s) or 1.57% in the last quarter. Average portfolio weight of all funds dedicated to A is 0.31%, a decrease of 2.75%. Total shares owned by institutions increased in the last three months by 1.25% to 300,740K shares.\nThe put/call ratio of A is 1.01, indicating a bearish outlook.\nWhat are Other Shareholders Doing?\nMassachusetts Financial Services holds 11,076K shares representing 3.79% ownership of the company. In it's prior filing, the firm reported owning 11,037K shares, representing an increase of 0.35%. The firm increased its portfolio allocation in A by 546.51% over the last quarter.\nWellington Management Group Llp holds 10,256K shares representing 3.51% ownership of the company. In it's prior filing, the firm reported owning 8,736K shares, representing an increase of 14.81%. The firm increased its portfolio allocation in A by 15.48% over the last quarter.\nT. Rowe Price Investment Management holds 10,122K shares representing 3.47% ownership of the company. In it's prior filing, the firm reported owning 9,968K shares, representing an increase of 1.53%. The firm decreased its portfolio allocation in A by 2.00% over the last quarter.\nVTSMX - Vanguard Total Stock Market Index Fund Investor Shares holds 9,113K shares representing 3.12% ownership of the company. In it's prior filing, the firm reported owning 9,177K shares, representing a decrease of 0.70%. The firm decreased its portfolio allocation in A by 4.15% over the last quarter.\nPrice T Rowe Associates holds 7,386K shares representing 2.53% ownership of the company. In it's prior filing, the firm reported owning 8,054K shares, representing a decrease of 9.05%. The firm decreased its portfolio allocation in A by 10.32% over the last quarter.\nAgilent Technologies Background Information\n(This description is provided by the company.)\nAgilent Technologies Inc. is a global leader in life sciences, diagnostics, and applied chemical markets, delivering insight and innovation toward improving the quality of life. Agilent instruments, software, services, solutions, and people provide trusted answers to customers' most challenging questions. The company generated revenue of $5.34 billion in fiscal year 2020 and employs 16,400 people worldwide.\nFintel is one of the most comprehensive investing research platforms available to individual investors, traders, financial advisors, and small hedge funds.\nOur data covers the world, and includes fundamentals, analyst reports, ownership data and fund sentiment, options sentiment, insider trading, options flow, unusual options trades, and much more. Additionally, our exclusive stock picks are powered by advanced, backtested quantitative models for improved profits.\nClick to Learn More\nThis story originally appeared on Fintel.\nThe views and opinions expressed herein are the views and opinions of the author and do not necessarily reflect those of Nasdaq, Inc.",
         "Positive"
        ],
        [
         "2",
         "2023-12-12",
         "Agilent Technologies Reaches Analyst Target Price",
         "A",
         "In recent trading, shares of Agilent Technologies, Inc. (Symbol: A) have crossed above the average analyst 12-month target price of $132.36, changing hands for $133.74/share. When a stock reaches the target an analyst has set, the analyst logically has two ways to react: downgrade on valuation, or, re-adjust their target price to a higher level. Analyst reaction may also depend on the fundamental business developments that may be responsible for driving the stock price higher — if things are looking up for the company, perhaps it is time for that target price to be raised.\nThere are 14 different analyst targets within the Zacks coverage universe contributing to that average for Agilent Technologies, Inc., but the average is just that — a mathematical average. There are analysts with lower targets than the average, including one looking for a price of $100.00. And then on the other side of the spectrum one analyst has a target as high as $146.00. The standard deviation is $12.779.\nBut the whole reason to look at the average A price target in the first place is to tap into a \"wisdom of crowds\" effort, putting together the contributions of all the individual minds who contributed to the ultimate number, as opposed to what just one particular expert believes. And so with A crossing above that average target price of $132.36/share, investors in A have been given a good signal to spend fresh time assessing the company and deciding for themselves: is $132.36 just one stop on the way to an even higher target, or has the valuation gotten stretched to the point where it is time to think about taking some chips off the table? Below is a table showing the current thinking of the analysts that cover Agilent Technologies, Inc.:\nRECENT A ANALYST RATINGS BREAKDOWN\n» Current 1 Month Ago 2 Month Ago 3 Month Ago\nStrong buy ratings: 7 9 9 9\nBuy ratings: 0 0 0 0\nHold ratings: 7 5 5 4\nSell ratings: 0 0 0 0\nStrong sell ratings: 1 1 1 1\nAverage rating: 2.2 1.93 1.93 1.86\nThe average rating presented in the last row of the above table above is from 1 to 5 where 1 is Strong Buy and 5 is Strong Sell. This article used data provided by Zacks Investment Research via Quandl.com. Get the latest Zacks research report on A — FREE.\nThe Top 25 Broker Analyst Picks of the S&P 500 »\nAlso see:\n PXMD Insider Buying\n ETM Insider Buying\n Funds Holding FXG\nThe views and opinions expressed herein are the views and opinions of the author and do not necessarily reflect those of Nasdaq, Inc.",
         "Positive"
        ],
        [
         "3",
         "2023-12-07",
         "Agilent (A) Enhances BioTek Cytation C10 With New Technology",
         "A",
         "Agilent Technologies A is enhancing its BioTek product line on the back of portfolio expansions and technology upgrades.\n\nNotably, Agilent enhanced the BioTek Cytation C10 confocal imaging reader with the addition of water immersion and confocal spinning disk technology.\n\nFurther, the water immersion technology can be used in light microscopy to increase numerical aperture, reduce z-axis distortion, and improve image quality by placing water between the objective lens and sample.\n\nAdditionally, the technology aids researchers in reducing exposure times in live-cell applications, thereby reducing the traditional phototoxic effects associated with these experiments.\n\nMoreover, this addition offers a deep-sectioning spinning disk technology, enhancing microscopic images by blocking out-of-focus light, resulting in clearer, more quantitative results.\n\nAgilent is anticipated to gain significant traction among researchers utilizing live-cell and 3D applications on the back of its latest move.\nAgilent Technologies, Inc. Price and Consensus\nAgilent Technologies, Inc. price-consensus-chart | Agilent Technologies, Inc. Quote\nGrowth Prospects\nThe latest move positions the company well to strengthen its footing in the global microplate reader and live cell imaging markets.\n\nPer a Grand View Research report, the global microplate reader market is expected to grow at a CAGR of 7.6% during the forecast period 2023-2030.\n\nA Mordor Intelligence report indicates the global live cell imaging market size will reach $2.95 billion by 2028, exhibiting a CAGR of 7.06% between 2023 and 2028.\n\nWe believe the company’s solid prospects in these promising markets are expected to instill investor optimism in the stock.\n\nHowever, the company has been suffering from macroeconomic uncertainties, weak momentum in China, rising inflationary pressure and geo-political tensions.\n\nAgilent has lost 13.9% in the year-to-date period against the industry’s growth of 0.9%.\nACG Segment in Focus\nThe latest move bodes well for the company’s growing efforts toward bolstering its Agilent CrossLab Group (ACG) segment.\n\nNotably, Agilent Technologies launched Gen6 software for all Agilent BioTek detection instruments, offering automated optimization tools and improved navigation through built-in data analysis functions.\n\nFurther, the company introduced the Agilent BioTek 406 FX washer dispenser, a compact tool that combines reagent dispensing and plate-washing, suitable for automated systems and benchtop use.\n\nAll the abovementioned endeavors are likely to aid the performance of the ACG segment in the days ahead.\n\nIn fourth-quarter fiscal 2023, the ACG segment revenues increased 6% year over year to $404 million, accounting for 24% of total revenues.\n\nOur model projects fiscal 2024 ACG segment revenues at $1.64 billion, indicating growth of 4.7% from 2022.\n\nStrong momentum in the underlined segment will likely aid its overall financial performance in the upcoming period.\nZacks Rank & Stocks to Consider\nCurrently, Agilent carries a Zacks Rank #4 (Sell).\n\nSome better-ranked stocks in the broader technology sector are Badger Meter BMI, Arista Networks ANET and Adobe ADBE. While Badger Meter currently sports a Zacks Rank #1 (Strong Buy), Arista Networks and Adobe carry a Zacks Rank #2 (Buy) at present. You can see the complete list of today’s Zacks #1 Rank stocks here.\n\nShares of Badger Meter have gained 37.8% in the year-to-date period. BMI’s long-term earnings growth rate is currently projected at 20.39%.\n\nShares of Arista Networks have surged 75.9% in the year-to-date period. The long-term earnings growth rate for ANET is currently projected at 19.77%.\n\nShares of Adobe have gained 84.3% in the year-to-date period. ADBE’s long-term earnings growth rate is currently projected at 13.54%.\nOnly $1 to See All Zacks' Buys and Sells\nWe're not kidding.\nSeveral years ago, we shocked our members by offering them 30-day access to all our picks for the total sum of only $1. No obligation to spend another cent.\nThousands have taken advantage of this opportunity. Thousands did not - they thought there must be a catch. Yes, we do have a reason. We want you to get acquainted with our portfolio services likeSurprise Trader, Stocks Under $10, Technology Innovators,and more. They've already closed 162 positions with double- and triple-digit gains in 2023 alone.\nSee Stocks Now >>\nWant the latest recommendations from Zacks Investment Research? Today, you can download 7 Best Stocks for the Next 30 Days. Click to get this free report\nBadger Meter, Inc. (BMI) : Free Stock Analysis Report\nAgilent Technologies, Inc. (A) : Free Stock Analysis Report\nAdobe Inc. (ADBE) : Free Stock Analysis Report\nArista Networks, Inc. (ANET) : Free Stock Analysis Report\nTo read this article on Zacks.com click here.\nZacks Investment Research\nThe views and opinions expressed herein are the views and opinions of the author and do not necessarily reflect those of Nasdaq, Inc.",
         "Neutral"
        ],
        [
         "4",
         "2023-12-07",
         "Pre-Market Most Active for Dec 7, 2023 : SQQQ, PLTR, TQQQ, ALT, UBER, PFE, GILD, MRK, AMD, NIO, JBLU, AI",
         "A",
         "The NASDAQ 100 Pre-Market Indicator is up 70.21 to 15,858.26. The total Pre-Market volume is currently 39,237,818 shares traded.\n\nThe following are the most active stocks for the pre-market session:\n\nProShares UltraPro Short QQQ (SQQQ) is -0.15 at $16.37, with 2,061,124 shares traded. This represents a 6.64% increase from its 52 Week Low.\n\nPalantir Technologies Inc. (PLTR) is +0.32 at $17.45, with 1,538,113 shares traded. PLTR's current last sale is 109.06% of the target price of $16.\n\nProShares UltraPro QQQ (TQQQ) is +0.42 at $42.94, with 1,408,932 shares traded. This represents a 166.71% increase from its 52 Week Low.\n\nAltimmune, Inc. (ALT) is +0.04 at $6.92, with 1,312,522 shares traded. As reported by Zacks, the current mean recommendation for ALT is in the \"buy range\".\n\nUber Technologies, Inc. (UBER) is -0.1504 at $59.60, with 1,305,966 shares traded. Over the last four weeks they have had 6 up revisions for the earnings forecast, for the fiscal quarter ending Dec 2023. The consensus EPS forecast is $0.15. As reported by Zacks, the current mean recommendation for UBER is in the \"buy range\".\n\nPfizer, Inc. (PFE) is +0.08 at $28.87, with 1,143,924 shares traded. PFE's current last sale is 78.03% of the target price of $37.\n\nGilead Sciences, Inc. (GILD) is unchanged at $79.36, with 1,093,482 shares traded. Over the last four weeks they have had 4 up revisions for the earnings forecast, for the fiscal quarter ending Mar 2024. The consensus EPS forecast is $1.82. As reported by Zacks, the current mean recommendation for GILD is in the \"buy range\".\n\nMerck & Company, Inc. (MRK) is -0.25 at $105.38, with 1,073,394 shares traded. As reported by Zacks, the current mean recommendation for MRK is in the \"buy range\".\n\nAdvanced Micro Devices, Inc. (AMD) is +3.53 at $120.35, with 917,522 shares traded. As reported by Zacks, the current mean recommendation for AMD is in the \"buy range\".\n\nNIO Inc. (NIO) is +0.0803 at $7.83, with 865,295 shares traded. NIO's current last sale is 66.64% of the target price of $11.75.\n\nJetBlue Airways Corporation (JBLU) is +0.39 at $5.12, with 842,311 shares traded. JBLU's current last sale is 89.04% of the target price of $5.75.\n\nC3.ai, Inc. (AI) is -2.88 at $26.28, with 641,132 shares traded. AI's current last sale is 95.56% of the target price of $27.5.\nThe views and opinions expressed herein are the views and opinions of the author and do not necessarily reflect those of Nasdaq, Inc.",
         "Neutral"
        ],
        [
         "5",
         "2023-12-05",
         "A Quantitative Stock Analysis",
         "A",
         "Below is Validea's guru fundamental report for AGILENT TECHNOLOGIES INC (A). Of the 22 guru strategies we follow, A rates highest using our P/B Growth Investor model based on the published strategy of Partha Mohanram. This growth model looks for low book-to-market stocks that exhibit characteristics associated with sustained future growth.\nAGILENT TECHNOLOGIES INC (A) is a large-cap growth stock in the Scientific & Technical Instr. industry. The rating using this strategy is 77% based on the firm’s underlying fundamentals and the stock’s valuation. A score of 80% or above typically indicates that the strategy has some interest in the stock and a score above 90% typically indicates strong interest.\nThe following table summarizes whether the stock meets each of this strategy's tests. Not all criteria in the below table receive equal weighting or are independent, but the table provides a brief overview of the strong and weak points of the security in the context of the strategy's criteria.\nBOOK/MARKET RATIO: PASS\nRETURN ON ASSETS: PASS\nCASH FLOW FROM OPERATIONS TO ASSETS: PASS\nCASH FLOW FROM OPERATIONS TO ASSETS VS. RETURN ON ASSETS: PASS\nRETURN ON ASSETS VARIANCE: PASS\nSALES VARIANCE: PASS\nADVERTISING TO ASSETS: FAIL\nCAPITAL EXPENDITURES TO ASSETS: PASS\nRESEARCH AND DEVELOPMENT TO ASSETS: FAIL\nDetailed Analysis of AGILENT TECHNOLOGIES INC\nA Guru Analysis\nA Fundamental Analysis\nMore Information on Partha Mohanram\nPartha Mohanram Portfolio\nAbout Partha Mohanram: Sometimes the best investing strategies don't come from the world of investing. Sometimes research that changes the investing world can come from the halls of academia. Partha Mohanram is a great example of this. While academic research has shown that value investing works over time, it has found the opposite for growth investing. Mohanram turned that research on its head by developing a growth model that produced significant market outperformance. His research paper \"Separating Winners from Losers among Low Book-to-Market Stocks using Financial Statement Analysis\" looked at the criteria that can be used to separate growth stocks that continue their upward trajectory from those that don't. Mohanram is currently the John H. Watson Chair in Value Investing at the University of Toronto and was previously an Associate Professor at the Columbia Business School.\nAdditional Research Links\nTop NASDAQ 100 Stocks\nTop Technology Stocks\nTop Large-Cap Growth Stocks\nHigh Momentum Stocks\nHigh Insider Ownership Stocks\nFinancial Planning Podcast\nAbout Validea: Validea is aninvestment researchservice that follows the published strategies of investment legends. Validea offers both stock analysis and model portfolios based on gurus who have outperformed the market over the long-term, including Warren Buffett, Benjamin Graham, Peter Lynch and Martin Zweig. For more information about Validea, click here\nThe views and opinions expressed herein are the views and opinions of the author and do not necessarily reflect those of Nasdaq, Inc.",
         "Neutral"
        ],
        [
         "6",
         "2023-11-24",
         "The Zacks Analyst Blog Highlights Visa, Marriott International, Parker-Hannifin, FedEx and Agilent Technologies",
         "A",
         "For Immediate Release\nChicago, IL – November 24, 2023 – Zacks.com announces the list of stocks featured in the Analyst Blog. Every day the Zacks Equity Research analysts discuss the latest news and events impacting stocks and the financial markets. Stocks recently featured in the blog include: Visa Inc. V, Marriott International, Inc. MAR, Parker-Hannifin Corp. PH, FedEx Corp. FDX and Agilent Technologies, Inc. A.\nHere are highlights from Wednesday’s Analyst Blog:\nTop Research Reports for Visa, Marriott International and Parker-Hannifin\nThe Zacks Research Daily presents the best research output of our analyst team. Today's Research Daily features new research reports on 16 major stocks, including Visa Inc., Marriott International, Inc. and Parker-Hannifin Corp. These research reports have been hand-picked from the roughly 70 reports published by our analyst team today.\n\nYou can see all of today's research reports here >>>\n\nVisa's shares have outperformed the Zacks Financial Transaction Services industry over the past year (+20.9% vs. +15.7%). The company's stock prices has consistently outperformed the industry, driven by strategic acquisitions and alliances fostering long-term growth.\n\nThe fourth quarter fiscal 2023 earnings beat estimates, fueled by increased payments and sustained investments in technology. The ongoing shift to digital payments is advantageous for Visa, with strong domestic volumes supporting overall performance. A robust cash position enables the company to enhance shareholder value.\n\nHowever, elevated operating expenses pose margin challenges. Increased client incentives may impact the top line. Additionally, it is witnessing a declining cash volume from the Asia Pacific and CEMEA regions. As such the stock warrants a cautious stance.\n\n(You can read the full research report on Visa here >>>)\n\nShares of Marriott International have outperformed the Zacks Hotels and Motels industry over the year-to-date period (+40.6% vs. +22.9%). The company's upside was backed by robust leisure demand and solid global booking trends.\n\nAlso, substantial RevPAR growth in international markets added to the upside. In the quarter, RevPAR for worldwide comparable system-wide properties increased 8.8% year over year. Also, the emphasis on expansion initiatives, digital innovation and the loyalty program bode well.\n\nDuring the quarter, the company added 97 properties to its worldwide lodging portfolio. However, challenging macroeconomic conditions and high debt remain a concern. Earnings estimates for 2023 have declined in the past 30 days.\n\n(You can read the full research report on Marriott International here >>>)\n\nShares ofParker-Hannifin have outperformed the Zacks Manufacturing - General Industrial industry over the year-to-date period (+51.1% vs. +12.0%). The company is benefiting from higher demand from distributors and end users across the oil and gas, material handling, cars and light trucks, and farm and agriculture markets in the North American region within the Diversified Industrial segment.\n\nHigher volume across all businesses, especially the commercial and military aftermarket businesses bolstered the company's Aerospace Systems unit. Synergies from the Meggitt buyout (September 2022) are also aiding the company. Benefits from the Win strategy are driving Parker-Hannifin's margins. The company's measures to add shareholder value hold promise.\n\nHowever, the escalating cost of sales and rising selling, general and administrative expenses pose a threat to its bottom line. Foreign currency headwinds may dent PH's top line. A weak liquidity position is also worrisome.\n\n(You can read the full research report on Parker-Hannifin here >>>)\n\nOther noteworthy reports we are featuring today include FedEx Corp. and Agilent Technologies, Inc..\nWhy Haven't You Looked at Zacks' Top Stocks?\nSince 2000, our top stock-picking strategies have blown away the S&P's +6.2 average gain per year. Amazingly, they soared with average gains of +46.4%, +49.5% and +55.2% per year. Today you can access their live picks without cost or obligation.\nSee Stocks Free >>\nMedia Contact\nZacks Investment Research\n800-767-3771 ext. 9339\nsupport@zacks.com                                      \nhttps://www.zacks.com                                                   \nPast performance is no guarantee of future results. Inherent in any investment is the potential for loss. This material is being provided for informational purposes only and nothing herein constitutes investment, legal, accounting or tax advice, or a recommendation to buy, sell or hold a security. No recommendation or advice is being given as to whether any investment is suitable for a particular investor. It should not be assumed that any investments in securities, companies, sectors or markets identified and described were or will be profitable. All information is current as of the date of herein and is subject to change without notice. Any views or opinions expressed may not reflect those of the firm as a whole. Zacks Investment Research does not engage in investment banking, market making or asset management activities of any securities. These returns are from hypothetical portfolios consisting of stocks with Zacks Rank = 1 that were rebalanced monthly with zero transaction costs. These are not the returns of actual portfolios of stocks. The S&P 500 is an unmanaged index. Visit https://www.zacks.com/performance for information about the performance numbers displayed in this press release.\nZacks Names \"Single Best Pick to Double\"\nFrom thousands of stocks, 5 Zacks experts each have chosen their favorite to skyrocket +100% or more in months to come. From those 5, Director of Research Sheraz Mian hand-picks one to have the most explosive upside of all.\nIt’s a little-known chemical company that’s up 65% over last year, yet still dirt cheap. With unrelenting demand, soaring 2022 earnings estimates, and $1.5 billion for repurchasing shares, retail investors could jump in at any time.\nThis company could rival or surpass other recent Zacks’ Stocks Set to Double like Boston Beer Company which shot up +143.0% in little more than 9 months and NVIDIA which boomed +175.9% in one year.\nFree: See Our Top Stock and 4 Runners Up >>\nWant the latest recommendations from Zacks Investment Research? Today, you can download 7 Best Stocks for the Next 30 Days. Click to get this free report\nVisa Inc. (V) : Free Stock Analysis Report\nMarriott International, Inc. (MAR) : Free Stock Analysis Report\nParker-Hannifin Corporation (PH) : Free Stock Analysis Report\nAgilent Technologies, Inc. (A) : Free Stock Analysis Report\nFedEx Corporation (FDX) : Free Stock Analysis Report\nTo read this article on Zacks.com click here.\nZacks Investment Research\nThe views and opinions expressed herein are the views and opinions of the author and do not necessarily reflect those of Nasdaq, Inc.",
         "Neutral"
        ],
        [
         "7",
         "2023-11-22",
         "3 Biotech Stocks With Big-Time Breakthrough Potential",
         "A",
         "InvestorPlace - Stock Market News, Stock Advice & Trading Tips\nIn a world in constant evolution and growth, more and more companies are needed that are committed to development and research in the health area. These biotech companies are not only doing the job, but also have potential for future growth.\nLet’s take a quick look at these biotech stocks to buy.\nAgilent (A)\nSource: Michael Vi / Shutterstock.com\nAgilent Technologies (NYSE:A) is a key player in the life sciences industry, providing vital solutions for laboratories and research facilities. Although it is not a traditional biotech company, its impact on the biotech and healthcare sectors is notable.\nIn their recent third quarter report, they faced a 2.7% decline in year-on-year revenues, reflecting weaker market conditions. However, the company demonstrated its resilience, showing a 7% increase in non-GAAP net income. Despite these challenges, Agilent adjusted its outlook for the year, anticipating a 0.7% decline to flat growth.\nOne positive aspect of the report is Agilent’s commitment to shareholders, as evidenced by the 5% increase in the quarterly dividend, reflecting confidence in the company’s financial position. This move may appeal to investors looking for stable returns.\nOn the biotech front, they received FDA approval for their PD-L1 IHC 22C3 pharmDx PD-L1 IHC 22C3 pharmDx as a diagnostic tool. This approval is crucial for identifying patients with gastric or gastroesophageal junction adenocarcinoma eligible for treatment with KEYTRUDA, an anti-PD-1 therapy developed by Merck (NYSE:MRK). The significance lies in the fact that PD-L1 IHC 22C3 pharmDx is the only FDA-approved companion diagnostic for this purpose, demonstrating Agilent’s leadership in the development of companion diagnostics.\nExact Sciences (EXAS)\nSource: Tada Images / Shutterstock\nExact Sciences (NASDAQ:EXAS) stands out as a key player in the field of cancer detection and diagnostics, attracting the attention of investors seeking innovative opportunities. Its recent financial report for the third quarter of 2023 reveals impressive growth, with total revenues of $628 million, a significant 20% increase over the same period last year. Core revenues, excluding exceptionals, showed an even more remarkable increase of 23%, driven by a 31% increase in the Screening segment and a 3% increase in Precision Oncology revenues.\nIn particular, Exact Sciences made waves with the groundbreaking BLUE-C assay results presented at the 2023 Annual Meeting of the American College of Gastroenterology. The next-generation Cologuard test showed an exceptional sensitivity of 94% for colorectal cancer with a specificity of 91%, outperforming fecal immunochemical tests (FIT) in detecting cancer or pre-cancer. In addition, the test demonstrated higher sensitivity for advanced precancerous lesions compared to FIT.\nBeyond the financial success, they showed their commitment to advancing cancer detection and treatment at the European Society for Medical Oncology Congress 2023. The company presented data on its blood-based early detection program for multiple cancers and results from OncoExTra, which provides information on actionable fusions in people with solid tumors.\nSoleno Therapeutics (SLNO)\nSource: aslysun / Shutterstock.com\nSoleno Therapeutics (NASDAQ:SLNO) is like a medical beacon working passionately in the field of rare diseases. Its flagship, diazoxide choline extended-release tablets (DCCR), has recently achieved great success in the treatment of Prader-Willi syndrome (PWS). In a long-term study, DCCR showed a statistically significant improvement over placebo, bringing hope and good vibes to those suffering from this difficult syndrome.\nWhat is even more encouraging is that DCCR is not only effective, but also a good teammate, as it is generally well tolerated and has no unexpected safety issues. These findings, presented at the Prader-Willi Research Foundation Symposium, are like a victory cheer for both the scientific community and the individuals and families affected by PWS.\nBut these are not just victories on the medical front. Soleno, as a company, is making strategic moves on the financial front. Closing a round of funding to the tune of $129 million is like giving a strong dose of energy to their research and development efforts. They have even welcomed new members to their board, such as industry veteran Matthew Pauls, and added Dr. Mike Huang to their clinical development team.\nLooking at their playbook, Soleno is not slowing down. They have published results, are making financial moves, and with an NDA submission for DCCR on the horizon, it looks like they are gearing up for a groundbreaking chapter in their journey to make a meaningful impact on rare diseases.\nAs of this writing, Gabriel Osorio-Mazzilli did not hold (either directly or indirectly) any positions in the securities mentioned in this article. The opinions expressed in this article are those of the writer, subject to the InvestorPlace.com Publishing Guidelines (no position)\nGabriel Osorio is a former Goldman Sachs and Citigroup employee. He possesses discipline in bottom-up value investing and volatility-based long/short equities trading.\nMore From InvestorPlace\nChatGPT IPO Could Shock the World, Make This Move Before the Announcement\nMusk’s “Project Omega” May Be Set to Mint New Millionaires. Here’s How to Get In.\nThe Rich Use This Income Secret (NOT Dividends) Far More Than Regular Investors\nThe post 3 Biotech Stocks With Big-Time Breakthrough Potential appeared first on InvestorPlace.\nThe views and opinions expressed herein are the views and opinions of the author and do not necessarily reflect those of Nasdaq, Inc.",
         "Neutral"
        ],
        [
         "8",
         "2023-11-22",
         "Top Research Reports for Visa, Marriott International & Parker-Hannifin",
         "A",
         "Wednesday, November 22, 2023\n\nThe Zacks Research Daily presents the best research output of our analyst team. Today's Research Daily features new research reports on 16 major stocks, including Visa Inc. (V), Marriott International, Inc. (MAR) and Parker-Hannifin Corp. (PH). These research reports have been hand-picked from the roughly 70 reports published by our analyst team today.\n\nYou can see all of today’s research reports here >>>\n\nVisa’s shares have outperformed the Zacks Financial Transaction Services industry over the past year (+20.9% vs. +15.7%). The company’s stock prices has consistently outperformed the industry, driven by strategic acquisitions and alliances fostering long-term growth.\n\nThe fourth quarter fiscal 2023 earnings beat estimates, fueled by increased payments and sustained investments in technology. The ongoing shift to digital payments is advantageous for Visa, with strong domestic volumes supporting overall performance. A robust cash position enables the company to enhance shareholder value.\n\nHowever, elevated operating expenses pose margin challenges. Increased client incentives may impact the top line. Additionally, it is witnessing a declining cash volume from the Asia Pacific and CEMEA regions. As such the stock warrants a cautious stance.\n\n(You can read the full research report on Visa here >>>)\n\nShares of Marriott International have outperformed the Zacks Hotels and Motels industry over the year-to-date period (+40.6% vs. +22.9%). The company’s upside was backed by robust leisure demand and solid global booking trends.\n\nAlso, substantial RevPAR growth in international markets added to the upside. In the quarter, RevPAR for worldwide comparable system-wide properties increased 8.8% year over year. Also, the emphasis on expansion initiatives, digital innovation and the loyalty program bode well.\n\nDuring the quarter, the company added 97 properties to its worldwide lodging portfolio. However, challenging macroeconomic conditions and high debt remain a concern. Earnings estimates for 2023 have declined in the past 30 days.\n\n(You can read the full research report on Marriott International here >>>)\n\nShares of Parker-Hannifin have outperformed the Zacks Manufacturing - General Industrial industry over the year-to-date period (+51.1% vs. +12.0%). The company is benefiting from higher demand from distributors and end users across the oil and gas, material handling, cars and light trucks, and farm and agriculture markets in the North American region within the Diversified Industrial segment.\n\nHigher volume across all businesses, especially the commercial and military aftermarket businesses bolstered the company’s Aerospace Systems unit. Synergies from the Meggitt buyout (September 2022) are also aiding the company. Benefits from the Win strategy are driving Parker-Hannifin’s margins. The company’s measures to add shareholder value hold promise.\n\nHowever, the escalating cost of sales and rising selling, general and administrative expenses pose a threat to its bottom line. Foreign currency headwinds may dent PH’s top line. A weak liquidity position is also worrisome.\n\n(You can read the full research report on Parker-Hannifin here >>>)\n\nOther noteworthy reports we are featuring today include FedEx Corp. (FDX), América Móvil, S.A.B. de C.V. (AMX) and Agilent Technologies, Inc. (A).\n\nMark Vickery\nSenior Editor\n\nNote: Sheraz Mian heads the Zacks Equity Research department and is a well-regarded expert of aggregate earnings. He is frequently quoted in the print and electronic media and publishes the weekly Earnings Trends and Earnings Preview reports. If you want an email notification each time Sheraz publishes a new article, please click here>>>\nToday's Must Read\nVisa (V) Rides On Growing Cross Border Volume, Expenses High\nSolid Demand & Expansion Effort Aid Marriott (MAR), High Debt Ail\nAerospace Systems Unit Aids Parker-Hannifin ( PH ), Costs Hurt\nFeatured Reports\nFedEx (FDX) Benefits From Dividends & Buyback, Expenses Ail\nThe Zacks analyst likes the shareholder-friendly measures adopted by FedEx. However, capital expenditures are concerning as they are likely to keep the bottom line under pressure.\nAmerica Movil (AMX) Benefits from Increasing Subscriber Base\nPer the Zacks analyst, America Movil's performance is gaining from growing subscriber base. However, stiff competition and high debt load are major concerns.\nSluggishness in LSAG Segment Hurts Agilent Technologies (A)\nPer the Zacks analyst, Agilent Technologies is suffering from weak Life Sciences & Applied Markets Group (LSAG) segment owing to soft market conditions in China and a sluggish pharma market.\nDecent AUM & Organic Growth Aid Carlyle (CG), High Costs Ail\nPer the Zacks analyst, Carlyle's decent AUM balances and organic growth support its top-line expansion. However, escalating expenses are likely to impede bottom-line growth.\nFocus on R&D Aids Inspire Medical (INSP) in Stiff Competition\nThe Zacks analyst is upbeat about Inspire Medical's focus on research and development despite its operation in a highly competitive market.\nRingCentral (RNG) Rides on Strong Portfolio, Partner Base\nPer the Zacks analyst, RingCentral benefits from solid demand for its Unified Communications as a Service and contact center software-as-a-service solutions.\nTreeHouse Foods (THS) Gains from Efficient Pricing Efforts\nPer the Zacks analyst, TreeHouse Foods has been gaining from its pricing efforts. Net sales advanced 3.6% year over year in Q3, driven by favorable pricing actions undertaken to recover inflation.\nNew Upgrades\nMobileye (MBLY) Rides High on ADAS Technology's Design Wins\nThe Zacks analyst is optimistic about Mobileye's Advanced Driver Assistance Systems (ADAS) Technology's design wins, which is likely to generate a $17 billion revenue pipeline through 2030.\nUK Nod to CRISPR's (CRSP) Casgevy Gene Therapy Encouraging\nPer the Zacks Analyst, the U.K. approval to CRISPR Therapeutics' Casgevy is a major scientific breakthrough as it marks the first ever regulatory authorization for a CRISPR/Cas9-based gene therapy.\nImproved Menu Strategies & Expansion Plans Aid Brinker (EAT)\nPer the Zacks analyst, Brinker is benefiting from improved menu pricing, a favorable menu item mix and sales leverage. Also, expansion plans and digital enhancements bodes well.\nNew Downgrades\nSeasonality & Strong Competition Ail UGI Corporation (UGI)\nPer the Zacks analyst, UGI's seasonal business operations may reduce demand and adversely impact its overall performance. Strong competition from other clean sources may lower profitability.\nJetBlue Airways (JBLU) Reels Under High Operating Expenses\nThe Zacks analyst is worried about the elevated expenses on fuel. High non-fuel unit costs represent another headwind at JetBlue.\nRPC (RES) Likely to Suffer From Aggressive Capital Budget\nPer the Zacks analyst, RPC is anticipated to face challenges due to its increased capital expenditure, impacting its profitability. Additionally, rising costs of revenues are a cause for concern.\nZacks Names \"Single Best Pick to Double\"\nFrom thousands of stocks, 5 Zacks experts each have chosen their favorite to skyrocket +100% or more in months to come. From those 5, Director of Research Sheraz Mian hand-picks one to have the most explosive upside of all.\nIt’s a little-known chemical company that’s up 65% over last year, yet still dirt cheap. With unrelenting demand, soaring 2022 earnings estimates, and $1.5 billion for repurchasing shares, retail investors could jump in at any time.\nThis company could rival or surpass other recent Zacks’ Stocks Set to Double like Boston Beer Company which shot up +143.0% in little more than 9 months and NVIDIA which boomed +175.9% in one year.\nFree: See Our Top Stock and 4 Runners Up >>\nWant the latest recommendations from Zacks Investment Research? Today, you can download 7 Best Stocks for the Next 30 Days. Click to get this free report\nVisa Inc. (V) : Free Stock Analysis Report\nMarriott International, Inc. (MAR) : Free Stock Analysis Report\nAmerica Movil, S.A.B. de C.V. Unsponsored ADR (AMX) : Free Stock Analysis Report\nParker-Hannifin Corporation (PH) : Free Stock Analysis Report\nAgilent Technologies, Inc. (A) : Free Stock Analysis Report\nFedEx Corporation (FDX) : Free Stock Analysis Report\nTo read this article on Zacks.com click here.\nZacks Investment Research\nThe views and opinions expressed herein are the views and opinions of the author and do not necessarily reflect those of Nasdaq, Inc.",
         "Neutral"
        ],
        [
         "9",
         "2023-11-21",
         "Tuesday Sector Leaders: Healthcare, Consumer Products",
         "A",
         "In afternoon trading on Tuesday, Healthcare stocks are the best performing sector, up 0.8%. Within that group, Agilent Technologies, Inc. (Symbol: A) and Waters Corp. (Symbol: WAT) are two large stocks leading the way, showing a gain of 8.8% and 5.7%, respectively. Among healthcare ETFs, one ETF following the sector is the Health Care Select Sector SPDR ETF (Symbol: XLV), which is up 0.8% on the day, and down 2.87% year-to-date. Agilent Technologies, Inc., meanwhile, is down 16.88% year-to-date, and Waters Corp., is down 20.21% year-to-date. Combined, A and WAT make up approximately 1.1% of the underlying holdings of XLV.\nThe next best performing sector is the Consumer Products sector, not showing much of a loss. Among large Consumer Products stocks, Tesla Inc (Symbol: TSLA) and Clorox Co (Symbol: CLX) are the most notable, showing a gain of 2.4% and 2.2%, respectively. One ETF closely tracking Consumer Products stocks is the iShares U.S. Consumer Goods ETF (IYK), which is up 0.2% in midday trading, and down 5.05% on a year-to-date basis. Tesla Inc, meanwhile, is up 123.25% year-to-date, and Clorox Co is up 1.76% year-to-date. CLX makes up approximately 0.8% of the underlying holdings of IYK.\nComparing these stocks and ETFs on a trailing twelve month basis, below is a relative stock price performance chart, with each of the symbols shown in a different color as labeled in the legend at the bottom:\nHere's a snapshot of how the S&P 500 components within the various sectors are faring in afternoon trading on Tuesday. As you can see, one sector is up on the day, while six sectors are down.\nSECTOR % CHANGE\nHealthcare +0.8%\nConsumer Products -0.0%\nMaterials -0.0%\nIndustrial -0.1%\nUtilities -0.2%\nFinancial -0.2%\nServices -0.3%\nEnergy -0.4%\nTechnology & Communications -0.8%\n25 Dividend Giants Widely Held By ETFs »\nAlso see:\n Funds Holding AB\n NYCB Historical Stock Prices\n SAPE Videos\nThe views and opinions expressed herein are the views and opinions of the author and do not necessarily reflect those of Nasdaq, Inc.",
         "Neutral"
        ],
        [
         "10",
         "2023-11-21",
         "A Quantitative Stock Analysis",
         "A",
         "Below is Validea's guru fundamental report for AGILENT TECHNOLOGIES INC (A). Of the 22 guru strategies we follow, A rates highest using our P/B Growth Investor model based on the published strategy of Partha Mohanram. This growth model looks for low book-to-market stocks that exhibit characteristics associated with sustained future growth.\nAGILENT TECHNOLOGIES INC (A) is a large-cap growth stock in the Scientific & Technical Instr. industry. The rating using this strategy is 77% based on the firm’s underlying fundamentals and the stock’s valuation. A score of 80% or above typically indicates that the strategy has some interest in the stock and a score above 90% typically indicates strong interest.\nThe following table summarizes whether the stock meets each of this strategy's tests. Not all criteria in the below table receive equal weighting or are independent, but the table provides a brief overview of the strong and weak points of the security in the context of the strategy's criteria.\nBOOK/MARKET RATIO: PASS\nRETURN ON ASSETS: PASS\nCASH FLOW FROM OPERATIONS TO ASSETS: PASS\nCASH FLOW FROM OPERATIONS TO ASSETS VS. RETURN ON ASSETS: PASS\nRETURN ON ASSETS VARIANCE: PASS\nSALES VARIANCE: PASS\nADVERTISING TO ASSETS: FAIL\nCAPITAL EXPENDITURES TO ASSETS: PASS\nRESEARCH AND DEVELOPMENT TO ASSETS: FAIL\nDetailed Analysis of AGILENT TECHNOLOGIES INC\nA Guru Analysis\nA Fundamental Analysis\nMore Information on Partha Mohanram\nPartha Mohanram Portfolio\nAbout Partha Mohanram: Sometimes the best investing strategies don't come from the world of investing. Sometimes research that changes the investing world can come from the halls of academia. Partha Mohanram is a great example of this. While academic research has shown that value investing works over time, it has found the opposite for growth investing. Mohanram turned that research on its head by developing a growth model that produced significant market outperformance. His research paper \"Separating Winners from Losers among Low Book-to-Market Stocks using Financial Statement Analysis\" looked at the criteria that can be used to separate growth stocks that continue their upward trajectory from those that don't. Mohanram is currently the John H. Watson Chair in Value Investing at the University of Toronto and was previously an Associate Professor at the Columbia Business School.\nAdditional Research Links\nTop NASDAQ 100 Stocks\nTop Technology Stocks\nTop Large-Cap Growth Stocks\nHigh Momentum Stocks\nHigh Insider Ownership Stocks\nAbout Validea: Validea is aninvestment researchservice that follows the published strategies of investment legends. Validea offers both stock analysis and model portfolios based on gurus who have outperformed the market over the long-term, including Warren Buffett, Benjamin Graham, Peter Lynch and Martin Zweig. For more information about Validea, click here\nThe views and opinions expressed herein are the views and opinions of the author and do not necessarily reflect those of Nasdaq, Inc.",
         "Neutral"
        ],
        [
         "11",
         "2023-11-21",
         "Agilent (A) Q4 Earnings & Revenues Beat Estimates, Down Y/Y",
         "A",
         "Agilent Technologies A delivered fourth-quarter fiscal 2023 earnings of $1.38 per share, which beat the Zacks Consensus Estimate by 2.99%. The bottom line decreased 10% from the year-ago quarter.\n\nRevenues of $1.69 billion surpassed the Zacks Consensus Estimate of $1.67 billion. However, the top line was down 8.7% on a reported basis and 9.7% on a core basis from the respective year-ago levels.\n\nThe decline was attributed to broad-based weakness across all the end markets, especially in Chemistry & Advanced Materials, Pharma, Food and Diagnostics and Clinical markets.\n\nAlso, weak momentum in China was a major concern. The company witnessed a year-over-year decline of 31% in its business in China in the reported quarter.\nAgilent Technologies, Inc. Price, Consensus and EPS Surprise\n  Agilent Technologies, Inc. price-consensus-eps-surprise-chart | Agilent Technologies, Inc. Quote\nSegmental Top-Line Details\nAgilent has three reporting segments, namely, Life Sciences & Applied Markets Group (“LSAG”), Agilent Cross Lab Group (“ACG”) and Diagnostics and Genomics Group (“DGG”).\n\nLSAG: The segment accounted for $928 million or 55% of its total revenues, down 17% on a reported basis and 18% on a core basis from the respective prior-year fiscal quarter’s levels. This was due to macroeconomic uncertainties, soft market conditions in China and sluggish capital spending by the customers. The reported figure came ahead of the Zacks Consensus Estimate of $925 million.\n\nACG: Revenues from the segment were $404 million, accounting for 24% of total revenues. The figure surpassed the consensus mark of $401 million. The top line improved by 6% from the prior-year fiscal quarter’s reading on a reported basis and by 4% on a core basis, demonstrating solid momentum across all end markets and regions except China.\n\nDGG: Revenues increased 1% from the prior-year fiscal quarter’s figure on a reported basis to $356 million, accounting for the remaining 21% of total revenues. The figure remained flat year over year on a core basis. The figure came above the consensus mark of $345 million. Segmental growth was attributed to strength in the NASD business.\n\nHowever, weakness in the genomics business was a negative.\nOperating Results\nFor the fiscal fourth quarter, gross margin in the LSAG segment contracted by 100 basis points (bps) to 59.6% from the prior-year fiscal quarter’s number. ACG’s gross margin expanded by 180 bps to 50.4%. DGG’s gross margin expanded by 90 bps from the year-ago fiscal quarter’s actuals to 51.9%.\n\nResearch & development (“R&D”) costs were $114 million, down 4.2% from the prior-year fiscal quarter’s number. Selling, general & administrative (“SG&A”) expenses were $393 million, down 6.9% from the year-earlier fiscal quarter’s figure. As a percentage of revenues, R&D expenses expanded by 40 bps year over year to 6.8%. SG&A expenses expanded by 50 bps year over year to 23.3%.\n\nOperating margin for the fiscal fourth quarter was 24.2%, which declined 130 bps from the year-earlier fiscal quarter’s figure.\n\nSegment-wise, the operating margin in the LSAG segment contracted by 460 bps to 28.1% from the prior-year fiscal quarter’s number. ACG’s gross margin expanded by 430 bps to 31.7%. DGG’s gross margin expanded by 300 bps from the year-ago fiscal quarter’s actuals to 22.5%.\nBalance Sheet & Cash Flow\nAs of Oct 31, 2023, Agilent’s cash and cash equivalents were $1.59 billion, up from $1.33 billion on Jul 31, 2023.\n\nAccounts receivables were $1.29 billion at the end of fourth-quarter fiscal 2023, down from $1.33 billion at the end of third-quarter fiscal 2023.\n\nLong-term debt was $2.735 billion for the reported quarter compared with $2.734 billion in the prior fiscal quarter.\n\nAgilent generated $516 million in cash from operations during the reported quarter, down from $562 million generated in the previous quarter.\n\nThe company made dividend payments worth $66 million and repurchased shares worth $80 million during the fiscal fourth quarter.\nGuidance\nFor the fiscal first quarter of 2024, management expects revenues of $1.555-$1.605 billion, suggesting a decline between 11.4% and 8.6% on a reported basis from the year-ago fiscal quarter’s actuals. The Zacks Consensus Estimate for the same is pegged at $1.69 billion.\n\nNon-GAAP earnings per share are expected to be $1.20-$1.23. The consensus mark for fiscal first-quarter earnings is pinned at $1.33 per share.\n\nFor fiscal 2024, management expects revenues in the band of $6.71-$6.81 billion, implying a fall of 1.8-0.3% on a reported basis from the respective fiscal 2023 figures. The Zacks Consensus Estimate for the same is pegged at $6.81 billion.\n\nFiscal 2024 non-GAAP earnings per share are projected in the range of $5.44-$5.55. The consensus mark for fiscal 2024 earnings is pinned at $5.41 per share.\nZacks Rank & Stocks to Consider\nCurrently, Agilent carries a Zacks Rank #3 (Hold).\n\nSome better-ranked stocks in the broader technology sector are Badger Meter BMI, Arista Networks ANET and Salesforce CRM. Badger Meter sports a Zacks Rank #1 (Strong Buy), and Arista Networks and Salesforce carry a Zacks Rank #2 (Buy) each. You can see the complete list of today’s Zacks #1 Rank stocks here.\n\nShares of Badger Meter have gained 24.8% in the year-to-date period. BMI’s long-term earnings growth rate is currently projected at 20.39%.\n\nShares of Arista Networks have surged 56.4% in the year-to-date period. The long-term earnings growth rate for ANET is currently projected at 19.77%.\n\nShares of Salesforce have gained 57.4% in the year-to-date period. CRM’s long-term earnings growth rate is currently projected at 22.54%.\nTop 5 ChatGPT Stocks Revealed\nZacks Senior Stock Strategist, Kevin Cook names 5 hand-picked stocks with sky-high growth potential in a brilliant sector of Artificial Intelligence. By 2030, the AI industry is predicted to have an internet and iPhone-scale economic impact of $15.7 Trillion.\nToday you can invest in the wave of the future, an automation that answers follow-up questions … admits mistakes … challenges incorrect premises … rejects inappropriate requests. As one of the selected companies puts it, “Automation frees people from the mundane so they can accomplish the miraculous.”\nDownload Free ChatGPT Stock Report Right Now >>\nWant the latest recommendations from Zacks Investment Research? Today, you can download 7 Best Stocks for the Next 30 Days. Click to get this free report\nSalesforce Inc. (CRM) : Free Stock Analysis Report\nBadger Meter, Inc. (BMI) : Free Stock Analysis Report\nAgilent Technologies, Inc. (A) : Free Stock Analysis Report\nArista Networks, Inc. (ANET) : Free Stock Analysis Report\nTo read this article on Zacks.com click here.\nZacks Investment Research\nThe views and opinions expressed herein are the views and opinions of the author and do not necessarily reflect those of Nasdaq, Inc.",
         "Neutral"
        ],
        [
         "12",
         "2023-11-21",
         "S&P 500 Movers: J, A",
         "A",
         "In early trading on Tuesday, shares of Agilent Technologies, topped the list of the day's best performing components of the S&P 500 index, trading up 8.1%. Year to date, Agilent Technologies has lost about 17.7% of its value.\nAnd the worst performing S&P 500 component thus far on the day is Jacobs Solutions, trading down 5.5%. Jacobs Solutions is showing a gain of 7.9% looking at the year to date performance.\nTwo other components making moves today are Best Buy, trading down 4.1%, and Waters, trading up 5.0% on the day.\nVIDEO: S&P 500 Movers: J, A\nThe views and opinions expressed herein are the views and opinions of the author and do not necessarily reflect those of Nasdaq, Inc.",
         "Neutral"
        ],
        [
         "13",
         "2023-11-21",
         "A Makes Bullish Cross Above Critical Moving Average",
         "A",
         "In trading on Tuesday, shares of Agilent Technologies, Inc. (Symbol: A) crossed above their 200 day moving average of $124.47, changing hands as high as $124.68 per share. Agilent Technologies, Inc. shares are currently trading up about 8.2% on the day. The chart below shows the one year performance of A shares, versus its 200 day moving average:\nLooking at the chart above, A's low point in its 52 week range is $96.80 per share, with $160.265 as the 52 week high point — that compares with a last trade of $123.46. The A DMA information above was sourced from TechnicalAnalysisChannel.com\nClick here to find out which 9 other stocks recently crossed above their 200 day moving average »\nAlso see:\n MOK Historical Stock Prices\n Top Ten Hedge Funds Holding SWM\n AIT Dividend Growth Rate\nThe views and opinions expressed herein are the views and opinions of the author and do not necessarily reflect those of Nasdaq, Inc.",
         "Neutral"
        ],
        [
         "14",
         "2023-11-20",
         "Agilent (A) Q4 Earnings: Taking a Look at Key Metrics Versus Estimates",
         "A",
         "Agilent Technologies (A) reported $1.69 billion in revenue for the quarter ended October 2023, representing a year-over-year decline of 8.7%. EPS of $1.38 for the same period compares to $1.53 a year ago.\nThe reported revenue compares to the Zacks Consensus Estimate of $1.67 billion, representing a surprise of +1.29%. The company delivered an EPS surprise of +2.99%, with the consensus EPS estimate being $1.34.\nWhile investors closely watch year-over-year changes in headline numbers -- revenue and earnings -- and how they compare to Wall Street expectations to determine their next course of action, some key metrics always provide a better insight into a company's underlying performance.\nAs these metrics influence top- and bottom-line performance, comparing them to the year-ago numbers and what analysts estimated helps investors project a stock's price performance more accurately.\nHere is how Agilent performed in the just reported quarter in terms of the metrics most widely monitored and projected by Wall Street analysts:\nNet Revenue- Americas: $702 million compared to the $678.42 million average estimate based on two analysts.\nNet Revenue- Asia Pacific: $553 million compared to the $582.25 million average estimate based on two analysts.\nNet Revenue- Europe: $433 million versus $416.94 million estimated by two analysts on average.\nNet Revenue- Diagnostics and Genomics Group: $356 million versus $345.17 million estimated by four analysts on average. Compared to the year-ago quarter, this number represents a +1.1% change.\nNet Revenue- Life Sciences and Applied Markets Group: $928 million compared to the $924.52 million average estimate based on four analysts. The reported number represents a change of -16.9% year over year.\nNet Revenue- Agilent Crosslab Group: $404 million compared to the $401.38 million average estimate based on four analysts. The reported number represents a change of +6% year over year.\nRevenue by End Markets- Chemical and advanced materials: $381 million compared to the $379.36 million average estimate based on two analysts.\nRevenue by End Markets- Environmental and Forensics: $175 million versus $171.76 million estimated by two analysts on average.\nRevenue by End Markets- Diagnostics and Clinical: $236 million compared to the $234.25 million average estimate based on two analysts.\nRevenue by End Markets- Academia and Government: $150 million versus the two-analyst average estimate of $147.76 million.\nRevenue by End Markets- Pharmaceutical and Biopharmaceutical: $590 million compared to the $595.74 million average estimate based on two analysts.\nRevenue by End Markets- Food: $156 million versus the two-analyst average estimate of $152.73 million.\nView all Key Company Metrics for Agilent here>>>\n\nShares of Agilent have returned +3.6% over the past month versus the Zacks S&P 500 composite's\nZacks Names \"Single Best Pick to Double\"\nFrom thousands of stocks, 5 Zacks experts each have chosen their favorite to skyrocket +100% or more in months to come. From those 5, Director of Research Sheraz Mian hand-picks one to have the most explosive upside of all.\nIt’s credited with a “watershed medical breakthrough” and is developing a bustling pipeline of other projects that could make a world of difference for patients suffering from diseases involving the liver, lungs, and blood. This is a timely investment that you can catch while it emerges from its bear market lows.\nIt could rival or surpass other recent Stocks Set to Double like Boston Beer Company which shot up +143.0% in little more than 9 months and NVIDIA which boomed +175.9% in one year.\nFree: See Our Top Stock And 4 Runners Up\nWant the latest recommendations from Zacks Investment Research? Today, you can download 7 Best Stocks for the Next 30 Days. Click to get this free report\nAgilent Technologies, Inc. (A) : Free Stock Analysis Report\nTo read this article on Zacks.com click here.\nZacks Investment Research\nThe views and opinions expressed herein are the views and opinions of the author and do not necessarily reflect those of Nasdaq, Inc.",
         "Positive"
        ],
        [
         "15",
         "2023-11-20",
         "Agilent Technologies Q4 Profit Increases, beats estimates",
         "A",
         "(RTTNews) - Agilent Technologies (A) reported a profit for its fourth quarter that increased from the same period last year and beat the Street estimates.\nThe company's earnings totaled $475 million, or $1.62 per share. This compares with $368 million, or $1.23 per share, in last year's fourth quarter.\nExcluding items, Agilent Technologies reported adjusted earnings of $404 million or $1.38 per share for the period.\nAnalysts on average had expected the company to earn $1.34 per share, according to figures compiled by Thomson Reuters. Analysts' estimates typically exclude special items.\nThe company's revenue for the quarter fell 8.6% to $1.69 billion from $1.85 billion last year.\nAgilent Technologies earnings at a glance (GAAP) :\n-Earnings (Q4): $475 Mln. vs. $368 Mln. last year. -EPS (Q4): $1.62 vs. $1.23 last year. -Analyst Estimate: $1.34 -Revenue (Q4): $1.69 Bln vs. $1.85 Bln last year.\n-Guidance: Next quarter EPS guidance: $1.20 - $1.23 Next quarter revenue guidance: $1.555 - $1.605 Bln\nThe views and opinions expressed herein are the views and opinions of the author and do not necessarily reflect those of Nasdaq, Inc.",
         "Positive"
        ],
        [
         "16",
         "2023-11-20",
         "After-Hours Earnings Report for November 20, 2023 : A, KEYS, ZM, BRBR, SYM, GBDC, CENTA, CENT, ENTA, XELB",
         "A",
         "The following companies are expected to report earnings after hours on 11/20/2023. Visit our Earnings Calendar for a full list of expected earnings releases.\n\nAgilent Technologies, Inc. (A)is reporting for the quarter ending October 31, 2023. The electrical test equipment company's consensus earnings per share forecast from the 8 analysts that follow the stock is $1.34. This value represents a 12.42% decrease compared to the same quarter last year. In the past year A has met analyst expectations once and beat the expectations the other three quarters. Zacks Investment Research reports that the 2023 Price to Earnings ratio for A is 20.91 vs. an industry ratio of 33.10.\n\nKeysight Technologies Inc. (KEYS)is reporting for the quarter ending October 31, 2023. The electrical instrument company's consensus earnings per share forecast from the 5 analysts that follow the stock is $1.73. This value represents a 14.36% decrease compared to the same quarter last year. KEYS missed the consensus earnings per share in the 1st calendar quarter of 2023 by -1.15%. Zacks Investment Research reports that the 2023 Price to Earnings ratio for KEYS is 17.71 vs. an industry ratio of 27.70.\n\nZoom Video Communications, Inc. (ZM)is reporting for the quarter ending October 31, 2023. The internet software company's consensus earnings per share forecast from the 10 analysts that follow the stock is $0.36. This value represents a 71.43% increase compared to the same quarter last year. Zacks Investment Research reports that the 2024 Price to Earnings ratio for ZM is 36.23 vs. an industry ratio of -416.60, implying that they will have a higher earnings growth than their competitors in the same industry.\n\nBellRing Brands, Inc. (BRBR)is reporting for the quarter ending September 30, 2023. The medical products company's consensus earnings per share forecast from the 7 analysts that follow the stock is $0.40. This value represents a 29.03% increase compared to the same quarter last year. In the past year BRBR has beat the expectations every quarter. The highest one was in the 2nd calendar quarter where they beat the consensus by 6.25%. Zacks Investment Research reports that the 2023 Price to Earnings ratio for BRBR is 34.63 vs. an industry ratio of 5.30, implying that they will have a higher earnings growth than their competitors in the same industry.\n\nSymbotic Inc. (SYM)is reporting for the quarter ending September 30, 2023. The technology services company's consensus earnings per share forecast from the 4 analysts that follow the stock is $-0.06. This value represents a 40.00% increase compared to the same quarter last year. Zacks Investment Research reports that the 2023 Price to Earnings ratio for SYM is -103.33 vs. an industry ratio of 13.80.\n\nGolub Capital BDC, Inc. (GBDC)is reporting for the quarter ending September 30, 2023. The financial services company's consensus earnings per share forecast from the 2 analysts that follow the stock is $0.48. This value represents a 45.45% increase compared to the same quarter last year. In the past year GBDC has beat the expectations every quarter. The highest one was in the 2nd calendar quarter where they beat the consensus by 2.33%. Zacks Investment Research reports that the 2023 Price to Earnings ratio for GBDC is 8.61 vs. an industry ratio of 7.80, implying that they will have a higher earnings growth than their competitors in the same industry.\n\nCentral Garden & Pet Company (CENTA)is reporting for the quarter ending September 30, 2023. The consumer company's consensus earnings per share forecast from the 4 analysts that follow the stock is $0.08. This value represents a 300.00% increase compared to the same quarter last year. CENTA missed the consensus earnings per share in the 3rd calendar quarter of 2022 by -233.33%. Zacks Investment Research reports that the 2023 Price to Earnings ratio for CENTA is 15.59 vs. an industry ratio of 10.70, implying that they will have a higher earnings growth than their competitors in the same industry.\n\nCentral Garden & Pet Company (CENT)is reporting for the quarter ending September 30, 2023. The consumer company's consensus earnings per share forecast from the 4 analysts that follow the stock is $0.08. This value represents a 300.00% increase compared to the same quarter last year. CENT missed the consensus earnings per share in the 3rd calendar quarter of 2022 by -233.33%. The \"days to cover\" for this stock exceeds 13 days. Zacks Investment Research reports that the 2023 Price to Earnings ratio for CENT is 17.17 vs. an industry ratio of 10.70, implying that they will have a higher earnings growth than their competitors in the same industry.\n\nEnanta Pharmaceuticals, Inc. (ENTA)is reporting for the quarter ending September 30, 2023. The drug company's consensus earnings per share forecast from the 5 analysts that follow the stock is $-2.11. This value represents a 66.14% decrease compared to the same quarter last year. In the past year ENTA has beat the expectations every quarter. The highest one was in the 2nd calendar quarter where they beat the consensus by 21.85%. Zacks Investment Research reports that the 2023 Price to Earnings ratio for ENTA is -1.26 vs. an industry ratio of 3.30.\n\nXcel Brands, Inc (XELB)is reporting for the quarter ending September 30, 2023. The retail (shoe) company's consensus earnings per share forecast from the 3 analysts that follow the stock is $-0.14. This value represents a 17.65% increase compared to the same quarter last year. XELB missed the consensus earnings per share in the 1st calendar quarter of 2023 by -11.76%. Zacks Investment Research reports that the 2023 Price to Earnings ratio for XELB is -1.43 vs. an industry ratio of 11.80.\n\nThe views and opinions expressed herein are the views and opinions of the author and do not necessarily reflect those of Nasdaq, Inc.",
         "Positive"
        ],
        [
         "17",
         "2023-11-20",
         "Agilent Technologies Q4 23 Earnings Conference Call At 4:30 PM ET",
         "A",
         "(RTTNews) - Agilent Technologies (A) will host a conference call at 4:30 PM ET on November 20, 2023, to discuss Q4 23 earnings results.\nTo access the live webcast, log on to https://www.investor.agilent.com/news-and-events/events/default.aspx\nThe views and opinions expressed herein are the views and opinions of the author and do not necessarily reflect those of Nasdaq, Inc.",
         "Positive"
        ],
        [
         "18",
         "2023-11-16",
         "Daily Dividend Report: CSCO,CB,EXR,NOC,A,PHM",
         "A",
         "Cisco has declared a quarterly dividend of $0.39 per common share to be paid on January 24, 2024, to all stockholders of record as of the close of business on January 4, 2024.\nThe Board of Directors of Chubb today declared a quarterly dividend equal to $0.86 per share, payable on January 5, 2024 to shareholders of record at the close of business on December 15, 2023. The dividend will be payable out of legal reserves and will be made in United States dollars by the company's transfer agent, as described in the Chubb Limited 2023 proxy statement. This will be the third installment as approved by the company's shareholders on May 17, 2023.\nExtra Space Storage announced today that the Company's board of directors has declared a fourth quarter 2023 dividend of $1.62 per share on the common stock of the Company. The dividend is payable on December 29, 2023 to stockholders of record at the close of business on December 15, 2023.\nThe board of directors of Northrop Grumman declared a quarterly dividend of $1.87 per share on Northrop Grumman common stock, payable Dec. 13, 2023, to shareholders of record as of the close of business Nov. 27, 2023.\nAgilent Technologies today announced the company has increased its quarterly dividend to 23.6 cents per share of common stock, a 5% increase over the previous dividend. The quarterly dividend will be paid on Jan. 24, 2024, to all shareholders of record as of the close of business on Jan. 2, 2024.\nPulteGroup announced today that its Board of Directors has voted to increase the Company's quarterly dividend by 25% to $0.20 per common share. The increase will be effective with the Company's next scheduled dividend, which is payable January 3, 2024, to shareholders of record at the close of business on December 19, 2023.\nVIDEO: Daily Dividend Report: CSCO,CB,EXR,NOC,A,PHM\nThe views and opinions expressed herein are the views and opinions of the author and do not necessarily reflect those of Nasdaq, Inc.",
         "Positive"
        ],
        [
         "19",
         "2023-11-16",
         "What to Note Ahead of Agilent Technologies' (A) Q4 Earnings",
         "A",
         "Agilent Technologies A is set to report its fourth-quarter fiscal 2023 results on Nov 20.\n\nFor the fiscal fourth quarter, A expects revenues of $1.655-$1.705 billion, suggesting a decline between 12.2% and 9.5% on a core basis from the year-ago fiscal quarter’s actuals. The Zacks Consensus Estimate for the same is pegged at $1.67 billion, implying a decline of 9.9% from the year-ago fiscal quarter’s reported figure.\n\nAgilent’s non-GAAP earnings are expected to be $1.33-$1.36 per share. The Zacks Consensus Estimate for earnings is pegged at $1.34 per share, indicating a fall of 12.4% from the year-ago fiscal quarter’s reported figure.\n\nAgilent’s earnings surpassed the Zacks Consensus Estimate in three of the trailing four quarters and matched the same once, the average being 4.76%.\nAgilent Technologies, Inc. Price and EPS Surprise\n  Agilent Technologies, Inc. price-eps-surprise | Agilent Technologies, Inc. Quote\n Factors to Note\nThe company is expected to have gained from growing momentum across Agilent’s Cross Lab Group (“ACG”) and Diagnostics and Genomics Group (“DGG”) segments during the fiscal fourth quarter.\n\nThe ACG segment is likely to have benefited from robust portfolio offerings. Strength in services and solid momentum across all regions and end markets are likely to have contributed well.\n\nThe Zacks Consensus Estimate for ACG is pegged at $401 million, implying growth of 5.2% from the year-ago fiscal quarter’s reported figure.\n\nAgilent’s strength in the Nucleic Acid Solutions Division business is expected to have continued benefiting the DGG segment’s performance in the fiscal fourth quarter. Also, solid demand for diagnostic tests is expected to have aided the performance of the company’s pathology business.\n\nHowever, weakness in genomics and Resolution Bioscience businesses might have been a negative\n\nThe Zacks Consensus Estimate for DGG is pegged at $345 million, implying a fall of 2% from the year-ago fiscal quarter’s reported figure.\n\nStrength in liquid chromatography and liquid chromatography-mass spectrometry and lab consumables is expected to have benefited Agilent’s Life Sciences & Applied Markets Group (“LSAG”) segment in the quarter under review.\n\nHowever, the weakening pharma market, macroeconomic uncertainties and soft market conditions in China are likely to have scaled down the LSAG segment’s revenues in the fiscal fourth quarter.\n\nThe Zacks Consensus Estimate for LSAG is pegged at $925 million, implying a decline of 17.1% from the year-ago fiscal quarter’s reported figure.\nWhat Our Model Says\nOur proven model does not conclusively predict an earnings beat for Agilent Technologies this time around. The combination of a positive Earnings ESP and a Zacks Rank #1 (Strong Buy), 2 (Buy) or 3 (Hold) increases the odds of an earnings beat.\n\nAgilent Technologies has a Zacks Rank #4 (Sell) and an Earnings ESP of -0.28% at present. You can uncover the best stocks to buy or sell before they’re reported with our Earnings ESP Filter.\nStocks to Consider\nHere are some stocks worth considering, as our model shows that these have the right combination of elements to beat on earnings this season.\n\nCostco Wholesale COST has an Earnings ESP of +4.26% and a Zacks Rank #2. You can see the complete list of today’s Zacks #1 Rank stocks here.\n\nCostco is set to announce its first-quarter fiscal 2024 results on Dec 14. COST shares have gained 29.6% year to date.\n\nSynopsys SNPS has an Earnings ESP of +0.94% and a Zacks Rank #2.\n\nSynopsys is set to announce its fourth-quarter fiscal 2023 results on Nov 29. SNPS shares have declined 24.9% year to date.\n\nSnowflake SNOW has an Earnings ESP of +67.33% and a Zacks Rank #2.\n\nSnowflake is set to announce its third-quarter fiscal 2024 results on Nov 29. SNOW shares have gained 86% year to date.\n\nStay on top of upcoming earnings announcements with the Zacks Earnings Calendar.\n7 Best Stocks for the Next 30 Days\nJust released: Experts distill 7 elite stocks from the current list of 220 Zacks Rank #1 Strong Buys. They deem these tickers \"Most Likely for Early Price Pops.\"\nSince 1988, the full list has beaten the market more than 2X over with an average gain of +24.0% per year. So be sure to give these hand-picked 7 your immediate attention. \nSee them now >>\nWant the latest recommendations from Zacks Investment Research? Today, you can download 7 Best Stocks for the Next 30 Days. Click to get this free report\nAgilent Technologies, Inc. (A) : Free Stock Analysis Report\nCostco Wholesale Corporation (COST) : Free Stock Analysis Report\nSynopsys, Inc. (SNPS) : Free Stock Analysis Report\nSnowflake Inc. (SNOW) : Free Stock Analysis Report\nTo read this article on Zacks.com click here.\nZacks Investment Research\nThe views and opinions expressed herein are the views and opinions of the author and do not necessarily reflect those of Nasdaq, Inc.",
         "Positive"
        ],
        [
         "20",
         "2023-11-16",
         "Agilent (A) Boosts DGG Offerings With PD-L1 IHC 22C3 Approval",
         "A",
         "Agilent Technologies A is leaving no stone unturned to bolster diagnostic tool offerings in a bid to strengthen its Diagnostics and Genomics Group (DGG) segment.\n\nNotably, Agilent received FDA approval for its PD-L1 IHC 22C3 pharmDx diagnostic tool, which helps in Gastric or Gastroesophageal Junction Adenocarcinoma diagnosis.\n\nFurther, it identifies patients’ eligibility for treatment with KEYTRUDA, an anti-programmed cell death (PD1) therapy, along with chemotherapy, trastuzumab and fluoropyrimidine.\n\nAdditionally, PD-L1 IHC 22C3 pharmDx aids in identifying patients with non-small cell lung, esophageal, cervical, head and neck and triple-negative breast cancer who may be eligible for KEYTRUDA treatment.\n\nWe note that this approval would benefit cancer patients whose tumors express programmed cell death ligand 1 (PD-L1).\nAgilent Technologies, Inc. Price and Consensus\nAgilent Technologies, Inc. price-consensus-chart | Agilent Technologies, Inc. Quote\nGrowth Prospects\nThe latest announcement bodes well for the company’s deepening focus to strengthen its footprint in the PD-1 and PD-L1 inhibitors market. This, in turn, will aid Agilent to solidify its footing in the global cancer diagnostics market.\n\nPer a Mordor Intelligence report, the global PD-1 and PD-L1 inhibitors market is expected to hit $45.8 billion in 2023 and reach $104.6 billion by 2028, witnessing a CAGR of 18% between 2023 and 2028.\n\nA Future Market Insights report indicates that the global cancer diagnostics market will reach $126 billion by 2033, exhibiting a CAGR of 8.5% during the forecast period of 2023-2033.\n\nWe believe the company’s solid prospects in these promising markets are expected to instill investor optimism in the stock.\n\nHowever, it has been suffering from macroeconomic uncertainties, weak momentum in China, rising inflationary pressure and geo-political tensions.\n\nAgilent has lost 24.1% in the year-to-date period, underperforming the industry’s decline of 4.6%.\nExpanding DGG Segment\nApart from the latest move, Agilent released the enhanced xCELLigence RTCA Software Pro Version 2.8, a software package for real-time cell analysis in GMP-regulated facilities, ensuring data authenticity and compliance.\n\nFurther, Agilent launched the Agilent SureSelect Cancer CGP Assay, a pan-cancer assay designed for somatic variant profiling of solid tumor types, utilizing an NGS panel of 679 genes.\n\nWe note that all the above-mentioned endeavors will likely act as a catalyst for its customer base expansion.\n\nNotably, Agilent signed a Research Collaboration Agreement with the National Cancer Centre Singapore to expedite translational cancer research on Asian-prevalent cancer genomics over two years.\n\nFurther, the agreement involves the provision of an Agilent Magnis NGS Preparation System for investigating specific details in Asian cancer cohorts, where tissue samples are limited locally and regionally.\n\nMoreover, Agilent signed a Memorandum of Understanding with Advanced Cell Therapy and Research Institute, Singapore, to install and operate its xCELLigence real-time cell analyzer, aiming to advance cell and gene therapy over the next three years.\n\nAll these endeavors are likely to aid the performance of the DGG segment in the days ahead.\n\nFor third-quarter fiscal 2023, revenues in the underlined segment increased 3% from the prior-year fiscal quarter’s figure on a reported as well as a core basis to $349 million.\n\nOur model estimate for DGG revenues for fiscal 2023 is pegged at $1.41 billion, indicating growth of 1.5% from the 2022 level. The same for fiscal 2024 and fiscal 2025 stands at $1.48 billion and $1.58 billion, suggesting year-over-year growth of 5% and 7%, respectively.\nZacks Rank & Stocks to Consider\nCurrently, Agilent carries a Zacks Rank #4 (Sell).\n\nSome better-ranked stocks in the broader technology sector are Badger Meter BMI, Arista Networks ANET and Salesforce CRM. While Badger Meter sports a Zacks Rank #1 (Strong Buy), Arista Networks and Salesforce carry a Zacks Rank #2 (Buy) each. You can see the complete list of today’s Zacks #1 Rank stocks here.\n\nBadger Meter shares have gained 35.9% in the year-to-date period. BMI’s long-term earnings growth rate is currently projected at 20.39%.\n\nArista Networks shares have gained 71.2% in the year-to-date period. The long-term earnings growth rate for ANET is currently projected at 20.4%\n\nSalesforce shares have gained 65.5% in the year-to-date period. CRM’s long-term earnings growth rate is currently projected at 22.54%.\n7 Best Stocks for the Next 30 Days\nJust released: Experts distill 7 elite stocks from the current list of 220 Zacks Rank #1 Strong Buys. They deem these tickers \"Most Likely for Early Price Pops.\"\nSince 1988, the full list has beaten the market more than 2X over with an average gain of +24.0% per year. So be sure to give these hand-picked 7 your immediate attention. \nSee them now >>\nWant the latest recommendations from Zacks Investment Research? Today, you can download 7 Best Stocks for the Next 30 Days. Click to get this free report\nSalesforce Inc. (CRM) : Free Stock Analysis Report\nBadger Meter, Inc. (BMI) : Free Stock Analysis Report\nAgilent Technologies, Inc. (A) : Free Stock Analysis Report\nArista Networks, Inc. (ANET) : Free Stock Analysis Report\nTo read this article on Zacks.com click here.\nZacks Investment Research\nThe views and opinions expressed herein are the views and opinions of the author and do not necessarily reflect those of Nasdaq, Inc.",
         "Positive"
        ],
        [
         "21",
         "2023-11-14",
         "Agilent Technologies Announces FDA Approval For PD-L1 IHC 22C3 PharmDx - Quick Facts",
         "A",
         "(RTTNews) - Agilent Technologies Inc. (A) has received FDA approval for the use of PD-L1 IHC 22C3 pharmDx as a diagnostic tool to aid in identifying patients with Gastric or Gastroesophageal Junction Adenocarcinoma who may be eligible for treatment with KEYTRUDA, Merck's anti-PD-1 therapy. The company noted that this marks the sixth cancer type for which PD-L1 IHC 22C3 pharmDx has gained FDA approval.\nPD-L1 IHC 22C3 pharmDx was developed by Agilent in partnership with Merck as a companion diagnostic for KEYTRUDA.\nFor More Such Health News, visit rttnews.com.\nThe views and opinions expressed herein are the views and opinions of the author and do not necessarily reflect those of Nasdaq, Inc.",
         "Neutral"
        ],
        [
         "22",
         "2023-11-13",
         "Analysts Estimate Agilent Technologies (A) to Report a Decline in Earnings: What to Look Out for",
         "A",
         "Wall Street expects a year-over-year decline in earnings on lower revenues when Agilent Technologies (A) reports results for the quarter ended October 2023. While this widely-known consensus outlook is important in gauging the company's earnings picture, a powerful factor that could impact its near-term stock price is how the actual results compare to these estimates.\nThe stock might move higher if these key numbers top expectations in the upcoming earnings report, which is expected to be released on November 20. On the other hand, if they miss, the stock may move lower.\nWhile management's discussion of business conditions on theearnings callwill mostly determine the sustainability of the immediate price change and future earnings expectations, it's worth having a handicapping insight into the odds of a positive EPS surprise.\nZacks Consensus Estimate\nThis scientific instrument maker is expected to post quarterly earnings of $1.34 per share in its upcoming report, which represents a year-over-year change of -12.4%.\nRevenues are expected to be $1.67 billion, down 9.7% from the year-ago quarter.\nEstimate Revisions Trend\nThe consensus EPS estimate for the quarter has been revised 0.19% lower over the last 30 days to the current level. This is essentially a reflection of how the covering analysts have collectively reassessed their initial estimates over this period.\nInvestors should keep in mind that an aggregate change may not always reflect the direction of estimate revisions by each of the covering analysts.\nEarnings Whisper\nEstimate revisions ahead of a company's earnings release offer clues to the business conditions for the period whose results are coming out. This insight is at the core of our proprietary surprise prediction model -- the Zacks Earnings ESP (Expected Surprise Prediction).\nThe Zacks Earnings ESP compares the Most Accurate Estimate to the Zacks Consensus Estimate for the quarter; the Most Accurate Estimate is a more recent version of the Zacks Consensus EPS estimate. The idea here is that analysts revising their estimates right before an earnings release have the latest information, which could potentially be more accurate than what they and others contributing to the consensus had predicted earlier.\nThus, a positive or negative Earnings ESP reading theoretically indicates the likely deviation of the actual earnings from the consensus estimate. However, the model's predictive power is significant for positive ESP readings only.\nA positive Earnings ESP is a strong predictor of an earnings beat, particularly when combined with a Zacks Rank #1 (Strong Buy), 2 (Buy) or 3 (Hold). Our research shows that stocks with this combination produce a positive surprise nearly 70% of the time, and a solid Zacks Rank actually increases the predictive power of Earnings ESP.\nPlease note that a negative Earnings ESP reading is not indicative of an earnings miss. Our research shows that it is difficult to predict an earnings beat with any degree of confidence for stocks with negative Earnings ESP readings and/or Zacks Rank of 4 (Sell) or 5 (Strong Sell).\nHow Have the Numbers Shaped Up for Agilent?\nFor Agilent, the Most Accurate Estimate is lower than the Zacks Consensus Estimate, suggesting that analysts have recently become bearish on the company's earnings prospects. This has resulted in an Earnings ESP of -0.53%.\nOn the other hand, the stock currently carries a Zacks Rank of #4.\nSo, this combination makes it difficult to conclusively predict that Agilent will beat the consensus EPS estimate.\nDoes Earnings Surprise History Hold Any Clue?\nWhile calculating estimates for a company's future earnings, analysts often consider to what extent it has been able to match past consensus estimates. So, it's worth taking a look at the surprise history for gauging its influence on the upcoming number.\nFor the last reported quarter, it was expected that Agilent would post earnings of $1.37 per share when it actually produced earnings of $1.43, delivering a surprise of +4.38%.\nOver the last four quarters, the company has beaten consensus EPS estimates three times.\nBottom Line\nAn earnings beat or miss may not be the sole basis for a stock moving higher or lower. Many stocks end up losing ground despite an earnings beat due to other factors that disappoint investors. Similarly, unforeseen catalysts help a number of stocks gain despite an earnings miss.\nThat said, betting on stocks that are expected to beat earnings expectations does increase the odds of success. This is why it's worth checking a company's Earnings ESP and Zacks Rank ahead of its quarterly release. Make sure to utilize our Earnings ESP Filter to uncover the best stocks to buy or sell before they've reported.\nAgilent doesn't appear a compelling earnings-beat candidate. However, investors should pay attention to other factors too for betting on this stock or staying away from it ahead of its earnings release.\nStay on top of upcoming earnings announcements with the Zacks Earnings Calendar.\n4 Oil Stocks with Massive Upsides\nGlobal demand for oil is through the roof... and oil producers are struggling to keep up. So even though oil prices are well off their recent highs, you can expect big profits from the companies that supply the world with \"black gold.\" \nZacks Investment Research has just released an urgent special report to help you bank on this trend. \nIn Oil Market on Fire, you'll discover 4 unexpected oil and gas stocks positioned for big gains in the coming weeks and months. You don't want to miss these recommendations. \nDownload your free report now to see them.\nWant the latest recommendations from Zacks Investment Research? Today, you can download 7 Best Stocks for the Next 30 Days. Click to get this free report\nAgilent Technologies, Inc. (A) : Free Stock Analysis Report\nTo read this article on Zacks.com click here.\nZacks Investment Research\nThe views and opinions expressed herein are the views and opinions of the author and do not necessarily reflect those of Nasdaq, Inc.",
         "Positive"
        ],
        [
         "23",
         "2023-11-08",
         "Agilent Technologies (A) Stock Dips While Market Gains: Key Facts",
         "A",
         "In the latest trading session, Agilent Technologies (A) closed at $109.39, marking a -1.04% move from the previous day. The stock's change was less than the S&P 500's daily gain of 0.1%. At the same time, the Dow lost 0.12%, and the tech-heavy Nasdaq gained 0.08%.\nShares of the scientific instrument maker have depreciated by 2.43% over the course of the past month, underperforming the Computer and Technology sector's gain of 1.55% and the S&P 500's gain of 1.72%.\nMarket participants will be closely following the financial results of Agilent Technologies in its upcoming release. The company plans to announce its earnings on November 20, 2023. The company is expected to report EPS of $1.34, down 12.42% from the prior-year quarter. Alongside, our most recent consensus estimate is anticipating revenue of $1.67 billion, indicating a 9.65% downward movement from the same quarter last year.\nInvestors might also notice recent changes to analyst estimates for Agilent Technologies. Such recent modifications usually signify the changing landscape of near-term business trends. Consequently, upward revisions in estimates express analysts' positivity towards the company's business operations and its ability to generate profits.\nOur research demonstrates that these adjustments in estimates directly associate with imminent stock price performance. To exploit this, we've formed the Zacks Rank, a quantitative model that includes these estimate changes and presents a viable rating system.\nThe Zacks Rank system, stretching from #1 (Strong Buy) to #5 (Strong Sell), has a noteworthy track record of outperforming, validated by third-party audits, with stocks rated #1 producing an average annual return of +25% since the year 1988. Over the past month, the Zacks Consensus EPS estimate has shifted 1.09% downward. At present, Agilent Technologies boasts a Zacks Rank of #4 (Sell).\nInvestors should also note Agilent Technologies's current valuation metrics, including its Forward P/E ratio of 19.55. Its industry sports an average Forward P/E of 23.35, so one might conclude that Agilent Technologies is trading at a discount comparatively.\nMeanwhile, A's PEG ratio is currently 1.96. The PEG ratio is similar to the widely-used P/E ratio, but this metric also takes the company's expected earnings growth rate into account. A's industry had an average PEG ratio of 2.24 as of yesterday's close.\nThe Electronics - Testing Equipment industry is part of the Computer and Technology sector. This industry, currently bearing a Zacks Industry Rank of 95, finds itself in the top 38% echelons of all 250+ industries.\nThe Zacks Industry Rank assesses the strength of our separate industry groups by calculating the average Zacks Rank of the individual stocks contained within the groups. Our research shows that the top 50% rated industries outperform the bottom half by a factor of 2 to 1.\nKeep in mind to rely on Zacks.com to watch all these stock-impacting metrics, and more, in the succeeding trading sessions.\n5 Stocks Set to Double\nEach was handpicked by a Zacks expert as the #1 favorite stock to gain +100% or more in 2023. Previous recommendations have soared +143.0%, +175.9%, +498.3% and +673.0%.\nMost of the stocks in this report are flying under Wall Street radar, which provides a great opportunity to get in on the ground floor.\nToday, See These 5 Potential Home Runs >>\nWant the latest recommendations from Zacks Investment Research? Today, you can download 7 Best Stocks for the Next 30 Days. Click to get this free report\nAgilent Technologies, Inc. (A) : Free Stock Analysis Report\nTo read this article on Zacks.com click here.\nZacks Investment Research\nThe views and opinions expressed herein are the views and opinions of the author and do not necessarily reflect those of Nasdaq, Inc.",
         "Neutral"
        ],
        [
         "24",
         "2023-11-07",
         "A Quantitative Stock Analysis",
         "A",
         "Below is Validea's guru fundamental report for AGILENT TECHNOLOGIES INC (A). Of the 22 guru strategies we follow, A rates highest using our P/B Growth Investor model based on the published strategy of Partha Mohanram. This growth model looks for low book-to-market stocks that exhibit characteristics associated with sustained future growth.\nAGILENT TECHNOLOGIES INC (A) is a large-cap growth stock in the Scientific & Technical Instr. industry. The rating using this strategy is 77% based on the firm’s underlying fundamentals and the stock’s valuation. A score of 80% or above typically indicates that the strategy has some interest in the stock and a score above 90% typically indicates strong interest.\nThe following table summarizes whether the stock meets each of this strategy's tests. Not all criteria in the below table receive equal weighting or are independent, but the table provides a brief overview of the strong and weak points of the security in the context of the strategy's criteria.\nBOOK/MARKET RATIO: PASS\nRETURN ON ASSETS: PASS\nCASH FLOW FROM OPERATIONS TO ASSETS: PASS\nCASH FLOW FROM OPERATIONS TO ASSETS VS. RETURN ON ASSETS: PASS\nRETURN ON ASSETS VARIANCE: PASS\nSALES VARIANCE: PASS\nADVERTISING TO ASSETS: FAIL\nCAPITAL EXPENDITURES TO ASSETS: PASS\nRESEARCH AND DEVELOPMENT TO ASSETS: FAIL\nDetailed Analysis of AGILENT TECHNOLOGIES INC\nA Guru Analysis\nA Fundamental Analysis\nMore Information on Partha Mohanram\nPartha Mohanram Portfolio\nAbout Partha Mohanram: Sometimes the best investing strategies don't come from the world of investing. Sometimes research that changes the investing world can come from the halls of academia. Partha Mohanram is a great example of this. While academic research has shown that value investing works over time, it has found the opposite for growth investing. Mohanram turned that research on its head by developing a growth model that produced significant market outperformance. His research paper \"Separating Winners from Losers among Low Book-to-Market Stocks using Financial Statement Analysis\" looked at the criteria that can be used to separate growth stocks that continue their upward trajectory from those that don't. Mohanram is currently the John H. Watson Chair in Value Investing at the University of Toronto and was previously an Associate Professor at the Columbia Business School.\nAdditional Research Links\nTop NASDAQ 100 Stocks\nTop Technology Stocks\nTop Large-Cap Growth Stocks\nHigh Momentum Stocks\nHigh Insider Ownership Stocks\nAbout Validea: Validea is aninvestment researchservice that follows the published strategies of investment legends. Validea offers both stock analysis and model portfolios based on gurus who have outperformed the market over the long-term, including Warren Buffett, Benjamin Graham, Peter Lynch and Martin Zweig. For more information about Validea, click here\nThe views and opinions expressed herein are the views and opinions of the author and do not necessarily reflect those of Nasdaq, Inc.",
         "Negative"
        ],
        [
         "25",
         "2023-11-01",
         "Agilent Technologies (A) Stock Dips While Market Gains: Key Facts",
         "A",
         "Agilent Technologies (A) closed at $102.86 in the latest trading session, marking a -0.49% move from the prior day. This change lagged the S&P 500's 1.05% gain on the day. On the other hand, the Dow registered a gain of 0.67%, and the technology-centric Nasdaq increased by 1.64%.\nShares of the scientific instrument maker have depreciated by 6.25% over the course of the past month, underperforming the Computer and Technology sector's loss of 2.51% and the S&P 500's loss of 2.21%.\nAnalysts and investors alike will be keeping a close eye on the performance of Agilent Technologies in its upcoming earnings disclosure. The company's earnings report is set to go public on November 20, 2023. The company is expected to report EPS of $1.37, down 10.46% from the prior-year quarter. At the same time, our most recent consensus estimate is projecting a revenue of $1.67 billion, reflecting a 9.65% fall from the equivalent quarter last year.\nInvestors should also note any recent changes to analyst estimates for Agilent Technologies. Recent revisions tend to reflect the latest near-term business trends. As such, positive estimate revisions reflect analyst optimism about the company's business and profitability.\nOur research shows that these estimate changes are directly correlated with near-term stock prices. To take advantage of this, we've established the Zacks Rank, an exclusive model that considers these estimated changes and delivers an operational rating system.\nThe Zacks Rank system ranges from #1 (Strong Buy) to #5 (Strong Sell). It has a remarkable, outside-audited track record of success, with #1 stocks delivering an average annual return of +25% since 1988. Within the past 30 days, our consensus EPS projection has moved 0.05% lower. At present, Agilent Technologies boasts a Zacks Rank of #4 (Sell).\nInvestors should also note Agilent Technologies's current valuation metrics, including its Forward P/E ratio of 19.1. This indicates a discount in contrast to its industry's Forward P/E of 24.31.\nIt's also important to note that A currently trades at a PEG ratio of 1.91. The PEG ratio bears resemblance to the frequently used P/E ratio, but this parameter also includes the company's expected earnings growth trajectory. By the end of yesterday's trading, the Electronics - Testing Equipment industry had an average PEG ratio of 2.45.\nThe Electronics - Testing Equipment industry is part of the Computer and Technology sector. This industry, currently bearing a Zacks Industry Rank of 34, finds itself in the top 14% echelons of all 250+ industries.\nThe Zacks Industry Rank evaluates the power of our distinct industry groups by determining the average Zacks Rank of the individual stocks forming the groups. Our research shows that the top 50% rated industries outperform the bottom half by a factor of 2 to 1.\nBe sure to follow all of these stock-moving metrics, and many more, on Zacks.com.\n7 Best Stocks for the Next 30 Days\nJust released: Experts distill 7 elite stocks from the current list of 220 Zacks Rank #1 Strong Buys. They deem these tickers \"Most Likely for Early Price Pops.\"\nSince 1988, the full list has beaten the market more than 2X over with an average gain of +24.3% per year. So be sure to give these hand-picked 7 your immediate attention. \nSee them now >>\nWant the latest recommendations from Zacks Investment Research? Today, you can download 7 Best Stocks for the Next 30 Days. Click to get this free report\nAgilent Technologies, Inc. (A) : Free Stock Analysis Report\nTo read this article on Zacks.com click here.\nZacks Investment Research\nThe views and opinions expressed herein are the views and opinions of the author and do not necessarily reflect those of Nasdaq, Inc.",
         "Positive"
        ],
        [
         "26",
         "2023-10-31",
         "Ametek (AME) Q3 Earnings Surpass Estimates",
         "A",
         "Ametek (AME) came out with quarterly earnings of $1.64 per share, beating the Zacks Consensus Estimate of $1.58 per share. This compares to earnings of $1.45 per share a year ago. These figures are adjusted for non-recurring items.\nThis quarterly report represents an earnings surprise of 3.80%. A quarter ago, it was expected that this maker of electronic instruments and electromechanical devices would post earnings of $1.52 per share when it actually produced earnings of $1.57, delivering a surprise of 3.29%.\nOver the last four quarters, the company has surpassed consensus EPS estimates four times.\nAmetek, which belongs to the Zacks Electronics - Testing Equipment industry, posted revenues of $1.62 billion for the quarter ended September 2023, missing the Zacks Consensus Estimate by 1.55%. This compares to year-ago revenues of $1.55 billion. The company has topped consensus revenue estimates three times over the last four quarters.\nThe sustainability of the stock's immediate price movement based on the recently-released numbers and future earnings expectations will mostly depend on management's commentary on the earnings call.\nAmetek shares have added about 0.3% since the beginning of the year versus the S&P 500's gain of 8.5%.\nWhat's Next for Ametek?\nWhile Ametek has underperformed the market so far this year, the question that comes to investors' minds is: what's next for the stock?\nThere are no easy answers to this key question, but one reliable measure that can help investors address this is the company's earnings outlook. Not only does this include current consensus earnings expectations for the coming quarter(s), but also how these expectations have changed lately.\nEmpirical research shows a strong correlation between near-term stock movements and trends in earnings estimate revisions. Investors can track such revisions by themselves or rely on a tried-and-tested rating tool like the Zacks Rank, which has an impressive track record of harnessing the power of earnings estimate revisions.\nAhead of this earnings release, the estimate revisions trend for Ametek: favorable. While the magnitude and direction of estimate revisions could change following the company's just-released earnings report, the current status translates into a Zacks Rank #2 (Buy) for the stock. So, the shares are expected to outperform the market in the near future. You can see the complete list of today's Zacks #1 Rank (Strong Buy) stocks here.\nIt will be interesting to see how estimates for the coming quarters and current fiscal year change in the days ahead. The current consensus EPS estimate is $1.62 on $1.72 billion in revenues for the coming quarter and $6.26 on $6.61 billion in revenues for the current fiscal year.\nInvestors should be mindful of the fact that the outlook for the industry can have a material impact on the performance of the stock as well. In terms of the Zacks Industry Rank, Electronics - Testing Equipment is currently in the top 26% of the 250 plus Zacks industries. Our research shows that the top 50% of the Zacks-ranked industries outperform the bottom 50% by a factor of more than 2 to 1.\nAnother stock from the same industry, Agilent Technologies (A), has yet to report results for the quarter ended October 2023. The results are expected to be released on November 20.\nThis scientific instrument maker is expected to post quarterly earnings of $1.34 per share in its upcoming report, which represents a year-over-year change of -12.4%. The consensus EPS estimate for the quarter has been revised 0.3% lower over the last 30 days to the current level.\nAgilent Technologies' revenues are expected to be $1.67 billion, down 9.7% from the year-ago quarter.\n5 Stocks Set to Double\nEach was handpicked by a Zacks expert as the #1 favorite stock to gain +100% or more in 2023. Previous recommendations have soared +143.0%, +175.9%, +498.3% and +673.0%.\nMost of the stocks in this report are flying under Wall Street radar, which provides a great opportunity to get in on the ground floor.\nToday, See These 5 Potential Home Runs >>\nWant the latest recommendations from Zacks Investment Research? Today, you can download 7 Best Stocks for the Next 30 Days. Click to get this free report\nAMETEK, Inc. (AME) : Free Stock Analysis Report\nAgilent Technologies, Inc. (A) : Free Stock Analysis Report\nTo read this article on Zacks.com click here.\nZacks Investment Research\nThe views and opinions expressed herein are the views and opinions of the author and do not necessarily reflect those of Nasdaq, Inc.",
         "Positive"
        ],
        [
         "27",
         "2023-10-30",
         "Oversold Conditions For Agilent Technologies (A)",
         "A",
         "Legendary investor Warren Buffett advises to be fearful when others are greedy, and be greedy when others are fearful. One way we can try to measure the level of fear in a given stock is through a technical analysis indicator called the Relative Strength Index, or RSI, which measures momentum on a scale of zero to 100. A stock is considered to be oversold if the RSI reading falls below 30.\nIn trading on Monday, shares of Agilent Technologies, Inc. (Symbol: A) entered into oversold territory, hitting an RSI reading of 25.5, after changing hands as low as $96.80 per share. By comparison, the current RSI reading of the S&P 500 ETF (SPY) is 30.8. A bullish investor could look at A's 25.5 RSI reading today as a sign that the recent heavy selling is in the process of exhausting itself, and begin to look for entry point opportunities on the buy side. The chart below shows the one year performance of A shares:\nLooking at the chart above, A's low point in its 52 week range is $96.80 per share, with $160.265 as the 52 week high point — that compares with a last trade of $98.86.\nFind out what 9 other oversold stocks you need to know about »\nAlso see:\n Cheap Materials Shares\n SI Stock Predictions\n TPL Stock Predictions\nThe views and opinions expressed herein are the views and opinions of the author and do not necessarily reflect those of Nasdaq, Inc.",
         "Positive"
        ],
        [
         "28",
         "2023-10-24",
         "A Quantitative Stock Analysis",
         "A",
         "Below is Validea's guru fundamental report for AGILENT TECHNOLOGIES INC (A). Of the 22 guru strategies we follow, A rates highest using our P/B Growth Investor model based on the published strategy of Partha Mohanram. This growth model looks for low book-to-market stocks that exhibit characteristics associated with sustained future growth.\nAGILENT TECHNOLOGIES INC (A) is a large-cap growth stock in the Scientific & Technical Instr. industry. The rating using this strategy is 77% based on the firm’s underlying fundamentals and the stock’s valuation. A score of 80% or above typically indicates that the strategy has some interest in the stock and a score above 90% typically indicates strong interest.\nThe following table summarizes whether the stock meets each of this strategy's tests. Not all criteria in the below table receive equal weighting or are independent, but the table provides a brief overview of the strong and weak points of the security in the context of the strategy's criteria.\nBOOK/MARKET RATIO: PASS\nRETURN ON ASSETS: PASS\nCASH FLOW FROM OPERATIONS TO ASSETS: PASS\nCASH FLOW FROM OPERATIONS TO ASSETS VS. RETURN ON ASSETS: PASS\nRETURN ON ASSETS VARIANCE: PASS\nSALES VARIANCE: PASS\nADVERTISING TO ASSETS: FAIL\nCAPITAL EXPENDITURES TO ASSETS: PASS\nRESEARCH AND DEVELOPMENT TO ASSETS: FAIL\nDetailed Analysis of AGILENT TECHNOLOGIES INC\nA Guru Analysis\nA Fundamental Analysis\nMore Information on Partha Mohanram\nPartha Mohanram Portfolio\nAbout Partha Mohanram: Sometimes the best investing strategies don't come from the world of investing. Sometimes research that changes the investing world can come from the halls of academia. Partha Mohanram is a great example of this. While academic research has shown that value investing works over time, it has found the opposite for growth investing. Mohanram turned that research on its head by developing a growth model that produced significant market outperformance. His research paper \"Separating Winners from Losers among Low Book-to-Market Stocks using Financial Statement Analysis\" looked at the criteria that can be used to separate growth stocks that continue their upward trajectory from those that don't. Mohanram is currently the John H. Watson Chair in Value Investing at the University of Toronto and was previously an Associate Professor at the Columbia Business School.\nAdditional Research Links\nTop NASDAQ 100 Stocks\nTop Technology Stocks\nTop Large-Cap Growth Stocks\nHigh Momentum Stocks\nHigh Insider Ownership Stocks\nAbout Validea: Validea is aninvestment researchservice that follows the published strategies of investment legends. Validea offers both stock analysis and model portfolios based on gurus who have outperformed the market over the long-term, including Warren Buffett, Benjamin Graham, Peter Lynch and Martin Zweig. For more information about Validea, click here\nThe views and opinions expressed herein are the views and opinions of the author and do not necessarily reflect those of Nasdaq, Inc.",
         "Negative"
        ],
        [
         "29",
         "2023-10-24",
         "Danaher beats profit estimates on respiratory testing demand",
         "A",
         "Oct 24 (Reuters) - Danaher DHR.N on Tuesday beat Wall Street estimates for third-quarter profit as strong demand for its diagnostic tests for respiratory diseases helped soften the blow from weaker sales at the healthcare conglomerate's life-sciences unit.\nThe diagnostics unit, which makes kits, also used for COVID-19 testing, as well as reagents and other tools, reported sales of $2.25 billion, beating the average analyst estimate of $2.12 billion, according to LSEG data.\nHowever, the life sciences unit, which provides reagents and lab equipment used in the discovery of new drugs and vaccines, posted sales of $1.71 billion, missing estimates of $1.78 billion.\n\"Revenue in the third quarter came in ahead of our expectations, with Biotechnology performing as anticipated, and higher respiratory testing revenue more than offsetting slightly softer-than-anticipated demand in Life Sciences,\" Danaher CEO Rainer Blair said in a statement.\nShares of the Washington D.C.-based company rose 1.2% to $206.50 before the bell.\nDanaher now expects a slight decline in adjusted core sales for the year, compared with its previous expectation of a low single-digit rise.\nLife sciences companies such as Danaher, Agilent A.N and Thermo Fisher TMO.N cut their annual profit forecasts earlier this year as some clients slashed their budgets for biopharma services due to a funding crunch.\nRising interest rates squeezed funding needed for drug development programs, weighing on demand for contract research services offered by Danaher and rival Thermo Fisher.\nDanaher's forecast excludes the impact of the spinoff of its Environmental & Applied Solutions unit, Veralto VLTO.N, which began trading on Oct. 2.\nOn an adjusted basis, Danaher reported a profit per share of $2.02, beating analysts' expectations of $1.87.\nThird-quarter sales of $6.87 billion also topped estimates of $6.63 billion.\n(Reporting by Christy Santhosh; Editing by Krishna Chandra Eluri and Sriraj Kalluvila)\n((Christy.Santhosh@thomsonreuters.com;))\nThe views and opinions expressed herein are the views and opinions of the author and do not necessarily reflect those of Nasdaq, Inc.",
         "Negative"
        ],
        [
         "30",
         "2023-10-19",
         "December 15th Options Now Available For Agilent Technologies (A)",
         "A",
         "Investors in Agilent Technologies, Inc. (Symbol: A) saw new options become available today, for the December 15th expiration. At Stock Options Channel, our YieldBoost formula has looked up and down the A options chain for the new December 15th contracts and identified one put and one call contract of particular interest.\nThe put contract at the $105.00 strike price has a current bid of $2.75. If an investor was to sell-to-open that put contract, they are committing to purchase the stock at $105.00, but will also collect the premium, putting the cost basis of the shares at $102.25 (before broker commissions). To an investor already interested in purchasing shares of A, that could represent an attractive alternative to paying $109.28/share today.\nBecause the $105.00 strike represents an approximate 4% discount to the current trading price of the stock (in other words it is out-of-the-money by that percentage), there is also the possibility that the put contract would expire worthless. The current analytical data (including greeks and implied greeks) suggest the current odds of that happening are 99%. Stock Options Channel will track those odds over time to see how they change, publishing a chart of those numbers on our website under the contract detail page for this contract. Should the contract expire worthless, the premium would represent a 2.62% return on the cash commitment, or 16.76% annualized — at Stock Options Channel we call this the YieldBoost.\nBelow is a chart showing the trailing twelve month trading history for Agilent Technologies, Inc., and highlighting in green where the $105.00 strike is located relative to that history:\nTurning to the calls side of the option chain, the call contract at the $110.00 strike price has a current bid of $4.50. If an investor was to purchase shares of A stock at the current price level of $109.28/share, and then sell-to-open that call contract as a \"covered call,\" they are committing to sell the stock at $110.00. Considering the call seller will also collect the premium, that would drive a total return (excluding dividends, if any) of 4.78% if the stock gets called away at the December 15th expiration (before broker commissions). Of course, a lot of upside could potentially be left on the table if A shares really soar, which is why looking at the trailing twelve month trading history for Agilent Technologies, Inc., as well as studying the business fundamentals becomes important. Below is a chart showing A's trailing twelve month trading history, with the $110.00 strike highlighted in red:\nConsidering the fact that the $110.00 strike represents an approximate 1% premium to the current trading price of the stock (in other words it is out-of-the-money by that percentage), there is also the possibility that the covered call contract would expire worthless, in which case the investor would keep both their shares of stock and the premium collected. The current analytical data (including greeks and implied greeks) suggest the current odds of that happening are 99%. On our website under the contract detail page for this contract, Stock Options Channel will track those odds over time to see how they change and publish a chart of those numbers (the trading history of the option contract will also be charted). Should the covered call contract expire worthless, the premium would represent a 4.12% boost of extra return to the investor, or 26.35% annualized, which we refer to as the YieldBoost.\nMeanwhile, we calculate the actual trailing twelve month volatility (considering the last 251 trading day closing values as well as today's price of $109.28) to be 27%. For more put and call options contract ideas worth looking at, visit StockOptionsChannel.com.\nTop YieldBoost Calls of Stocks Analysts Like »\nAlso see:\n GIC Options Chain\n Institutional Holders of CING\n PACW Insider Buying\nThe views and opinions expressed herein are the views and opinions of the author and do not necessarily reflect those of Nasdaq, Inc.",
         "Negative"
        ],
        [
         "31",
         "2023-10-17",
         "Carl Icahn sues Illumina board for violating 'fiduciary duties'",
         "A",
         "Changes source in headline, recasts paragraph 1, adds background in paragraphs 4-6\nOct 17 (Reuters) - Activist-investor Carl Icahn sued the board of directors at genetic testing company Illumina ILMN.O and accused them of breaching their fiduciary duties, according to a sealed copy of the complaint on Tuesday.\nThe publicly available version of the complaint did not contain further details, but Icahn told the 13D investor conference in New York on Tuesday that the lawsuit pertained to Illumina completing its acquisition of cancer detection test maker Grail.\nIllumina said it is reviewing the complaint, while Icahn and Grail did not immediately respond to Reuters requests for a comment.\nThe gene-sequencing machine maker had repurchased Grail in 2021 despite opposition from U.S. and European antitrust regulators - a decision that prompted Icahn to pursue a proxy fight at Illumina, arguing Grail should be divested as it had cost investors billions of dollars.\nLast week, Illumina said it would divest cancer test maker Grail in 12 months according to the terms of the European Commission's order, if the life sciences company does not win its challenge in court.\n(Reporting by Mrinmay Dey and Shivani Tanna in Bengaluru; Editing by Sherry Jacob-Phillips)\n((Mrinmay.Dey@thomsonreuters.com;))\nThe views and opinions expressed herein are the views and opinions of the author and do not necessarily reflect those of Nasdaq, Inc.",
         "Negative"
        ],
        [
         "32",
         "2023-10-10",
         "Agilent (A) Bolsters NTD Research With SIDC Partnership",
         "A",
         "Agilent Technologies A signed a Memorandum of Understanding with the Sarawak Infectious Disease Centre (SIDC) to provide its 6475 triple quadrupole LC/MS system for neglected tropical diseases (NTD) research.\n\nNotably, Agilent's 6475 LC/MS, which utilizes iFunnel technologies, will aid SIDC's research on tropical medicines and infectious diseases, enabling rapid outbreak response through extensive research and diagnostic capabilities.\n\nFurther, the 6475 LC/MS system enhances signal response and optimizes research outcomes through technology and knowledge transfer, capacity building, research programs and human capital development.\n\nSIDC plans to use Agilent's capabilities as it prepares for facility completion by December 2025.\n\nWe note that the latest move has expanded the customer base of Agilent’s liquid chromatography mass spectrometry (LC/MS) systems. This, in turn, will strengthen Agilent’s Life Sciences & Applied Markets Group (LSAG) segment.\n\nMoreover, the deal will also strengthen Agilent’s footprint in Asian markets.\nAgilent Technologies, Inc. Price and Consensus\nAgilent Technologies, Inc. price-consensus-chart | Agilent Technologies, Inc. Quote\nGrowth Prospects\nWe believe that the latest move will strengthen the company’s footing in the global neglected tropical diseases diagnosis market.\n\nPer an MMR research report, the global NTD diagnosis market size is expected to reach $8.97 billion by 2029, exhibiting a CAGR of 4.5% between 2022 and 2029.\n\nA Grand View Research report predicts the global NTD diagnosis market size to witness a CAGR of 4.5% during the forecast period of 2023-2030.\n\nWe believe the company’s solid prospects in the promising NTD diagnosis market are expected to instill investor optimism in the stock.\n\nHowever, it has been suffering from macroeconomic uncertainties, weak momentum in China, rising inflationary pressure and geo-political tensions.\n\nAgilent has lost 25.6% in the year-to-date period, underperforming the industry’s growth of 0.8%.\nLSAG Segment in Focus\nThe latest move is in sync with the company’s growing efforts toward bolstering its LSAG segment.\n\nApart from the latest move, Agilent Technologies showcased its expanded InfinityLab GPC/SEC Solution at the HPLC Conference 2023 in Düsseldorf. The solution includes a dedicated column thermostat, multi-angle light scattering detector, GPC/SEC-Ready Kit, and WinGPC Software for advanced material characterization.\n\nAdditionally, Agilent's 1260 Infinity II Hybrid Multisampler, 1290 Infinity II Bio Online Sample Manager and Revident Quadrupole Time-of-Flight LC/MS System were also displayed at the HPLC 2023 conference.\n\nFurther, Agilent Technologies introduced new liquid chromatography mass spectrometry systems, Agilent 6495D LC/TQ and Revident LC/Q-TOF, along with new software for profiling and library management, ensuring high analytical sensitivity and efficiency for fast, high-quality data and early maintenance feedback for optimal performance.\n\nAlso, Agilent launched the Agilent 8697 Headspace Sampler -XL Tray, offering 120 vial capacity and enhanced instrument intelligence features for increased uptime and operator ease of use compared to its predecessor.\n\nAll these endeavors are likely to aid the performance of the LSAG segment in the days ahead.\n\nHowever, the sluggish pharma market continues to remain a concern.\n\nOur model estimate for LSAG revenues for fiscal 2023 is pegged at $3.85 billion, indicating a decline of 3.9% from the fiscal 2022 level.\nZacks Rank & Stocks to Consider\nCurrently, Agilent carries a Zacks Rank #5 (Strong Sell).\n\nSome better-ranked stocks in the broader technology sector are Asure Software ASUR, Applied Materials AMAT and Arista Networks ANET. While Asure Software and Applied Materials sport a Zacks Rank #1 (Strong Buy) each, Arista Networks carries a Zacks Rank #2 (Buy). You can see the complete list of today’s Zacks #1 Rank stocks here.\n\nAsure Software shares have lost 2% in the year-to-date period. ASUR’s long-term earnings growth rate is currently projected at 27%.\n\nApplied Materials shares have gained 43.9% in the year-to-date period. AMAT’s long-term earnings growth rate is currently projected at 6.10%.\n\nArista Networks shares have gained 61.8% in the year-to-date period. The long-term earnings growth rate for ANET is currently projected at 18.75%\nWant the latest recommendations from Zacks Investment Research? Today, you can download 7 Best Stocks for the Next 30 Days. Click to get this free report\nAgilent Technologies, Inc. (A) : Free Stock Analysis Report\nApplied Materials, Inc. (AMAT) : Free Stock Analysis Report\nAsure Software Inc (ASUR) : Free Stock Analysis Report\nArista Networks, Inc. (ANET) : Free Stock Analysis Report\nTo read this article on Zacks.com click here.\nZacks Investment Research\nThe views and opinions expressed herein are the views and opinions of the author and do not necessarily reflect those of Nasdaq, Inc.",
         "Negative"
        ],
        [
         "33",
         "2023-10-05",
         "Q4 Stock Predictions: 3 S&P 500 Stocks Ready to Soar",
         "A",
         "InvestorPlace - Stock Market News, Stock Advice & Trading Tips\nStocks ended the third quarter on a sour note. The Federal Reserve’s aggressive posture against inflation combined with soaring interest rates have investors taking defensive measures.\nBut it’s not time to give up on the stock market. In fact, thanks to the recent selling, bargains are springing up across many S&P 500 stocks.\nLet’s examine three that will benefit from current market conditions and rally heading into 2024.\nWells Fargo (WFC)\nSource: Ken Wolter / Shutterstock.com\nWells Fargo (NYSE:WFC) is one of the big banks that is thriving amid the industry’s correction. That’s because Wells Fargo did not aggressively expand its balance sheet or buy overvalued securities over the past few years.\nTrue, investors have shunned nearly all financials stocks this year amid unprecedented volatility in the interest rate markets. Banks that were positioned poorly, like First Republic and Silicon Valley, ended up going bust. And others are suffering from falling profitability and strained balance sheets at the present time.\nMeanwhile, Wells Fargo has positioned its balance sheet to earn far more profits as interest rates rise. And those rates are normally beneficial to the banking sector as a whole. For firms like Wells Fargo that managed their risks and exposures properly, that remains true in 2023.\nSpecifically, Wells Fargo’s net interest margin (NIM), the spread between its loan interest and deposit payments, has soared from 2.2% in Q2 of last year to 3.1% today. With a near 50% jump in core profitability on its loan book, it’s no wonder that Wells Fargo is reporting rising earnings. WFC stock hasn’t yet snapped out of the industrywide doldrums. As a result, shares go for just eight times forward earnings today.\nCharles River Laboratories (CRL)\nSource: IgorGolovniov / Shutterstock.com\nCharles River Laboratories (NYSE:CRL) is a leading healthcare company focused on providing lab tools and services related to pharmaceutical drug development.\nHistorically, it’s been the dominant player in animal models. Specifically, Charles River procures, breeds, and distributes lab rats, mice, rabbits, and non-human primates. The last one got Charles River in trouble, as the company was implicated in an investigation into alleged macaque smuggling in Cambodia. However, as of last quarter, Charles River has been able to resolve its sourcing issues around non-human primates.\nMore broadly, CRL stock has slumped amid the slowdown in the biotech industry. With smaller biotech companies struggling to obtain funding, Charles River is experiencing less trials and revenue-generating business. Yet, it’s only a matter of time until biotech funding rises again, given the priority to find cures for rare diseases.\nCRL will inevitably be part of those future cures. In fact, the company was involved in developing more than 80% of all drugs that received FDA approval since 2020. In effect, Charles River is a tax on the entire biotech industry, with their consistent postings of compounded earnings per share growth rate in the teens since the turn of the century.\nThanks to the recent scandal and biotech industry’s slump, CRL shares are now on sale at an unusually low 18 times forward earnings.\nKeysight Technologies (KEYS)\nSource: Funtap / Shutterstock.com\nKeysight Technologies (NYSE:KEYS) is a company that provides testing, product quality, and design solutions to technology companies. The firm has an interesting history.\nKeysight sprung up originally as Hewlett-Packard‘s Test & Measurement division more than half a century ago, and was ultimately spun off from Agilent (NYSE:A) into its own publicly-traded entity in 2014.\nKEYS stock has been incredibly successful over the past decade. Since 2014, shares jumped from $30 to a peak of more than $200. However, Keysight has fallen amid a slowdown in telecom and information technology spending over the past year. That  has led KEYS stock to slide back to around $130 today.\nThe weakness makes sense, as Keysight is heavily involved in quality control and testing for telecom companies. With 5G rollouts seeing an underwhelming debut as compared to expectations, that has cast a shadow on industry vendors. Other Keysight segments such as services for edge computing and RFID functions have slipped as demand levels off following an unusually robust 2021 and 2022.\nIndeed, the market is blowing the situation way out of proportion. KEYS stock is down to 16 times forward earnings, which is quite the discount for a tech company that has reliably posted double-digit earnings growth. It’s only a matter of time until telecom spending picks back up given the ever-growing demand for mobile data.\nAlso, Keysight is active in emerging growth fields such as AI and next-generation semiconductors. Investors should take advantage of the current dip in KEYS stock.\nOn the date of publication, Ian Bezek held a long position in KEYS, CRL, and WFC stock. The opinions expressed in this article are those of the writer, subject to the InvestorPlace.com Publishing Guidelines.\nIan Bezek has written more than 1,000 articles for InvestorPlace.com and Seeking Alpha. He also worked as a Junior Analyst for Kerrisdale Capital, a $300 million New York City-based hedge fund. You can reach him on Twitter at @irbezek.\nMore From InvestorPlace\nMusk’s “Project Omega” May Be Set to Mint New Millionaires. Here’s How to Get In.\nChatGPT IPO Could Shock the World, Make This Move Before the Announcement\nThe Rich Use This Income Secret (NOT Dividends) Far More Than Regular Investors\nThe post Q4 Stock Predictions: 3 S&P 500 Stocks Ready to Soar appeared first on InvestorPlace.\nThe views and opinions expressed herein are the views and opinions of the author and do not necessarily reflect those of Nasdaq, Inc.",
         "Positive"
        ],
        [
         "34",
         "2023-09-29",
         "Barclays Maintains Agilent Technologies (A) Underweight Recommendation",
         "A",
         "Fintel reports that on September 29, 2023, Barclays maintained coverage of Agilent Technologies (NYSE:A) with a Underweight recommendation.\nAnalyst Price Forecast Suggests 26.87% Upside\nAs of August 31, 2023, the average one-year price target for Agilent Technologies is 142.10. The forecasts range from a low of 111.10 to a high of $171.15. The average price target represents an increase of 26.87% from its latest reported closing price of 112.00.\nSee our leaderboard of companies with the largest price target upside.\nThe projected annual revenue for Agilent Technologies is 7,130MM, an increase of 1.94%. The projected annual non-GAAP EPS is 5.77.\nWhat is the Fund Sentiment?\nThere are 1926 funds or institutions reporting positions in Agilent Technologies. This is a decrease of 104 owner(s) or 5.12% in the last quarter. Average portfolio weight of all funds dedicated to A is 0.31%, a decrease of 19.13%. Total shares owned by institutions decreased in the last three months by 1.89% to 296,536K shares.\nThe put/call ratio of A is 0.70, indicating a bullish outlook.\nWhat are Other Shareholders Doing?\nMassachusetts Financial Services holds 11,037K shares representing 3.77% ownership of the company. In it's prior filing, the firm reported owning 8,907K shares, representing an increase of 19.30%. The firm increased its portfolio allocation in A by 3.73% over the last quarter.\nT. Rowe Price Investment Management holds 9,968K shares representing 3.41% ownership of the company. In it's prior filing, the firm reported owning 9,277K shares, representing an increase of 6.93%. The firm decreased its portfolio allocation in A by 11.26% over the last quarter.\nVTSMX - Vanguard Total Stock Market Index Fund Investor Shares holds 9,177K shares representing 3.14% ownership of the company. In it's prior filing, the firm reported owning 9,160K shares, representing an increase of 0.18%. The firm decreased its portfolio allocation in A by 19.66% over the last quarter.\nWellington Management Group Llp holds 8,736K shares representing 2.99% ownership of the company. In it's prior filing, the firm reported owning 12,057K shares, representing a decrease of 38.01%. The firm decreased its portfolio allocation in A by 39.89% over the last quarter.\nPrice T Rowe Associates holds 8,054K shares representing 2.75% ownership of the company. In it's prior filing, the firm reported owning 8,219K shares, representing a decrease of 2.05%. The firm increased its portfolio allocation in A by 78.88% over the last quarter.\nAgilent Technologies Background Information\n(This description is provided by the company.)\nAgilent Technologies Inc. is a global leader in life sciences, diagnostics, and applied chemical markets, delivering insight and innovation toward improving the quality of life. Agilent instruments, software, services, solutions, and people provide trusted answers to customers' most challenging questions. The company generated revenue of $5.34 billion in fiscal year 2020 and employs 16,400 people worldwide.\nFintel is one of the most comprehensive investing research platforms available to individual investors, traders, financial advisors, and small hedge funds.\nOur data covers the world, and includes fundamentals, analyst reports, ownership data and fund sentiment, options sentiment, insider trading, options flow, unusual options trades, and much more. Additionally, our exclusive stock picks are powered by advanced, backtested quantitative models for improved profits.\nClick to Learn More\nThis story originally appeared on Fintel.\nThe views and opinions expressed herein are the views and opinions of the author and do not necessarily reflect those of Nasdaq, Inc.",
         "Neutral"
        ],
        [
         "35",
         "2023-09-28",
         "Ex-Dividend Reminder: Upbound Group, Cardinal Health and Agilent Technologies",
         "A",
         "Looking at the universe of stocks we cover at Dividend Channel, on 10/2/23, Upbound Group Inc (Symbol: UPBD), Cardinal Health, Inc. (Symbol: CAH), and Agilent Technologies, Inc. (Symbol: A) will all trade ex-dividend for their respective upcoming dividends. Upbound Group Inc will pay its quarterly dividend of $0.34 on 10/24/23, Cardinal Health, Inc. will pay its quarterly dividend of $0.5006 on 10/15/23, and Agilent Technologies, Inc. will pay its quarterly dividend of $0.225 on 10/25/23. As a percentage of UPBD's recent stock price of $29.70, this dividend works out to approximately 1.14%, so look for shares of Upbound Group Inc to trade 1.14% lower — all else being equal — when UPBD shares open for trading on 10/2/23. Similarly, investors should look for CAH to open 0.57% lower in price and for A to open 0.20% lower, all else being equal.\nBelow are dividend history charts for UPBD, CAH, and A, showing historical dividends prior to the most recent ones declared.\nUpbound Group Inc (Symbol: UPBD):\nCardinal Health, Inc. (Symbol: CAH):\nAgilent Technologies, Inc. (Symbol: A):\nIn general, dividends are not always predictable, following the ups and downs of company profits over time. Therefore, a good first due diligence step in forming an expectation of annual yield going forward, is looking at the history above, for a sense of stability over time. This can help in judging whether the most recent dividends from these companies are likely to continue. If they do continue, the current estimated yields on annualized basis would be 4.58% for Upbound Group Inc, 2.27% for Cardinal Health, Inc., and 0.81% for Agilent Technologies, Inc..\nFree Report: Top 8%+ Dividends (paid monthly)\nIn Thursday trading, Upbound Group Inc shares are currently up about 0.9%, Cardinal Health, Inc. shares are up about 0.3%, and Agilent Technologies, Inc. shares are up about 0.3% on the day.\nClick here to learn which 25 S.A.F.E. dividend stocks should be on your radar screen »\nAlso see:\n Institutional Holders of AX\n IBTD YTD Return\n CRG Split History\nThe views and opinions expressed herein are the views and opinions of the author and do not necessarily reflect those of Nasdaq, Inc.",
         "Neutral"
        ],
        [
         "36",
         "2023-09-25",
         "After Hours Most Active for Sep 25, 2023 : OKE, APO^A, ET, XPEV, BAC, FINV, MCHI, ARM, CSCO, CMCSA, QQQ, AAPL",
         "A",
         "The NASDAQ 100 After Hours Indicator is up 13.01 to 14,781.91. The total After hours volume is currently 63,813,936 shares traded.\n\nThe following are the most active stocks for the after hours session:\n\nONEOK, Inc. (OKE) is +0.01 at $66.55, with 19,749,458 shares traded. OKE's current last sale is 91.16% of the target price of $73.\n\nApollo Global Management, Inc. (APO^A) is unchanged at $56.25, with 3,816,895 shares traded.\n\nEnergy Transfer L.P. (ET) is -0.02 at $13.99, with 3,668,019 shares traded. ET's current last sale is 82.29% of the target price of $17.\n\nXPeng Inc. (XPEV) is +0.11 at $16.80, with 3,072,662 shares traded. XPEV's current last sale is 98.53% of the target price of $17.05.\n\nBank of America Corporation (BAC) is +0.01 at $27.61, with 1,936,137 shares traded. BAC's current last sale is 78.89% of the target price of $35.\n\nFinVolution Group (FINV) is unchanged at $5.00, with 1,855,555 shares traded. As reported by Zacks, the current mean recommendation for FINV is in the \"strong buy range\".\n\niShares MSCI China ETF (MCHI) is -0.0345 at $43.38, with 1,662,357 shares traded. This represents a 23.86% increase from its 52 Week Low.\n\nArm Holdings plc (ARM) is -0.14 at $54.30, with 1,625,772 shares traded. ARM's current last sale is 118.04% of the target price of $46.\n\nCisco Systems, Inc. (CSCO) is unchanged at $53.48, with 1,352,499 shares traded. CSCO's current last sale is 92.21% of the target price of $58.\n\nComcast Corporation (CMCSA) is unchanged at $44.87, with 1,323,937 shares traded. As reported by Zacks, the current mean recommendation for CMCSA is in the \"buy range\".\n\nInvesco QQQ Trust, Series 1 (QQQ) is +0.35 at $359.96, with 1,301,962 shares traded. This represents a 41.57% increase from its 52 Week Low.\n\nApple Inc. (AAPL) is +0.12 at $176.20, with 1,151,926 shares traded. Over the last four weeks they have had 3 up revisions for the earnings forecast, for the fiscal quarter ending Sep 2024. The consensus EPS forecast is $1.56. As reported by Zacks, the current mean recommendation for AAPL is in the \"buy range\".\nThe views and opinions expressed herein are the views and opinions of the author and do not necessarily reflect those of Nasdaq, Inc.",
         "Neutral"
        ],
        [
         "37",
         "2023-09-21",
         "Daily Dividend Report: CLX,CVX,A,SBUX,AMT",
         "A",
         "Clorox announced today that its board of directors has declared a quarterly dividend of $1.20 per share on the company's common stock. The dividend is payable Nov. 9, 2023, to shareholders of record as of the close of business on Oct. 25, 2023.\nCVS Health has announced that its board of directors has approved a quarterly dividend of sixty and a half cents per share on the Common Stock. The dividend is payable on November 1, 2023, to holders of record on October 20, 2023.\nAgilent Technologies, today announced that a quarterly dividend of 22.5 cents per share of common stock will be paid on Oct. 25, 2023, to all shareholders of record as of the close of business on Oct. 3, 2023.\nStarbucks today announced that its Board of Directors approved an increase in the company's quarterly cash dividend from $0.53 to $0.57 per share of outstanding Common Stock. This increase will be effective with the dividend payable on November 24, 2023, to shareholders of record on November 10, 2023, and raises the company's annual dividend rate to $2.28 per share. Starbucks initiated its dividend in 2010 at $0.05 per share of outstanding Common Stock, and increased its dividend consecutively each year over the past 13 years at a CAGR of approximately 20%.\nAmerican Tower today announced that its board of directors has declared its quarterly cash distribution of $1.62 per share on shares of the Company's common stock. The distribution is payable on October 27, 2023 to the stockholders of record at the close of business on October 11, 2023.\nVIDEO: Daily Dividend Report: CLX,CVX,A,SBUX,AMT\nThe views and opinions expressed herein are the views and opinions of the author and do not necessarily reflect those of Nasdaq, Inc.",
         "Positive"
        ],
        [
         "38",
         "2023-09-21",
         "Agilent Technologies is Now Oversold (A)",
         "A",
         "Legendary investor Warren Buffett advises to be fearful when others are greedy, and be greedy when others are fearful. One way we can try to measure the level of fear in a given stock is through a technical analysis indicator called the Relative Strength Index, or RSI, which measures momentum on a scale of zero to 100. A stock is considered to be oversold if the RSI reading falls below 30.\nIn trading on Thursday, shares of Agilent Technologies, Inc. (Symbol: A) entered into oversold territory, hitting an RSI reading of 26.2, after changing hands as low as $109.905 per share. By comparison, the current RSI reading of the S&P 500 ETF (SPY) is 33.9. A bullish investor could look at A's 26.2 RSI reading today as a sign that the recent heavy selling is in the process of exhausting itself, and begin to look for entry point opportunities on the buy side. The chart below shows the one year performance of A shares:\nLooking at the chart above, A's low point in its 52 week range is $109 per share, with $160.265 as the 52 week high point — that compares with a last trade of $110.56.\nFind out what 9 other oversold stocks you need to know about »\nAlso see:\n Stocks Being Sold By Hedge Funds\n LII Average Annual Return\n ESP Past Earnings\nThe views and opinions expressed herein are the views and opinions of the author and do not necessarily reflect those of Nasdaq, Inc.",
         "Positive"
        ],
        [
         "39",
         "2023-09-20",
         "Agilent (A) Boosts Genomic Profiling With New Collaboration",
         "A",
         "Agilent Technologies A has entered into a research agreement with the National Cancer Centre Singapore, to bring advancement in Singapore’s genomic profiling on Asian-prevalent cancers.\n\nThe research focuses on improving tumor genome characterization and utilizing this data in patient care to enhance clinical trials, oncology diagnostics and treatment decisions.\n\nNotably, this collaboration involves the provision of the Agilent Magnis NGS Preparation System, which is used to study details specific to Asian cancer cohorts where tissue samples are limited.\n\nThis, in turn, will simplify gene assays and complex genetic aberrations for reproducible results.\n\nWe believe that the latest agreement will accelerate the development of next-generation diagnostic tools to improve patient care.\n\nMoreover, the deal will also strengthen Agilent’s footprint in Asian markets.\nAgilent Technologies, Inc. Price and Consensus\nAgilent Technologies, Inc. price-consensus-chart | Agilent Technologies, Inc. Quote\nGrowth Prospects\nThe latest partnership is in sync with the company’s efforts to strengthen its footprint in the global genomics market.\n\nPer a Towards Healthcare report, the global genomics market is expected to reach $127.16 billion by 2032, witnessing a CAGR of 16.1% between 2023 and 2032.\n\nA Grand View Research report predicts the global genomics market to witness a CAGR of 16.5% during the period of 2023-2030.\n\nWe believe the company’s solid prospects in the promising genomics market are expected to instill investor optimism in the stock.\n\nAgilent has lost 25% in the year-to-date period against the industry’s growth of 1.7%.\n\nNotably, the company has been suffering from macroeconomic uncertainties, weak momentum in China, rising inflationary pressure and geo-political tensions.\nDGG Segment in Focus\nThe latest move bodes well for the company’s growing efforts toward bolstering its Diagnostics and Genomics Group (DGG) segment.\n\nRecently, Agilent released the enhanced xCELLigence RTCA Software Pro Version 2.8, a software package for real-time cell analysis in GMP-regulated facilities, ensuring data authenticity and compliance.\n\nFurther, it launched the Agilent SureSelect Cancer CGP Assay, a pan-cancer assay designed for somatic variant profiling of solid tumor types, utilizing an NGS panel of 679 genes.\n\nWe note that the abovementioned endeavors will likely act as a catalyst for its customer base expansion.\n\nNotably, Agilent signed a Memorandum of Understanding with Advanced Cell Therapy and Research Institute, Singapore to install and operate its xCELLigence real-time cell analyzer, aiming to advance cell and gene therapy over the next three years\n\nThe company also partnered with Theragen Bio to improve precision oncology in South Korea through advanced bioinformatic solutions, leveraging their combined expertise in cancer genomic profiling design and software knowledge.\n\nAll these endeavors are likely to aid the performance of the DGG segment in the days ahead.\n\nFor third-quarter fiscal 2023, revenues in the underlined segment increased 3% from the prior-year fiscal quarter’s figure on a reported, as well as a core basis to $349 million.\n\nOur model estimate for DGG revenues for fiscal 2023 is pegged at $1.41 billion, indicating growth of 1.5% from the 2022 level. The same for fiscal 2024 and fiscal 2025 stands at $1.48 billion and $1.58 billion, reflecting year-over-year growth of 5% and 7%, respectively.\nZacks Rank & Stocks to Consider\nCurrently, Agilent carries a Zacks Rank #4 (Sell).\n\nSome better-ranked stocks in the broader technology sector are Asure Software ASUR, Arista Networks ANET and Applied Materials AMAT. While Asure Software sports a Zacks Rank #1 (Strong Buy), Arista Networks and Applied Materials carry a Zacks Rank #2 (Buy) each. You can see the complete list of today’s Zacks #1 Rank stocks here.\n\nAsure Software shares have lost 5.2% in the year-to-date period. ASUR’s long-term earnings growth rate is currently projected at 27%.\n\nArista Networks shares have gained 52.3% in the year-to-date period. The long-term earnings growth rate for ANET is currently projected at 18.75%\n\nApplied Materials shares have gained 41.4% in the year-to-date period. AMAT’s long-term earnings growth rate is currently projected at 6.10%.\nWant the latest recommendations from Zacks Investment Research? Today, you can download 7 Best Stocks for the Next 30 Days. Click to get this free report\nAgilent Technologies, Inc. (A) : Free Stock Analysis Report\nApplied Materials, Inc. (AMAT) : Free Stock Analysis Report\nAsure Software Inc (ASUR) : Free Stock Analysis Report\nArista Networks, Inc. (ANET) : Free Stock Analysis Report\nTo read this article on Zacks.com click here.\nZacks Investment Research\nThe views and opinions expressed herein are the views and opinions of the author and do not necessarily reflect those of Nasdaq, Inc.",
         "Neutral"
        ],
        [
         "40",
         "2023-09-15",
         "Notable Friday Option Activity: PRGS, POOL, A",
         "A",
         "Among the underlying components of the Russell 3000 index, we saw noteworthy options trading volume today in Progress Software Corp (Symbol: PRGS), where a total of 1,216 contracts have traded so far, representing approximately 121,600 underlying shares. That amounts to about 53.8% of PRGS's average daily trading volume over the past month of 226,140 shares. Particularly high volume was seen for the $50 strike put option expiring October 20, 2023, with 502 contracts trading so far today, representing approximately 50,200 underlying shares of PRGS. Below is a chart showing PRGS's trailing twelve month trading history, with the $50 strike highlighted in orange:\nPool Corp (Symbol: POOL) saw options trading volume of 1,502 contracts, representing approximately 150,200 underlying shares or approximately 53.3% of POOL's average daily trading volume over the past month, of 282,025 shares. Especially high volume was seen for the $360 strike put option expiring September 15, 2023, with 501 contracts trading so far today, representing approximately 50,100 underlying shares of POOL. Below is a chart showing POOL's trailing twelve month trading history, with the $360 strike highlighted in orange:\nAnd Agilent Technologies, Inc. (Symbol: A) saw options trading volume of 8,847 contracts, representing approximately 884,700 underlying shares or approximately 52.8% of A's average daily trading volume over the past month, of 1.7 million shares. Particularly high volume was seen for the $130 strike call option expiring October 20, 2023, with 1,666 contracts trading so far today, representing approximately 166,600 underlying shares of A. Below is a chart showing A's trailing twelve month trading history, with the $130 strike highlighted in orange:\nFor the various different available expirations for PRGS options, POOL options, or A options, visit StockOptionsChannel.com.\nToday's Most Active Call & Put Options of the S&P 500 »\nAlso see:\n Funds Holding ATOM\n CTCT Videos\n Funds Holding RTNB\nThe views and opinions expressed herein are the views and opinions of the author and do not necessarily reflect those of Nasdaq, Inc.",
         "Negative"
        ],
        [
         "41",
         "2023-09-15",
         "Friday Sector Leaders: Utilities, Healthcare",
         "A",
         "Looking at the sectors faring best as of midday Friday, shares of Utilities companies are outperforming other sectors, not showing much of a loss. Within the sector, DTE Energy Co (Symbol: DTE) and CenterPoint Energy, Inc (Symbol: CNP) are two of the day's stand-outs, showing a gain of 0.8% and 0.8%, respectively. Among utilities ETFs, one ETF following the sector is the Utilities Select Sector SPDR ETF (Symbol: XLU), which is down 0.1% on the day, and down 6.10% year-to-date. DTE Energy Co, meanwhile, is down 7.89% year-to-date, and CenterPoint Energy, Inc is up 0.76% year-to-date. Combined, DTE and CNP make up approximately 4.3% of the underlying holdings of XLU.\nThe next best performing sector is the Healthcare sector, losing just 0.3%. Among large Healthcare stocks, Waters Corp. (Symbol: WAT) and Agilent Technologies, Inc. (Symbol: A) are the most notable, showing a gain of 2.3% and 2.0%, respectively. One ETF closely tracking Healthcare stocks is the Health Care Select Sector SPDR ETF (XLV), which is down 0.5% in midday trading, and down 1.36% on a year-to-date basis. Waters Corp., meanwhile, is down 19.49% year-to-date, and Agilent Technologies, Inc., is down 21.61% year-to-date. Combined, WAT and A make up approximately 1.0% of the underlying holdings of XLV.\nComparing these stocks and ETFs on a trailing twelve month basis, below is a relative stock price performance chart, with each of the symbols shown in a different color as labeled in the legend at the bottom:\nHere's a snapshot of how the S&P 500 components within the various sectors are faring in afternoon trading on Friday. As you can see, none of the sectors are up on the day, while eight sectors are down.\nSECTOR % CHANGE\nUtilities -0.0%\nHealthcare -0.3%\nConsumer Products -0.4%\nFinancial -0.5%\nIndustrial -0.6%\nMaterials -0.9%\nServices -1.0%\nEnergy -1.4%\nTechnology & Communications -1.5%\n25 Dividend Giants Widely Held By ETFs »\nAlso see:\n OUT Historical Stock Prices\n AKRX market cap history\n DQ Split History\nThe views and opinions expressed herein are the views and opinions of the author and do not necessarily reflect those of Nasdaq, Inc.",
         "Negative"
        ],
        [
         "42",
         "2023-09-14",
         "Agilent (A) Down 6.5% Since Last Earnings Report: Can It Rebound?",
         "A",
         "A month has gone by since the last earnings report for Agilent Technologies (A). Shares have lost about 6.5% in that time frame, underperforming the S&P 500.\nWill the recent negative trend continue leading up to its next earnings release, or is Agilent due for a breakout? Before we dive into how investors and analysts have reacted as of late, let's take a quick look at its most recent earnings report in order to get a better handle on the important catalysts.\nAgilent Q3 Earnings Beat Estimates\nAgilent Technologies delivered third-quarter fiscal 2023 earnings of $1.43 per share, which beat the Zacks Consensus Estimate by 4.4%. The bottom line increased by 7% from the year-ago fiscal quarter’s level.\n\nRevenues of $1.67 billion surpassed the Zacks Consensus Estimate of $1.66 billion. However, the top line was down 2.7% on a reported basis and 2.3% on a core basis from the respective year-ago fiscal quarter’s levels.\n\nThe decline was attributed to sluggishness in Chemistry & Advanced Materials and Pharma & Biopharma markets due to weak momentum in China.\n\nNevertheless, growth in Academia & Gov’t, Food, Environmental & Forensics and Diagnostics and Clinical markets remained a positive.\nSegmental Top Line Details\nAgilent has three reporting segments, namely, Life Sciences & Applied Markets Group (LSAG), Agilent Cross Lab Group (ACG) and Diagnostics and Genomics Group (DGG).\n\nLSAG: The segment accounted for $927 million or 55% of its total revenues, down 9% on a reported as well as on a core basis from the respective prior-year fiscal quarter’s levels. This was due to macroeconomic uncertainties, soft market conditions in China and a sluggish pharma market. The reported figure came below the Zacks Consensus Estimate of $929 million.\n\nACG: Revenues from the segment were $396 million, accounting for 24% of total revenues. The figure surpassed the consensus mark of $377 million. The top line improved by 10% from the prior-year fiscal quarter’s reading on a reported basis and by 11% on a core basis, demonstrating solid momentum across all regions and end markets. A strong demand for the company’s services was a positive.\n\nDGG: Revenues increased 3% from the prior-year fiscal quarter’s figure on a reported as well as a core basis to $349 million, accounting for the remaining 21% of total revenues. The figure came slightly below the consensus mark of $3508 million. Segmental growth was attributed to strength in the NASD business. A solid demand for diagnostic tests contributed well to the company’s pathology business.\n\nHowever, weakness in genomics and Resolution Bioscience businesses was a negative.\nOperating Results\nFor the fiscal third quarter, gross margin in the LSAG segment contracted by 50 basis points (bps) to 29.9% from the prior-year fiscal quarter’s number. ACG’s gross margin expanded by 390 bps to 50.9%. DGG’s gross margin contracted by 180 bps from the year-ago fiscal quarter’s actuals to 52.2%.\n\nResearch & development (R&D) costs were $118 million, up 1.7% from the prior-year fiscal quarter’s number. Selling, general & administrative (SG&A) expenses were $407 million, down 1.2% from the year-earlier fiscal quarter’s figure. As a percentage of revenues, R&D expenses expanded by 35 bps year over year to 7.05%. SG&A expenses expanded by 40 bps year over year to 24.3%.\n\nOperating margin for the fiscal third quarter was 7.9%, which declined significantly from 23.9% in the year-earlier fiscal quarter’s figure.\n\nSegment-wise, the operating margin for LSAG was down 60 bps from the year-earlier fiscal quarter’s level of 29.9%. ACG’s operating margin was 32.7%, up 810 bps from the year-ago fiscal quarter’s level. DGG segment’s operating margin expanded 250 bps to 24% from the year-ago fiscal quarter’s figure.\nBalance Sheet & Cash Flow\nAs of Jul 31, 2023, Agilent’s cash and cash equivalents were $1.33 billion, up from $1.18 billion on Apr 30, 2023.\n\nAccounts receivables were $1.3 billion at the end of third-quarter fiscal 2023, down from $1.4 billion at the end of second-quarter fiscal 2023.\n\nLong-term debt was $2.734 billion for the reported quarter compared with $2.733 billion in the prior fiscal quarter.\n\nAgilent generated $562 million in cash from operations during the reported quarter, up from $398 million generated in the previous quarter.\n\nIt returned $401 million to shareholders, out of which dividend payments accounted for $66 million and share repurchases accounted for the remaining $335 million.\nGuidance\nFor the fiscal fourth quarter of 2023, management expects revenues of $1.655-$1.705 billion, suggesting a decline between 12.2% and 9.5% on a core basis from the year-ago fiscal quarter’s actuals.\n\nNon-GAAP earnings per share are expected to be $1.33-$1.36.\n\nFor fiscal 2023, management lowered its revenue guidance to the band of $6.80-$6.85 billion from $6.93-7.03 billion, implying growth of 0.8-1.5% on a core basis from the respective fiscal 2022 figures.\n\nManagement also lowered the guidance for fiscal 2023 non-GAAP earnings per share downward from $5.60-$5.65 to $5.40-5.43.\nHow Have Estimates Been Moving Since Then?\nIt turns out, estimates review have trended downward during the past month.\nThe consensus estimate has shifted -16.1% due to these changes.\nVGM Scores\nAt this time, Agilent has a nice Growth Score of B, though it is lagging a bit on the Momentum Score front with a C. Charting a somewhat similar path, the stock was allocated a grade of D on the value side, putting it in the bottom 40% for this investment strategy.\nOverall, the stock has an aggregate VGM Score of C. If you aren't focused on one strategy, this score is the one you should be interested in.\nOutlook\nEstimates have been broadly trending downward for the stock, and the magnitude of these revisions indicates a downward shift. It's no surprise Agilent has a Zacks Rank #4 (Sell). We expect a below average return from the stock in the next few months.\n4 Oil Stocks with Massive Upsides\nGlobal demand for oil is through the roof... and oil producers are struggling to keep up. So even though oil prices are well off their recent highs, you can expect big profits from the companies that supply the world with \"black gold.\" \nZacks Investment Research has just released an urgent special report to help you bank on this trend. \nIn Oil Market on Fire, you'll discover 4 unexpected oil and gas stocks positioned for big gains in the coming weeks and months. You don't want to miss these recommendations. \nDownload your free report now to see them.\nWant the latest recommendations from Zacks Investment Research? Today, you can download 7 Best Stocks for the Next 30 Days. Click to get this free report\nAgilent Technologies, Inc. (A) : Free Stock Analysis Report\nTo read this article on Zacks.com click here.\nZacks Investment Research\nThe views and opinions expressed herein are the views and opinions of the author and do not necessarily reflect those of Nasdaq, Inc.",
         "Negative"
        ],
        [
         "43",
         "2023-09-12",
         "Agilent To Sell Resolution Bioscience To Exact Sciences For Undisclosed Sum",
         "A",
         "(RTTNews) - Agilent Technologies, Inc. (A) and Exact Sciences Corp. (EXAS) said on Tuesday that they have inked a deal for the sale of Resolution Bioscience to Exact Sciences., for an undisclosed sum.\nResolution Bioscience is a developer of next-generation sequencing-based precision oncology solutions.\nSam Raha, Senior Vice President at Agilent, said: \"Exact is a leading centralized laboratory for advanced cancer diagnostic testing with significant capabilities and resources in this area, which makes Resolution Bioscience a strategic fit for them. This agreement will enable the talented Resolution Bioscience team to continue their work advancing diagnostic solutions for their customers and patients, a very positive outcome of this transaction.\"\nThe views and opinions expressed herein are the views and opinions of the author and do not necessarily reflect those of Nasdaq, Inc.",
         "Positive"
        ],
        [
         "44",
         "2023-09-05",
         "Illumina names Agilent exec Jacob Thaysen as CEO",
         "A",
         "Adds background in paragraphs 2-3\nSept 5 (Reuters) - Illumina Inc ILMN.O said on Tuesday its board has named Agilent Technologies' A.N executive Jacob Thaysen as the U.S. genetic testing company's CEO.\nThaysen would replace ‍Charles Dadswell, who has been serving as Illumina's interim CEO since June.\nThe appointment comes months after Illumina's former CEO Francis deSouza stepped down, marking a victory for activist investor Carl Icahn.\nThaysen's appointment would become effective Sept. 25.\n(Reporting by Manas Mishra and Bhanvi Satija in Bengaluru; Editing by Shilpi Majumdar)\n((Manas.Mishra@thomsonreuters.com; www.twitter.com/Manaswrites15;))\nThe views and opinions expressed herein are the views and opinions of the author and do not necessarily reflect those of Nasdaq, Inc.",
         "Negative"
        ],
        [
         "45",
         "2023-09-01",
         "Do Options Traders Know Something About Agilent (A) Stock We Don't?",
         "A",
         "Investors in Agilent Technologies, Inc. A need to pay close attention to the stock based on moves in the options market lately. That is because the Jan 19, 2024 $65.00 Call had some of the highest implied volatility of all equity options today.\nWhat is Implied Volatility?\nImplied volatility shows how much movement the market is expecting in the future. Options with high levels of implied volatility suggest that investors in the underlying stocks are expecting a big move in one direction or the other. It could also mean there is an event coming up soon that may cause a big rally or a huge sell-off. However, implied volatility is only one piece of the puzzle when putting together an options trading strategy.\nWhat do the Analysts Think?\nClearly, options traders are pricing in a big move for Agilent shares, but what is the fundamental picture for the company? Currently, Agilent is a Zacks Rank #4 (Sell) in the Electronics - Testing Equipment industry that ranks in the Bottom 30% of our Zacks Industry Rank. Over the last 60 days, no analysts have increased their earnings estimates for the current quarter, while six analysts have revised their estimates downward. The net effect has taken our Zacks Consensus Estimate for the current quarter from $1.61 per share to $1.35 in that period.\nGiven the way analysts feel about Agilent right now, this huge implied volatility could mean there’s a trade developing. Oftentimes, options traders look for options with high levels of implied volatility to sell premium. This is a strategy many seasoned traders use because it captures decay. At expiration, the hope for these traders is that the underlying stock does not move as much as originally expected.\nLooking to Trade Options?\nCheck out the simple yet high-powered approach that Zacks Executive VP Kevin Matras has used to close recent double and triple-digit winners. In addition to impressive profit potential, these trades can actually reduce your risk.\nClick to see the trades now >>\nZacks Names \"Single Best Pick to Double\"\nFrom thousands of stocks, 5 Zacks experts each have chosen their favorite to skyrocket +100% or more in months to come. From those 5, Director of Research Sheraz Mian hand-picks one to have the most explosive upside of all.\nIt’s credited with a “watershed medical breakthrough” and is developing a bustling pipeline of other projects that could make a world of difference for patients suffering from diseases involving the liver, lungs, and blood. This is a timely investment that you can catch while it emerges from its bear market lows.\nIt could rival or surpass other recent Stocks Set to Double like Boston Beer Company which shot up +143.0% in little more than 9 months and NVIDIA which boomed +175.9% in one year.\nFree: See Our Top Stock And 4 Runners Up\nWant the latest recommendations from Zacks Investment Research? Today, you can download 7 Best Stocks for the Next 30 Days. Click to get this free report\nAgilent Technologies, Inc. (A) : Free Stock Analysis Report\nTo read this article on Zacks.com click here.\nZacks Investment Research\nThe views and opinions expressed herein are the views and opinions of the author and do not necessarily reflect those of Nasdaq, Inc.",
         "Negative"
        ],
        [
         "46",
         "2023-08-31",
         "Building Wealth with Spinoffs: How Adding These Gems Can Transform Your Portfolio",
         "A",
         "Imagine discovering a treasure map that leads to the chest containing the loot. Consider that the investment world has its own version of these concealed treasures: Spinoffs. These financial treasures have the potential to reshape your entire investment voyage, not just enhance your portfolio. The catch? You must look for them and do some work. A tough ask, I know.\nWhat is A Spinoff?\nIn a Spinoff, a parent company separates one of its business entities or divisions into a standalone, independent company. By distributing shares of the spun-off company to the current proprietors of the parent, two separate publicly listed entities are created. The new enterprise that emerges because of a Spinoff is often referred to as a \"Spinoff company.\" Spinoffs can increase shareholder value by allowing distinct companies to focus on their core competencies and releasing hidden value in specific business divisions. In addition, it offers investors the option to invest in various companies based on their investment preferences and risk tolerance. Or, alternatively, eradicate them.\nThe media frequently gets it wrong when speaking about Spinoffs. This is a very important point to remember. A ‘true’ Spinoff only happens when a share of a division is distributed amongst existing shareholders that own the parent company. Contrary to the media, IPOs, Divestitures, carve-outs, split-offs, and split-ups are not Spinoffs and consequently, these transactions lose many of the value creating dynamics of the Spinoff corporate action. Cross-reference information from various trustworthy sources, particularly official business communication. To fully comprehend the Spinoff and its ramifications, investors should also look for information from reliable financial analysts, subject-matter experts, and formal regulatory filings, such as those with the Securities and Exchange Commission (SEC).\nDo Spinoffs Outperform? \nThe “Spinoff” is an essentially inefficient method for distributing stock to the incorrect individuals. You receive shares whether you desire them or not. Typically, investors acquire these shares by default and sell them on the open market almost immediately, making them inexpensive companies that no one is interested in. They are occasionally referred to as \"orphan securities.\" At this point, X marks the location, and digging should commence.\nWhy the dynamics of Spinoffs make it an essential area for an investor to analyze:\nStudies have shown that Spinoffs have historically beaten the market by over 10 percent as the pure, newly focused business takes off.\nCompensation for executives can be more closely correlated with business performance. The company will become smaller, which will increase the executives' motivation and sense of ownership.\nSeparating companies allows each entity to be properly valued and can sometimes unlock a “conglomerate discount.\"\nDue to the likelihood that the company would be small and lack a roadshow, it is under-followed. As a result, there are more chances for investors to discover returns greater than the index.\nThe Edge Consulting Groups 20 year study shows that Spinoffs are likely to be taken over. Roughly 35 percent are acquired around the two-year mark post-Spinoff.\nTypically, there are hundreds of Spinoff situations a year. Around 40 have over $1 billion in market cap. This is a sweet spot where liquidity and “real” companies come together in my opinion.\n5 Reasons Why You Should Be Looking For These Situations \nIncluding Spinoffs in your investment portfolio can provide a variety of benefits, including diversification, undervalued opportunities, and the potential for higher returns and enhanced performance.\n1. Enhanced Diversification: Incorporating Spinoffs introduces a new layer of diversification. Since Spinoff companies often operate in different sectors than their parent companies, they can provide exposure to industries that might not have been represented in your portfolio. This helps spread risk and reduces the impact of negative events within a specific sector.\n2. Undervalued Opportunities: Spinoffs are sometimes overlooked by the market, leading to potential undervaluation. This presents an opportunity for investors to purchase shares of promising companies at a lower price compared to their intrinsic value. As the market gradually recognizes their worth, these undervalued gems can yield substantial returns.\n3. Focused Management: Spinoff companies can streamline operations and focus on their core competencies, which often leads to improved efficiency and performance. The management teams of these newly independent entities tend to be more agile and dedicated to the success of their specific business, potentially translating into better growth prospects.\n4. Catalyst for Change: The newfound independence of a Spinoff can lead to strategic changes, such as cost-cutting initiatives, innovation, and targeted expansion plans. These changes can drive improved financial performance and boost shareholder value over time.\n5. Potential for Outperformance: Historical data indicates that Spinoffs often outperform the broader market indices. This outperformance can be attributed to a combination of factors, including improved focus, better capital allocation decisions, and the market's eventual recognition of the Spinoff's value proposition.\nWhy isn’t Everybody Looking At Them?\nI asked the legendary investor Joel Greenblatt this question once and he didn’t hesitate to give me the answer. ‘No one wants to do the work.’ Spinoffs analysis takes a lot of effort and, surprise, surprise, not many want to do it. However, as an investment veteran of over 30 years, I can categorically say that some of my most profitable ideas come from doing a hell of a lot of work and finding the angle and edge in the situation in this area. Furthermore, they are not promoted by brokers. Unlike an IPO there is no stock to sell you. You gain the Spinoff from holding the parent company whether you like it or not. This opens a whole range of dynamics that are interesting for investing. \nRecent Spinoffs That You May Know\nAbbVie (ABBV)  (formerly known as Abbott Laboratories' biopharmaceutical business) was spun off from Abbott Laboratories in 2013. AbbVie has outperformed the S&P 500 by more than 200% since the spinoff.\nVisa (V) was spun off from Bank of America (BAC) in 2008. Visa has outperformed the S&P 500 by more than 400% since Spinoff.\nMastercard (MA) was spun off from American Express (AXP) in 2006. Mastercard has outperformed the S&P 500 by more than 300% since Spinoff.\nAgilent Technologies (A)  was spun off from Hewlett-Packard (HPQ)  in 1999. Agilent Technologies has outperformed the S&P 500 by more than 200% since the spinoff.\nJohnson & Johnson's (JNJ)  Life Sciences division was spun off as a separate company called Janssen Pharmaceutical Companies in 2017. Janssen Pharmaceutical Companies has outperformed the S&P 500 by more than 50% since the spinoff.\nThese are just a few examples of successful stock Spinoffs. There are many other examples, and the success of a spinoff can vary depending on several factors, such as the underlying business, the management team, and the market condition.\nIn Summary \nIf you are after hidden value where no one else is looking, look no further than this area of the market. There are services out there that can help, but ultimately a little hard work in a proven area will get you to some positive wealth creation a lot faster than competing with the masses.\nOn the date of publication, Jim Osman did not have (either directly or indirectly) positions in any of the securities mentioned in this article. All information and data in this article is solely for informational purposes. For more information please view the Barchart Disclosure Policy here.\nThe views and opinions expressed herein are the views and opinions of the author and do not necessarily reflect those of Nasdaq, Inc.",
         "Negative"
        ],
        [
         "47",
         "2023-08-25",
         "EXCLUSIVE-Danaher in the lead to acquire biomedical equipment vendor Abcam -sources",
         "A",
         "By David Carnevali\nNEW YORK, Aug 25 (Reuters) - Danaher Corp DHR.N is in the lead to acquire Abcam Plc ABCM.O, a provider of supplies to life science researchers with a market value of $5.4 billion, as it expands its biomedical offerings, people familiar with the matter said on Friday.\nAbcam believes that Danaher's all-cash offer is superior to a rival bid from Agilent Technologies Inc A.N, the sources said.\nThe exact price that Danaher is offering could not be learned. One of the sources said the deal price would be close to Abcam's current valuation, given that its stock has already risen more than 20% after Bloomberg News reported on June 16 that the company was fielding takeover interest.\nIf the negotiations conclude successfully, a deal could be announced as early as next week, the sources said, cautioning that no agreement is certain and that the outcome could still change. They asked not to be identified because the matter is confidential.\nAbcam, Danaher and Agilent did not immediately respond to requests for comment.\nAbcam shares rose as much as 9% in afternoon trading in New York on Friday to $24.52. Danaher shares were up 1.3% at $256.76.\nBased in Cambridge, England, Abcam supplies antibodies, reagents and other products used in medical research. The company serves roughly 750,000 research scientists at academic, research, government and biopharmaceutical organizations.\nAbcam has come under pressure from activist shareholders to sell itself, including its founder Jonathan Milner who owns 6.1% of the company, as well as hedge fund Starboard Value LP, complaining about the company's stock underperforming for most of the last two years.\nDanaher, one of the world's largest suppliers of diagnostic tools with a market value of $190 billion, has turned to dealmaking to expand in the sector. Abcam's antibody and reagent solutions could help Danaher win more and bigger contracts with some customers.\nDanaher acquired General Electric Co's GE.N biopharma solution business for $21.4 billion in 2019 and contract development and manufacturing organization Aldevron for $9.6 billion in 2021.\n(Reporting by David Carnevali in New York Editing by Greg Roumeliotis and Nick Zieminski)\n((Greg.Roumeliotis@thomsonreuters.com; +1 646 223 6022; Reuters Messaging: greg.roumeliotis.thomsonreuters.com@reuters.net))\nThe views and opinions expressed herein are the views and opinions of the author and do not necessarily reflect those of Nasdaq, Inc.",
         "Positive"
        ],
        [
         "48",
         "2023-08-25",
         "EXCLUSIVE-Danaher in the lead to acquire biomedical equipment vendor Abcam-sources",
         "A",
         "By David Carnevali\nNEW YORK, Aug 25 (Reuters) - Danaher Corp DHR.N is in the lead to acquire Abcam Plc ABCM.O, a provider of supplies to life science researchers with a market value of $5.1 billion, as it expands its biomedical offerings, people familiar with the matter said on Friday.\nAbcam believes that Danaher's all-cash offer is superior to a rival bid from Agilent Technologies Inc A.N, the sources said.\nThe exact price that Danaher is offering could not be learned. One of the sources said the deal price would be close to Abcam's current valuation, given that its stock has already risen close to 20% after Bloomberg News reported on June 16 that the company was fielding takeover interest.\nIf the negotiations conclude successfully, a deal could be announced as early as next week, the sources said, cautioning that no agreement is certain and that the outcome could still change. They asked not to be identified because the matter is confidential.\nAbcam, Danaher and Agilent did not immediately respond to requests for comment.\nBased in Cambridge, England, Abcam supplies antibodies, reagents and other products used in medical research. The company serves roughly 750,000 research scientists at academic, research, government and biopharmaceutical organisations.\n(Reporting by David Carnevali in New York Editing by Greg Roumeliotis)\n((Greg.Roumeliotis@thomsonreuters.com; +1 646 223 6022; Reuters Messaging: greg.roumeliotis.thomsonreuters.com@reuters.net))\nThe views and opinions expressed herein are the views and opinions of the author and do not necessarily reflect those of Nasdaq, Inc.",
         "Positive"
        ],
        [
         "49",
         "2023-08-21",
         "Buy the Drop: 3 Stocks to Snag After This Month’s 20% Tumble",
         "A",
         "InvestorPlace - Stock Market News, Stock Advice & Trading Tips\nAugust has been a great month for investors looking for bargain stocks to buy on the dip. The S&P 500, Dow Jones Industrial Average, and the Nasdaq 100 were down 2,1%, 2.0%, and 2.4%, respectively, for the week of Aug. 14-18. Barron’s believes that September could be worse. If the past week is any indication, they could be on to something. \nFundstrat analyst Tom Lee thinks August has been its typical mercurial self where gains are hard to come by and that the good times should return soon. Baron’s reported Lee’s comments from his Aug. 18 note to clients:\n“[T]he month’s declines haven’t shaken Lee’s core bullish thesis. ‘We see this more as ‘it’s August’ rather than the start of a larger rout…we are not in the camp this spills over into a wider selloff. That could happen, but more bad things need to emerge. In fact, there are some signs that we could see the stocks begin to stabilize soon.’”\nSo, if you’re a risk-averse investor, you might want to wait a couple of weeks to see if the markets bottom. \nIn the meantime, a quick screen of S&P 500 stocks down more than 20% over the past month gives bargain-hunting investors 14 stocks to choose from. Here are three undervalued due to their 20%, including one name from three different sectors. \nSealed Air (SEE)\nSource: Shutterstock\nSealed Air (NYSE:SEE) represents the materials sector. Its stock is down 25% for the past month and 31% year-to-date. \nAnalysts are moderately optimistic about the stock, with 7 of the 15 rating it as Overweight or an outright Buy. It’s target price is $45 which is 31% higher than its current share price. \nOne of the things that I use to assess value is free cash flow yield. If it’s over 8%, it’s definitely value. Between 4% and 8%, it’s reasonable value, if not dirt cheap. In the trailing 12 months ended June 30, its free cash flow was $152 million. Based on an enterprise value of $9.78 billion, it has a free cash flow yield of 1.6%, which suggests it’s not cheap.\nBefore you toss the company best known for bubble wrap packaging overboard, consider its historical FCF yield. In 2020, it had a free cash flow of $556 million. Based on an enterprise value of $10.6 billion. At first glance, it appears Sealed Air’s business has deteriorated. \nAnd to a certain extent, it has, which is why it’s moving forwqard with SEE 2.0. This revitalization plan should deliver $150 million in annual cost savings by the end of 2025 and a return to its historical earnings and sales growth in 2024. \nIts stock hasn’t been this low since June 2020. Get ready for a revival in the waning months of 2023 and into 2024.\nKeysight Technologies (KEYS)\nSource: fantasyform/Shutterstock.com\nKeysight Technologies (NYSE:KEYS) represents the tech sector. Its stock is down 23% for the past month and 24% year-to-date. Like Sealed Air, it hasn’t traded this low since 2020.\nKeysight is a relatively new company by S&P 500 standards, incorporated in 2013. However, its history dates back to 1939 and Hewlett-Packard’s founding by Bill Hewlett and Dave Packard. Their first product was an audio oscillator. Electronic measurement was their business.\nIn 1999, Agilent Technologies (NYSE:A) was formed to operate HP’s Medical Products and Instrument Group. In 2013, Agilent was split into two pure-play electronic measurement companies. Keysight was the one of the two, going public on November 1, 2014 after separating from Agilent. Agilent shareholders got one share of Keysight for two held by the parent. \nKEYS stock is up 335% since it began trading in November 2014. Agilent is up 191% over the same period.\nShares have lost their mojo recently because the company reported Q3 2023 results on August 18th that included a downward revision of its guidance. It now expects fourth-quarter sales and earnings to decline by 10% and 13%, respectively. \nCurrently trading at 4.16x sales — less than its five-year average of 5.1x — its enterprise value of $22.5 billion is 12.87x its earnings before interest, taxes, depreciation and amortization (EBITDA). That’s lower than it’s been since 2016.\nResMed (RMD)\nSource: Vitalii Vodolazskyi / Shutterstock\nResMed (NYSE:RMD) represents the healthcare sector. Its stock is down 25% for the past month and 21% year-to-date. Like the other two, it hasn’t traded this low since 2020.\nInterestingly, ResMed’s business is probably doing the best in terms of top-line growth among the trio, up 23% in Q4 2023 and 18% for all of 2023 to $4.2 billion. However, investors began to abandon the stock after hearing its gross margin (56.5%) and operating margin (29.0%) dropped for the year.    \nAll of its stock losses in 2023 are post-earnings. Investors have rightly or wrongly decided that the contraction of its margins in light of double-digit revenue growth suggests the quality of the sales increase for the maker of sleep apnea equipment is suspect. \nResMed CEO Mick Farrell is very confident about the future. He stated in the Q4 2023 conference call:\n“Patient demand continues to drive increased adoption and utilization of our mask resupply programs, augmenting a steady cadence of new patient setups. We continue to see strong growth in both the U.S. business where provider resupply programs have augmented growth and in our markets outside the U.S. where our consumer outreach and subscription programs are also driving mass replenishment directly with those end user patients.”\nOf the 24 analysts covering the stock, 18 rate it Overweight or an outright Buy with a $240 median price, 45% higher than its current share price. \nI see ResMed as the best long-term hold of the trio, although all three should make you money over 3-5 years.    \nOn the date of publication, Will Ashworth did not have (either directly or indirectly) any positions in the securities mentioned in this article. The opinions expressed in this article are those of the writer, subject to the InvestorPlace.com Publishing Guidelines.\nWill Ashworth has written about investments full-time since 2008. Publications where he’s appeared include InvestorPlace, The Motley Fool Canada, Investopedia, Kiplinger, and several others in both the U.S. and Canada. He particularly enjoys creating model portfolios that stand the test of time. He lives in Halifax, Nova Scotia.\nMore From InvestorPlace\nChatGPT IPO Could Shock the World, Make This Move Before the Announcement\nMusk’s “Project Omega” May Be Set to Mint New Millionaires. Here’s How to Get In.\nThe Rich Use This Income Secret (NOT Dividends) Far More Than Regular Investors\nThe post Buy the Drop: 3 Stocks to Snag After This Month’s 20% Tumble appeared first on InvestorPlace.\nThe views and opinions expressed herein are the views and opinions of the author and do not necessarily reflect those of Nasdaq, Inc.",
         "Neutral"
        ]
       ],
       "shape": {
        "columns": 5,
        "rows": 241359
       }
      },
      "text/html": [
       "<div>\n",
       "<style scoped>\n",
       "    .dataframe tbody tr th:only-of-type {\n",
       "        vertical-align: middle;\n",
       "    }\n",
       "\n",
       "    .dataframe tbody tr th {\n",
       "        vertical-align: top;\n",
       "    }\n",
       "\n",
       "    .dataframe thead th {\n",
       "        text-align: right;\n",
       "    }\n",
       "</style>\n",
       "<table border=\"1\" class=\"dataframe\">\n",
       "  <thead>\n",
       "    <tr style=\"text-align: right;\">\n",
       "      <th></th>\n",
       "      <th>Date</th>\n",
       "      <th>Article_title</th>\n",
       "      <th>Stock_symbol</th>\n",
       "      <th>Article</th>\n",
       "      <th>Label</th>\n",
       "    </tr>\n",
       "  </thead>\n",
       "  <tbody>\n",
       "    <tr>\n",
       "      <th>0</th>\n",
       "      <td>2023-12-16</td>\n",
       "      <td>Interesting A Put And Call Options For August ...</td>\n",
       "      <td>A</td>\n",
       "      <td>Investors in Agilent Technologies, Inc. (Symbo...</td>\n",
       "      <td>Neutral</td>\n",
       "    </tr>\n",
       "    <tr>\n",
       "      <th>1</th>\n",
       "      <td>2023-12-12</td>\n",
       "      <td>Wolfe Research Initiates Coverage of Agilent T...</td>\n",
       "      <td>A</td>\n",
       "      <td>Fintel reports that on December 13, 2023, Wolf...</td>\n",
       "      <td>Positive</td>\n",
       "    </tr>\n",
       "    <tr>\n",
       "      <th>2</th>\n",
       "      <td>2023-12-12</td>\n",
       "      <td>Agilent Technologies Reaches Analyst Target Price</td>\n",
       "      <td>A</td>\n",
       "      <td>In recent trading, shares of Agilent Technolog...</td>\n",
       "      <td>Positive</td>\n",
       "    </tr>\n",
       "    <tr>\n",
       "      <th>3</th>\n",
       "      <td>2023-12-07</td>\n",
       "      <td>Agilent (A) Enhances BioTek Cytation C10 With ...</td>\n",
       "      <td>A</td>\n",
       "      <td>Agilent Technologies A is enhancing its BioTek...</td>\n",
       "      <td>Neutral</td>\n",
       "    </tr>\n",
       "    <tr>\n",
       "      <th>4</th>\n",
       "      <td>2023-12-07</td>\n",
       "      <td>Pre-Market Most Active for Dec 7, 2023 : SQQQ,...</td>\n",
       "      <td>A</td>\n",
       "      <td>The NASDAQ 100 Pre-Market Indicator is up 70.2...</td>\n",
       "      <td>Neutral</td>\n",
       "    </tr>\n",
       "    <tr>\n",
       "      <th>...</th>\n",
       "      <td>...</td>\n",
       "      <td>...</td>\n",
       "      <td>...</td>\n",
       "      <td>...</td>\n",
       "      <td>...</td>\n",
       "    </tr>\n",
       "    <tr>\n",
       "      <th>241354</th>\n",
       "      <td>2018-01-09</td>\n",
       "      <td>Mid-Morning Market Update: Markets Mostly High...</td>\n",
       "      <td>BGFV</td>\n",
       "      <td>Following the market opening Tuesday, the Dow ...</td>\n",
       "      <td>Neutral</td>\n",
       "    </tr>\n",
       "    <tr>\n",
       "      <th>241355</th>\n",
       "      <td>2018-01-09</td>\n",
       "      <td>Big 5 (BGFV) Topples on Soft Q4 Sales, Lowers ...</td>\n",
       "      <td>BGFV</td>\n",
       "      <td>Big 5 Sporting Goods Corp.BGFV reported dismal...</td>\n",
       "      <td>Neutral</td>\n",
       "    </tr>\n",
       "    <tr>\n",
       "      <th>241356</th>\n",
       "      <td>2018-01-09</td>\n",
       "      <td>Tuesday Sector Laggards: Specialty Retail, App...</td>\n",
       "      <td>BGFV</td>\n",
       "      <td>In trading on Tuesday, specialty retail shares...</td>\n",
       "      <td>Neutral</td>\n",
       "    </tr>\n",
       "    <tr>\n",
       "      <th>241357</th>\n",
       "      <td>2018-01-05</td>\n",
       "      <td>New Strong Buy Stocks for January 5th</td>\n",
       "      <td>BGFV</td>\n",
       "      <td>Here are 5 stocks added to the Zacks Rank #1 (...</td>\n",
       "      <td>Neutral</td>\n",
       "    </tr>\n",
       "    <tr>\n",
       "      <th>241358</th>\n",
       "      <td>2018-01-05</td>\n",
       "      <td>Why Big 5 Sporting Goods (BGFV) Could Be a Top...</td>\n",
       "      <td>BGFV</td>\n",
       "      <td>Value investing is always a very popular strat...</td>\n",
       "      <td>Neutral</td>\n",
       "    </tr>\n",
       "  </tbody>\n",
       "</table>\n",
       "<p>241359 rows × 5 columns</p>\n",
       "</div>"
      ],
      "text/plain": [
       "              Date                                      Article_title  \\\n",
       "0       2023-12-16  Interesting A Put And Call Options For August ...   \n",
       "1       2023-12-12  Wolfe Research Initiates Coverage of Agilent T...   \n",
       "2       2023-12-12  Agilent Technologies Reaches Analyst Target Price   \n",
       "3       2023-12-07  Agilent (A) Enhances BioTek Cytation C10 With ...   \n",
       "4       2023-12-07  Pre-Market Most Active for Dec 7, 2023 : SQQQ,...   \n",
       "...            ...                                                ...   \n",
       "241354  2018-01-09  Mid-Morning Market Update: Markets Mostly High...   \n",
       "241355  2018-01-09  Big 5 (BGFV) Topples on Soft Q4 Sales, Lowers ...   \n",
       "241356  2018-01-09  Tuesday Sector Laggards: Specialty Retail, App...   \n",
       "241357  2018-01-05              New Strong Buy Stocks for January 5th   \n",
       "241358  2018-01-05  Why Big 5 Sporting Goods (BGFV) Could Be a Top...   \n",
       "\n",
       "       Stock_symbol                                            Article  \\\n",
       "0                 A  Investors in Agilent Technologies, Inc. (Symbo...   \n",
       "1                 A  Fintel reports that on December 13, 2023, Wolf...   \n",
       "2                 A  In recent trading, shares of Agilent Technolog...   \n",
       "3                 A  Agilent Technologies A is enhancing its BioTek...   \n",
       "4                 A  The NASDAQ 100 Pre-Market Indicator is up 70.2...   \n",
       "...             ...                                                ...   \n",
       "241354         BGFV  Following the market opening Tuesday, the Dow ...   \n",
       "241355         BGFV  Big 5 Sporting Goods Corp.BGFV reported dismal...   \n",
       "241356         BGFV  In trading on Tuesday, specialty retail shares...   \n",
       "241357         BGFV  Here are 5 stocks added to the Zacks Rank #1 (...   \n",
       "241358         BGFV  Value investing is always a very popular strat...   \n",
       "\n",
       "           Label  \n",
       "0        Neutral  \n",
       "1       Positive  \n",
       "2       Positive  \n",
       "3        Neutral  \n",
       "4        Neutral  \n",
       "...          ...  \n",
       "241354   Neutral  \n",
       "241355   Neutral  \n",
       "241356   Neutral  \n",
       "241357   Neutral  \n",
       "241358   Neutral  \n",
       "\n",
       "[241359 rows x 5 columns]"
      ]
     },
     "execution_count": 15,
     "metadata": {},
     "output_type": "execute_result"
    }
   ],
   "source": [
    "df_label=pd.read_csv(r\"F:\\College\\SEM 7\\19CSE453-Natural Language Processing\\Case Study\\Dataset\\cleaned_data_z_score.csv\")\n",
    "df_label"
   ]
  },
  {
   "cell_type": "code",
   "execution_count": 16,
   "id": "1d16a3e6",
   "metadata": {},
   "outputs": [
    {
     "name": "stdout",
     "output_type": "stream",
     "text": [
      "Reduced dataset size: (218391, 5)\n"
     ]
    }
   ],
   "source": [
    "valid_tickers = set(stock_data_dict.keys())\n",
    "\n",
    "df_reduced = df_label[df_label[\"Stock_symbol\"].isin(valid_tickers)].copy()\n",
    "print(\"Reduced dataset size:\", df_reduced.shape)\n"
   ]
  },
  {
   "cell_type": "code",
   "execution_count": 17,
   "id": "4aafe744",
   "metadata": {},
   "outputs": [
    {
     "name": "stdout",
     "output_type": "stream",
     "text": [
      "Label\n",
      "Neutral     106054\n",
      "Positive     60396\n",
      "Negative     51941\n",
      "Name: count, dtype: int64\n"
     ]
    }
   ],
   "source": [
    "print(df_reduced[\"Label\"].value_counts())"
   ]
  },
  {
   "cell_type": "code",
   "execution_count": 18,
   "id": "8e892249",
   "metadata": {},
   "outputs": [
    {
     "name": "stderr",
     "output_type": "stream",
     "text": [
      "C:\\Users\\saman\\AppData\\Local\\Temp\\ipykernel_7304\\2865511171.py:5: FutureWarning: DataFrameGroupBy.apply operated on the grouping columns. This behavior is deprecated, and in a future version of pandas the grouping columns will be excluded from the operation. Either pass `include_groups=False` to exclude the groupings or explicitly select the grouping columns after groupby to silence this warning.\n",
      "  .apply(lambda x: x.sample(n=target_per_class, random_state=42))\n"
     ]
    },
    {
     "name": "stdout",
     "output_type": "stream",
     "text": [
      "Label\n",
      "Negative    3333\n",
      "Neutral     3333\n",
      "Positive    3333\n",
      "Name: count, dtype: int64\n",
      "Final dataset size: (9999, 5)\n"
     ]
    }
   ],
   "source": [
    "target_per_class = 10000 // 3  \n",
    "\n",
    "df_10k = (\n",
    "    df_reduced.groupby(\"Label\")\n",
    "    .apply(lambda x: x.sample(n=target_per_class, random_state=42))\n",
    "    .reset_index(drop=True)\n",
    ")\n",
    "\n",
    "print(df_10k[\"Label\"].value_counts())\n",
    "print(\"Final dataset size:\", df_10k.shape)\n",
    "\n",
    "# Save for training\n",
    "df_10k.to_csv(r'F:\\College\\SEM 7\\19CSE453-Natural Language Processing\\Case Study\\Dataset\\FNSPID_10k.csv', index=False)"
   ]
  },
  {
   "cell_type": "code",
   "execution_count": 19,
   "id": "a766b68f",
   "metadata": {},
   "outputs": [
    {
     "name": "stdout",
     "output_type": "stream",
     "text": [
      "Year\n",
      "2018    1011\n",
      "2019     718\n",
      "2020     844\n",
      "2021    1105\n",
      "2022    1778\n",
      "2023    4543\n",
      "Name: Date, dtype: int64\n"
     ]
    }
   ],
   "source": [
    "# Extract year from Date column\n",
    "df_10k[\"Year\"] = pd.to_datetime(df_10k[\"Date\"]).dt.year\n",
    "\n",
    "# Count articles per year\n",
    "year_counts = df_10k.groupby(\"Year\")[\"Date\"].count()\n",
    "\n",
    "print(year_counts)\n"
   ]
  },
  {
   "cell_type": "code",
   "execution_count": 20,
   "id": "74537d7b",
   "metadata": {},
   "outputs": [
    {
     "data": {
      "text/plain": [
       "(9999, 6)"
      ]
     },
     "execution_count": 20,
     "metadata": {},
     "output_type": "execute_result"
    }
   ],
   "source": [
    "df_10k.shape"
   ]
  },
  {
   "cell_type": "code",
   "execution_count": 30,
   "id": "06335559",
   "metadata": {},
   "outputs": [
    {
     "data": {
      "application/vnd.microsoft.datawrangler.viewer.v0+json": {
       "columns": [
        {
         "name": "index",
         "rawType": "int64",
         "type": "integer"
        },
        {
         "name": "Date",
         "rawType": "object",
         "type": "string"
        },
        {
         "name": "Article_title",
         "rawType": "object",
         "type": "string"
        },
        {
         "name": "Stock_symbol",
         "rawType": "object",
         "type": "string"
        },
        {
         "name": "Article",
         "rawType": "object",
         "type": "string"
        },
        {
         "name": "Label",
         "rawType": "object",
         "type": "string"
        }
       ],
       "ref": "46d5db40-f809-4271-9972-513f96c8d5ec",
       "rows": [
        [
         "0",
         "2022-11-17",
         "Foxconn hires over 100,000 workers for COVID-hit Chinese plant - Yicai",
         "AAPL",
         "SHANGHAI, Nov 17 (Reuters) - Apple AAPL.O supplier Foxconn 2317.TW has hit a hiring target of 100,000 new workers for its Zhengzhou plant in China,financial newsoutlet Yicai reported on Thursday, a milestone that could ease production pressure at the COVID-hit site.\nYicai, citing an unidentified high-ranking staffer at the plant, said Foxconn had received more than 100,000 job applications so far and was ending its latest hiring drive.\nFoxconn, formally known as Hon Hai Precision Industry, did not immediately respond to a request for comment.\nThe plant, the world's largest iPhone manufacturing facility, has since last month faced staff discontent over government mandated measures to curb the spread of COVID-19, which required the company to isolate many employees and prompted some to flee.\nApple last week lowered its forecast for shipments of the premium iPhone 14 model due to the situation. Reuters last month reported that Foxconn's production of iPhones at the Zhengzhou factory could slump by as much as 30% in November.\nEarlier this month, Foxconn quadrupled bonuses for workers who stayed and also began a recruitment drive that advertised higher than usual salaries.\nSome local authorities in Henan province urged retired soldiers and government workers to take on stints at the factory, which prior to the situation had about 200,000 workers.\n(Reporting by Brenda Goh; Additional reporting by Yew Lun Tian and Ben Blanchard Editing by Mark Potter)\n((brenda.goh@thomsonreuters.com; +86 (0) 21 2083 0088; Reuters Messaging: brenda.goh.thomsonreuters.com@reuters.net))\nThe views and opinions expressed herein are the views and opinions of the author and do not necessarily reflect those of Nasdaq, Inc.",
         "Negative"
        ],
        [
         "1",
         "2023-09-26",
         "Atmos Energy Stock Getting Very Oversold",
         "ATO",
         "In trading on Tuesday, shares of Atmos Energy Corp. (Symbol: ATO) entered into oversold territory, changing hands as low as $106.75 per share. We define oversold territory using the Relative Strength Index, or RSI, which is a technical analysis indicator used to measure momentum on a scale of zero to 100. A stock is considered to be oversold if the RSI reading falls below 30.\nIn the case of Atmos Energy Corp., the RSI reading has hit 24.9 — by comparison, the universe of energy stocks covered by Energy Stock Channel currently has an average RSI of 44.3, the RSI of WTI Crude Oil is at 61.7, the RSI of Henry Hub Natural Gas is presently 46.2, and the 3-2-1 Crack Spread RSI is 28.9. A bullish investor could look at ATO's 24.9 reading as a sign that the recent heavy selling is in the process of exhausting itself, and begin to look for entry point opportunities on the buy side.\nLooking at a chart of one year performance (below), ATO's low point in its 52 week range is $97.71 per share, with $125.28 as the 52 week high point — that compares with a last trade of $106.99. Atmos Energy Corp. shares are currently trading down about 3.2% on the day.\nThe ATO RSI information above was sourced from TechnicalAnalysisChannel.com\nClick here to find out which 9 other oversold energy stocks you need to know about »\nAlso see:\n Funds Holding NEXI\n STLD Next Dividend Date\n Top Ten Hedge Funds Holding CBA\nThe views and opinions expressed herein are the views and opinions of the author and do not necessarily reflect those of Nasdaq, Inc.",
         "Negative"
        ],
        [
         "2",
         "2021-09-22",
         "September Sell-Off: 3 Dirt Cheap Growth Stocks to Buy",
         "BABA",
         "September's been a rough month for the stock market, and on Monday, the S&P 500 had its worst day in months, falling 1.7%. Stocks across the board have been declining of late, and for investors, that has created some attractive buying opportunities along the way.\nWhile you might be concerned about this volatility, this has simply become the new normal since the start of the pandemic. It doesn't mean that the markets are going overboard and an all-out crash is imminent. Instead, it may be time to load up on three growth stocks near their 52-week lows, including Jazz Pharmaceuticals (NASDAQ: JAZZ), Activision Blizzard (NASDAQ: ATVI), and Alibaba Group Holding (NYSE: BABA).\nImage source: Getty Images.\n1. Jazz Pharmaceuticals\nHealthcare company Jazz Pharmaceuticals is trading at around $130 and has been falling more than 20% year to date, while the S&P 500 has risen by 16%. I thought the stock was a good deal when it fell to $140; now it's an even better buy. And I'm not alone, many brokerages have set price targets of more than $210 for the stock -- representing a possible upside of more than 60%.\nWhat makes Jazz an attractive business is that it has been consistently profitable over the past five years, generating at least a 20% net margin in four of those years. The company's bottom line has been struggling of late, but that's also because it recently acquired GW Pharmaceuticals, which is in the cannabis pharmaceuticals business, and Jazz has incurred integration-related expenses as a result of that.\nBut the opportunity could more than make up for that as GW owns the only cannabis-based drug that the Food and Drug Administration has approved thus far, Epidiolex. And for the period ending June 30, its revenue grew by 32% year over year to $156 million. That would have made it the second-largest drug in Jazz's portfolio (the deal only closed in May, so a full quarter of drug sales weren't included in the company's results this past quarter). It was behind only narcolepsy drug Xyrem, which brought in $334 million for Jazz. And with expansion opportunities in Europe, Epidiolex could bridge the gap in the not-too-distant future.\nThere's a lot of potential for Jazz's stock, and investors shouldn't overlook the great opportunity to buy the stock on the dip.\n2. Activision Blizzard\nGaming company Activision Blizzard is another stock that is right around its 52-week lows and has considerable potential. Hammered by news of poor workplace practices, the stock has fallen 20% thus far in 2021. And while those aren't issues to be dismissive of, they shouldn't cripple the company, either. As long as the underlying business is sound, buying amid negative press can be an effective way to find a good deal in the markets.\nTrading at around $75, this is another stock that brokerages are bullish on, with several projecting that it will rise by more than 40% to at least $105 a share. The video game company has many titles in its portfolio that are popular with consumers, including several from the Call of Duty franchise. Its latest game in the series, Vanguard, is coming out in November, and if it proves to be popular, that could improve the outlook for the stock.\nEither way, I wouldn't count out the business as revenue grew by 25% in 2020 to $8.1 billion -- all while it maintained an impressive profit margin of 27%. Even if things slow down as things get back to normal in the economy and people aren't stuck at home anymore, Activision has likely gained many new gamers from last year, which should lead to some strong growth for the foreseeable future.\n3. Alibaba Group Holding\nChinese-based Alibaba is the riskiest stock on this list. If it weren't for concerns about crackdowns in the country, there is no reason for investors not to buy the stock at its current price of around $150. Some analysts see the stock potentially doubling to $300.\nThe company was hit with a $2.8 billion antitrust fine earlier this year, so Chinese regulators have already weighed down the tech company's financials. If that's the worst that happens to the business, it should be in good shape, as for the period ending June 30, it reported $6.6 billion in profit alone. But the danger is that there's no certainty the government may not put measures into place that limit its growth opportunities.\nThe risk is there, but so are opportunities. Alibaba generated year-over-year revenue growth of 34% last quarter, and the business is investing in multiple autonomous driving companies in China, the latest being start-up DeepRoute.ai.\nAlibaba is a diverse business with opportunities in tech everywhere in China, from e-commerce to media to cloud computing to autonomous vehicles. The potential the company has to grow over the years makes me skeptical the Chinese government would want to impede its position on the world stage. Its recent fine sends a message to the company without crippling its operations, which might strike enough of a balance for regulators.\nAlthough Alibaba's stock has fallen a significant 35% this year, I wouldn't count on it staying down over the long term. It could make for an excellent growth stock to buy right now.\n10 stocks we like better than Jazz Pharmaceuticals\nWhen our award-winning analyst team has a stock tip, it can pay to listen. After all, the newsletter they have run for over a decade, Motley Fool Stock Advisor, has tripled the market.*\nThey just revealed what they believe are the ten best stocks for investors to buy right now... and Jazz Pharmaceuticals wasn't one of them! That's right -- they think these 10 stocks are even better buys.\nSee the 10 stocks\n*Stock Advisor returns as of September 17, 2021\nDavid Jagielski owns shares of Activision Blizzard. The Motley Fool owns shares of and recommends Activision Blizzard and Alibaba Group Holding Ltd. The Motley Fool has a disclosure policy.\nThe views and opinions expressed herein are the views and opinions of the author and do not necessarily reflect those of Nasdaq, Inc.",
         "Negative"
        ],
        [
         "3",
         "2021-04-07",
         "What Type Of Shareholders Make Up Aprea Therapeutics, Inc.'s (NASDAQ:APRE) Share Registry?",
         "APRE",
         "Every investor in Aprea Therapeutics, Inc. (NASDAQ:APRE) should be aware of the most powerful shareholder groups. Institutions will often hold stock in bigger companies, and we expect to see insiders owning a noticeable percentage of the smaller ones. Companies that used to be publicly owned tend to have lower insider ownership.\nWith a market capitalization of US$106m, Aprea Therapeutics is a small cap stock, so it might not be well known by many institutional investors. Our analysis of the ownership of the company, below, shows that institutional investors have bought into the company. We can zoom in on the different ownership groups, to learn more about Aprea Therapeutics.\nNasdaqGS:APRE Ownership Breakdown April 7th 2021\nWhat Does The Institutional Ownership Tell Us About Aprea Therapeutics?\nInstitutional investors commonly compare their own returns to the returns of a commonly followed index. So they generally do consider buying larger companies that are included in the relevant benchmark index.\nAprea Therapeutics already has institutions on the share registry. Indeed, they own a respectable stake in the company. This suggests some credibility amongst professional investors. But we can't rely on that fact alone since institutions make bad investments sometimes, just like everyone does. When multiple institutions own a stock, there's always a risk that they are in a 'crowded trade'. When such a trade goes wrong, multiple parties may compete to sell stock fast. This risk is higher in a company without a history of growth. You can see Aprea Therapeutics' historic earnings and revenue below, but keep in mind there's always more to the story.\nNasdaqGS:APRE Earnings and Revenue Growth April 7th 2021\nIt would appear that 6.0% of Aprea Therapeutics shares are controlled by hedge funds. That's interesting, because hedge funds can be quite active and activist. Many look for medium term catalysts that will drive the share price higher. Looking at our data, we can see that the largest shareholder is Odlander, Fredrikson & Co. AB with 11% of shares outstanding. KDev Investments AB is the second largest shareholder owning 8.4% of common stock, and Redmile Group, LLC holds about 6.0% of the company stock.\nWe did some more digging and found that 9 of the top shareholders account for roughly 53% of the register, implying that along with larger shareholders, there are a few smaller shareholders, thereby balancing out each others interests somewhat.\nWhile studying institutional ownership for a company can add value to your research, it is also a good practice to research analyst recommendations to get a deeper understand of a stock's expected performance. Quite a few analysts cover the stock, so you could look into forecast growth quite easily.\nInsider Ownership Of Aprea Therapeutics\nThe definition of an insider can differ slightly between different countries, but members of the board of directors always count. Company management run the business, but the CEO will answer to the board, even if he or she is a member of it.\nInsider ownership is positive when it signals leadership are thinking like the true owners of the company. However, high insider ownership can also give immense power to a small group within the company. This can be negative in some circumstances.\nI can report that insiders do own shares in Aprea Therapeutics, Inc.. In their own names, insiders own US$1.5m worth of stock in the US$106m company. This shows at least some alignment, but I usually like to see larger insider holdings. You can click here to see if those insiders have been buying or selling.\nGeneral Public Ownership\nThe general public holds a 32% stake in Aprea Therapeutics. This size of ownership, while considerable, may not be enough to change company policy if the decision is not in sync with other large shareholders.\nPrivate Equity Ownership\nPrivate equity firms hold a 17% stake in Aprea Therapeutics. This suggests they can be influential in key policy decisions. Sometimes we see private equity stick around for the long term, but generally speaking they have a shorter investment horizon and -- as the name suggests -- don't invest in public companies much. After some time they may look to sell and redeploy capital elsewhere.\nPrivate Company Ownership\nOur data indicates that Private Companies hold 8.4%, of the company's shares. Private companies may be related parties. Sometimes insiders have an interest in a public company through a holding in a private company, rather than in their own capacity as an individual. While it's hard to draw any broad stroke conclusions, it is worth noting as an area for further research.\nNext Steps:\nWhile it is well worth considering the different groups that own a company, there are other factors that are even more important. For example, we've discovered 2 warning signs for Aprea Therapeutics that you should be aware of before investing here.\nIf you are like me, you may want to think about whether this company will grow or shrink. Luckily, you can check this free report showing analyst forecasts for its future.\nNB: Figures in this article are calculated using data from the last twelve months, which refer to the 12-month period ending on the last date of the month the financial statement is dated. This may not be consistent with full year annual report figures.\nThis article by Simply Wall St is general in nature. It does not constitute a recommendation to buy or sell any stock, and does not take account of your objectives, or your financial situation. We aim to bring you long-term focused analysis driven by fundamental data. Note that our analysis may not factor in the latest price-sensitive company announcements or qualitative material. Simply Wall St has no position in any stocks mentioned.\n\nHave feedback on this article? Concerned about the content? Get in touch with us directly. Alternatively, email editorial-team (at) simplywallst.com.\nThe views and opinions expressed herein are the views and opinions of the author and do not necessarily reflect those of Nasdaq, Inc.",
         "Negative"
        ],
        [
         "4",
         "2023-12-06",
         "This Generative Artificial Intelligence (AI) Stock Has Doubled in 2023, and It Can Still Deliver Magnificent Growth",
         "AKO-B",
         "Generative artificial intelligence (AI) applications have gained a lot of popularity since the end of 2022 thanks to the technology's user-friendly nature, which allows users to quickly get answers to their queries with the help of simple text prompts.\nFrom generating search results to creating marketing campaigns, writing code, and creating images, the use cases of generative AI applications such as chatbots have increased tremendously this year. The good part is that generative AI adoption is expected to jump significantly over the next decade. Bloomberg Intelligence forecasts that the generative AI market could be worth a whopping $1.3 trillion in 2032 as compared to just $40 billion last year.\nThe cybersecurity market is set to be one of the big beneficiaries of the growth in generative AI. According to Bloomberg Intelligence, generative AI-based cybersecurity spending could jump from just $9 million last year to almost $14 billion in 2032, clocking a terrific compound annual growth rate (CAGR) of 109% over the next decade.\nCrowdStrike (NASDAQ: CRWD) allows investors to tap into this lucrative niche. Share prices of the cybersecurity specialist have more than doubled this year, securing gains of 123%. More importantly, its latest results sent the stock up 10% on Nov. 29 and also indicate that it is built for more upside in the future. Let's see why that may be the case.\nGenerative AI could accelerate CrowdStrike's impressive growth\nCrowdStrike released fiscal 2024 third-quarter results (for the three months ended Oct. 31, 2023) on Nov. 28. The company's revenue increased 35% year over year to $786 million, exceeding the $777 million consensus estimate. CrowdStrike's adjusted earnings, meanwhile, increased to $0.82 per share last quarter from $0.40 per share in the prior-year period. Analysts would have settled for $0.74 per share in revenue.\nMore importantly, CrowdStrike ended the quarter with annual recurring revenue (ARR) of $3.15 billion, an increase of 35% over the year-ago quarter. The company calculates ARR as the annualized value of its subscription contracts at the end of a period, so the healthy growth in this metric indicates that the company is building a solid revenue pipeline for the future.\nOne of the reasons why the company's ARR is growing at a robust pace is that customers are purchasing more cybersecurity solutions from the company. For instance, the number of CrowdStrike subscription customers using seven or more modules from the company stood at 26%, up from 21% in the year-ago period. What's more, the number of CrowdStrike customers using five or more of its modules was up to 63% last quarter compared to 60% a year ago.\nOne of the reasons behind the growing customer adoption of CrowdStrike's security offerings could be the company's focus on integrating AI into its solutions. The company's AI-powered extended detection and response platform, known as Falcon, is witnessing \"strong demand,\" which is \"driving our pipeline to new heights,\" according to CFO Burt Podbere, speaking on the company's Q3earnings call\nThe Falcon platform harnesses the power of AI to collect data across multiple security endpoints to improve the pace of threat detection, investigation, and response. In May this year, CrowdStrike added a generative AI-powered virtual security analyst known as Charlotte AI to Falcon, pointing out that it built this security assistant into the \"core\" of the platform.\nCrowdStrike points out that Charlotte AI has been designed to \"help users of all skill levels improve their ability to stop breaches while reducing security operations complexity.\" The company claims that even novice users on the Falcon platform could operate like power users with Charlotte AI, as they can simply ask questions to the generative AI-powered assistant to get relevant answers concerning the organization's cybersecurity operations.\nOn the Q3earnings call CrowdStrike CEO George Kurtz claimed that generative AI \"can turn hours of work into minutes while democratizing cybersecurity,\" and he believes that this has been a key factor in the growing adoption of the Falcon platform. Management points out that Charlotte AI is currently in preview mode, but customers who are using it are \"able to do things way faster than they ever could and they're able to explore and ask questions that they haven't been able to do in the past.\"\nCrowdStrike says Charlotte AI's pricing has been \"incredibly well received,\" so there is a good chance that this solution could drive even stronger growth for the company once it is commercially released.\nStronger growth could be in the cards\nCrowdStrike expects to finish the current fiscal year with revenue of almost $3.05 billion, which would be a 35% increase over last year. That's impressive considering that CrowdStrike is currently witnessing a \"challenging macro environment and geopolitical tensions\" that's leading customers to scrutinize their cybersecurity budgets.\nAnalysts anticipate CrowdStrike will clock 25%-plus revenue growth over the next couple of years.\nCRWD Revenue Estimates for Current Fiscal Year data by YCharts\nWhat's more, the company's bottom line could increase at an annual pace of 40% over the next five years as per analyst estimates. However, the advent of generative AI within the cybersecurity market and the steps taken by CrowdStrike to capitalize on this opportunity could eventually help the company grow more quickly.\nAssuming CrowdStrike's earnings do increase at an annual rate of 41% for the next five years, its bottom line could hit $15.22 per share at the end of fiscal 2029 (using fiscal 2024's estimated earnings of $2.83 per share as the base). CrowdStrike is currently trading at 60 times forward earnings, which is on the expensive side. But that's well below its five-year average forward earnings multiple of 388.\nEven if CrowdStrike trades at 30 times forward earnings after five years, its stock price could increase to $456 based on the projected earnings of $15.22. That would be nearly double the company's current stock price, which is why investors looking for a fast-growing cybersecurity company that's benefiting from the AI boom may want to buy CrowdStrike stock before it flies higher.\nFind out why CrowdStrike is one of the 10 best stocks to buy now\nOur analyst team has spent more than a decade beating the market. After all, the newsletter they have run for over a decade, Motley Fool Stock Advisor, has tripled the market.*\nThey just revealed their ten top stock picks for investors to buy right now. CrowdStrike is on the list -- but there are nine others you may be overlooking.\nClick here to get access to the full list!\n*Stock Advisor returns as of November 29, 2023\nHarsh Chauhan has no position in any of the stocks mentioned. The Motley Fool has positions in and recommends CrowdStrike. The Motley Fool has a disclosure policy.\nThe views and opinions expressed herein are the views and opinions of the author and do not necessarily reflect those of Nasdaq, Inc.",
         "Negative"
        ],
        [
         "5",
         "2018-06-29",
         "Defense Stock Roundup: Trade War Fears Loom on Stocks, BA, LMT & GD Win Deals",
         "BA",
         "On Jun 22, the European Union (EU) slapped tariffs on $3.2 billion of American products in response to taxes imposed on steel and aluminum by the United States. It seems like trade tensions have rapidly spread to other parts of the world in a ripple effect of the ongoing dispute between America and China over tariff impositions and trade protectionism issues.\nUnfortunately, global stocks were caught in crossfire as is evident from their underperformance over the past five trading sessions. Consequently, a generous flow of funds from the Pentagon was not sufficient to boost the aerospace and defense stocks. Evidently, major indices of the Aerospace-Defense space - the S&P 500 Aerospace & Defense (Industry) index and the Dow Jones U.S. Aerospace & Defense index - dropped 0.6% in the last five trading sessions.\nAmong last week's highlights, defense majors - The Boeing Company BA , Lockheed Martin Corp. LMT , General Dynamics Corp. GD and Huntington Ingalls Industries, Inc. HII - secured a few orders from the Department of Defense's daily funding session.\n(Read Defense Stock Roundup for June 21, 2018 here )\nRecap of Last Week's Key Stories\n1. Boeing secured a contract worth $1.5 billion for the production and delivery of 22 F/A-18E and six F/A-18F Super Hornets to support the government of Kuwait. Work related to the deal is scheduled to be over by January 2021.\nThe contract was awarded by the Naval Air Systems Command, Patuxent River, Maryland. Majority of the order will be carried out in El Segundo, CA and Hazelwood, MO. (read more: Boeing Wins $1.5B Deal for Delivering F/A-18 Jets to Kuwait ).\n2. Lockheed Martin 's Aeronautics division secured a foreign military sales (FMS) contract worth $1.1 billion for manufacturing 16 F-16 V Block 70 aircraft. Work related to the deal is scheduled to be completed by Sep 30, 2020.\nThe contract was awarded by the Air Force Life Cycle Management Center, Wright-Patterson Air Force Base, Ohio. Per the terms of the agreement, the F-16 jets will be delivered to the Kingdom of Bahrain. The production will be carried out in Greenville, SC and Fort Worth, TX (read more: Lockheed Martin Wins $1.1B Deal to Build F-16 for Bahrain ).\nThe company's Missile and Fire Control (MFC) business division also clinched a $364.6 million contract for Army Tactical Guided Missile and Launching Assembly Service Life Extension program. The deal was awarded by the U.S. Army Contracting Command, Redstone Arsenal, AL.\nAccording to the agreement, Lockheed Martin will deliver the missiles and extension programs to the Romanian Army. Work related to the deal will be performed in Dallas, TX; Boulder, CO; Clearwater, FL; Cincinnati, OH and various other locations across the United States. The task is expected to get completed in Mar 26, 2020 (read more: Lockheed Martin Wins $365M FMS Deal for its Missiles Programs ).\nAgain, Lockheed Martin's Aeronautics business division clinched a $175.3-million modification contract to support the F-35 Lightning depot implementation plan for the U.S. Air Force, Marine Corps, Navy and non-Department of Defense (DoD) participants. The contract was awarded by the Naval Air Systems Command, Patuxent River, MD.\nWork related to the deal will be performed in Nashua, NH; Torrance, CA; Fort Worth, TX and other various locations across the United States. The tasks are expected to be over by November 2021 (read more: Lockheed Martin Wins $175M Deal for F-35 Component Repairs ).\n3.General Dynamics ' business unit, Land Systems, secured a $258.6 million modification contract to upgrade Stryker flat-bottom vehicles to the patented double V-hull design. The contract was awarded by the U.S. Army Contracting Command, Warren, MI.\nWork related to the deal will be performed in Sterling Heights, MI, and is expected to be completed in Mar 31, 2020. General Dynamics will utilize fiscal 2018 procurement of weapons and tracked combat vehicles' funds for completing the task (read more: General Dynamics Wins $259M Deal for Stryker Land Vehicle ).\nMoreover, its subsidiary - Ordnance and Tactical Systems, Inc - clinched a $149.2-million modification deal for Hydra rockets, motors and associated components. The contract was awarded by the U.S. Army Contracting Command, Redstone Arsenal, AL, under the foreign military sales (FMS) program.\nPer the terms of the deal, General Dynamics will deliver various quantities of M151, M274, M257, M278, M156, M264, M278, and WTU-1/B warheads for Hydra-70 rockets, motors and associated components to Saudi Arabia, Afghanistan, Kenya, Jordan, Nigeria and Qatar (read more: General Dynamics Wins $149M Army Deal for Hydra Rockets ).\n4.Huntington Ingalls' Newport News won a modification contract worth $200.4 million to purchase additional long lead time material for supporting the USS Enterprise (CVN 80). Work related to the deal is scheduled to be over by February 2027.\nThe contract was awarded by the Naval Sea Systems Command, Washington Navy Yard, Washington, DC. The company will utilize fiscal 2018 shipbuilding and conversion (Navy) fund to finance the task, which will be executed in Newport News, VA (read more: Huntington Ingalls Wins $200M Deal to Support CVN 80 Program ).\nPerformance\nOver the last five trading sessions, the defense biggies put up a dismal show. Textron lost the most with a 2% decline, followed by Northrop Grumman.\nHowever, over the last six months, the industry has put up a mixed performance. Keeping up with its usual trend, Boeing once again gained the most with its shares increasing 13%, while Lockheed Martin lost the maximum with an 8.3% decline.\nThe following table shows the price movement of the major defense players over the past five trading days and during the last six months.\nThe views and opinions expressed herein are the views and opinions of the author and do not necessarily reflect those of Nasdaq, Inc.\nThe views and opinions expressed herein are the views and opinions of the author and do not necessarily reflect those of Nasdaq, Inc.",
         "Negative"
        ],
        [
         "6",
         "2023-12-04",
         "Are Options Traders Betting on a Big Move in Affirm Holdings (AFRM) Stock?",
         "AKO-B",
         "Investors in Affirm Holdings, Inc. AFRM need to pay close attention to the stock based on moves in the options market lately. That is because the Jan 19, 2024 $105.00 Put had some of the highest implied volatility of all equity options today.\nWhat is Implied Volatility?\nImplied volatility shows how much movement the market is expecting in the future. Options with high levels of implied volatility suggest that investors in the underlying stocks are expecting a big move in one direction or the other. It could also mean there is an event coming up soon that may cause a big rally or a huge sell-off. However, implied volatility is only one piece of the puzzle when putting together an options trading strategy.\nWhat do the Analysts Think?\nClearly, options traders are pricing in a big move for Affirm Holdings shares, but what is the fundamental picture for the company? Currently, Affirm Holdings is a Zacks Rank #2 (Buy) in the Business - Services industry that ranks in the Top 10% of our Zacks Industry Rank. Over the last 30 days, three analysts have increased the earnings estimates for the current quarter, while none have revised the estimates downward. The net effect has taken our Zacks Consensus Estimate for the current quarter from 2 cents per share to 6 cents in that period.\nGiven the way analysts feel Affirm Holdings right now, this huge implied volatility could mean there’s a trade developing. Oftentimes, options traders look for options with high levels of implied volatility to sell premium. This is a strategy many seasoned traders use because it captures decay. At expiration, the hope for these traders is that the underlying stock does not move as much as originally expected.\nLooking to Trade Options?\nCheck out the simple yet high-powered approach that Zacks Executive VP Kevin Matras has used to close recent double and triple-digit winners. In addition to impressive profit potential, these trades can actually reduce your risk.\nClick to see the trades now >>\nZacks Names \"Single Best Pick to Double\"\nFrom thousands of stocks, 5 Zacks experts each have chosen their favorite to skyrocket +100% or more in months to come. From those 5, Director of Research Sheraz Mian hand-picks one to have the most explosive upside of all.\nIt’s credited with a “watershed medical breakthrough” and is developing a bustling pipeline of other projects that could make a world of difference for patients suffering from diseases involving the liver, lungs, and blood. This is a timely investment that you can catch while it emerges from its bear market lows.\nIt could rival or surpass other recent Stocks Set to Double like Boston Beer Company which shot up +143.0% in little more than 9 months and NVIDIA which boomed +175.9% in one year.\nFree: See Our Top Stock And 4 Runners Up\nWant the latest recommendations from Zacks Investment Research? Today, you can download 7 Best Stocks for the Next 30 Days. Click to get this free report\nAffirm Holdings, Inc. (AFRM) : Free Stock Analysis Report\nTo read this article on Zacks.com click here.\nZacks Investment Research\nThe views and opinions expressed herein are the views and opinions of the author and do not necessarily reflect those of Nasdaq, Inc.",
         "Negative"
        ],
        [
         "7",
         "2020-08-06",
         "Arrowhead Pharmaceuticals, Inc (ARWR) Q3 2020 Earnings Call Transcript",
         "ARWR",
         "Image source: The Motley Fool.\nArrowhead Pharmaceuticals, Inc (NASDAQ: ARWR)\nQ3 2020 Earnings Call\nAug 5, 2020, 4:30 p.m. ET\nContents:\nPrepared Remarks\nQuestions and Answers\nCall Participants\nPrepared Remarks:\nOperator\nLadies and gentlemen, welcome to the Arrowhead Pharmaceuticals Conference Call. [Operator Instructions] [Operator Instructions] [Operator Instructions]\nI will now hand the conference call over to Vincent Anzalone, Vice President of Investor Relations for Arrowhead. Please go ahead Vince.\nVincent Anzalone -- Vice President of Investor Relations\nThank you, Jeff. Good afternoon, everyone. Thank you for joining us today to discuss Arrowhead's results for its Fiscal Third Quarter ended June 30, 2020. With us today from management are President and CEO Dr. Christopher Anzalone, who will provide an overview of the quarter; Dr. Javier San Martin, Chief Medical Officer, who will discuss our clinical programs; and Ken Myszkowski, our Chief Financial Officer, who will give a review of the financials. In addition, James Hassard, our Chief Commercial Officer, and Dr. Curt Bradshaw, our Chief Scientific Officer, will be available during the Q&A session of today's call. Before we begin, I would like to remind you that comments made during today's call contain certain forward-looking statements within the meaning of Section 27A of the Securities Act of 1933 and Section 21E of the Securities Exchange Act of 1934.\nAll statements other than statements of historical fact, including without limitation those with respect to Arrowhead's goals, plans, and strategies are forward-looking statements. These include statements regarding our expectations around the development, safety and efficacy of our drug candidates, projected cash runway, and expected future development and commercialization activities. These statements represent management's current expectations and are inherently uncertain. Thus, actual results may differ materially. Arrowhead disclaims any intent and undertakes no duty to update any of the forward-looking statements discussed on today's call. You should refer to the discussions under Risk Factors in Arrowhead's annual report on Form 10-K and the company's subsequent quarterly reports on Form 10-Q for additional matters to be considered in this regard, including risks and other considerations that could cause actual results to vary from the presently expected results expressed in today's call.\nWith that said, I'll turn the call over to Chris Anzalone, President and CEO of the company. Chris?\nChristopher Anzalone -- President and Chief Executive Officer\nThanks Vince. Good afternoon everyone and thank you for joining us today. We've already made a lot of progress this year, notwithstanding, the challenges that COVID-19 has presented to the world broadly and in particular to those of us developing new medicines. We took decisive action and placed a voluntary pause on new patient screening enrollment in some of our clinical studies in order to limit the risk to participants. We take very seriously our obligation to protect the health safety -- the health and safety of our employees, business partners, and patients that participate in our studies. That was the right thing to do. The good news is that we don't believe any of our development programs were affected in a material way. That is a testament to the Arrowhead drive toward innovation, speed, and precision. We find a way forward, even when the way is not clear. This is a hallmark of the Arrowhead culture and something that I am very proud of.\nEven though COVID still presents some uncertainty, we are confident that 2020 can continue to be a highly productive last part of the year as we work to; one, expand our pipeline; two, make progress and provide data readouts on multiple clinical programs; and, three, gain clinical proof-of-concept for our first extra-hepatic candidates. So, what have we done and what are our plans in order to achieve these three important goals? Let's answer that by reviewing some key programs. I'll start by speaking broadly about our discovery stage programs. The partnership we signed with Janssen in 2018 included three potential new products against targets to be selected by Janssen. While we can't disclose the targets, the specific stage, or report data on these potential product candidates, we can say that we have made good progress on all three. We previously talked about ARO-JNJ1, because the first target was selected early on in the partnership and work began soon after.\nWe are now at a sufficiently advanced stage for the other two potential product candidates to add them to our pipeline and designate them ARO-JNJ2 and ARO-JNJ3. The partnership with Janssen has been very productive, including for ARO-HBV, now called JNJ-3989, which continues to progress rapidly in multiple Phase IIb studies being conducted by Janssen. Staying with earlier stage development, let's move on to our pre-clinical programs that utilize our TRiMTM platform, targeting the pulmonary space. Our second program after ARO-ENaC, is ARO-LUNG2 designed to treat COPD by inhibiting an undisclosed target in pulmonary epithelia. We previously announced that it had officially been nominated as a candidate and moved from preclinical into Pre-IND stage. We have continued to make good progress on the IND-enabling studies and are on track to potentially file a CTA for ARO-LUNG2 at the end of this year.\nIt has been our goal to gain clinical proof-of-concept and then move into a rapid pipeline expansion phase for the pulmonary platform. We think we are just on the cusp of that phase now. To that end, we continue to work in parallel on multiple additional targets in the pulmonary space. We think the lung is a target rich environment with multiple opportunities for asthma, COPD, Idiopathic Pulmonary Fibrosis, and other diseases that are not adequately treated. We have also made good progress on several potential candidates designed to treat the novel coronavirus that causes COVID-19. This is the first time we have disclosed that we are pursuing multiple different therapeutics at the same time, and I think it's important. This is a difficult virus and we believe the best way forward is to address multiple strategies.\nOne is to try to close the front door, if you will, by knocking down a receptor that the virus uses to gain entry into cells; a second is a direct antiviral approach that targets the viral mRNA; and a third is to pursue anti-inflammatory pathways. We are pursuing all of these in parallel and believe this broad, holistic strategy gives us multiple shots on goal and a more complete approach to a poorly understood virus. Given our experience in the lung and our work in HBV, I believe we are well-positioned to play a role in addressing COVID-19 and possibly future corona virus outbreaks. With ARO-ENAC, ARO-LUNG2, our suite of COVID-19 programs, and the additional potential candidates that are progressing rapidly, we are confident in our belief that the emerging lung pipeline can be an engine that drives substantial value in the near to mid-term. What we have done, and continue to do, in the liver, we now seek to do in the lung.\nNow moving on to our clinical pipeline, I will start with ARO-AAT, our Phase II/III candidate against a rare genetic liver disease associated with alpha-1 antitrypsin deficiency. We have fully enrolled, dosed, and collected six-month repeat biopsies for the first cohort of the open-label 2002 study. Biopsies are now being analyzed and we plan to present data before the end of the year. This is important progress and an important readout. It will be the first data for a therapeutic targeted at alpha-I liver disease and it will be an important step in understanding what happens at the hepatocyte level after patients are treated. We will be looking at many measures of alpha-1 liver disease, but most focused on the change from baselines in Z-AAT monomer. That is a direct measure of the drug's ability to inhibit production of the faulty mutant protein.\nWe have a high level of confidence in our ability to show improvement there. We will also be assessing other measures that will likely require longer drug exposure to show a treatment effect. That includes Z-AAT polymer content and inflammation. We don't believe that six months of therapy is enough time to see changes, but we are the first company to investigate this disease in humans, so we really don't know what to expect. Remember, that in the Phase II/III SEQUOIA study, patients will receive around two years of treatment. If we see signs of improvement at earlier time points than expected, that would be a very exciting result and could cause us to consider working with regulators to change the parameters of the study. I will now talk about our cardiometabolic programs.\nLet's start with AMG 890, the candidate we licensed to Amgen targeting Lp(a) for the treatment of cardiovascular disease. We announced last week that Amgen started a Phase II study and that this triggered a $20m milestone payment. These represent important steps forward for the AMG 890 program, and support Arrowhead's strategy of utilizing our platform and expertise in RNAi therapeutics to build a valuable pipeline of both wholly owned and partnered drug candidates. Amgen has extensive expertise in developing and commercializing innovative cardiovascular medicines and we are excited to see the program continue to advance. Our two wholly owned cardiometabolic candidates, ARO-APOC3 and ARO-ANG3, are both progressing rapidly toward value-inflection points, including multiple data readouts this year and advancement into the next stages of clinical development. The second half of 2020 is going to be an important time for both programs.\nBoth candidates are in Phase I/II studies, and together have enrolled nearly 200 healthy volunteers and patients. Both studies include single and multiple-dose assessments. And, both have various cohorts with specific patient populations. This accelerated first-in-human study design yields data on safety and tolerability, dose response, duration of effect, and how different types of patients respond to therapy. It allows us to give data readouts from both programs at two or three conferences over the next few months. It also gives us enough actionable information about each candidate to engage regulators and discuss the next stages of clinical development, up to and including potential registrational studies. We have already been communicating with the FDA on ARO-APOC3 and our plan is beginning to take shape. We will have similar discussions on ARO-ANG3 and also engage with the European authorities to gain clarity on various study design characteristics, endpoints and target patient populations.\nImportantly both candidates provide a high level of optionality on which patient populations and disease characteristics to focus on and how to stage the clinical studies to assess the candidate's utility. For example for ARO-APOC3 there are potential patient populations that range from ultra-rare genetically defined, such as FCS in which patients have triglycerides in the thousands of milligrams per deciliter to extremely high prevalent disease such as patients with mildly elevated triglycerides above 150 milligrams per deciliter. There are also various levels in between these extremes that each have their own characteristics and would require a different clinical design with respect to size of study duration of treatment and acceptable endpoints. Taken together this represents a very large market opportunity. In the U.S. alone they are estimated to be approximately 1 million adults with triglycerides greater than 1000 milligrams per deciliter, more than 3 million adults with triglycerides between 501,000 and more than 41 million with triglycerides between 200 and 500.\nOf course not all of these patients will be potential candidates for therapy, but thinking of ARO-APOC3 solely as an orphan indication drug candidate is missing the larger breadth of opportunities ahead. This type of opportunity also exists for ARO-ANG3 and patients with mixed dyslipidemias -- specifically, triglycerides, LDL-C, and other measures of cardiovascular and metabolic disease. I don't think investors fully appreciate the size of the potential commercial opportunities for both ARO-APOC3 and ARO-ANG3. This is an exciting time for these programs as we are beginning to see potential paths to commercialization. We will be talking about these paths and timelines in the future, which should provide a level of detail for investors to properly assess how significant the opportunity is to help very large populations of patients that could benefit from new treatment options. We have also made good progress on ARO-HSD, in development to treat alcohol and non-alcohol related liver disease.\nWe began dosing in a Phase I/II study in March. We have since completed all healthy volunteer cohorts and have activated the cohorts that enroll patients with NASH or suspected NASH. The target, HSD17B13, is not a secreted protein so we will be collecting liver biopsies to measure target engagement. This program experienced a short pause in screening and enrollment due to COVID-19, but similar to other programs, we don't think this had a material affect on our anticipated timelines. As long as patient screening and enrollment continue to move forward as planned, we should be generating data through the end of 2020 and be in position to present in the first half of 2021. Lastly, I want to mention ARO-ENaC, our first inhaled RNAi candidate to target the pulmonary epithelium. We anticipate dosing to start this month in our Phase I/II study in healthy volunteers and in patients with Cystic Fibrosis. The candidate is designed to reduce expression of the epithelial sodium channel, or ENaC, in the lungs to help rehydrate CF-related dehydrated mucus and potentially help improve mucociliary clearance.\nAs we discussed on our ENaC webinar last week, there has been great progress in new therapies to treat CF over the last decade, but significant unmet need still exists. We estimate that there are approximately 14,000 patients in the U.S. alone that are either not eligible for the most advanced therapies because of their specific genotype or have been shown in clinical trials to be non-responders or insufficient responders. This is a lot of patients who still suffer from CF and are in need alternative treatments. We think ENaC may be that alternative and importantly, the mechanism of action should, theoretically, be genotype agnostic. This is an exciting program and we hope to generate data through the rest of 2020 that may enable us to have a data readout in the first half of 2021. Our preclinical data has been highly promising, and we are eager to see the translation of animal data to humans in our new pulmonary TRiMTM platform.\nWith that overview, I'd now like to turn the call over to Dr. Javier San Martin. Javier?\nJavier Martin -- Chief Medical Officer\nThank you Chris and good afternoon to everybody on the call. I want to highlight a few of our clinical programs and some key progress we made since our last conference call. Just like all biotech companies, COVID had an effect on some of our programs, but I'm very pleased to say that it appears this has been generally minor. In fact some programs experienced little to not delay in our anticipated timeline. We continue to monitor the situation closely to ensure that study participants are not being exposed to additional risk, while at the same time moving forward rapidly when it is safe to do so. Even in the challenging environment of the last several months, I'm proud that Arrowhead's clinical development team has executed at a very high level.\nLet's start with ARO-AAT, our second-generation investigational RNAi therapeutic being developed as a treatment for the rare genetic liver disease associated with alpha-1 antitrypsin deficiency. As we announced last quarter, we voluntarily put the SEQUOIA Phase II/III study and the 2002 open-label study on a temporary pause for new screening and enrollment due to concerns around COVID-19. Both studies are now back up and running and open to new patient screening and enrollment. The pause caused a delay of approximately eight weeks for SEQUOIA and for the second cohort in 2002, after which, sites began to reopen and resume patient screening. The first cohort in 2002 was already fully enrolled and, importantly, we did not experience any concerning protocol deviations for those already on study.\nLet's talk more about the 2002 open-label study, because we plan to have a data readout this year. To review, the study is designed to enroll approximately 12 participants in two sequential cohorts. Between the two cohorts, biopsy data will be assessed at baseline and after six months, 12 months, 18 months, and 24 months of treatment with ARO-AAT. As I mentioned, the first cohort, which is four patients, was already fully enrolled prior to COVID-19 and patients have continued on study as planned. All doses were administered and the six-month repeat biopsies have all been collected. Samples are being processed as we speak, and our plan is to have analysis completed in time to submit a late-breaker abstract to the AASLD Liver Meeting later this year.\nThis is a potentially important readout for the program and for the field, because it is the first view of what happens inside the liver in alpha-1 patients after receiving therapy. We will be assessing reduction is the Z-AAT monomer, which we would expect based on plasma data from our Phase I healthy volunteer study. The Phase I data demonstrated that ARO-AAT treatment led to reductions in serum AAT levels down to below the level of quantitation with a multi-month duration of effect. This suggests that we maybe achieving near complete suppression of the liver production of the mutant Z-AAT protein. At this time, no other therapies have shown this type of result using any modality. We will also be looking at whether the accumulated Z-AAT polymer can start to decrease after six months, which we are not expecting but would be pleasantly surprised to see. In addition, we will look at changes in inflammation and in various histologic parameters.\nAgain, we wouldn't expect to see these measures change after only six months of treatment, but it would be a very exciting result if we were to see improvements this quickly. Let's now move to our cardiometabolic pipeline. I will start with AMG 890, an investigational siRNA therapeutic designed to lower lipoprotein (a), or LP little a, for the treatment of cardiovascular disease, which is licensed to Amgen. As Chris mentioned, Amgen recently started a Phase II study, which we are very excited about. The study is a double-blind, randomized, placebo-controlled Phase II study to evaluate efficacy, safety, and tolerability of AMG 890 in approximately 240 subjects with elevated Lp(a). The primary endpoint is the percent change in Lp(a) from baseline to week 36. Key secondary endpoints include the percent change in Lp(a) from baseline to week 48, and percent change in LDL-C and Apolipoprotein (B) from baseline to weeks 36 and 48.\nMoving to our two wholly owned cardiometabolic candidates, ARO-APOC3 and ARO-ANG3. Let's begin with ARO-APOC3, our candidate targeting apolipoprotein C3, being developed as a potential treatment for patients with hypertriglyceridemia. We continue to be very impressed and encouraged by results from the ongoing Phase I/II clinical study called AROAPOC31001. I will talk about the study design and progress and then discuss where and when we expect to present data. AROAPOC31001 is a Phase I/II single and multiple dose study to evaluate the safety, tolerability, pharmacokinetics, and pharmacodynamic effects of ARO-APOC3. There is a single-dose and multiple-dose portion of the study in adult healthy volunteers and a multiple-dose portion of the study in patients with hypertriglyceridemia. The study reached full planned enrollment of 80 subjects and we subsequently expanded the study to assess a total of up to 112 subjects.\nAs of today, 100 subjects have been treated. The first data from the single-dose healthy volunteer portion was presented at American Heart Association in 2019. We have been accepted to present additional data at the European Society of Cardiology meeting, the National Lipid Association meeting, and we may potentially have additional data at the American Heart, pending abstract acceptance. Between these three meetings in the second half of 2020, we plan to have multiple dose and follow up data in both healthy volunteers and patient cohorts. Together these represent a rather full dataset and should be a good view on the safety and activity of ARO-APOC3. Data from the ARO-APOC3 P1/2 study have indicated very potent triglyceride reduction, frankly more potent than anything I've seen before. Because of this, we are exploring potential designs for the next stages of clinical development to study the drug in multiple patient populations that may benefit from triglyceride reduction.\nWe have been engaging with regulators on that topic and hope to provide some clarity later this year. We are hopeful that during the first half of 2021 we will be able to initiate a Phase III study in smaller populations and a Phase IIb study in larger populations. Our other wholly owned cardiometabolic candidate is ARO-ANG3, targeting angiopoietin like protein 3, or ANGPTL3, and is being developed as a potential treatment for patients with mixed dyslipidemia. The current clinical study is called AROANG1001. It is a Phase I/II single and multiple dose study to evaluate safety, tolerability, pharmacokinetic, and pharmacodynamic effects. Both the healthy volunteer and patient portions of this study have reached full planned enrollment of 93 subjects.\nSimilar to ARO-APOC3, we continue to be very encouraged by the clinical data and plan to present at ESC and NLA, and hope to also present at American Heart Association, pending abstract acceptance. We are working on a clinical development plan and will be engaging with regulators shortly to discuss the plan. Our hope is to start a Phase IIb study in the first half of 2021 in an appropriate patient population that may benefit from a lowering of both triglycerides and LDL-Cholesterol. This may affect multiple cardiovascular risk factors simultaneously, which is potentially very exciting. I will now briefly touch on progress in our earlier stage pipeline. ARO-HSD is our investigational candidate for the potential treatment of alcohol and/or non-alcohol related liver disease. The genetic validation is strong for inhibiting the target HSD17B13 in NASH cirrhosis, and alcoholic hepatitis and cirrhosis patients.\nThis is an exciting program for us as it is the first candidate against this novel target using any modality to enter clinical studies. We are conducting a Phase I/II single and multiple dose-escalating study to evaluate the safety, tolerability, pharmacokinetics, and pharmacodynamic effects of ARO-HSD in normal healthy volunteers as well as in patients with NASH or suspected NASH. Additional exploratory objectives include assessment of various measures of drug activity using liver biopsy. We have completed enrollment and dosing of the healthy volunteer portion of the study and we have initiated the multiple-dose portion of the study. There was a short delay in this study due to COVID-19, but it did not materially affect our anticipated timelines. We anticipate that initial data should be available to present in 2021. Our two other early stage programs, ARO-HIF2 and ARO-ENaC, are also our first candidates targeting tissues outside the liver.\nARO-HIF2 is designed to treat renal cell carcinoma, and we are currently screening patients to begin a Phase Ib study. ARO-ENaC, designed to treat cystic fibrosis, is scheduled to begin dosing in a Phase I/II study this month. We hosted a webinar last week to talk about the target, the preclinical data, and the plan for the candidate. The webinar also featured outside cystic fibrosis expert Dr. Marcus Mall. It was full of good information about the program and I highly recommend you watch a replay if you didn't see it live. It is still available on the Events and Presentations page on our website.\nI will now turn the call over to Ken Myszkowski, Arrowhead's, Chief Financial Officer. Ken?\nKen Myszkowski -- Chief Financial Officer\nThank you, Javier. As we reported today, our net loss for the quarter ended June 30, 2020 was $13.6 million or $0.13 per share based on 101.8 million fully diluted weighted average shares outstanding. This compares with net income of $20.3 million or $0.21 per share based on $98.9 million fully diluted weighted average shares outstanding for the quarter ended June 30, 2019. Revenue for the quarter ended June 30, 2020 was $27.4 million compared to $42.7 million for the quarter ended June 30, 2019. Revenue in the current period relates to the recognition of a portion of the upfront payments and milestones received from our license and collaboration agreements with Janssen, as we continue to work toward completing our performance obligation of managing the current Phase I/II HBV clinical trial.\nRevenue from the Janssen agreement is recognized based on our estimate of the proportion of effort expended toward fulfilling our performance obligations, primarily, overseeing the completion of the current Phase I/II HBV clinical trial. We expect the remaining $26.3 million of deferred revenue to be recognized in this calendar year. In addition, current period revenue also included the $20 million milestone payment we accrued due to Amgen initiating their Phase II clinical trial for AMG 890. Revenue in the prior period related to the recognition of a portion of the upfront payments and milestones received from our license and collaboration agreements with Janssen. Total operating expenses for the quarter ended June 30, 2020 were $43.3 million compared to $24.1 million for the quarter ended June 30, 2019. This increase is primarily due to increased non-cash stock compensation expense.\nStock compensation expense has increased because the valuation of new stock option and restricted stock awards granted has increased with the growth in our stock price. Additionally, stock compensation expense increased due to the timing of achievement of certain performance-based awards in each period. The increase in our total operating expenses was also driven by the increased clinical trial costs as our pipeline of clinical candidates has increased and increased personnel costs in both R&D and G&A as our headcount continues to grow. Net cash used by operating activities during the quarter ended June 30, 2020 was $33.4 million, compared with net cash provided by operating activities of $10.5 million during the quarter ended June 30, 2019. The increase in cash used by operating expenses during the quarter is consistent with the increase in our cash operating expenses.\nThe cash provided by operating activities in the prior period was driven by the receipt of a $25 million milestone payment from Janssen due to the initiation of the triple combination cohort in the HBV Phase I/II clinical study. We estimate our near-term cash burn to average $30 million to $35 million per quarter. Turning to our balance sheet. Our cash and investments totaled $464.6 million at June 30, 2020 compared to $302.9 million at September 30, 2019. The increase in our cash and investments is primarily due to the December 2019 equity financing we completed, which generated $250.5 million in net cash proceeds for the company. Our common shares outstanding at June 30, 2020 were $102.3 million.\nWith that brief overview, I will now turn the call back to Chris.\nChristopher Anzalone -- President and Chief Executive Officer\nThanks, Ken. As we have discussed Arrowhead has a lot going on in all of the following stages: one, platform development and expansion into new extra-hepatic tissues, such as lung, tumor, muscle and other cell types; two, early discovery as evidenced by several COVID-related programs, ARO-JNJ1, two and three and other undisclosed programs; three early development such as ARO-LUNG2, ARO-HIF2, ARO-ENaC and ARO-HSD; and four, emerging mid to later stage developments such as ARO-AAT, ARO-APOC3, ARO-ANG3, and partner programs JNJ-3989 and AMG 890. This is a very large pipeline with enormous opportunity for a company of only 200 people that currently only burns between $30 million to $35 million per quarter and has a market cap less than $5 billion.\nThis again speaks to Arrowhead culture of finding a way forward and not allowing bureaucracy, or legacy processes to block innovation. It is also a testament to our commitment to capital efficiency and being good responsible stewards of the capital that we have been entrusted with. Even as we continue to grow, these attributes will be important parts of the Arrowhead culture. The rest of 2020 is going to be very busy. We anticipate multiple data readouts, important clarity on the future paths and time lines for some of our programs and new announcements about previously undisclosed targets and candidates. Our existing programs continue to advance and the reach of our technology platform continues to expand. This is a very exciting place to be.\nThanks again for joining us today. I would now like to open the call to your questions. Operator?\nQuestions and Answers:\nOperator\n[Operator Instructions] Our first question from the line of Alethia Young. Your line is now open.\nAlberto -- Alethia Young -- Analyst\nHi. Thank you. This is Alberto [Phonetic] on for Alethia from Cantor Fitzgerald. Congratulations on the quarter. And I have two quick questions. So first is the HIF2 program, which we started in December, if I recall correctly we were just curious about how you're thinking regarding updating the street on that. Would you do an interim readout later this year? Or are you waiting for all patients to be treated?\nChristopher Anzalone -- President and Chief Executive Officer\nYes. Thanks for that question. We're not planning an interim readout this year. I'll tell you that has progressed a bit more slowly than we had hoped. As you mentioned, we filed that IND in December. And frankly, I expected us to be dosing that by June. COVID really slowed us down on that. We are -- because it's a biopsy study, we are focused not entirely, but largely in academic institutions. And so that's just taking a long time to get contracting done to start that study.\nWe are hopeful that we'll start to dose that shortly. And look it's our anticipation to report that once that study is complete. And so by the end of this year, it is unlikely maybe in the middle of next year, but we'll see how that goes. We'll give you better guidance once we start dosing that.\nAlberto -- Alethia Young -- Analyst\nThank you for that. And then just on the HSD assets, do you have a view on potential differentiation that different RNAi approaches can have in liver disease? And along those is still your goal to find a partner for this program? Or are you considering going at it alone? And if so or either way, I guess, what gives you the confidence to continue investing in this given the challenge in this stage?\nChristopher Anzalone -- President and Chief Executive Officer\nSorry, which program AHD did you say?\nAlberto -- Alethia Young -- Analyst\nYes.\nChristopher Anzalone -- President and Chief Executive Officer\nYes. Okay. Yes. So look, so I'll tell you our initial and differentiator is our speed. We are the first, as I understand it. I think we're the first company of any modality to bring an HSD based therapeutic to the clinic. And so that's on the understatement. So that's first. Second, look I expect that to be a good therapeutic. I expect that to be a potent and I expect good deep knockdown. And so I think, we've got a very good shot of having something that's going to knock down that that protein. So here are the challenges. Challenge one is that, it's not as accretive protein. And so at least right now, there's no secretive biomarkers and so it's going to have to be at least in the near term a biopsy study. We are OK with that. And as you know the current study enables that and I think that we can enroll that no problem, but that's going to be a bit of a challenge. The second challenge is that is that the mechanisms of these targets are not well understood. The genetic validation is clear.\nIt appears that knocking HSD down should be very beneficial for NASH and even more beneficial potentially for alcohol-related hepatitis, but the biology of that still is a bit lagging. And so we'll see where that goes. We are excited about the program. At some point, could that be something that we target, sure, but at least right now it's -- we are happy to push that forward as it is. We can handle it as it is. NASH is a complicated space, but at least in this -- at this early stage of this program we're happy to continue to move forward. And then we'll just be opportunistic. Should a good deal at some point happen we're happy to listen, but right now we're happy to continue to treat patients.\nAlberto -- Alethia Young -- Analyst\nThanks again for that. And congratulations.\nChristopher Anzalone -- President and Chief Executive Officer\nSure. Thank you.\nOperator\nNext question from the line of Salveen Richter of Golden Sachs. Your line is now open.\nSalveen Richter -- Golden Sachs -- Analyst\nGreat. Thank you for taking the question. What levels of the palmer reduction do you expect to see in the six month at liver biopsies? And what do you think is necessary in order to you guys approach the FDA on changing the primary endpoint or shortening the Phase II/III trial? And then I have a follow-up on the ENaC program?\nChristopher Anzalone -- President and Chief Executive Officer\nSure. So I'm glad you asked that question because I want to be clear on this. We don't expect changes in polymer content after just six months. We do expect substantial monomer reduction and that would be reflective of our expected activity of this drug as we saw in the healthy volunteer study although those are plasma levels, we saw good deep production as Javier mentioned and so we expect good reduction in minor at this point. Polymer is a hard -- is a different story. Look it's not clear how that metabolized. One of the good news, bad news of being pioneers here is that yes, we're first, but bad news is we're first. And so there's a lot of things that we have to learn here. One of the things is how this polymer is metabolized.\nIt could be that we are relying on the hepatocytes to turn over to decrease that polymer because we don't know it's possible that metabolism this is very slow if they can metabolize at all. So our take on message is look we do expect good deep [Phonetic] production of monomer. We expect virtually no or no reduction in polymer and probably no changes in inflammation at this early point at six months. I think there's a better likelihood that we would see some of those changes starting after maybe a year of therapy.\nSalveen Richter -- Golden Sachs -- Analyst\nGot it. That's helpful. And then on the ARO-ENaC program, what dose level would you penetrate the tissue? And how do you see your asset differentiated from the competitors in the space?\nChristopher Anzalone -- President and Chief Executive Officer\nJavier?\nJavier Martin -- Chief Medical Officer\nSo this is how while dosing patients healthy volunteers first and then patients and this is coming from the experiments in the preclinical lab. When you see the total dose that we will dose patients approximately 25% of that dose is expected to be delivered to the land and that is an efficiency-related to the nebulization process. So that's an estimation but right now, we don't know for sure, but that's what we've seen in the preclinical work and expected to see in the clinical. However, in clinic it's very difficult to know of course. And what's the second?\nChristopher Anzalone -- President and Chief Executive Officer\nYes. And regarding competition look I think, we sit favorably from a competitive standpoint, it's a well-validated target. People have gone after ENaC for small molecules in the past, but have generally not been able to reduce it enough in the lung but spare in the kidneys. We are confident that we -- that we will not reduce in the kidneys. We've done exogenous studies in animals to suggest that we don't expect reduction in kidneys. And so look I think we're -- I think that we are virtually alone at least with this target right now in cystic fibrosis. There have been some antisense programs, but I think that those will likely have the same issues that other antisense programs have had which has been related task.\nSalveen Richter -- Golden Sachs -- Analyst\nGreat. Thank you.\nOperator\nNext question is from the line of Ted Tenthoff from Piper Sandler. Your line is now open.\nTed Tenthoff -- Piper Sandler -- Analyst\nGreat. Thank you very much for taking my question. I wanted to ask a little bit more in terms of COVID program. With so much going on in the space what are the benefits of RNAi mechanism potentially for COVID? And can you tell us a little bit more about sort of maybe how that clinical program looks? Thanks.\nChristopher Anzalone -- President and Chief Executive Officer\nSure. There's not much we can tell you on that because we're still early there and we're still really exploring a lot of things. But as I mentioned in the prepared remarks, there are three broad areas that we are interrogating simultaneously. One, is knocking out or knocking down receptors in the lung that enable the virus to get in. That biology is reasonably clear or as clear as it can be in this -- for this virus. So we will be going after that. I think we have a role to play there. Look we've got a clinic ready lung program. We've been leaders in HBV. We were the first ones to show a good potent antiviral effect in hepatitis B. And so I think we're well positioned to play here, so we feel good about that. Second is direct antivirals. Again, we show with HBV that we're pretty good at that and I think the opportunity here is not just to look at the current coronavirus but to think of this more broadly.\nIf one were to expect there will be coronavirus outbreaks in the future and it passes is prevalent, that's probably a good assumption. We would hope to find some well-conserved regions among known coronaviruses that we can knock down and have antiviral effects. We are interrogating that right now. We think we can play in that space. And then third with anti-inflammatory, this judge well with our other lung programs. We think that there are that there are good indications for anti-inflammatories. And so we're developing that right now and we think that that might play a role in a therapeutic for coronavirus.\nTed Tenthoff -- Piper Sandler -- Analyst\nCool. Sounds interesting. I look forward to hearing more.\nChristopher Anzalone -- President and Chief Executive Officer\nYes, thanks Ted.\nOperator\nNext question from the line of Luca Issi of RBC Capital. Your line is now open.\nLuca Issi -- RBC Capital -- Analyst\nTerrific. Thanks for taking my question. Luca Issi from RBC Capital. Two questions. Maybe one for Javier on ARO-AAT and maybe one bigger picture question for you Chris. So, on ARO-AAT, it sounds to me that you're saying that there is somewhat of a time lag between the reduction in the monomer versus the reduction in the polymer, however, when I see the preclinical data published at JCI, I don't see there much of a lag there as actually the peers to the monomer and the polymer just reduce concurrently there. So, just curious about what am I missing there? That's the first question.\nAnd the second question Chris on the strategy. You obviously have a very impressive pipeline at this point. Can you just maybe dichotomize the world for us between assets that you feel you have generated enough data that you would consider a partnership now versus assets that you want to further derisk before entertaining any type of partnership? Thank you.\nJavier Martin -- Chief Medical Officer\nAll Right. So, the first part of the question related to how the preclinical work correlates to the clinical. I think the first difference is that we have a look at very early standpoint in the preclinical work. It's more like on the longer term. So, I don't think we have a way to see the dynamic an additional reduction of different components of the metaprotein in the liver. So, that's one component that I think we need to understand. The second I think we are now getting more and more information from the natural history study that we've done and we're collaborating with others, this is clearly a dynamic progress chronic diseases and it happens in different stages as we are learning.\nSo, the main problem is the production of this abnormal mis-fold protein that case accumulating delivery initially as monomers, and then eventually get organized as polymers as the time goes back become this global. This is the reason why then patients develop inflammation and this continue develop fibrosis and finish with a stage liver disease. So we see this as a very dynamic process at something that can be addressed immediately which is inhibit production of this mutant protein and that over time will be associated with the decrease in the monomers in the liver and the polymers.\nAnd eventually that will reduce the insole the costing inflammation the progression of the liver disease. So, that how our thinking -- and actually the 2002 study likely will answer this question more precisely because we're looking at biopsies at four time points post initiation of therapy six, 12, 18, and 24 months. So, probably we'll be able to map out how these dynamic sequence of events happen and how we can intervene by inhibiting the insole and allowing the lever to heal.\nChristopher Anzalone -- President and Chief Executive Officer\nThanks. So, with regard to your more strategic question that is a key question for our strategy. As you know we've been really focused on building this large pipeline and not slowing down. We've heard them say it before look I think we're going to have 10 clinical programs pretty soon and I think we doubled that to 20 in the next few years. And so what that gives us is that is an awful lot of currency to do some partnerships because look we are frankly, no company I don't think nearly our size even double our size even triple our size could commercialize all those for the mistakes and. so we have we've got the ability to go through that and find clusters of assets that we can commercialize ourselves to bring us to that next level of growth. And then partner others out. With respect to which ones we can partner right now. So if you look at the current clinical programs where we have data AAT, APOC3 and ANG3, I'd be willing to suggest that we have enough data to partner any of those.\nAre the data entered have been quite good on all of them. AAT as Javier showed, in healthy volunteers, we were showing decreasing levels of plasma down below the level of quantitation. And we'll have biopsy data shortly to see what that looks like intrahepatically. But I think that, we have already -- from my perspective we have already achieved clinical proof-of-concept there that we are doing what we expect to do in a well-tolerated manner. APOC3, we're seeing 95% reduction in triglycerides, in patients also lowering -- a lowering of LDL also with these patients, so far has been well tolerated. I think those data have been generated. We think we've dosed 100 patients so far or unseen patients and healthy volunteers. I think, there's an update there to -- its part of that should we want to. ARO-ANG3, we're seeing 85% reduction of triglycerides 40%, reduction of LDL and non-LDL receptor mediate fashion, well-tolerated.\nThe same thing that we dosed 93 patients, I guess so far, and they're well tolerated and been active. And so I think that, we have hurdled that far as well. So the point is I think those are all partnerable now. And I think it's now upon us to continue to move these and other programs forward. And then to figure out which ones, and at what time, we're going to want to partner.\nLuca Issi -- RBC Capital -- Analyst\nSuperb. Thank you. Thank you again and congrats on the progress.\nKen Myszkowski -- Chief Financial Officer\nThank you.\nOperator\nNext question is from the line of Maurice Raycroft of Jefferies. Your line is open.\nMaurice Raycroft -- Jefferies -- Analyst\nHi everyone. And congrats on the progress and thanks for taking my questions. First question was on ARO-AAT. Just wondering if you validated inflammatory biomarker assay you had for that program.\nJavier Martin -- Chief Medical Officer\nWe haven't validated ourselves. But it is a very, validated way to look at inflammation. We likely go to do an early look at the same way we look at in the preclinical work which is quantify forces of inflammation by portal areas. So the first reason inflammation will be very standard and well-described quantifiable. And that you can really -- is reliable and you can compare baseline to post-baseline.\nMaurice Raycroft -- Jefferies -- Analyst\nGot it. And wondering for that program too if you can provide any details on the baseline characteristics of the patients that you've got in the open-label study, and how do those baseline characteristics compared to some of the patients that you've enrolled in the pivotal Phase II III?\nJavier Martin -- Chief Medical Officer\nYes. Well, so I don't have any detail right now. We can follow-up, if you want offline. So I don't recall exactly. But we can get back to you later on.\nChristopher Anzalone -- President and Chief Executive Officer\nOf course, the goal there was to be treating similar patients. And so what we see in the open-label study, our anticipation is that that will read on what is likely happening within the blinded study. So the question is, are they different to one of patients? The answer is they really shouldn't be.\nJavier Martin -- Chief Medical Officer\nBecause the inclusion criteria is similar and so, I was about to repeat that but essentially the age groups is 18 to 50 or 55. Of course they have ARO-AMG1, and higher than 65. So inclusion criteria are very, very similar. So we expect that this result will be applicable to understand what happened on the larger Phase II/III study.\nMaurice Raycroft -- Jefferies -- Analyst\nGot it. And I think in the prepared remarks you said, you've been having discussions with regulators for APOC3 and ANG3. Can you provide more clarity on when you're going to finalize plans and disclose some more of the details from your discussions with the regulators in the U.S. and the EU?\nChristopher Anzalone -- President and Chief Executive Officer\nYes. I don't think we're ready to provide guidance on that yet. We did have interactions with the FDA over the summer. And so we're still formulating our strategy there.\nMaurice Raycroft -- Jefferies -- Analyst\nGot it. Okay. Thanks for taking my questions.\nChristopher Anzalone -- President and Chief Executive Officer\nYou're welcome.\nOperator\nAnd the next question from the line of Madhu Kumar. Your line is open.\nMadhu Kumar -- Baird -- Analyst\nHi everyone. Thanks for taking my questions. So my first one is on, AAT, so kind of following up on, Luca's question so you can imagine there are two schools of thought around clinical benefit in the alpha-1 antitrypsin liver disease, related to either a reversal of polymer and globular formation versus liver cell turnover.\nSo based on your belief that six months will not be enough for AAT knockdown to translate to clinical benefit. Do you pay your health in the liver turnover school of thought? Or do you think you're spread between the two? Or how do you think about it in terms of, which realm do you think you'll get benefit in terms of the alpha-1 antitrypsin liver disease?\nChristopher Anzalone -- President and Chief Executive Officer\nI'll let to Javier answer this. I don't think we know. We -- look we know that we can -- that polymer should be reduced the liver -- or we have had a site turnover. That's what we think we know. And that's about it. I don't think we have a good idea about metabolism but beyond that Javier?\nJavier Martin -- Chief Medical Officer\nYes. I think as I said before, this is one of those liver diseases that start with an insole such as hepatitis, such as NASH, and as you know, when you remove insole more likely liver improved and that been shown in many different circumstances like this. So this is a treatment that will remove the insole that is new. And with time the remodel will get rid of the polymers and globulus and that will hopefully allow the cell -- the hepatocyte to heal and prevent the complication and the progression of the disease to stage cirrhosis. So that's how we're thinking about this.\nMadhu Kumar -- Baird -- Analyst\nInteresting. So you all don't think the preclinical data suggests there's a back reaction that occurs where polymer or monomer converts back to a states you don't have a nascent AAT form. You don't think there's a bad reaction that happens?\nChristopher Anzalone -- President and Chief Executive Officer\nA bad reaction meaning unpolymerization if you will?\nMadhu Kumar -- Baird -- Analyst\nExactly.\nChristopher Anzalone -- President and Chief Executive Officer\nYes. I just told that we just don't know.\nMadhu Kumar -- Baird -- Analyst\nOkay. And then on ARO-ENaC, so you obviously have gone into the long and that's really exciting as an opportunity. What data do you need to see from ARO-ENaC to kind of more broadly pursue the lung including the COPD indication either, kind of, pulmonary facility on directed lung indications like what do you need to see? Maybe one benefit or do you need many more proximal to that that will give you confidence that you can hit targets in the lung?\nJavier Martin -- Chief Medical Officer\nYes. So this is a Phase I study, of course, but we're doing two assessments in patients, which is FEV1 as spirometry well published and then LCI or lung clearance index. And we think that that is particularly sensitive methodology to assess early changes. And somehow probably related or correlated to the MCC or mucociliary clearance. So we did the webinar about a week ago and there is -- there are a number of details in that webinar that you may want or to if you haven't seen it you can take a little bit, because this is in our web page. But I think the LCI we have enough patients in this Phase I study to likely see the difference in LCI or changes.\nAnd also if you put all the patients together because LCI will be done in a subset of patients with an FEV1 greater than 70%, because the methodology is precise in that kind of patient population. We're doing FEV1 in all patients -- all three cohorts of patients with cystic fibrosis, so we think that we are in a good situation to look at change from baseline and perhaps see an initial difference assuming a significant change. So we do believe that we will have proof-of-concept data at least the study is designed to achieve that goal in the Phase I.\nMadhu Kumar -- Baird -- Analyst\nOkay. So then following that logic, the lung clearance index as a measure for each individual like it's a surrogate measure for ENaC inhibition. That's the kind of key parameter for you to broadly pursue the lung?\nJavier Martin -- Chief Medical Officer\nWell, no it will give us information that there is a pharmacodynamic effect not necessarily only the inhibition that will tell us that there is an improvement in respiratory ventilation and homogeneity, which is related to MCC and eventually clinical benefit. So it's absolutely a pharmacodynamic, it's not just the level of -- we won't be able to measure that, of course, clinically with this target, because you have to have a lung biopsy. So it's going to be really a pharmacodynamic result and the study is designed to be able to see those changes definitely with LCI and then hopefully also with FEV1.\nMadhu Kumar -- Baird -- Analyst\nGot you. Awesome. So then stepping back and thinking I know previously we've all talked about this idea of kind of the fancy term I guess the bispecific RNAi hitting multiple targets at the same time. Like where is your progress on that? And where are you thinking about pursuing that? Considering you've got this whole kind of basket of cardiometabolic targets where I think a not unreasonable expectation would be, well, why not go after multiple targets at the same time. So how are you thinking about that? What do you need to do to kind of really pursue that in gusto?\nChristopher Anzalone -- President and Chief Executive Officer\nYes. It's a -- that's a -- it's a very smart question I think and it's something we think about a lot, because you're right the cardiometabolic we've got the data we've seen so far with APOC and ANG are so intriguing that if you would combine those that's even more intriguing, but you can also imagine that within the lung there are several targets that that could be very interesting by combining those. You can also look and think of this in NASH as well. There are multiple pathways need address if you could go after what we call it bispecific or dimer.\nSo yes, we are on the same page with the great possibility of the bispecific or dimers. We're still working on that. There are challenges there associated with potency and such and we're still working there. We can -- I think we can see it, but we're not there yet. So stay tuned, we'll have additional updates as we can approach the clinic with one of these, but it's still early ish days on this concept.\nMadhu Kumar -- Baird -- Analyst\nOkay. Great. Thanks very much guys.\nOperator\nNext question from the line of Mani Foroohar of SVB Leerink.\nMani Foroohar -- SVB Leerink -- Analyst\nHi. Thank you very much. So I don't think I can match the elegance of Madhu's question around law of mass action and ARO-AAT. So thinking about it and perhaps some more well we'll say a little bit more of a craft way going back up 10,000 feet. When you think about the time horizon to see a polymer benefit and clearly probably six months it will be some longer period versus the time horizon to see ecology improvement should we expect a polymer benefit to lead histology improvement by a year two years some very long period of time? Or should it be very quick one striking after the other given what we know about from the preclinical data, data and natural history? And then I have one quick follow-up on a one finance question.\nJavier Martin -- Chief Medical Officer\nWell, we really don't know the goodness I think we're going to answer the questions as we go along. And the Phase II/III study states the post baseline biopsy is right now at two years post position of the study. So we're taking right now a relatively conservative approach to do the post base and biopsy two years after initiation therapy to allow enough time to be able to see what we've seen in the preclinical work.\nNow exactly how that will look like? I don't know, but 2002 as a sequence of biopsy a different time point different patient population might help us to fine-tune the time frame of changes monomer polymer globulus and the consequence lever that much associated with that. So more to come.\nChristopher Anzalone -- President and Chief Executive Officer\nYes. And just to give -- to reiterate our time and expectations here. As we mentioned we are processing the -- analyzing the biopsies right now is our anticipation that we'll have data in time to submit a labor or abstract to AASLD. My hope is that we get accepted there. And so I think we can have we can have more educated conversations about what we're seeing and what we could be seeing in the future sometime around that. So it's just too early to tell.\nLook our preclinical of data were interesting. We saw improvements in all of these measures. We just don't know how the kinetics of those are going to translate from roads to humans.\nMani Foroohar -- SVB Leerink -- Analyst\nThat's really helpful. So -- and on the more boring finance question you spoke a little bit about the impact of stock-based compensation, etc. So, clearly your stock has been -- has been volatile in the last couple of years, but it's not surprising given the amount of data that you produced. And milestones that you hit, etc. So when we think about modeling stock-based comp, we think about it in terms of total shares issued as opposed to dollars, which takes that impact out a little bit.\nShould we expect shares issued or options issued in a notional sense to be about flat versus this year, up materially down slightly. How should we think about that as we model that going forward on a stock issuance perspective as opposed to trying to use a dollar amount for pretty volatile equity security like yours?\nChristopher Anzalone -- President and Chief Executive Officer\nYes. I would expect that to be pretty flat on a stock basis. Again to use your differentiation right? You're not on a dollar basis, but on a number of share basis.\nMani Foroohar -- SVB Leerink -- Analyst\nGreat. Thanks really helpful. Thanks guys.\nChristopher Anzalone -- President and Chief Executive Officer\nYou're welcome.\nOperator\nThank you. Next question from the line of Mayank Mamtani of B. Riley. Your line is open.\nMayank Mamtani -- B. Riley -- Analyst\nCongrats team on the progress. Just no more ARO-AAT question, I just want to drill down on the cardiometabolic portfolio. Starting with the 890 the Amgen compound could you just comment on what data they have presented or they will present? And in context of another agent that is already an outcome study. Just kind of anything that is out there you can talk about the data that they have so far?\nChristopher Anzalone -- President and Chief Executive Officer\nRight. Yes. So as far as I know they've not presented any data. I'm not in any jeopardy of appealing you something I shouldn't tell you because I don't -- because they haven't told us anything. My expectation is that they would they would present some data by the end of this year at what venue with time I don't know. And what you're going to see I don't know. We are optimistic that they should be good data because look we thought that was a really good trigger. We expect it to be post and we expect it to lead to good deep and durable LP(a) knockdown not now. But that was speculation based on the animal models. So we'll be looking forward to seeing that side by side with you.\nMayank Mamtani -- B. Riley -- Analyst\nOkay. And then on APOC3, I'm sensing there's a little bit of change relative to -- I think what you were talking about earlier with Ag May 3 be positioned for the broader population, but it seems like you want to do APOC3 also in the broader hypertriglyceridemia phase. So just curious is it more to do with how the landscape there is evolving? Or with the regulatory dialogue you're having in real time? Like just or is it like the data that we'll get to see more at NLA and other conferences? Could you just maybe give more color there?\nChristopher Anzalone -- President and Chief Executive Officer\nYes. Thanks for asking that question because I think it's important. Part of this may be that we could have messaged this better, but another part is that our thinking really has evolved. We've talked a lot about addressing smaller populations because that looked like a near-term as commercialization. And so we've always thought that that's how we approached this asset. We get into these smaller populations relatively quickly and then expand the label by essentially walking down the triglyceride levels. And so you think of this just in broad terms of say about 1000 and then say, 500 to 1000 and then say, 200 to 500 as we talked about in the prepared remarks.\nI think Vascepa, I think their first tranche, if you will was to was 500 to 1000 I think was their first group that got approved on. In any event so our -- so A, we are trying to message is a bit better that we see this as a whole as a spectrum of patients that we can address from a small market to larger market. So I don't want to talk about that a bit more. But also as I mentioned I think our I think that our thinking has changed here a bit in part because the data has just been so good as we look at the safety profile and as we look at the depth of triglyceride knock down seen. And frankly the increase in HDL we have not talked very much about but we think still could be important.\nAs we look at all that we just add ourselves. We've got something here that really should be product to larger populations. And so and so again our goal here is to maybe start with small populations because we can get to that commercial opportunity most rapidly, but then to expand this out. And look I think this is at least as large a market opportunity at ANG3 maybe larger, but at least as large as that given the hyper patients that we can address. Look the numbers we talked about 41 million adults are estimated to have triglyceride between 200 and 500 in the U.S. alone. That's a pretty big swath for us to potentially treat some set of that.\nMayank Mamtani -- B. Riley -- Analyst\nOkay. Great. And then on the ANG3, just can you confirm if you still have some part level disease patient subjecting enrolled there and you'll still -- are you still planning to do on some of these subjects?\nChristopher Anzalone -- President and Chief Executive Officer\nYes. Yes. So it's -- Javier couldn't understand what you said. So you're talking about the various patient cohorts and are we still enrolling.\nJavier Martin -- Chief Medical Officer\nSo ANG3 is completely enrolled. So we complete that ADI where to look at the data as it comes. So no we complete that study together. And we're planning on the first interaction with the regulatory agency here with the FDA to plan the Phase IIb study. To start hopefully at the beginning of this first half of 2021. So the study is complete in terms of enrollment. And very soon we have completed 113 days final data for all patients all subjects and patients in the study.\nChristopher Anzalone -- President and Chief Executive Officer\nAnd we've talked about liver panels for all these patients. And what has always excited us about this pathway in this target has been the possibility of lowering LDL in non-LDR receptor mediated Fashion and lower the triglycerides. That's been the core of our interest. Now if you go a bit beyond that you look at the possibility of insulin sensitivity and liver fat the data that we and others have seen in animal models have been interesting. And so that was nice to have but not a need to have if you will and we were looking forward to seeing whether or not we see that translate into humans given the data from antisense candidates we are not expecting to see that translate.\nWe're not expecting to see changes in or improvement in insulin sensitivity. We're not expecting to see changes in liver fat. Now that we have some data here. So maybe we're wrong there, but just given what we've seen from any sense we're not expecting to see that. We think that's fine, because it's the triglyceride and LDL that makes a really powerful asset. But we do have those cohorts enrolled and so we'll find that out and we'll be reporting on those as well.\nMayank Mamtani -- B. Riley -- Analyst\nExcellent. Look forward to those updates. Thanks for the email questions.\nChristopher Anzalone -- President and Chief Executive Officer\nYou're welcome.\nOperator\nThank you. And the last question from Robert [Phonetic] of Analyst. Sir, your line is open.\nRobert [Phonetic] -- [Indiscernible] -- Analyst\nHi. Thank you so much for taking my questions. First off, congrats on your progress and continued growth. I only have a couple of quick matters as you cover my other questions. I'm sorry, if I missed it, but did SEQUOIA Part B start dosing at?\nChristopher Anzalone -- President and Chief Executive Officer\nNo it has not.\nRobert [Phonetic] -- [Indiscernible] -- Analyst\nOkay. And I know that you mentioned before that Arrowhead is comfortable in rolling out its own orphan drugs. Would you consider partnering or selling any of your orphan drugs, especially ENaC or AAT or are your orphan drugs off the table when it comes to these kinds of deals?\nChristopher Anzalone -- President and Chief Executive Officer\nNo, I would say that off the table. We're -- so don't think of us as an organ indication company, but also don't think of us as holding on to everything that we have in those spaces. I think that if you fast forward five or 10 years from now, I think you'll see a portfolio of drugs some there small indications some of larger indications some could be very large indication. So no there's nothing about smaller indications that would indicate that we are absolutely doubled onto those come hell or high water.\nRobert [Phonetic] -- [Indiscernible] -- Analyst\nOkay. That's all I have. Thank you so much.\nChristopher Anzalone -- President and Chief Executive Officer\nAll right. Thank you.\nOperator\nThank you. And there are no further questions at this time. I would like to turn it over to Christopher Anzalone for closing remarks.\nChristopher Anzalone -- President and Chief Executive Officer\nThanks everyone for joining our call today. I hope everyone's stays safe and enjoy the rest of your summer to the extent that you can.\nOperator\n[Operator Closing Remarks].\nDuration: 69 minutes\nCall participants:\nVincent Anzalone -- Vice President of Investor Relations\nChristopher Anzalone -- President and Chief Executive Officer\nJavier Martin -- Chief Medical Officer\nKen Myszkowski -- Chief Financial Officer\nAlberto -- Alethia Young -- Analyst\nSalveen Richter -- Golden Sachs -- Analyst\nTed Tenthoff -- Piper Sandler -- Analyst\nLuca Issi -- RBC Capital -- Analyst\nMaurice Raycroft -- Jefferies -- Analyst\nMadhu Kumar -- Baird -- Analyst\nMani Foroohar -- SVB Leerink -- Analyst\nMayank Mamtani -- B. Riley -- Analyst\nRobert [Phonetic] -- [Indiscernible] -- Analyst\nMore ARWR analysis\nAll earnings call transcripts\n10 stocks we like better than Arrowhead Pharmaceuticals\nWhen investing geniuses David and Tom Gardner have a stock tip, it can pay to listen. After all, the newsletter they have run for over a decade, Motley Fool Stock Advisor, has tripled the market.* \nDavid and Tom just revealed what they believe are the ten best stocks for investors to buy right now... and Arrowhead Pharmaceuticals wasn't one of them! That's right -- they think these 10 stocks are even better buys.\nSee the 10 stocks\n*Stock Advisor returns as of June 2, 2020\nThis article is a transcript of this conference call produced for The Motley Fool. While we strive for our Foolish Best, there may be errors, omissions, or inaccuracies in this transcript. As with all our articles, The Motley Fool does not assume any responsibility for your use of this content, and we strongly encourage you to do your own research, including listening to the call yourself and reading the company's SEC filings. Please see our Terms and Conditions for additional details, including our Obligatory Capitalized Disclaimers of Liability.\nMotley Fool Transcribers has no position in any of the stocks mentioned. The Motley Fool has no position in any of the stocks mentioned. The Motley Fool has a disclosure policy.\nThe views and opinions expressed herein are the views and opinions of the author and do not necessarily reflect those of Nasdaq, Inc.",
         "Negative"
        ],
        [
         "8",
         "2023-10-18",
         "AMAT Factor-Based Stock Analysis",
         "AMAT",
         "Below is Validea's guru fundamental report for APPLIED MATERIALS, INC. (AMAT). Of the 22 guru strategies we follow, AMAT rates highest using our Twin Momentum Investor model based on the published strategy of Dashan Huang. This momentum model looks for a combination of fundamental momentum and price momentum.\nAPPLIED MATERIALS, INC. (AMAT) is a large-cap growth stock in the Semiconductors industry. The rating using this strategy is 94% based on the firm’s underlying fundamentals and the stock’s valuation. A score of 80% or above typically indicates that the strategy has some interest in the stock and a score above 90% typically indicates strong interest.\nThe following table summarizes whether the stock meets each of this strategy's tests. Not all criteria in the below table receive equal weighting or are independent, but the table provides a brief overview of the strong and weak points of the security in the context of the strategy's criteria.\nFUNDAMENTAL MOMENTUM: PASS\nTWELVE MINUS ONE MOMENTUM: PASS\nFINAL RANK: PASS\n\nDetailed Analysis of APPLIED MATERIALS, INC.\nAMAT Guru Analysis\nAMAT Fundamental Analysis\nMore Information on Dashan Huang\nDashan Huang Portfolio\nAbout Dashan Huang: Dashan Huang is an Assistant Professor of Finance at the Lee Kong Chian School of Business at Singapore Management University. His paper \"Twin Momentum\" looked at combining traditional price momentum with improving fundamentals to generate market outperformance. In the paper, he identified seven fundamental variables (earnings, return on equity, return on assets, accrual operating profitability to equity, cash operating profitability to assets, gross profit to assets and net payout ratio) that he combined into a single fundamental momentum measure. He showed that stocks in the top 20% of the universe according to that measure outperformed the market going forward. When he combined that measure with price momentum, he was able to double its outperformance.\nAdditional Research Links\nTop NASDAQ 100 Stocks\nTop Technology Stocks\nTop Large-Cap Growth Stocks\nHigh Momentum Stocks\nHigh Insider Ownership Stocks\nAbout Validea: Validea is aninvestment researchservice that follows the published strategies of investment legends. Validea offers both stock analysis and model portfolios based on gurus who have outperformed the market over the long-term, including Warren Buffett, Benjamin Graham, Peter Lynch and Martin Zweig. For more information about Validea, click here\nThe views and opinions expressed herein are the views and opinions of the author and do not necessarily reflect those of Nasdaq, Inc.",
         "Negative"
        ],
        [
         "9",
         "2023-12-08",
         "Owens Corning (OC) Rewards Investors With 15% Dividend Hike",
         "AFGD",
         "Owens Corning OC has boosted investors’ sentiments with a 15% hike in its quarterly cash dividend payments.\n\nThe board of directors of this developer and producer of building materials systems and composite solutions approved a quarterly dividend payout of 60 cents per share ($2.40 per share annually), up from the previous dividend payout of 52 cents per share ($2.08 per share annually). The amount will be paid out on Jan 19, 2024, to shareholders of record as of Jan 8. Based on the closing price of $141 per share on Dec 7, 2023, the stock has a dividend yield of 1.7%.\n\nOwens Corning has been encouraging shareholder value through regular dividend payments since June 1995.  Its long-term financial outlook and generation of cash flow on the back of its capital allocation strategy have helped the company hike its cash dividends for the ninth time since 2014.\n\nFollowing the announcement, shares of OC gained 1.1% in the after-hours trading session on Dec 7.\nProduct Innovation & Favorable Pricing Driving Growth\nOwens Corning persistently focuses on strategic investments that aim at new product and process innovation, which, in turn, help in supporting customers and generating additional growth. It anticipates gaining from the existing product portfolio and initiatives to enhance its production efficiency. Also, it is notably benefiting from its accretive pricing initiatives.\n\nDuring the first nine months of 2023, OC continued to accelerate its product and process innovation, unveiling 25 newer or refreshed products across core platforms in Roofing, Insulation and Composite businesses. Furthermore, the company is most likely to make a huge investment in its Medina, OH facility to expand its laminate manufacturing capacity to support its roofing business. This new product lineup is expected to run by the end of 2025.\n\nComing to pricing initiatives, during the third quarter of 2023, positive pricing and a favorable mix in the Insulation business helped the company partially mitigate the decline in revenues due to reduced volumes across businesses. The company expects pricing to remain healthy in the fourth quarter in both Roofing and Insulation businesses.\n\nMoreover, OC’s healthy balance sheet position helped it maintain its shareholder value. During third-quarter 2023, the company returned $187 million to shareholders through dividends and share repurchases. Also, as of Sep 30, 2023, it had cash and cash equivalents of $1.3 billion, up from $1.1 billion at 2022-end.\nPrice Performance\nShares of Owens Corning have surged 51.9% in the past year, outperforming the Zacks Building Products - Miscellaneous industry’s 39.3% growth.\n\nImage Source: Zacks Investment Research\nAdding to the uptrend, for the to-be-reported quarter, earnings are pegged at $2.78 per share, suggesting a gain of 11.7% from the year-ago quarter’s figure of earnings of $2.49 per share.  On the other hand, the Zacks Consensus Estimate for net sales is pinned at $2.23 billion, indicating a 2.4% decrease year over year. Low volumes and the impact of the sale of the Russian operation have adversely impacted the performance. Nonetheless, Owens Corning’s consistent focus on productivity and process innovations will help it to ensure growth momentum in the upcoming period.\nZacks Rank & Key Picks\nOwens Corning currently carries a Zacks Rank #3 (Hold).\n\nHere are some better-ranked stocks from the Construction sector.\n\nEMCOR Group, Inc. EME presently sports a Zacks Rank #1 (Strong Buy). You can see the complete list of today’s Zacks #1 Rank stocks here.\n\nIt has a trailing four-quarter earnings surprise of 25%, on average. Shares of EME have rallied 43% in the past year. The Zacks Consensus Estimate for EME’s 2023 sales and earnings per share (EPS) indicates an improvement of 12% and 52.8%, respectively, from the prior-year levels.\n\nM-tron Industries, Inc. MPTI currently sports a Zacks Rank of 1. MPTI delivered a trailing four-quarter earnings surprise of 35.6%, on average. It has surged 255.9% in the past year.\n\nThe Zacks Consensus Estimate for MPTI’s 2023 sales and EPS indicates growth of 30.6% and 156.7%, respectively, from the previous year.\n\nWilldan Group, Inc. WLDN currently sports a Zacks Rank of 1. WLDN delivered a trailing four-quarter earnings surprise of a whopping 850.6%, on average. The stock has gained 40.9% in the past year.\n\nThe Zacks Consensus Estimate for WLDN’s 2023 sales and EPS indicates growth of 14.1% and 47.7%, respectively, from a year ago.\nZacks Names \"Single Best Pick to Double\"\nFrom thousands of stocks, 5 Zacks experts each have chosen their favorite to skyrocket +100% or more in months to come. From those 5, Director of Research Sheraz Mian hand-picks one to have the most explosive upside of all.\nIt’s a little-known chemical company that’s up 65% over last year, yet still dirt cheap. With unrelenting demand, soaring 2022 earnings estimates, and $1.5 billion for repurchasing shares, retail investors could jump in at any time.\nThis company could rival or surpass other recent Zacks’ Stocks Set to Double like Boston Beer Company which shot up +143.0% in little more than 9 months and NVIDIA which boomed +175.9% in one year.\nFree: See Our Top Stock and 4 Runners Up >>\nWant the latest recommendations from Zacks Investment Research? Today, you can download 7 Best Stocks for the Next 30 Days. Click to get this free report\nEMCOR Group, Inc. (EME) : Free Stock Analysis Report\nOwens Corning Inc (OC) : Free Stock Analysis Report\nWilldan Group, Inc. (WLDN) : Free Stock Analysis Report\nM-tron Industries, Inc. (MPTI) : Free Stock Analysis Report\nTo read this article on Zacks.com click here.\nZacks Investment Research\nThe views and opinions expressed herein are the views and opinions of the author and do not necessarily reflect those of Nasdaq, Inc.",
         "Negative"
        ],
        [
         "10",
         "2023-12-05",
         "Toll Brothers (TOL) Q4 Earnings: Taking a Look at Key Metrics Versus Estimates",
         "AKO-B",
         "For the quarter ended October 2023, Toll Brothers (TOL) reported revenue of $3.02 billion, down 18.6% over the same period last year. EPS came in at $4.11, compared to $4.67 in the year-ago quarter.\nThe reported revenue compares to the Zacks Consensus Estimate of $2.78 billion, representing a surprise of +8.62%. The company delivered an EPS surprise of +12.30%, with the consensus EPS estimate being $3.66.\nWhile investors closely watch year-over-year changes in headline numbers -- revenue and earnings -- and how they compare to Wall Street expectations to determine their next course of action, some key metrics always provide a better insight into a company's underlying performance.\nSince these metrics play a crucial role in driving the top- and bottom-line numbers, comparing them with the year-ago numbers and what analysts estimated about them helps investors better project a stock's price performance.\nHere is how Toll Brothers performed in the just reported quarter in terms of the metrics most widely monitored and projected by Wall Street analysts:\nClosed/Delivered - Units: 2,755 compared to the 2,707 average estimate based on five analysts.\nBacklog - Units: 6,578 versus the five-analyst average estimate of 6,672.\nAverage delivered price (Total Average Price Per Unit): $1,071.50 versus the five-analyst average estimate of $1,012.\nNet contracts - Units: 2,038 versus the five-analyst average estimate of 2,084.\nAverage Backlog Price: $1,055.80 compared to the $1,067.12 average estimate based on three analysts.\nNumber of Selling Communities: 370 compared to the 375 average estimate based on three analysts.\nBacklog - Value: $6.95 billion versus $7.02 billion estimated by two analysts on average.\nRevenues- Home Sales: $2.95 billion compared to the $2.75 billion average estimate based on six analysts. The reported number represents a change of -17.6% year over year.\nRevenues- Land sales: $68.24 million versus the three-analyst average estimate of $39.56 million. The reported number represents a year-over-year change of -48%.\nGross Margin- Home sales: $810.38 million versus $734.45 million estimated by four analysts on average.\nGross Margin- Land sales and other: -$10.35 million versus $1.47 million estimated by three analysts on average.\nView all Key Company Metrics for Toll Brothers here>>>\n\nShares of Toll Brothers have returned +8.9% over the past month versus the Zacks S&P 500 composite's +5.1% change. The stock currently has a Zacks Rank #3 (Hold), indicating that it could perform in line with the broader market in the near term.\n7 Best Stocks for the Next 30 Days\nJust released: Experts distill 7 elite stocks from the current list of 220 Zacks Rank #1 Strong Buys. They deem these tickers \"Most Likely for Early Price Pops.\"\nSince 1988, the full list has beaten the market more than 2X over with an average gain of +24.0% per year. So be sure to give these hand-picked 7 your immediate attention. \nSee them now >>\nWant the latest recommendations from Zacks Investment Research? Today, you can download 7 Best Stocks for the Next 30 Days. Click to get this free report\nToll Brothers Inc. (TOL) : Free Stock Analysis Report\nTo read this article on Zacks.com click here.\nZacks Investment Research\nThe views and opinions expressed herein are the views and opinions of the author and do not necessarily reflect those of Nasdaq, Inc.",
         "Negative"
        ],
        [
         "11",
         "2020-05-11",
         "BUZZ-U.S. STOCKS ON THE MOVE-Cellect Biotechnology, Quidel, AMC Entertainment",
         "AMC",
         "Eikon search string for individual stock moves: STXBZ\nThe Day Ahead newsletter: http://tmsnrt.rs/2ggOmBi\nThe Morning News Call newsletter: http://tmsnrt.rs/2fwPLTh\nU.S. stock index futures fell on Monday following a strong week of gains for Wall Street, as investors turned cautious about a second wave of coronavirus infections with several countries reopening economies..N\nAt 8:08 ET, Dow e-minis 1YMc1 were down 1.04% at 24,033. S&P 500 e-minis ESc1 were down 1.13% at 2,895.5, while Nasdaq 100 e-minis NQc1 were down 0.85% at 9,139.75. The top three NYSE percentage gainers premarket .PRPG.NQ: ** AMC Entertainment Holdings Inc , up 32% ** Sequans Communications S.A , up 22.1% ** Rpt Realty , up 17.2% The top three NYSE percentage losers premarket .PRPL.NQ: ** Panhandle Oil and Gas Inc , down 27.3% ** GNC Holdings Inc , down 12.3% ** Micro Focus International PLC , down 8.9% The top three Nasdaq percentage gainers premarket .PRPG.O: ** Cellect Biotechnology Ltd , up 96.6% ** Myokardia Inc , up 85% ** ZK International Group Co Ltd , up 38.6% The top three Nasdaq percentage losers premarket .PRPL.O: ** KBL Merger Corp IV , down 24.9% ** THL Credit Inc , down 21.1% ** American Resources Corp , down 20.9% ** Top Ships Inc TOPS.O: up 13.3% premarket BUZZ-Top Ships: Rises after purchase of three medium-range tankers ** Moderna Inc MRNA.O: down 1.8% premarket BUZZ-Moderna's COVID-19 vaccine timeline is 'ambitious' - GlobalData ** Tesla Inc TSLA.O: down 2.7% premarket BUZZ-Tesla slips as China sales of Model 3 vehicles slump 64% ** Coty Inc COTY.N: up 13.5% premarket BUZZ-Coty: Rises on $4.3 bln hair care deal ** Paratek Pharmaceuticals Inc PRTK.O: up 3.2% premarket BUZZ-Paratek Pharmaceuticals rises after co reports surge in Q1 revenue ** Cellect Biotechnology Ltd APOP.O: up 96.6% premarket BUZZ-Cellect: Soars on positive bone marrow transplant study data ** Quidel Corp QDEL.O: up 16.6% premarket BUZZ-Quidel: Jumps as U.S. approves emergency use of first antigen COVID-19 test ** Goldman Sachs Group Inc GS.N: down 1.5% premarket ** JPMorgan Chase & Co JPM.N: down 1.7% premarket ** Citigroup Inc C.N: down 2.5% premarket ** Wells Fargo & Co WFC.N: down 1.3% premarket ** Bank of America Corp BAC.N: down 1.8% premarket\n** Morgan Stanley MS.N: down 1.8% premarket BUZZ-U.S. big banks: Fall in line with broader market ** Amneal Pharmaceuticals Inc AMRX.N: up 11% premarket BUZZ-Amneal Pharma rises after quarterly profit, revenue beat estimates ** Under Armour Inc UAA.N: down 6.3% premarket BUZZ-Under Armour down on weak quarter due to virus-led lockdowns ** AMC Entertainment Holdings Inc AMC.N: up 32% premarket ** Amazon.com Inc AMZN.O: down 0.5% premarket BUZZ-AMC: Jumps on report of takeover talks with Amazon\n(Compiled by Amal S in Bengaluru)\n((Amal.S@thomsonreuters.com; within U.S.+1 646 223 8780; outside U.S. +91 80 6749 3677;))\nThe views and opinions expressed herein are the views and opinions of the author and do not necessarily reflect those of Nasdaq, Inc.",
         "Negative"
        ],
        [
         "12",
         "2021-01-13",
         "Is Amazon's Stock Undervalued?",
         "ADBE",
         "[Updated 01/11/2021] Amazon Update\nHaving grown by 72% since the end of 2019, Amazon’s stock (NASDAQ:AMZN) still has growth potential in the near term. AMZN’s stock grew from $1848 at the end of 2019 to $3183 now, compared to the S&P 500 which gained 18% since the end of 2019. The company has seen a high revenue growth over recent years, and its P/E multiple has fallen compared to 2017. We believe the stock, after the recent rally, has a good upside in the near term. Our dashboard ‘Buy or Sell Amazon’s Stock‘ has the underlying numbers.\nDuring the Covid-19 crisis, Amazon saw its revenue rise by 35% in the first 3 quarters of 2020 as consumers preferred online shopping to reduce the risk of infection. In Q3 2020, Amazon beat consensus estimates for revenue recorded at $96 billion, up 37% y-o-y and earnings recorded at $12.63 compared to $4.31 in the same period of the previous year. Further, the company reported $146 billion of cash inflows from operating activities for the first nine months.\nWe expect Amazon‘s revenues to grow by 31% to $369 billion for 2020. Further, its net income is likely to rise to $19.5 billion, increasing its EPS figure to $38.21 in 2020. Thereafter, revenues are expected to grow further to $435.3 billion in 2021. In addition, the EPS figure will likely improve to $60.52, which coupled with the P/E multiple of around 62x will lead to Amazon’s valuation around $3758, about 18% upside compared to the current market price.\n  [Updated 07/10/2020] Amazon Stock Is At An All-Time High, But Will It Grow Any More?\nAfter a near-70% rise since the market bottom on March 23 this year, we believe Amazon’s stock (NASDAQ:AMZN) doesn’t have any room to grow at its all-time high current price of around $3,200 per share. While the company is likely to continue to report strong revenue growth over the foreseeable future, and the increasing contribution of its high-margin Amazon Web Services (AWS) business should also have a positive impact on the profit margin, we think the current P/E multiple figure of nearly 140x is already too high – making further gains to the stock price very unlikely.\nAMZN’s stock has increased from around $1,900 to $3,200 from March 23, 2020 – better than the S&P 500, which increased by around 41% over this period. The stock price has been on a run as Amazon benefited from millions of people in the U.S. and abroad turning to online marketplaces to fulfill their essential requirements like groceries, food, toiletries, and medicines. In these uncertain times where companies are cutting pays and jobs, Amazon has raised pay and hired more than 100K warehouse and delivery workers – and is planning to bring in more as it struggles to fulfill the huge, unexpected rise in demand. At the end of April 2020, the company had a workforce of 935K employees. In Q1 2020, the company recorded a 26% growth in revenue compared to the previous year.\n  Some of the stock price rise in the 2016-2019 period is justified by the fact that revenues more than doubled. Amazon’s revenues increased from $136 billion in 2016 to $281 billion in 2019, mainly driven by the contribution of Retail revenue from the North America segment. An improvement in net income margin from 1.7% in 2016 to 4.1% in 2019 helped net income swell 137% over the period.\nThe stock price increased during this period as margins and revenue grew, despite the P/E multiple normalizing from 150x in 2016 to 79x in 2019. The multiple has shot up again this year, though, as people are turning towards online retail and web services during the coronavirus pandemic, and the figure currently stands at an elevated level of around 140x.\nEffect of Coronavirus\nThe global spread of coronavirus has led to lockdown in various cities across the globe, which has affected industrial and economic activity. This is likely to affect consumption and consumer spending adversely. Notably, Amazon’s stock is up by about 58% since January 31, after the World Health Organization (WHO) declared a global health emergency in light of the spread of coronavirus. However, during the same period, the S&P 500 index saw a decline of about 2%. Despite the coronavirus pandemic, the company saw a 26% growth in Total revenues for Q1 2020. Amazon web services led the revenue growth recorded at 33% y-o-y, while the North America retail revenue recorded a 29% growth y-o-y. That said, lower consumer spending and consumption over the coming months could likely lead to lower demand for discretionary items as consumers will focus on essentials.\n  The actual recovery and its timing hinge on the broader containment of the coronavirus spread. Our dashboard Trends In U.S. Covid-19 Cases provides an overview of how the pandemic has been spreading in the U.S. and contrasts with trends in Brazil and Russia. With investors focusing their attention on 2021 results, the valuations become important in finding value.\nWhat if you’re looking for a more balanced portfolio instead? Here’s a high quality portfolio to beat the market, with over 100% return since 2016, versus 55% for the S&P 500. Comprised of companies with strong revenue growth, healthy profits, lots of cash, and low risk, it has outperformed the broader market year after year, consistently.\n  See all Trefis Price Estimates and Download Trefis Data here\nWhat’s behind Trefis? See How It’s Powering New Collaboration and What-Ifs For CFOs and Finance Teams | Product, R&D, and Marketing Teams\nThe views and opinions expressed herein are the views and opinions of the author and do not necessarily reflect those of Nasdaq, Inc.",
         "Negative"
        ],
        [
         "13",
         "2023-12-08",
         "UK's Berkeley flags subdued demand in housing market",
         "ARGD",
         "Adds sector context in paragraph 2, CEO comment in paragraph 3, details on profit outlook in paragraph 4\nDec 8 (Reuters) - British high-end homebuilder Berkeley BKGH.L on Friday joined its sector peers in underscoring the difficult trading conditions in the housing market, as high mortgage costs and weak macroeconomic backdrop continue to drive buyers away.\nBritain's housing market has battled a pronounced slowdown for most of this year as expensive home loans and broader economic woes weigh on affordability, forcing builders to warn on profit and cut down on home-build targets.\n\"We anticipate the sales market will remain subdued before inflecting in its normal cyclical manner once there is greater confidence in a downward trajectory for interest rates and economic stability returns,\" CEO Rob Perrins said in a statement.\nBerkeley forecast pre-tax profit of at least 1.5 billion pounds ($1.89 billion) over three years through fiscal year 2026. Earlier, it had forecast a profit of 1.05 billion pounds for the fiscal years 2024 and 2025.\nBerkeley BKGH.L, which unlike its bigger rivals focuses on redeveloping land that was previously used for industrial purposes, said private bookings for the first-half period was around one-third lower than the levels secured throughout the 2023 financial year.\nThe FTSE 100 .FTSE builder posted an about 5% rise in pre-tax profit at 298 million pounds for the six-month period ended Oct. 31.\n($1 = 0.7953 pounds)\n(Reporting by Aby Jose Koilparambil in Bengaluru and Suban Abdulla in London; Editing by Sherry Jacob-Phillips and Rashmi Aich)\n((abyjose.koilparambil@thomsonreuters.com))\nThe views and opinions expressed herein are the views and opinions of the author and do not necessarily reflect those of Nasdaq, Inc.",
         "Negative"
        ],
        [
         "14",
         "2018-04-11",
         "Pre-Market Earnings Report for April 12, 2018 : BLK, DAL, SJR, CBSH, OZRK, RAD, APOG",
         "APOG",
         "The following companies are expected to report earnings prior to market open on 04/12/2018. Visit our Earnings Calendar for a full list of expected earnings releases.\nBlackRock, Inc. ( BLK ) is reporting for the quarter ending March 31, 2018. The finance/investment management company's consensus earnings per share forecast from the 6 analysts that follow the stock is $6.42. This value represents a 22.29% increase compared to the same quarter last year. BLK missed the consensus earnings per share in the 2nd calendar quarter of 2017 by -2.78%. Zacks Investment Research reports that the 2018 Price to Earnings ratio for BLK is 19.04 vs. an industry ratio of 15.80, implying that they will have a higher earnings growth than their competitors in the same industry.\nDelta Air Lines, Inc. ( DAL ) is reporting for the quarter ending March 31, 2018. The airline company's consensus earnings per share forecast from the 9 analysts that follow the stock is $0.73. This value represents a 5.19% decrease compared to the same quarter last year. DAL missed the consensus earnings per share in the 2nd calendar quarter of 2017 by -1.2%. Zacks Investment Research reports that the 2018 Price to Earnings ratio for DAL is 8.40 vs. an industry ratio of 12.10.\nShaw Communications Inc. ( SJR ) is reporting for the quarter ending February 28, 2018. The cable tv company's consensus earnings per share forecast from the 4 analysts that follow the stock is $0.23. This value represents a no change for the same quarter last year. SJR missed the consensus earnings per share in the 4th calendar quarter of 2017 by -24%. Zacks Investment Research reports that the 2018 Price to Earnings ratio for SJR is 20.39 vs. an industry ratio of 121.90.\nCommerce Bancshares, Inc. ( CBSH ) is reporting for the quarter ending March 31, 2018. The bank (midwest) company's consensus earnings per share forecast from the 8 analysts that follow the stock is $0.80. This value represents a 23.08% increase compared to the same quarter last year. CBSH missed the consensus earnings per share in the 3rd calendar quarter of 2017 by -4.23%. Zacks Investment Research reports that the 2018 Price to Earnings ratio for CBSH is 17.79 vs. an industry ratio of 14.30, implying that they will have a higher earnings growth than their competitors in the same industry.\nBank of the Ozarks ( OZRK ) is reporting for the quarter ending March 31, 2018. The banks (southeast) company's consensus earnings per share forecast from the 6 analysts that follow the stock is $0.85. This value represents a 16.44% increase compared to the same quarter last year. In the past year OZRK has met analyst expectations twice and beat the expectations the other two quarters. Zacks Investment Research reports that the 2018 Price to Earnings ratio for OZRK is 12.71 vs. an industry ratio of 12.00, implying that they will have a higher earnings growth than their competitors in the same industry.\nRite Aid Corporation ( RAD ) is reporting for the quarter ending February 28, 2018. The drug store company's consensus earnings per share forecast from the 1 analyst that follows the stock is $-0.02. This value represents a 0.00% decrease compared to the same quarter last year. RAD missed the consensus earnings per share in the 2nd calendar quarter of 2017 by -150%. Zacks Investment Research reports that the 2018 Price to Earnings ratio for RAD is -33.00 vs. an industry ratio of 5.20.\nApogee Enterprises, Inc. ( APOG ) is reporting for the quarter ending February 28, 2018. The glass products company's consensus earnings per share forecast from the 1 analyst that follows the stock is $0.77. This value represents a 3.75% decrease compared to the same quarter last year. The \"days to cover\" for this stock exceeds 15 days. Zacks Investment Research reports that the 2018 Price to Earnings ratio for APOG is 13.92 vs. an industry ratio of 10.80, implying that they will have a higher earnings growth than their competitors in the same industry.\nThe views and opinions expressed herein are the views and opinions of the author and do not necessarily reflect those of Nasdaq, Inc.\nThe views and opinions expressed herein are the views and opinions of the author and do not necessarily reflect those of Nasdaq, Inc.",
         "Negative"
        ],
        [
         "15",
         "2022-07-18",
         "4 Financial Stocks To Watch Right Now",
         "AMTB",
         "4 Trending Financial Stocks For Your Watchlist This Week\nWith the June consumer price index coming in hot, rising at 9.1% versus the 8.8% estimate, many are expecting big rate hikes from the Fed. And some may assume that financial stocks could be benefiting. But the industry has failed to build momentum in the stock market so far this year. Fears of recession likely played a big part in these looming sentiments. That said, the sector may be deemed to be more resilient compared to other high-growth sectors. Now, bank stocks, in particular, will likely be in focus as Citi (NYSE: C) and JPMorgan (NYSE: JPM) will be reporting their earnings later this week. All eyes will be on these top financial companies as they set the tone for the second-quarter earnings session. \nOn top of that, Bank of America (NYSE: BAC) recently published a new article that shows consumer spending is still growing. The total aggregated Bank of America credit and debit card spending was up 11% year over year in June, compared to 13% and 9% in April and May year over year respectively. This goes to show that there are signs of resilience in consumer spending despite a backdrop of rising inflation. Considering all this, let’s take a look at four of the top financial stocks in the stock market today. \nFinancial Stocks To Watch This Week\nWells Fargo & Co (NYSE: WFC)\nMorgan Stanley (NYSE: MS)\nPayPal Holdings Inc (NASDAQ: PYPL)\nAmerant Bancorp Inc (NASDAQ: AMTB)\nWells Fargo\nFirst, let us look at the financial services company, Wells Fargo. Put simply, the company provides a diversified set of banking, investment, and mortgage products and services to consumers. Not to mention, it also provides financial solutions to businesses through products and services such as traditional commercial loans, asset-based lending, trade financing, and investment banking services. It is noteworthy that Wells Fargo recently appointed Kleber Santos as its CEO of Consumer Lending. Mr. Kleber is a proven leader and his experience will likely continue to strengthen the company’s position in the Consumer Lending space as it prepares for future growth. \nIn June, Wells Fargo announced the latest offering in its portfolio of consumer credit cards, the Wells Fargo Autograph Card. This new card follows the introduction of the Active Cash and Reflect Cards in 2021 and offers 3X points on top spending categories for everyday living expenses. This includes dining at restaurants, travel, gas, transit, and even streaming subscriptions. Additionally, this also solidifies the company’s partnership with Visa (NYSE: V) in the long term. Given all of this, should investors be jumping on the WFC stock bandwagon? \n[Read More] What Are The Best Stocks To Invest In? 4 Lithium Stocks To Know\nMorgan Stanley\nSimilar to Wells Fargo, Morgan Stanley is another financial giant that would be no stranger to most. It provides a range of investment banking, wealth management, and investment management services. With operations in more than 41 countries, the bank serves clients such as corporations, governments, institutions, and individuals. After doubling its dividend last year, Morgan Stanley continues to raise its dividend this year. Last month, the company announced that it will increase its dividend by 11% and will continue to buy back its stock under a new $20 billion multi-year share repurchase authorization. Hence, it would not be surprising if investors are paying close attention to MS stock at its current valuation. \nFurthermore, Morgan Stanley at Work also announced the acquisition of American Financial Systems (AFS). For those unaware, this is a recognized leading provider of nonqualified executive benefit plan solutions and service. This acquisition will add to its workplace’s offering spectrum that ranges from executive services, retirement plan guidance, and implementation, to equity compensation and financial wellness. After all, attracting and retaining top talent has always been a top priority for most companies today. With that in mind, would you be banking on the future of MS stock? \nPayPal\nAs financial services continue to evolve, a company such as PayPal will likely have a major role in the evolution of the financial sector. Essentially, PayPal is a technology platform that enables digital payments. It operates a global, two-sided network at a scale that connects merchants and consumers with 426 million active accounts across more than 200 markets. Its notable brands include PayPal, Hyperwallet, Venmo, Xoom, Zettle, and many more. In June, the company announced PayPal Pay Monthly. This is its newest buy now, pay later offering issued by WebBank. Its customers will have the choice to spread payments out over longer periods. Therefore, allowing greater flexibility and even more choices to pay for the items they want and need. \nOn top of that, PayPal has shown that it does not rest on its laurels. Not long ago, it announced the expansion of its suite of credit offerings to include a new business credit card. The PayPal Business Cashback Mastercard will be its first business credit card that aims to better meet the everyday financing needs of business owners. Also, the card has no annual fee and cardholders will be entitled to a 2% cashback on all purchases with no rewards earnings caps. Making it one of the highest cashback rewards values available in the market today. Considering these exciting developments, is PYPL stock still a top financial stock to watch? \n[Read More] Best Cheap Stocks To Buy Now? 3 Software Stocks For Your List\nAmerant Bancorp\nLastly, we have Amerant Bancorp. In detail, the company provides individuals and businesses an array of deposit, credit, investment, retail banking, and wealth management solutions. Currently, the bank operates in Florida and Texas. Having said that, the bank is constantly looking for opportunities to expand its presence. Last month, Amerant established a new commercial bank presence in the Greater Tampa Bay market. With the opening of an office at One Metro Center in MetWest International, the bank will provide a variety of transactional and business-related services. \nNot to mention, the bank recently announced an expansive strategic partnership with the Miami HEAT basketball club. Thus, making it the “Official Bank of the Miami HEAT”. The multi-year partnership will support major drivers for growth such as marketing and business development opportunities. Some examples include the renaming of the premium North Lounge as the “Amerant Lounge”, and access to appearances by the Miami HEAT players. Considering the popularity of the National Basketball Association (NBA), such marketing opportunities do not come by easily. Thus, should AMTB stock make its way to the top of your watchlist?\nIf you enjoyed this article and you’re interested in learning how to trade so you can have the best chance to profit consistently then you need to checkout this YouTube channel.\nCLICK HERE RIGHT NOW!!\nThe views and opinions expressed herein are the views and opinions of the author and do not necessarily reflect those of Nasdaq, Inc.",
         "Negative"
        ],
        [
         "16",
         "2022-08-04",
         "Altice (ATUS) Surpasses Q2 Earnings & Revenue Estimates",
         "ATUS",
         "Altice USA, Inc. ATUS reported relatively modest second-quarter 2022 results, wherein the bottom line and top line beat the respective Zacks Consensus Estimate despite declining year over year. The company has been accelerating the pace of network rollouts and expects to better connect with customers with its rebranding campaign, thereby reporting improved performances in the long run.\nNet Income\nNet income in the quarter declined to $106.2 million or 23 cents per share from $197.7 million or 43 cents per share in the prior-year quarter, primarily due to top-line contraction. Adjusted net income in the reported quarter was 35 cents per share, which beat the Zacks Consensus Estimate by a couple of cents.\nAltice USA, Inc. Price, Consensus and EPS Surprise\nAltice USA, Inc. price-consensus-eps-surprise-chart | Altice USA, Inc. Quote\nRevenues\nQuarterly total revenues slipped to $2,463 million from $2,516 million in the prior year, owing to lower contribution from residential business due to a challenging macroeconomic environment. The top line, however, beat the consensus estimate of $2,450 million.\n\nThe company made progress in its growth strategies by accelerating network enhancement and customer experience. It plans to bring 100% fiber broadband to more than two-thirds of its footprint over the next four years to reach a total of 6.5 million FTTH (Fiber to the home) passings by the end of 2025. At quarter-end, Altice had 1.59 million FTTH passings, about 270,000 of which were added in the quarter. Broadband-only customer usage averaged 578 GB per month. FTTH broadband net additions were more than 23,000 in the quarter, led by increased migrations of existing customers. Total fiber broadband customers reached 104,000 by the end of the quarter, with 6.6% customer penetration of the FTTH network. Residential revenue per customer relationship declined 1.5% year over year to $140.13 due to the loss of higher ARPU video customers.\n\nResidential revenues (which include Broadband, Video and Telephony) were $1,928.8 million, down 3% year over year due to a loss in customers of 48,000 residential customer relationships and a broadband net loss of 40,000. Business services and wholesale revenues remained relatively flat at $371.5 million. News and Advertising revenues were $133.2 million, up 1.1% driven by strength in the travel, entertainment and sports betting segments.\nOther Quarterly Details\nOperating income declined to $521.7 million from $626.8 million in the year-ago quarter. Adjusted EBITDA was $1,007.1 million compared with $1,104.6 million in the prior-year quarter. Altice rebranded its national mobile service dubbed Altice Mobile to Optimum Mobile, as part of its effort to align all the services under a single national Optimum brand. The rechristened Optimum Mobile witnessed healthy subscriber growth during the quarter, reaching 231,000 customers, representing 5.1% penetration of the residential customer base.\nCash Flow & Liquidity\nAltice generated $676.3 million of cash from operating activities in the quarter compared with $729.5 million in the prior year, bringing the tallies for the first half of 2022 and 2021 to $1,276.6 million and $1,479.2 million, respectively. Free cash flow was $191.2 million, down 53% year over year. As of Jun 30, 2022, the company’s cash and cash equivalents totaled $233.2 million with net debt of $24,464 million.\nZacks Rank & Stocks to Consider\nAltice currently has a Zacks Rank #3 (Hold). You can see the complete list of today’s Zacks #1 Rank (Strong Sell) stocks here.\n\nTESSCO Technologies Incorporated TESS, sporting a Zacks Rank #1, delivered an earnings surprise of 61.9%, on average, in the trailing four quarters. Earnings estimates for TESSCO for the current year have moved up 49.4% since August 2021.\n\nTESSCO offers products to the industry’s top manufacturers in mobile communications, Wi-Fi, wireless backhaul and related products. With more than three decades of experience, it delivers complete end-to-end solutions to the wireless industry.\n\nOoma Inc. OOMA, carrying a Zacks Rank #2 (Buy), delivered an earnings surprise of 34.7%, on average, in the trailing four quarters. Earnings estimates for Ooma for the current year have moved up 5.4% since March 2022.\n\nOoma offers communications services and related technologies for businesses and consumers in the United States and Canada. It helps to create powerful connected experiences for businesses and consumers through its smart cloud-based SaaS platform.\n\nHarmonic Inc. HLIT, carrying a Zacks Rank #2, delivered an earnings surprise of 79.8%, on average, in the trailing four quarters. Earnings estimates for Harmonic for the current year have moved up 17.1% since February 2022.\n\nHarmonic provides video delivery software, products, system solutions, and services worldwide. With more than three decades of experience, it has revolutionized cable access networking via the industry's first virtualized cable access solution, enabling cable operators to more flexibly deploy gigabit internet service to consumers' homes and mobile devices.\n\n5 Stocks Set to Double\nEach was handpicked by a Zacks expert as the #1 favorite stock to gain +100% or more in 2021. Previous recommendations have soared +143.0%, +175.9%, +498.3% and +673.0%.\nMost of the stocks in this report are flying under Wall Street radar, which provides a great opportunity to get in on the ground floor.\nToday, See These 5 Potential Home Runs >>\n\nWant the latest recommendations from Zacks Investment Research? Today, you can download 7 Best Stocks for the Next 30 Days. Click to get this free report\n \nHarmonic Inc. (HLIT): Free Stock Analysis Report\n \nTESSCO Technologies Incorporated (TESS): Free Stock Analysis Report\n \nOoma, Inc. (OOMA): Free Stock Analysis Report\n \nAltice USA, Inc. (ATUS): Free Stock Analysis Report\n \nTo read this article on Zacks.com click here.\n \nZacks Investment Research\nThe views and opinions expressed herein are the views and opinions of the author and do not necessarily reflect those of Nasdaq, Inc.",
         "Negative"
        ],
        [
         "17",
         "2023-06-16",
         "Roche's cancer therapy gets US FDA nod, heating up competition with AbbVie",
         "ABBV",
         "By Mariam Sunny and Pratik Jain\nJune 16 (Reuters) - The U.S. Food and Drug Administration (FDA) greenlighted Roche Holding AG's ROG.S experimental therapy to treat a type of advanced blood cancer, nearly a month after the approval of a rival therapy from AbbVie Inc ABBV.N.\nRoche's Columvi, an antibody-based therapy chemically known as glofitamab, was approved to treat diffuse large B-cell lymphoma in adults, who had received at least two prior lines of treatment before their cancer relapsed, the Swiss drugmaker said late on Thursday.\nAbbVie Inc ABBV.N and Danish drugmaker Genmab's GMAB.CO therapy, epcoritamab, last month became the first approved bispecific antibody-based therapy for the disease that annually affects 150,000 people globally.\nThe list price of epcoritamab, branded as Epkinly, is $37,500 per month. It has an average therapy duration of around nine months, followed by infrequent dosing thereafter.\nRoche's Columvi, a fixed-duration treatment completed in about 8.5 months, is expected to cost about $350,000 for the full course and would be available in the United States in the coming weeks, the company said in an emailed response.\nShares of Roche listed on the Swiss stock exchange rose 1.8% to 280.35 CHF ($314.61).\nBoth Columvi and Epkinly belong to a class of therapies called bispecific antibodies that are designed to bring a cancer cell and an immune cell together so the body's immune system can kill the cancer.\nColumvi's approval is based on data from a mid-stage study that showed that 56% of patients treated with the therapy had no signs of cancer or had seen a significant decrease in cancer cells in the body.\n($1 = 0.8911 Swiss francs)\n(Reporting by Mariam Sunny and Pratik Jain in Bengaluru; Editing by Shinjini Ganguli)\n((Mariam.ESunny@thomsonreuters.com;))\nThe views and opinions expressed herein are the views and opinions of the author and do not necessarily reflect those of Nasdaq, Inc.",
         "Negative"
        ],
        [
         "18",
         "2023-07-19",
         "APO Factor-Based Stock Analysis",
         "APO",
         "Below is Validea's guru fundamental report for APOLLO GLOBAL MANAGEMENT INC (APO). Of the 22 guru strategies we follow, APO rates highest using our Multi-Factor Investor model based on the published strategy of Pim van Vliet. This multi-factor model seeks low volatility stocks that also have strong momentum and high net payout yields.\nAPOLLO GLOBAL MANAGEMENT INC (APO) is a large-cap growth stock in the Investment Services industry. The rating using this strategy is 50% based on the firm’s underlying fundamentals and the stock’s valuation. A score of 80% or above typically indicates that the strategy has some interest in the stock and a score above 90% typically indicates strong interest.\nThe following table summarizes whether the stock meets each of this strategy's tests. Not all criteria in the below table receive equal weighting or are independent, but the table provides a brief overview of the strong and weak points of the security in the context of the strategy's criteria.\nMARKET CAP: PASS\nSTANDARD DEVIATION: PASS\nTWELVE MINUS ONE MOMENTUM: NEUTRAL\nNET PAYOUT YIELD: NEUTRAL\nFINAL RANK: FAIL\nDetailed Analysis of APOLLO GLOBAL MANAGEMENT INC\nAPO Guru Analysis\nAPO Fundamental Analysis\nMore Information on Pim van Vliet\nPim van Vliet Portfolio\nAbout Pim van Vliet: In investing, you typically need to take more risk to get more return. There is one major exception to this in the factor investing world, though. Low volatility stocks have been proven to outperform their high volatility counterparts, and do so with less risk. Pim van Vliet is the head of Conservative Equities at Robeco Asset Management. His research into conservative factor investing led to the creation of this strategy and the publication of the book \"High Returns From Low Risk: A Remarkable Stock Market Paradox\". Van Vliet holds a PhD in Financial and Business Economics from Erasmus University Rotterdam.\nAdditional Research Links\nTop Financial Stocks\nDividend Aristocrats2023\nWide Moat Stocks2023\nCheapest Value Stocks2023\nFactor-Based Stock Portfolios\nExcess Returns Investing Podcast\nAbout Validea: Validea is aninvestment researchservice that follows the published strategies of investment legends. Validea offers both stock analysis and model portfolios based on gurus who have outperformed the market over the long-term, including Warren Buffett, Benjamin Graham, Peter Lynch and Martin Zweig. For more information about Validea, click here\nThe views and opinions expressed herein are the views and opinions of the author and do not necessarily reflect those of Nasdaq, Inc.",
         "Negative"
        ],
        [
         "19",
         "2023-07-19",
         "US STOCKS-Wall St edges higher as earnings pick up; Dow aims for 8th day of gains",
         "AAPL",
         "By Chuck Mikolajczak\nNEW YORK, July 19 (Reuters) - The Dow Jones Industrial Average and S&P 500 index rose modestly on Wednesday, with the blue-chip Dow on pace for its eighth straight day of gains as investors gauged the latest round of corporate earnings, but a decline in Microsoft held the Nasdaq near the unchanged mark.\nGoldman Sachs rose 1.56% after reporting a 3-year low in profit but CEO David Solomon made positive comments about signs of a recovery in investment banking. That echoed upbeat comments from other big banks on Tuesday.\n\"Right now we are getting through the raft of companies that are smart and years ago had moved over to more reliable fee based income and that is what people are kind of working through their heads,\" said Kim Forrest, chief investment officer at Bokeh Capital Partners in Pittsburgh.\n\"Banks are giving you the tenor of what is happening in business.\"\nCitizens FinancialCFG.N jumped 7.75% and M&T BankMTB.Nrose 2.51% after both beat Wall Street estimates for second-quarter profit. US BancorpUSB.N reversed earlier losses to surge 4.6% as the Minneapolis-based lender posted a 28% jump in quarterly .\nThe Dow was on track for its eighth straight session of gains, its longest winning streak since September 2019.\nTesla TSLA.O lost 0.42% ahead of results expected after the bell. It will be the first of the megacap growth companies whose outsized gains have fueled a roughly 37% gain in the Nasdaq .IXIC this year to report earnings this quarter.\nResults from Netflix NFLX.O and International Business Machines Corp IBM.N are also due after the closing bell.\nSecond-quarter earningsare expected to have declined 8.2%, Refinitiv data showed, more than the 5.7% fall expected at the start of the month.\nAT&TT.N rose 8.25% after the telecom company said it did not intend to immediately remove lead cables from Lake Tahoe pending further analysis. Peer Verizon VZ.N also added 5.4%.\nHalliburtonHAL.Nshed 3.14% after posting disappointing quarterly revenue, while Baker HughesBKR.O edged up 0.5% after beating earnings expectations.\nThe S&P 500 posted 39 new 52-week highs and no new lows; the Nasdaq Composite recorded 135 new highs and 55 new lows.\n(Reporting by Chuck Mikolajczak; Editing by Richard Chang)\n((charles.mikolajczak@tr.com; @ChuckMik;))\nThe views and opinions expressed herein are the views and opinions of the author and do not necessarily reflect those of Nasdaq, Inc.",
         "Negative"
        ],
        [
         "20",
         "2021-08-17",
         "Could AMC Help You Become a Millionaire by 2030?",
         "AMC",
         "AMC Entertainment (NYSE: AMC) captured the attention of retail traders earlier this year when it caught a meme stock wave and shot up from a low of just under $2 per share in January to a high of about $72 per share in May. At its current price in the low $30s per-share range, it has fallen by nearly 60% from its highs. However, since it still trades 16 times higher than its January low, one might question whether it holds the potential for something more.\nCan stock in this movie theater chain help some of its shareholders become millionaires by 2030?\nImage source: Getty Images.\nThe state of AMC Entertainment\nAMC faced unprecedented pain in 2020 as the COVID-19 pandemic forced theater closures around the world. To get through this challenging time, it resorted to a massive share issuance. At the end of June 2020, shares outstanding stood at just above 104 million. Today, the company has 513 million shares available to trade. Unfortunately, AMC issued most of those shares before the spike in the stock price.\nMoreover, home theaters have become popular as sound and video systems have become more advanced. This gives moviegoers less of a need to visit theaters. Furthermore, amid COVID-19 closures, studios released many movies straight to streaming, bypassing theaters that usually held a claim on new releases. Fortunately for AMC, a recent agreement with AT&T's Warner Bros. to give theaters 45 days of exclusivity on new releases beginning in 2022 could help mitigate that issue.\nAMC by the numbers\nStill, the pandemic continued to have lingering effects on revenue for the first two quarters of the year. AMC's revenue over six months, which came in at $593 million, fell 38% compared with the first six months of 2020. Nonetheless, with 62% lower operating costs during that period, the company cut its net loss by two-thirds during that period to $911 million.\nAdditionally, the company reported a record $2 billion in liquidity. While its corporate borrowings of $5.5 billion remain a burden, they have fallen from $5.7 billion at the end of 2020 as the previously mentioned stock issuances helped keep the company afloat.\nManagement also said on the second-quarter 2021 earnings call that attendance was at 23% of 2019 levels. However, while the company did not offer specific guidance, admission revenue has reached 57% so far in Q3, up from 18% in Q2. Also, the company forecasts positive theater-level cash flow by Q4.\nWatch for sustainability\nNonetheless, even as the revenue gain points to a recovery in the business, investors have to wonder what comes next? The Reddit online investing-focused forum WallStreetBets has fostered discussion among a passionate group of AMC bulls. Their support of the stock helped to take it to record levels in May. However, the fact that the stock has lost most of its gains since that time could point to the limited influence of these traders.\nMoreover, we now live in a world where people can turn to other entertainment options such as online videos and the increased options for gaming. Such trends will likely become more pronounced by 2030.\nAdditionally, the current stock price points to the difficulty of turning small shareholders into millionaires with this stock. Suppose a trader was fortunate enough to buy 5,000 shares at $2 per share in January, creating a $10,000 initial position. That investor would need AMC to rise to at least $200 per share to manifest a $1 million position. Also, this scenario does not consider those who invest $10,000 in AMC today. They would need the share price to rise above $4,000 per share to reach millionaire status.\nOn the outside chance that AMC stock could keep doubling in value four times in seven months, as it has since January, reaching a $1 million position by 2030 is a reachable feat for any investor. However, doubling values come much more easily at $2 per share than at $32 per share. Also, with the aforementioned business conditions working against AMC, it is difficult to envision how the company will derive the sustained revenue and earnings growth necessary to reach and maintain such growth levels.\nWill AMC mint millionaires?\nFew investors believed AMC would reach $72 per share early this year. Hence, with enough momentum, one cannot say that $200 per share or even $2,000 per share is impossible.\nHowever, the aftereffects of the 2020 shutdowns make reaching such share levels highly improbable. And even though AMC continues to recover, recovery does not equate to prosperity. Given the lack of a visible path to sustained growth, investors should not expect help from AMC in their quest for $1 million, and taking the timeline out to 2030 or any other year will likely not help this entertainment stock.\n10 stocks we like better than AMC Entertainment Holdings\nWhen our award-winning analyst team has a stock tip, it can pay to listen. After all, the newsletter they have run for over a decade, Motley Fool Stock Advisor, has tripled the market.*\nThey just revealed what they believe are the ten best stocks for investors to buy right now... and AMC Entertainment Holdings wasn't one of them! That's right -- they think these 10 stocks are even better buys.\nSee the 10 stocks\n*Stock Advisor returns as of August 9, 2021\nWill Healy has no position in any of the stocks mentioned. The Motley Fool has no position in any of the stocks mentioned. The Motley Fool has a disclosure policy.\nThe views and opinions expressed herein are the views and opinions of the author and do not necessarily reflect those of Nasdaq, Inc.",
         "Negative"
        ],
        [
         "21",
         "2021-08-18",
         "Aberdeen Global Dynamic Dividend Fund (AGD) Ex-Dividend Date Scheduled for August 19, 2021",
         "AGD",
         "Aberdeen Global Dynamic Dividend Fund (AGD) will begin trading ex-dividend on August 19, 2021. A cash dividend payment of $0.065 per share is scheduled to be paid on August 31, 2021. Shareholders who purchased AGD prior to the ex-dividend date are eligible for the cash dividend payment. This marks the 40th quarter that AGD has paid the same dividend. At the current stock price of $12.51, the dividend yield is 6.24%.\nThe previous trading day's last sale of AGD was $12.51, representing a -0.04% decrease from the 52 week high of $12.52 and a 46.32% increase over the 52 week low of $8.55.\nAGD is a part of the Finance sector, which includes companies such as American Tower Corporation (REIT) (AMT) and Northern Trust Corporation (NTRS).\nFor more information on the declaration, record and payment dates, visit the AGD Dividend History page. Our Dividend Calendar has the full list of stocks that have an ex-dividend today.\nThe views and opinions expressed herein are the views and opinions of the author and do not necessarily reflect those of Nasdaq, Inc.",
         "Negative"
        ],
        [
         "22",
         "2021-07-14",
         "5 Reasons to Invest in Renewable Energy Stocks",
         "BEP",
         "Renewable energy sources provide a very intuitive way to fulfill the world's energy needs. While fossil fuels may deplete sooner or later, renewable energy sources are there forever. Yet, higher renewable energy costs and uneven availability have restricted the profits and growth of renewable energy companies to some extent. This is changing fast. Here are five reasons why investing in renewable energy stocks makes eminent sense.\n1. The fuel of the future\nSeveral factors are contributing to the rapid growth in the use of renewable energy. First, the costs of renewable power generation have fallen significantly over the years. What's more, the costs continue to fall even now. For example, between 2010 and 2020, the global weighted average levelized cost of electricity of new utility-scale solar projects -- a metric used to compare the economic competitiveness of power generation by source -- fell by 85%, from $0.381 per kilowatt-hour (kWh) to $0.057/kWh. Compared to 2019, this cost fell by 7% in 2020. Similarly, the average cost of onshore wind generation fell 56% in the last decade.\nImage source: Getty Images.\nThe second factor contributing to the growth of renewable energy is increased reliability due to batteries. Generation from solar or wind energy is uneven, happening only when the sun shines or the wind blows. Batteries provide a solution to this key problem, allowing storage of generated power for later use, adding immense value to renewable energy and making it a viable alternative to fossil fuel-based generation.\nTop solar companies, including SolarEdge and Enphase Energy (NASDAQ: ENPH), have launched their battery storage products to cater to this need. Enphase Energy shipped 42 megawatt-hours of storage systems in the first quarter, up 30% sequentially. It plans to launch battery storage products for the European markets in the second half of this year.\nThe third contributor to the growth of renewable energy is not as intuitive as the above two but could potentially be a big force -- energy companies. Oil and gas giants, such as BP and TotalEnergies, are increasingly focused on renewable energy as a key growth avenue. With their expertise and financial strength, they could accelerate a transition to renewables.\n2. Institutional investor support\nRenewable energy is gaining increased support from large funds worldwide. As much as half of the assets managed in Europe and roughly a third of those in the U.S. consider environmental, social, and governance parameters while making investment decisions. Globally, the Socially Responsible Investing (SRI) market is worth around $23 trillion. Notably, SRI-based funds don't exclude oil and gas stocks. But they may exclude certain oil and gas companies which are, say, not committed to climate change. And this trend may rise further in the future.\nImage source: Getty Images.\nAn example of this is ExxonMobil (NYSE: XOM). British fund Legal & General divested some of its Exxon holdings due to the company's slack approach on climate change. Similarly, hedge fund Engine No. 1 has received backing from prominent pension funds including the California Public Employees' Retirement System and the New York State Common Retirement Fund in its efforts to push ExxonMobil to take bigger and more concrete steps toward climate change. BlackRock, ExxonMobil's second-largest shareholder, also backed Engine No. 1 in its efforts.\n3. Governmental support\nRenewable energy is receiving increased governmental support worldwide. In the U.S., several parts of President Biden's $2.3 trillion infrastructure plan focus on climate change. The plan includes a 10-year extension of investment tax credits for solar projects. It also includes $174 billion in funding for electric vehicles and electric vehicle infrastructure.\nContrast this with dozens of lawsuits filed by U.S. states and local governments against major oil and gas companies over the last few years. Relying solely on governmental support isn't a great idea for any company, but positive governmental support can surely spur growth of a sector, which has the potential to affect all of mankind.\n4. Dividend income\nDividend income isn't the first thing that comes to mind when talking about renewable energy stocks. However, several renewable energy utilities offer stable dividend income too. For example, Algonquin Power & Utilities (NYSE: AQN), which derives a third of its income from renewable energy sources, has an impressive track record of dividend growth. The stock currently trades at a yield of 4.2%. Another renewable energy utility that offers an attractive dividend is Atlantica Sustainable Infrastructure (NASDAQ: AY). It currently trades at a yield of 4.5%.\nBrookfield Renewable and NextEra Energy Partners are other top renewable energy stocks offering yields higher than 3%.\n5. Portfolio diversification\nInvestments in renewable energy stocks offer crucial portfolio diversification. In the short term, this is beneficial because oil prices and stocks tend to be volatile. If oil stocks fall out of favor, as happened in the last year, renewable energy stocks may provide some protection for your portfolio. In the long run, investing in renewable energy stocks offers exposure to this high-growth energy segment. Investing in renewables is also crucial should a transition away from fossil fuels happen faster than anticipated.\n10 stocks we like better than Enphase Energy, Inc.\nWhen our award-winning analyst team has a stock tip, it can pay to listen. After all, the newsletter they have run for over a decade, Motley Fool Stock Advisor, has tripled the market.*\nThey just revealed what they believe are the ten best stocks for investors to buy right now... and Enphase Energy, Inc. wasn't one of them! That's right -- they think these 10 stocks are even better buys.\nSee the 10 stocks\n*Stock Advisor returns as of June 7, 2021\nRekha Khandelwal has no position in any of the stocks mentioned. The Motley Fool recommends SolarEdge Technologies. The Motley Fool has a disclosure policy.\nThe views and opinions expressed herein are the views and opinions of the author and do not necessarily reflect those of Nasdaq, Inc.",
         "Negative"
        ],
        [
         "23",
         "2023-12-14",
         "Oxy's $12 Billion Acquisition: Is Warren Buffett's Second-Favorite Oil Stock a Buy?",
         "AKO-B",
         "Occidental Petroleum (NYSE: OXY) recently agreed to a $12 billion deal to buy privately owned CrownRock. Soon after the deal, Berkshire Hathaway (NYSE: BRK.A)(NYSE: BRK.B) disclosed multiple Oxy stock buys, expanding its already-sizable ownership in the company. But is it really a good deal? In this video, Motley Fool contributors Jason Hall and Tyler Crowe break things down.\n*Stock prices used were from the afternoon of Dec. 13, 2023. The video was published on Dec. 16, 2023.\nShould you invest $1,000 in Occidental Petroleum right now?\nBefore you buy stock in Occidental Petroleum, consider this:\nThe Motley Fool Stock Advisor analyst team just identified what they believe are the 10 best stocks for investors to buy now... and Occidental Petroleum wasn't one of them. The 10 stocks that made the cut could produce monster returns in the coming years.\nStock Advisor provides investors with an easy-to-follow blueprint for success, including guidance on building a portfolio, regular updates from analysts, and two new stock picks each month. The Stock Advisor service has more than tripled the return of S&P 500 since 2002*.\nSee the 10 stocks\n*Stock Advisor returns as of December 11, 2023\nJason Hall has positions in Berkshire Hathaway. Tyler Crowe has positions in Berkshire Hathaway. The Motley Fool has positions in and recommends Berkshire Hathaway. The Motley Fool recommends Occidental Petroleum. The Motley Fool has a disclosure policy. Jason Hall is an affiliate of The Motley Fool and may be compensated for promoting its services. If you choose to subscribe through their link, they will earn some extra money that supports their channel. Their opinions remain their own and are unaffected by The Motley Fool.\nThe views and opinions expressed herein are the views and opinions of the author and do not necessarily reflect those of Nasdaq, Inc.",
         "Negative"
        ],
        [
         "24",
         "2020-01-07",
         "How To YieldBoost Boeing From 2.4% To 5.6% Using Options",
         "BA",
         "Shareholders of Boeing Co. (Symbol: BA) looking to boost their income beyond the stock's 2.4% annualized dividend yield can sell the January 2022 covered call at the $420 strike and collect the premium based on the $22.10 bid, which annualizes to an additional 3.2% rate of return against the current stock price (at Stock Options Channel we call this the YieldBoost), for a total of 5.6% annualized rate in the scenario where the stock is not called away. Any upside above $420 would be lost if the stock rises there and is called away, but BA shares would have to climb 23.4% from current levels for that to happen, meaning that in the scenario where the stock is called, the shareholder has earned a 29.9% return from this trading level, in addition to any dividends collected before the stock was called.\nIn general, dividend amounts are not always predictable and tend to follow the ups and downs of profitability at each company. In the case of Boeing Co. , looking at the dividend history chart for BA below can help in judging whether the most recent dividend is likely to continue, and in turn whether it is a reasonable expectation to expect a 2.4% annualized dividend yield.\nBelow is a chart showing BA's trailing twelve month trading history, with the $420 strike highlighted in red:\nThe chart above, and the stock's historical volatility, can be a helpful guide in combination with fundamental analysis to judge whether selling the January 2022 covered call at the $420 strike gives good reward for the risk of having given away the upside beyond $420. (Do most options expire worthless? This and six other common options myths debunked). We calculate the trailing twelve month volatility for Boeing Co. (considering the last 252 trading day closing values as well as today's price of $342.00) to be 28%. For other call options contract ideas at the various different available expirations, visit the BA Stock Options page of StockOptionsChannel.com.\nIn mid-afternoon trading on Tuesday, the put volume among S&P 500 components was 1.28M contracts, with call volume at 2.32M, for a put:call ratio of 0.55 so far for the day. Compared to the long-term median put:call ratio of .65, that represents very high call volume relative to puts; in other words, buyers are preferring calls in options trading so far today. Find out which 15 call and put options traders are talking about today.\nTop YieldBoost Calls of the Dow »\nThe views and opinions expressed herein are the views and opinions of the author and do not necessarily reflect those of Nasdaq, Inc.",
         "Negative"
        ],
        [
         "25",
         "2018-05-02",
         "Unum Group (UNM) Q1 Earnings Miss Estimates, Revenues Beat",
         "AMSF",
         "Unum Group 's UNM first-quarter 2018 operating net income of $1.24 per share missed the Zacks Consensus Estimate by 0.8%. The bottom line however improved 19.2% year over year on higher premiums and stable benefits experience. Moreover, lower tax rate provided an additional boost to the metric.\nUnum Group Price, Consensus and EPS Surprise\nUnum Group Price, Consensus and EPS Surprise | Unum Group Quote\nIncluding after-tax realized investment gain of 1 cent, net income improved 21.6% year over year to $1.23 per share.\nOperational Update\nTotal operating revenues of Unum Group were $2.9 billion, up 3.8% year over year on nearly 5% higher premiums. The top line also beat the Zacks Consensus Estimate by 0.7%.\nTotal benefits and expenses increased 3.3% year over year to $2.6 billion. Rise in benefits and a change in reserves for future benefits, interest and debt expense, commissions, amortization of deferred acquisition costs plus other expenses led to an overall increase in costs.\nQuarterly Segment Update\nUnum U.S.: Premium income was $1.4 billion, up 5.8% year over year. Adjusted operating income rose 2% year over year to $243.9 million.\nUnum U.K .: Premium income grew 15.1% year over year to $139.6 million. In local currency, premium rose 2.5% year over year to £100.3 million, mainly owing to improved persistency and sales growth in the group critical illness and dental product lines.\nAdjusted operating income was $29.8 million, up 12% year over year. In local currency, the figure was £21.4 million, flat year over year.\nBenefit ratio was 71.9%, up 50 basis points (bps) due to unfavorable claims experience in the group life and critical illness product lines, partially offset by favorable claim resolutions in the group long-term disability product line.\nColonial Life : Premium income increased 6.4% year over year to $398.3 million on sales growth and solid persistency. Adjusted operating income decreased 1.7% to $81 million.\nBenefit ratio deteriorated 80 bps year over year to 51.6%.\nClosed Block : Premium income decreased 4.7% from the year-ago quarter. This decline stemmed from policy terminations and maturities for the individual disability line of business.\nAdjusted operating income was $28.9 million, falling nearly 8.5% year over year.\nCorporate : The segment incurred an operating loss of $40.3 million, narrower than the operating loss of $60.4 million in the year-ago quarter.\nCapital Management\nAs of Mar 31, 2018, the weighted average risk-based capital ratio for Unum Group's traditional U.S. insurance companies was approximately 380%. Unum Group exited the quarter with cash and marketable securities worth $887 million.\nBook value per share of Unum Group increased 7.6% year over year to $42.95 as of Mar 31, 2018.\nThe company spent around $100 million to buy back about 1.9 million shares in the quarter.\n2018 Guidance Affirmed\nUnum Group projects after-tax operating income growth per share between 17% and 23%.\nZacks Rank\nUnum Group carries a Zacks Rank #2 (Buy). You can see the complete list of today's Zacks #1 Rank (Strong Buy) stocks here.\nPerformance of Other Insurers\nAmong other players from the insurance industry having reported first-quarter earnings so far, the bottom line of Aflac Incorporated AFL , Amerisafe, Inc. AMSF and Employers Holdings, Inc. EIG surpassed the respective Zacks Consensus Estimate.\nLooking for Stocks with Skyrocketing Upside?\nZacks has just released a Special Report on the booming investment opportunities of legal marijuana.\nIgnited by new referendums and legislation, this industry is expected to blast from an already robust $6.7 billion to $20.2 billion in 2021. Early investors stand to make a killing, but you have to be ready to act and know just where to look.\nSee the pot trades we're targeting>>\nWant the latest recommendations from Zacks Investment Research? Today, you can download 7 Best Stocks for the Next 30 Days. Click to get this free report\nAflac Incorporated (AFL): Free Stock Analysis Report\nUnum Group (UNM): Free Stock Analysis Report\nAMERISAFE, Inc. (AMSF): Free Stock Analysis Report\nEmployers Holdings Inc (EIG): Free Stock Analysis Report\nTo read this article on Zacks.com click here.\nZacks Investment Research\nThe views and opinions expressed herein are the views and opinions of the author and do not necessarily reflect those of Nasdaq, Inc.\nThe views and opinions expressed herein are the views and opinions of the author and do not necessarily reflect those of Nasdaq, Inc.",
         "Negative"
        ],
        [
         "26",
         "2023-10-10",
         "Advanced Micro Devices To Acquire Nod.ai",
         "AMD",
         "(RTTNews) - Advanced Micro Devices, Inc. (AMD) announced on Tuesday its intention to acquire Nod.ai, which delivers optimized AI solutions to top hyper scalers, enterprises, and startups, to expand the company's capacity for open AI software development.\nBy acquiring Nod.ai, AMD seeks to strengthen its position in the AI market and to offer a more comprehensive suite of AI solutions that meet the needs of its customers, with open software that allows them to deploy highly performant AI models tuned for AMD hardware.\nThe Nod.ai team will help AMD advance open-source compiler technology and enable portable, high-performance AI solutions across its product portfolio, as its technologies are already widely deployed in the cloud, at the edge, and across a broad range of endpoint devices today, making this acquisition an exciting move for AMD.\nThe company said that this acquisition aligns with its growth strategy focused on an open software ecosystem that lowers the barriers of entry for customers through developer tools, libraries, and models.\nFinancial terms for the deal were not disclosed.\nThe views and opinions expressed herein are the views and opinions of the author and do not necessarily reflect those of Nasdaq, Inc.",
         "Negative"
        ],
        [
         "27",
         "2019-01-11",
         "3 Back-of-the-Shelf Consumer Stocks With Growth and Income",
         "ABBV",
         "InvestorPlace - Stock Market News, Stock Advice & Trading Tips\nMany tend to ignore consumer stocks not oriented toward the latest technology. Consumers and investors tend to focus on companies that produce new gadgets or bring the next wave of tech innovation. Many \"boring\" consumer stocks that have less of a tech focus, however, offer an impressive track record with dividends . This serves as an advantage over a tech industry, which tends to lag the S&P 500 when it comes to offering dividend stocks.\nDue in large part to dividends and a loyal customer base, consumer stocks tend to offer stability lacking in some of these more exciting stocks. Also, contrary to popular belief, many of these companies have become innovation leaders.\nAlthough the press may not always report it, these firms often pioneer new products that place them on the cutting edge in their industries.\n10 A-Rated Stocks to Buy That The Smart Money Is Piling Into\nThe following three companies lead this innovation. They also offer growth rates, valuations and dividend yields that should draw the attention of stock buyers.\nSource: Shutterstock\nAbbVie (ABBV)\nAdmittedly, AbbVie (NYSE: ABBV ) has made a few of my stock lists. I had hoped not to write about ABBV for that reason. However, when an equity offers an almost single-digit forward price-to-earnings (P/E) ratio, double-digit profit growth and the third-highest dividend yield among dividend aristocrats, I cannot leave it off in good conscience.\nABBV stock trades a perfect storm for buyers. The patent on Humira faces patent expirations across the world. This has inspired a wave of selling in AbbVie. Despite this, analysts believe the company's drug pipeline will keep profits growing at double-digit rates. This has led to a forward PE ratio that stands at about 10.1.\nThis perfect storm also applies to the firm's payouts. Due to its previous history as part of Abbott Laboratories (NYSE: ABT ), ABBV holds dividend aristocrat status. When a stock hikes its payout for 46 years as AbbVie has, the stock price depends heavily on keeping this streak alive.\nEven better, ABBV has not made not offered a token hike in the payout merely to maintain the dividend aristocrat status. AbbVie went further, taking the payout from $2.56 per share in 2017 to $3.59 per share in 2018 to $4.28 per share this year. Approving such hikes when they face intense pressure to raise the payout every year shows a strong belief in its own future.\nConsidering the low P/E ratio, the profit levels, and the dividend growth amounts, ABBV becomes one of the more obvious choices among consumer stocks.\nSource: Peyri Herrera via Flickr (Modified)\nAltria Group (MO)\nFew consumer stocks reflect resilience better than Altria (NYSE: MO ). This year will mark 55 years since the U.S. Surgeon General released their report warning on the dangers of smoking. Amid anti-smoking campaigns, increasing tobacco taxes, and multi-billion dollar legal settlements, MO stock should have sunk into obscurity. Instead, Altria has become an unlikely success story.\nDespite the hostile environment for tobacco, the company continues to find opportunity. Currently, it invests in both smokeless tobacco and alcohol. It currently holds a 10.2% stake in Anheuser Busch-InBev (NYSE: BUD ), for example. Also, despite legal barriers, it has also turned to the emerging marijuana sector. In late 2018, Altria purchased a 45% stake in Cronos (NASDAQ: CRON ) for $1.8 billion.\nEven with the hostile business environment, MO stock manages to maintain a generous dividend. The current dividend of $3.20 per share yields almost 6.6%. Although MO does not hold dividend aristocrat status, the payout has increased in most years.\nAs a result, MO stock has long remained a dividend powerhouse. Those who bought the equity in 2000 and reinvested the dividends receive their original investment back every year in dividends alone. The same holds true for those who bought in 1985 and spent or invested the payouts elsewhere.\nThe company also looks attractive from a valuation and growth perspective. The forward P/E stands at 11.3. Moreover, analysts predict a 7.5% profit growth rate this year. Also, they expect those profit increases to remain in the high-single-digits for years to come. With its successes in related business, and its ability to maintain growth despite strong anti-tobacco sentiment, Altria should continue to stand out among consumer stocks.\nSource: Shutterstock\nGeneral Mills (GIS)\nDespite producing recession-proof products, General Mills (NYSE: GIS ) and its direct peers have endured years of struggle. An increasing interest in fresh and organic foods has diminished demand for the packaged foods General Mills has produced. As a result, it has seen both revenue and profits steadily fall over the last few years. This has taken GIS stock to levels first seen in 2012.\nHowever, a turnaround could occur soon. General Mills has begun to pivot to reflect consumer tastes. The company owns brands such as Cascadian Farm, Larabar, and Muir Glen that produce certified organic foods.\nSuch products have helped revenues and profits turns around. After years of falling numbers, analysts predict a 5.5% increase in profits next year. Revenues have already begun to improve as Wall Street expects a 7.7% increase in sales growth for this year.\nAlso, due to the years of decline, GIS stock trades at 12.7 forward earnings. Although this would not impress investors in a shrinking business, it begins to appear reasonable with growth returning. Also, with a five-year average P/E of 20.6, investors will likely enjoy a nice gain by waiting for the multiple to return to its long-term average.\nEven better for income-oriented investors, the $1.96 per share dividend yields around 4.75%. Since they have achieved a 15-year streak of dividend increases, another payout hike will likely come this year.\nBoth consumers and investors have waited a long time for packaged food companies to embrace more natural foods. General Mills has finally made that move. With its attractive valuations and dividend yields, GIS stock should find a place among the more attractive high-dividend consumer stocks.\nAs of this writing, Will Healy did not hold a position in any of the aforementioned stocks. You canfollow Will on Twitterat @HealyWriting.\nMore From InvestorPlace\n2 Toxic Pot Stocks You Should Avoid\n10 Stocks You Can Set and Forget (Even In This Market)\n10 Virtual Assistants for the Future of Smart Homes\n7 5G Stocks to Buy as the Race for Spectrum Tightens\nCompare Brokers\nThe post 3 Back-of-the-Shelf Consumer Stocks With Growth and Income appeared first on InvestorPlace .\nThe views and opinions expressed herein are the views and opinions of the author and do not necessarily reflect those of Nasdaq, Inc.\nThe views and opinions expressed herein are the views and opinions of the author and do not necessarily reflect those of Nasdaq, Inc.",
         "Negative"
        ],
        [
         "28",
         "2021-01-29",
         "I'm Not Buying the Bed Bath & Beyond Hype, and Neither Should You",
         "AMC",
         "Bed Bath & Beyond (NASDAQ: BBBY) has turned from a company reeling toward irrelevance to one that, while not firmly on the path to growth, is at least heading in the right direction with leadership that has a solid grasp of what it needs to achieve next.\nYet the meteoric rise of its stock in the past week is not tethered to the reality of that comeback. Rather, it's part of a game being played to punish short-sellers who have staked out large positions betting the home goods retailer will fall.\nThat's why I'm ignoring all the hype surrounding its rise, and why you should too.\nImage source: Getty Images.\nBand of brothers\nIt was the outsize short position in video game retailer GameStop (NYSE: GME) that got investors in a Reddit subforum to band together to buy the stock. Noticing the number of shares sold short exceeded the number that existed, they bought out-of-the-money options, which forced the option sellers to buy the underlying stock to hedge their risk.\nThat caused the stock to rise, which created this self-perpetuating feeding frenzy of buying more options to cause more stock to be bought. In the wake, GameStop's stock is up 447% this week and is nearly 1,915% higher in 2021.\nIt's estimated short-sellers lost $5 billion on GameStop stock, leading traders to look for other names that had big short bets against them, like AMC Entertainment (NYSE: AMC) and National Beverage (NASDAQ: FIZZ). Bed Bath & Beyond surfaced, too.\nBBBY data by YCharts\nOf the 150 stocks that are heavily shorted (or have more than 20% of their shares outstanding sold short), 118 are trading higher over the past week and more than 90 of them are up by double-digit percentage rates. It's even more dramatic year to date, with nearly 80% showing double-digit gains.\nA new purpose\nBut what goes up must come down, at least in instances where a stock's sudden burst higher is divorced from a company's fundamentals. And in Bed Bath & Beyond's case, although investors have reason to hope the retailer can grow once more, there's no good argument in favor of the shares' having doubled in value in the past week or tripled so far this year.\nThat's why investors shouldn't trade their hope for the hype. Bed Bath & Beyond is focused once more on its core operations after having shed virtually all its ancillary businesses. Gone are Cost Plus World Market, Christmas Tree Shops, One Kings Lane, and PersonalizationMall.com. Here to stay are the primary chains of its namesake stores buybuy BABY and Harmon Face Value.\nAs it weeds out the underperforming stores, Bed Bath & Beyond is committed to remodeling those that remain while also spending $250 million over the next few years to modernize and improve its supply chain.\nKeep your powder dry\nThe retailer still has more work to do. Fiscal third-quarter sales were down 5% year over year and net sales are down 18% year to date, though a portion of that is tied to selling off its extraneous operations. When calculated according to generally accepted accounting principles (GAAP), net losses also nearly doubled in the third quarter, but on an adjusted basis Bed Bath & Beyond reported its second consecutive quarter of profit growth.\nCEO Mark Tritton looks like he's doing a bang-up job of taking a retailer on the verge of collapse and making it into a stable business that has a good shot at being a force in home goods once again.\nThat is a fine reason to invest in Bed Bath & Beyond's stock; just don't do it because you want to catch the tail of a hype machine. When the short-sellers finally capitulate and the internet randos running up the stock finally move on to the next hot topic, that's when investors with a long-term investment horizon should be emboldened to buy in.\n10 stocks we like better than Bed Bath & Beyond\nWhen investing geniuses David and Tom Gardner have a stock tip, it can pay to listen. After all, the newsletter they have run for over a decade, Motley Fool Stock Advisor, has tripled the market.*\nDavid and Tom just revealed what they believe are the ten best stocks for investors to buy right now... and Bed Bath & Beyond wasn't one of them! That's right -- they think these 10 stocks are even better buys.\nSee the 10 stocks\n*Stock Advisor returns as of November 20, 2020\nRich Duprey has no position in any of the stocks mentioned. The Motley Fool has no position in any of the stocks mentioned. The Motley Fool has a disclosure policy.\nThe views and opinions expressed herein are the views and opinions of the author and do not necessarily reflect those of Nasdaq, Inc.",
         "Negative"
        ],
        [
         "29",
         "2023-12-03",
         "Is Etsy's Revised Forecast a Hold Signal for Investors?",
         "AKO-A",
         "Etsy (NASDAQ: ETSY), with its dynamic array of handmade and vintage offerings, holds a special place in the e-commerce landscape. Distancing itself from the broad, anything-goes sales models of giants like Amazon and Walmart, Etsy focuses on curating a unique and personal shopping experience.\nOn Nov. 1, the company forecast tough conditions in quarterly remarks from CEO Josh Silverman, shedding light on Etsy's current performance and future expectations in a market facing economic challenges. Still, this forecast hinted at modest growth despite headwinds. Let's see what this could all mean for the stock.\nEtsy's most recent performance\nEtsy's forecast provides critical information for investors, delivering a window into the company's expected performance during a crucial shopping period. In the third quarter of 2023, Etsy reported Gross Merchandise Sales (GMS) of $3 billion, marking a modest 1.2% year-over-year increase. This figure highlights the challenges it faces in a market environment that Silverman describes as \"incredibly challenging\" for consumer discretionary spending.\nThe GMS of $3 billion, essentially the total value of goods sold through Etsy's platform, serves as a vital measure of marketplace activity. This slight uptick in GMS, coupled with an all-time high of 92 million active buyers, indicates a resilient, albeit cautious, consumer engagement on Etsy's platform. However, this growth stands against the backdrop of its broader market context.\n\nThe company's shares have fallen by over 37% in the past year. Silverman acknowledges tough market conditions but still expresses optimism about Etsy's strategic aim to drive profitable growth for its sellers and shareholders. This approach, emphasizing unique value propositions and targeted marketing strategies, could well bolster Etsy's standing even as the market faces potential turbulence.\nEtsy's market niche and strategic resilience\nOf course, success likely flows from how well Etsy can execute these plans. Etsy's focus on handcrafted and vintage items brings both opportunities and challenges. Recently, it has been working hard to make its platform more appealing and easier to navigate. Tweaks to search features help customers find exactly what they're looking for, and the company has focused on spotlighting its top-rated products more prominently.\n\nOne of Etsy's strategies to connect better with buyers is through personalized shopping experiences. During the second quarter of this year, it introduced new methods to make product searches more relevant to individual users. Also, by organizing the homepage to highlight specific categories, Etsy makes shopping more efficient and engaging for their customers.\nEtsy still faces significant challenges, especially when it comes to economic downturns. Its focus on non-essential, unique items leaves it at risk as consumers might cut back on buying these kinds of products. That's why Etsy is working to further diversify its offerings and enhance the overall shopping experience. It has a clear goal to keep buyers coming back, even when times are tough.\n\nWhile Etsy's recent initiatives show promise, it's yet to be seen if these efforts will translate into sustained financial growth. With the current economic uncertainty, this becomes a balancing act that Etsy navigates with a mix of innovation and caution.\nFinancial health and long-term growth\nEtsy's financial results recently have been encouraging. In the third quarter of 2023, the company reported net income of $87.9 million. This shows Etsy's ability to convert its revenue into profit, an important sign of operational efficiency. To put it simply, Etsy isn't just making money; it's also managing to keep a good portion of it after covering its expenses.\nIts margins have also been noteworthy. In the same quarter, adjusted earnings before interest, taxes, depreciation, and amortization (EBITDA) was $182.2 million, with an EBITDA margin of about 28.6%. In an e-commerce landscape that's constantly shifting, this demonstrates that Etsy has a robust foundation that could support long-term growth.\nDespite these positive financial indicators, a bullish stance on Etsy right now might be premature. The company's share price had seen a decline of over 37% in the past year, likely due to a combination of factors including market volatility and concerns about consumer spending on discretionary items, as mentioned by Silverman in recent earnings statements.\nThere's also the broader economic context to consider, where fluctuations can impact consumer behavior, especially in markets focused on nonessential items.\nA \"hold\" strategy seems more advisable at the moment. This is not due to lack of confidence in Etsy's business model or its financial strength, but rather it's a more cautious stance in the face of market uncertainties with the potential for further economic shifts that could affect consumer spending habits.\nFor investors already holding Etsy shares, there's a strong argument to maintain these investments, especially given Etsy's proven resilience and adaptability in a competitive e-commerce landscape. However, the current situation might mean waiting for clearer market trends before diving in with new share purchases.\n10 stocks we like better than Etsy\nWhen our analyst team has a stock tip, it can pay to listen. After all, the newsletter they have run for over a decade, Motley Fool Stock Advisor, has tripled the market.*\nThey just revealed what they believe are the ten best stocks for investors to buy right now... and Etsy wasn't one of them! That's right -- they think these 10 stocks are even better buys.\nSee the 10 stocks\n*Stock Advisor returns as of November 27, 2023\nJohn Mackey, former CEO of Whole Foods Market, an Amazon subsidiary, is a member of The Motley Fool's board of directors. Nicholas Robbins has no position in any of the stocks mentioned. The Motley Fool has positions in and recommends Amazon, Etsy, and Walmart. The Motley Fool has a disclosure policy.\nThe views and opinions expressed herein are the views and opinions of the author and do not necessarily reflect those of Nasdaq, Inc.",
         "Negative"
        ],
        [
         "30",
         "2023-08-28",
         "Jabil (JBL) to Sell Mobility Business to Focus on Core Areas",
         "AUDC",
         "Jabil Inc. JBL has inked a definitive agreement with China-based BYD Electronic (International) Company Limited to divest its Mobility business to focus more on its core businesses. The transaction, valued at about $2.2 billion, is slated to be the largest of its kind by the company, if concluded, subject to the mandatory regulatory approvals and fulfillment of other customary closing conditions.\n\nThe held-for-sale business primarily manufactures printed circuit boards and related products in Chengdu and Wuxi in China. The divestment will enable Jabil to enhance its financial flexibility to reward shareholders with risk-adjusted returns in the form of incremental share repurchases. In addition, it will facilitate the company to invest more in electric vehicles (EVs), renewable energy, healthcare, AI cloud data centers and other end markets to strengthen its position as one of the largest global suppliers of electronic manufacturing services.\n\nOn the other hand, the transaction will likely expand BYD Electronic's customer base and augment its smartphone components business, which has been its leading revenue-generating unit. The deal is further expected to help the company penetrate new markets and add value to its mobile supply chain.\n\nJabil is witnessing solid momentum in industrial business driven by growth in clean and smart energy infrastructure adoption. Specifically, strength in solar inverters, smart meters, energy storage & power and building management solutions are driving the top line. Jabil has an established global presence and a worldwide connected factory network, which enables it to scale up production per the evolving market dynamics.\n\nManagement’s focus on improving working capital management and integrating sophisticated AI and ML capabilities to enhance the efficiency of its internal process are major tailwinds. The company is witnessing a resilient demand trend and anticipates substantial secular growth in EVs, healthcare, renewable energy infrastructure, 5G and cloud. Its automotive industry is poised to benefit as the transformation to EV accelerates.\n\nWith more than 250,000 employees across 100 locations in 30 countries, Jabil is likely to benefit from secular growth drivers with strong margin and cash flow dynamics. Moreover, its unmatched end-market experience, technical and design capabilities, manufacturing know-how, supply chain insights and global product management expertise have put it in good stead. An extensive global footprint is further strengthened by a centralized procurement process, which, coupled with a single Enterprise Resource Planning system, aids customers with end-to-end supply chain visibility.\n\nThe stock has gained 66.6% in the past year compared with the industry’s growth of 44.4%.\n\nImage Source: Zacks Investment Research\nJabil currently carries a Zacks Rank #2 (Buy). You can see the complete list of today’s Zacks #1 Rank (Strong Buy) stocks here.\nOther Key Picks\nT-Mobile US, Inc. TMUS, carrying a Zacks Rank #2, delivered an earnings surprise of 8.8% in the last reported quarter. It has a VGM Score of B.\n\nHeadquartered in Bellevue, WA, T-Mobile is a national wireless service provider. The company offers services under the T-Mobile, Metro by T-Mobile and Sprint brands. T-Mobile, through its subsidiaries, provides wireless services for branded postpaid and prepaid, and wholesale customers.\n\nArista Networks, Inc. ANET, carrying a Zacks Rank #2, is likely to benefit from strong momentum and diversification across its top verticals and product lines. The company has a software-driven, data-centric approach to help customers build their cloud architecture and enhance their cloud experience. Arista has a long-term earnings growth expectation of 18.7% and delivered an earnings surprise of 12.8%, on average, in the trailing four quarters.\n\nIt holds a leadership position in 100-gigabit Ethernet switching share in port for the high-speed datacenter segment. Arista is increasingly gaining market traction in 200- and 400-gig high-performance switching products and remains well-positioned for healthy growth in data-driven cloud networking business with proactive platforms and predictive operations.\n\nAudioCodes Ltd. AUDC is a Zacks Rank #2 stock. It has a long-term earnings growth expectation of 4.3% and delivered an earnings surprise of 2.2%, on average, in the trailing four quarters.\n\nHeadquartered in Lod, Israel, AudioCodes offers advanced communications software, products, and productivity solutions for the digital workplace. It provides a broad range of innovative products, solutions and services that are used by large multi-national enterprises and leading tier-1 operators around the world.\nInfrastructure Stock Boom to Sweep America\nA massive push to rebuild the crumbling U.S. infrastructure will soon be underway. It’s bipartisan, urgent, and inevitable. Trillions will be spent. Fortunes will be made.\nThe only question is “Will you get into the right stocks early when their growth potential is greatest?”\nZacks has released a Special Report to help you do just that, and today it’s free. Discover 5 special companies that look to gain the most from construction and repair to roads, bridges, and buildings, plus cargo hauling and energy transformation on an almost unimaginable scale.\nDownload FREE: How To Profit From Trillions On Spending For Infrastructure >>\nWant the latest recommendations from Zacks Investment Research? Today, you can download 7 Best Stocks for the Next 30 Days. Click to get this free report\nJabil, Inc. (JBL) : Free Stock Analysis Report\nAudioCodes Ltd. (AUDC) : Free Stock Analysis Report\nT-Mobile US, Inc. (TMUS) : Free Stock Analysis Report\nArista Networks, Inc. (ANET) : Free Stock Analysis Report\nTo read this article on Zacks.com click here.\nZacks Investment Research\nThe views and opinions expressed herein are the views and opinions of the author and do not necessarily reflect those of Nasdaq, Inc.",
         "Negative"
        ],
        [
         "31",
         "2023-02-03",
         "Arrow Electronics (ARW) Beats Q4 Earnings & Sales Estimates",
         "ACLS",
         "Arrow Electronics ARW reported impressive fourth-quarter fiscal 2022 results. The company’s adjusted earnings of $5.69 per share beat the Zacks Consensus Estimate of $5.68. The bottom line improved 6% on a year-over-year basis.\nIn the fourth quarter of 2022, the company reported revenues of $9.32 billion, up 3% from the year-ago quarter. Excluding the impacts of unfavorable currency exchange rates, sales increased 8%. The top line surpassed the Zacks Consensus Estimate by 1.4%.\nArrow Electronics witnessed strength in demand for electronic components and software, cloud and security solutions in the reported quarter. With the supply-chain constraints improving, the company continued to witness normalization in shortage market activities and was able to capitalize on the growing demand in the fourth quarter.\n Arrow Electronics, Inc. Price, Consensus and EPS Surprise\nArrow Electronics, Inc. price-consensus-eps-surprise-chart | Arrow Electronics, Inc. Quote\nFourth-Quarter Details\nAdjusted revenues from Global Components increased 2.2% year over year to $6.82 billion. Region-wise, the segment’s revenues from America and Europe jumped 8.9% and 22.8% year over year, respectively. Global Components’ sales in the Asia Pacific region were down 13.8% on a year-over-year basis.\nAdjusted revenues from Global Enterprise Computing Solutions (ECS) were $3 billion, up 6.8% year over year. Region-wise, the segment’s revenues from America and Europe increased 3.5% and 11.4%, respectively.\nThe non-GAAP operating income from Global Components and Global ECS were $449 million and $156 million, respectively.\nArrow Electronics’ non-GAAP operating income jumped 2% to $533.5 million in the fourth quarter of 2022 from the year-ago quarter’s $524.8 million. Non-GAAP operating margin shrunk 10 basis points to 5.7%.\nBalance Sheet and Cash Flow\nArrow Electronics exited the fourth quarter with cash and cash equivalents of $176.9 million compared with the previous quarter’s $334 million.\nThe long-term debt was $3.6 billion, lower than $3.19 billion at the end of the third quarter of 2022.\nThe New York-based electronic components distributor generated $109 million in cash from operating activities in the reported quarter. In full fiscal 2022, the company utilized $33 million of operating cash flow.\nIn the fourth quarter of 2022, ARW returned $300 million worth of shares to its shareholders and in fiscal 2022, it returned $1 billion worth of shares to its shareholders through its stock-repurchase program. It has $329 million remaining under its current share-repurchase authorization.\nFirst Quarter Fiscal 2023 Guidance\nFor the first quarter of 2023, sales are estimated between $8.33 billion and $8.93 billion.\nGlobal Components sales are projected to be $6.55-$6.85 billion. Global ECS sales are anticipated between $1.78 billion and $2.08 billion.\nInterest expenses will presumably be $68 million. As a result, the company projects non-GAAP earnings per share of $4.40-$4.60.\nArrow Electronics expects changes in foreign currencies to increase first-quarter sales by $175 million and earnings per share by 11 cents.\nZacks Rank & Key Picks\nArrow Electronics currently carries a Zacks Rank #3 (Hold). Shares of ARW have gained 3.8% in the past year.\n\nSome top-ranked stocks from the broader Computer and Technology sector are Axcelis Technologies ACLS, Bandwidth BAND and Nutanix NTNX. While Axcelis sports a Zacks Rank #1 (Strong Buy), Bandwidth and Nutanix carry Zacks Rank #2 (Buy). You can see the complete list of today's Zacks #1 Rank stocks here.\n\nThe Zacks Consensus Estimate for Axcelis’ fourth-quarter 2022 earnings has been revised 41 cents northward to $1.46 per share over the past 30 days. For 2022, earnings estimates have improved by 8.5% to $5.21 per share over the past 30 days.\n\nACLS’ earnings beat the Zacks Consensus Estimate in each of the preceding four quarters, the average surprise being 23.2%. Shares of the company have risen 94.6% in the past year.\n\nThe Zacks Consensus Estimate for Bandwidth’s fourth-quarter 2022 earnings has been revised by a penny to 4 cents per share over the past 90 days. For 2022, earnings estimates have moved north by 25 cents to 37 cents per share in the past 90 days.\n\nBAND's earnings beat the Zacks Consensus Estimate in each of the trailing four quarters, the average surprise being 301.8%. Shares of the company have declined 55.3% in the past year.\n\nThe Zacks Consensus Estimate for Nutanix's second-quarter fiscal 2023 loss has been revised a penny north to 13 cents per share over the past 30 days. For fiscal 2023, earnings estimates have moved north by 3 cents to 17 cents per share in the past 90 days.\n\nNTNX’s earnings beat the Zacks Consensus Estimate in all the trailing four quarters, the average surprise being 86.1%. Shares of the company have jumped 11.7% in the past year.\nZacks Names \"Single Best Pick to Double\"\nFrom thousands of stocks, 5 Zacks experts each have chosen their favorite to skyrocket +100% or more in months to come. From those 5, Director of Research Sheraz Mian hand-picks one to have the most explosive upside of all.\nIt’s a little-known chemical company that’s up 65% over last year, yet still dirt cheap. With unrelenting demand, soaring 2022 earnings estimates, and $1.5 billion for repurchasing shares, retail investors could jump in at any time.\nThis company could rival or surpass other recent Zacks’ Stocks Set to Double like Boston Beer Company which shot up +143.0% in little more than 9 months and NVIDIA which boomed +175.9% in one year.\nFree: See Our Top Stock and 4 Runners Up >>\nWant the latest recommendations from Zacks Investment Research? Today, you can download 7 Best Stocks for the Next 30 Days. Click to get this free report\nArrow Electronics, Inc. (ARW) : Free Stock Analysis Report\nAxcelis Technologies, Inc. (ACLS) : Free Stock Analysis Report\nNutanix (NTNX) : Free Stock Analysis Report\nBandwidth Inc. (BAND) : Free Stock Analysis Report\nTo read this article on Zacks.com click here.\nZacks Investment Research\nThe views and opinions expressed herein are the views and opinions of the author and do not necessarily reflect those of Nasdaq, Inc.",
         "Negative"
        ],
        [
         "32",
         "2023-09-21",
         "Apple (AAPL) Stock Moves -0.89%: What You Should Know",
         "AAPL",
         "Apple (AAPL) closed at $173.93 in the latest trading session, marking a -0.89% move from the prior day. This change was narrower than the S&P 500's 1.64% loss on the day. Elsewhere, the Dow lost 1.08%, while the tech-heavy Nasdaq lost 1.82%.\nHeading into today, shares of the maker of iPhones, iPads and other products had lost 3.11% over the past month, lagging the Computer and Technology sector's gain of 1.8% and the S&P 500's gain of 0.89% in that time.\nWall Street will be looking for positivity from Apple as it approaches its next earnings report date. On that day, Apple is projected to report earnings of $1.39 per share, which would represent year-over-year growth of 7.75%. Meanwhile, the Zacks Consensus Estimate for revenue is projecting net sales of $88.87 billion, down 1.42% from the year-ago period.\nFor the full year, our Zacks Consensus Estimates are projecting earnings of $6.05 per share and revenue of $382.66 billion, which would represent changes of -0.98% and -2.96%, respectively, from the prior year.\nInvestors might also notice recent changes to analyst estimates for Apple. These recent revisions tend to reflect the evolving nature of short-term business trends. With this in mind, we can consider positive estimate revisions a sign of optimism about the company's business outlook.\nResearch indicates that these estimate revisions are directly correlated with near-term share price momentum. We developed the Zacks Rank to capitalize on this phenomenon. Our system takes these estimate changes into account and delivers a clear, actionable rating model.\nRanging from #1 (Strong Buy) to #5 (Strong Sell), the Zacks Rank system has a proven, outside-audited track record of outperformance, with #1 stocks returning an average of +25% annually since 1988. Within the past 30 days, our consensus EPS projection has moved 0.04% higher. Apple is currently sporting a Zacks Rank of #3 (Hold).\nInvestors should also note Apple's current valuation metrics, including its Forward P/E ratio of 29.03. This represents a premium compared to its industry's average Forward P/E of 11.44.\nWe can also see that AAPL currently has a PEG ratio of 2.56. This metric is used similarly to the famous P/E ratio, but the PEG ratio also takes into account the stock's expected earnings growth rate. The Computer - Mini computers industry currently had an average PEG ratio of 2.56 as of yesterday's close.\nThe Computer - Mini computers industry is part of the Computer and Technology sector. This group has a Zacks Industry Rank of 195, putting it in the bottom 23% of all 250+ industries.\nThe Zacks Industry Rank gauges the strength of our individual industry groups by measuring the average Zacks Rank of the individual stocks within the groups. Our research shows that the top 50% rated industries outperform the bottom half by a factor of 2 to 1.\nYou can find more information on all of these metrics, and much more, on Zacks.com.\nWant the latest recommendations from Zacks Investment Research? Today, you can download 7 Best Stocks for the Next 30 Days. Click to get this free report\nApple Inc. (AAPL) : Free Stock Analysis Report\nTo read this article on Zacks.com click here.\nZacks Investment Research\nThe views and opinions expressed herein are the views and opinions of the author and do not necessarily reflect those of Nasdaq, Inc.",
         "Negative"
        ],
        [
         "33",
         "2023-08-03",
         "GLOBAL MARKETS-Shares stumble as US yields rise",
         "AAPL",
         "By Tom Wilson and Stella Qiu\nLONDON/SYDNEY, Aug 3 (Reuters) - Share markets stumbled on Thursday as U.S. bonds yields hit nine-month peaks, helping the dollar to shrug off a U.S. credit downgrade to hit a four-week high against its major peers.\nEuropean shares.STOXX slipped 1.1% after falling on Wednesday to two-week lows as rating agency Fitch cut the U.S. government's credit rating. UK shares .FTSE fell 1.3%, with the Bank of England (BoE) expected to raise interest rates later in the day.\nWall Street was set to open in negative territory, too. S&P 500 futures ESc1 and Nasdaq futures NQc1 were down 0.5% and 0.8% respectively, set for more pain after a wave of selling a day earlier.\nPressuring stocks were a climb in long-term U.S. Treasury yields after stronger-than-expected private employment data and the announced refunding of the U.S. government's maturing debt.\nU.S. 10-year yields US10YT=RR hit a new nine-month peak of 4.17%, while 30-year yields US30YT=RR rose to a fresh nine-month top.\n\"We'll see how the (monetary policy) committee is thinking about that balance between inflation and growth - that's really what's on central banks' minds right now,\" said Jonathan Petersen, senior markets economist at Capital Economics.\nAPPLE AND AMAZON\nIn Asia, MSCI's broadest index of Asia-Pacific shares outside Japan .MIAPJ0000PUS fell 0.4%, extending losses after a drop of 2.3% a day earlier.\nStill, Chinese blue chips .CSI300 rose 0.9% and Hong Kong's Hang Seng index .HSI added 0.3% after a private survey showed China's services activity expanded at a faster place in July - a rare spot of good news for the sputtering economy though in contrast with a decline in official surveys.\nAnalysts at Morgan Stanley downgraded China shares to equal weight, given the still-negative earnings revisions and weak return on equity and profit margins.\n\"We believe a better reentry opportunity could be down the road, but more patience is preferred at this moment,\" they said in a note.\nAmazon, a bellwether for consumer spending, is expected to report a more than 8% rise in second-quarter revenue, aided by a recovery in the advertising and e-commerce businesses.\nOvernight, Brazil's central bank cut its benchmark interest rates for the first time in three years and by a larger-than-expected 50 basis points, marking the start of an easing cycle in emerging markets now that U.S. rates have likely peaked.\nAsia stock markets https://tmsnrt.rs/2zpUAr4\nAsia-Pacific valuations https://tmsnrt.rs/2Dr2BQA\n(Reporting by Tom Wilson in London and Stella Qiu in Sydney; Editing by Kim Coghill and Mark Potter)\n((yifan.qiu@thomsonreuters.com))\nThe views and opinions expressed herein are the views and opinions of the author and do not necessarily reflect those of Nasdaq, Inc.",
         "Negative"
        ],
        [
         "34",
         "2023-02-10",
         "Acer (ACER) to Report Q4 Earnings: What's in the Cards?",
         "ALKS",
         "We expect investors to focus on updates of Acer Therapeutics’ ACER pipeline and revenue guidance for the company’s recently approved drug, when it reports fourth-quarter 2022 results.\nACER’s surprise record has been mixed so far, as its earnings beat expectations in two of the last four quarters, while missing the mark on other two occasions. It has a trailing four-quarter negative earnings surprise of 95.82%, on average. In the last reported quarter, Acer’s earnings beat estimates by 59.21%.\nAcer Therapeutics Inc. Price and EPS Surprise\n  Acer Therapeutics Inc. price-eps-surprise | Acer Therapeutics Inc. Quote\n Since the past year, shares of Acer Therapeutics have declined 13.9% compared with the industry’s 15.0% decline.\n\nImage Source: Zacks Investment Research\nLet’s see how things have shaped up for the quarter to be reported.\nFactors to Note\nOn Dec 27, Acer Therapeutics announced that the FDA approved Olpruva, a formulation of sodium phenylbutyrate for oral suspension for the treatment of certain patients with urea cycle disorders (“UCDs”). The drug has been developed in collaboration with Relief Therapeutics Holdings SA. The approval also marks the first FDA nod to the company for any of its pipeline candidates. We do not expect the company to record any product revenues from the sale of Olpruva in the to-be-reported quarter. Investor focus would likely be on any revenue guidance and management’s commercialization activities on Olpruva.\nAs a result of the above approval, Acer Therapeutics is also eligible for a $42.5 million term loan, which management is most likely to avail as it will boost the company’s existing cash runway to second-half 2023.\nApart from UCD, Acer intends to develop Olpruva to treat various other disorders, including maple syrup urine disease, pyruvate dehydrogenase complex deficiency, rare pediatric epilepsies and various liver disorders.\nOther than Olpruva, ACER is also evaluating other candidates in active clinical development.\nA novel NK3R antagonist, ACER-801 (osanetant) is being developed across three indications – induced vasomotor symptoms (“VMS”), post-traumatic stress disorder (“PTSD”) and prostate cancer across multiple mid-stage studies. Topline data from the ongoing phase IIa study on ACER-801 as a potential treatment for moderate to severe VMS in post-menopausal women is expected in first-quarter 2023.\nAcer Therapeutics is also evaluating Edsivo (celiprolol) for the treatment of vascular Ehlers-Danlos syndrome (vEDS) in patients with a confirmed type III collagen (COL3A1) mutation in the ongoing pivotal phase III DiSCOVER study. Management is currently enrolling participants in the study and expects to complete the same by this year’s end. The successful development of these two pipeline candidates will be a big boost for the company.\nActivities related to the development of pipeline candidates are likely to have escalated operating expenses in the to-be-reported quarter.\nEarnings Whispers\nOur proven model does not predict an earnings beat for Acer Therapeutics this time around. The combination of a positive Earnings ESPand a Zacks Rank #1 (Strong Buy), 2 (Buy) or 3 (Hold) increases the odds of an earnings beat, which is not the case here, as you will see below. You can uncover the best stocks to buy or sell before they're reported with our Earnings ESP Filter.\nEarnings ESP: Acer’s Earnings ESP is 0.00% as both the Most Accurate Estimate and Zacks Consensus Estimate stand at a loss of 39 cents per share.\nZacks Rank: Acer Therapeutics currently carries a Zacks Rank #3. You can see the complete list of today’s Zacks #1 Rank stocks here.\nStocks to Consider\nHere are a few other stocks worth considering, as our model shows that these have the right combination of elements to beat on earnings this reporting cycle.\nSyndax Pharmaceuticals SNDX has an Earnings ESP of +4.39% and a Zacks Rank #1.\nSyndax Pharmaceuticals’ stock has surged 68.6% in the past year. Syndax Pharmaceuticals beat estimates in three of the last four quarters while meeting the mark on one occasion. Syndax Pharmaceuticals has delivered an earnings surprise of 95.39%, on average. In the last reported quarter, SNDX reported an earnings surprise of 10.77%.\nAlkermes ALKS has an Earnings ESP of +49.57% and a Zacks Rank #2.\nAlkermes’ stock has risen 15.1% in the past year. Earnings of ALKS beat estimates in three of the last four quarters while meeting the mark on another. On average, Alkermes witnessed a trailing four-quarter positive earnings surprise of 306.73%, on average. In the last reported quarter, Alkermes’ earnings met estimates. ALKS is scheduled to release its fourth-quarter 2022 results on Feb 16, before market opens.\nBayer BAYRY has an Earnings ESP of +6.70% and a Zacks Rank #3.\nBayer’s stock has risen 4.5% this year so far. Bayer beat earnings estimates in three of the last four quarters while missing the mark on one occasion. Bayer has a four-quarter earnings surprise of 18.23%, on average. In the last reported quarter, Bayer’s earnings missed estimates by 3.33%. BAYRY is scheduled to release its fourth-quarter 2022 results on Feb 28.\nStay on top of upcoming earnings announcements with the Zacks Earnings Calendar.\nZacks Names \"Single Best Pick to Double\"\nFrom thousands of stocks, 5 Zacks experts each have chosen their favorite to skyrocket +100% or more in months to come. From those 5, Director of Research Sheraz Mian hand-picks one to have the most explosive upside of all.\nIt’s a little-known chemical company that’s up 65% over last year, yet still dirt cheap. With unrelenting demand, soaring 2022 earnings estimates, and $1.5 billion for repurchasing shares, retail investors could jump in at any time.\nThis company could rival or surpass other recent Zacks’ Stocks Set to Double like Boston Beer Company which shot up +143.0% in little more than 9 months and NVIDIA which boomed +175.9% in one year.\nFree: See Our Top Stock and 4 Runners Up >>\nWant the latest recommendations from Zacks Investment Research? Today, you can download 7 Best Stocks for the Next 30 Days. Click to get this free report\nAlkermes plc (ALKS) : Free Stock Analysis Report\nBayer Aktiengesellschaft (BAYRY) : Free Stock Analysis Report\nSyndax Pharmaceuticals, Inc. (SNDX) : Free Stock Analysis Report\nAcer Therapeutics Inc. (ACER) : Free Stock Analysis Report\nTo read this article on Zacks.com click here.\nZacks Investment Research\nThe views and opinions expressed herein are the views and opinions of the author and do not necessarily reflect those of Nasdaq, Inc.",
         "Negative"
        ],
        [
         "35",
         "2020-09-08",
         "Why Shares of Boeing Are Down Today",
         "BA",
         "What happened\nShares of Boeing (NYSE: BA) lost 5% on Tuesday morning after the U.S. Federal Aviation Administration (FAA) said it was looking into manufacturing flaws in some 787 Dreamliners. The investigation is preliminary, and Boeing believes the issues are limited to a small number of airplanes, but the company can ill afford a fresh round of headlines questioning its manufacturing prowess right now.\nSo what\nIn late August, Boeing identified two distinct manufacturing issues in recently built Dreamliners that led to a small number of planes being grounded. The issues could make the planes unable to withstand the maximum stress that an aircraft can experience in flight.\nImage source: Boeing.\nThe FAA over the weekend said it was opening an investigation into the flaws, though it said it is too soon to determine whether new inspections will be required. Boeing said its internal investigation has determined that, while there are some planes that might have one of the two issues, it believes none have both in a way that could cause concerns about structural integrity.\nStill, the news comes at a difficult time for Boeing. The company's 737 MAX has been grounded since March 2019 after a pair of fatal accidents, and Boeing's response to the 737 MAX problems has led to questions about the safety culture at the company.\nBoeing is also trying to manage through a sharp decline in demand for new planes due to airlines cutting back as a result of the COVID-19 pandemic.\nNow what\nBased on what we know right now, this appears to be an isolated issue and not something that will impact all of the 900 Dreamliners delivered. If so, it should be a pretty manageable financial issue for the company.\nThe real risk is reputational. Boeing is a company on the defensive after the 737 MAX debacle and can ill afford travelers reading that another of its signature aircraft models is under added scrutiny. While Boeing, thanks to its global duopoly with Airbus, should win its share of new plane orders in recent years, questions about safety could make it harder for Boeing to establish itself as the preferred choice for flyers and airline buyers.\nBoeing shares already faced a multiyear headwind as the company rides out the COVID-19 airline slump and rebuilds its reputation. The new Dreamliner issues just makes the challenge ahead that much harder.\n10 stocks we like better than Boeing\nWhen investing geniuses David and Tom Gardner have a stock tip, it can pay to listen. After all, the newsletter they have run for over a decade, Motley Fool Stock Advisor, has tripled the market.*\nDavid and Tom just revealed what they believe are the ten best stocks for investors to buy right now... and Boeing wasn't one of them! That's right -- they think these 10 stocks are even better buys.\nSee the 10 stocks\n  *Stock Advisor returns as of August 1, 2020\n Lou Whiteman has no position in any of the stocks mentioned. The Motley Fool has no position in any of the stocks mentioned. The Motley Fool has a disclosure policy.\nThe views and opinions expressed herein are the views and opinions of the author and do not necessarily reflect those of Nasdaq, Inc.",
         "Negative"
        ],
        [
         "36",
         "2023-06-09",
         "Lowe's (LOW) Digital Division and Pro Business Augur Well",
         "AEO",
         "Lowe's Companies, Inc. LOW is well-positioned to capitalize on the demand for the home improvement market, backed by investments in technology, merchandise category and strength in the Pro business. A strong digital base has been aiding the company’s performance for a while now. LOW’s Total Home strategy, including complete solutions for various home improvement needs, also bodes well.\n\nDespite a tough operating backdrop, this renowned home-improvement retailer has gained 13% in the past six months, outperforming the industry’s 9.9% growth. The long-term expected earnings growth rate of 12.6%, coupled with a VGM Score of A, speaks volumes for this current Zacks Rank #3 (Hold) stock.\n\nThe Zacks Consensus Estimate for Lowe’s fiscal 2024 sales and earnings per share (EPS) is currently pegged at $89.6 billion and $14.65, respectively. These estimates suggest growth of 1.9% and 9.1%, respectively, from the year-ago fiscal quarter’s corresponding figures, raising analysts’ optimism about the stock.\nDetailing Strategies\nManagement continues making investments in omnichannel capabilities to drive growth. The areas include expanding the online assortment, boosting the user experience and improving fulfillment. The company has also been enhancing the pick up in store experience to streamline processes and advance technology. These enhancements led to faster fulfillment and a 400-basis point rise in pickup in-store customer satisfaction scores in the first quarter of fiscal 2023.\n\nApparently, online sales accelerated with 6% comparable sales growth, accounting for more than 10% sales penetration. The growth was backed by higher Pro sales stemming from advanced Pro digital experience with the latest tools and personalization. Management is on track with advancing the same-day and next-day fulfillment capabilities. Meanwhile, its focus on perpetual productivity improvement, or the PPI initiative, has also been yielding results.\n \nImage Source: Zacks Investment Research\n Pro customers have been a significant driver in Lowe's business. The company has been augmenting pro-focused brands and had earlier refurbished its pro-service business website which is called LowesForPros.com. Management remains pleased with the continued enhancements to its assortment of Pro products from trusted brands. The company is also experiencing higher demand for paint, especially from the Pros business.\n\nLowe’s has launched Pro online business tools, the latest upgrade to its MVP’s Pro Rewards program. Management is quite focused on enhancing the Pro offering across the company’s stores and online with improved service levels, deeper inventory quantities, intuitive store layout and more Pro national brands. The Pro segment is expected to continue its momentum with improved in-stock inventory levels, enhanced service offerings and the Pro loyalty program.\n\nLowe’s has also been scaling the its rural framework to as many as 300 additional stores by the year’s end, with a broader offering of farm, ranch and outdoor products. This will position Lowe’s as a one-stop shop for the rural side of the country. The company has enhanced its new store-inventory management system, or SIMS, which focuses on improving inventory visibility and operational efficiency. Lowe’s expects a $250 million benefit to sales from the delayed onset of spring in fiscal 2023.\n\nIn a nutshell, Lowe’s is well-poised for growth, given the above-discussed tailwinds.\nThree Better-Ranked Retail Stocks\nWe have highlighted three better-ranked stocks, namely Abercrombie & Fitch ANF, American Eagle Outfitters AEO and Hibbett Sports HIBB.\n\nAbercrombie & Fitch, a leading casual apparel retailer, currently sports a Zacks Rank #1 (Strong Buy). You can see the complete list of today’s Zacks #1 Rank stocks here.\n\nThe Zacks Consensus Estimate for Abercrombie & Fitch’s current financial-year sales and EPS suggests growth of 2.1% and 472%, respectively, from the year-ago reported figures. ANF delivered a negative trailing four-quarter earnings surprise of 141.2%, on average.\n\nAmerican Eagle Outfitters, a retailer of casual apparel, accessories and footwear, currently carries a Zacks Rank #2 (Buy). AEO delivered an earnings surprise of 23.3% in the last reported quarter.\n\nThe Zacks Consensus Estimate for American Eagle Outfitters’ current financial-year sales and EPS suggests growth of 1.4% and 15.5%, respectively, from the year-ago reported figures.\n\nHibbett, a sporting goods retailer, currently carries a Zacks Rank of 2. The company has a negative trailing four-quarter earnings surprise of 13.9%, on average.\n\nThe consensus estimate for Hibbett’s current financial-year sales suggests growth of 5.7% from the year-ago reported figure.\nZacks Names \"Single Best Pick to Double\"\nFrom thousands of stocks, 5 Zacks experts each have chosen their favorite to skyrocket +100% or more in months to come. From those 5, Director of Research Sheraz Mian hand-picks one to have the most explosive upside of all.\nIt’s a little-known chemical company that’s up 65% over last year, yet still dirt cheap. With unrelenting demand, soaring 2022 earnings estimates, and $1.5 billion for repurchasing shares, retail investors could jump in at any time.\nThis company could rival or surpass other recent Zacks’ Stocks Set to Double like Boston Beer Company which shot up +143.0% in little more than 9 months and NVIDIA which boomed +175.9% in one year.\nFree: See Our Top Stock and 4 Runners Up >>\nWant the latest recommendations from Zacks Investment Research? Today, you can download 7 Best Stocks for the Next 30 Days. Click to get this free report\nAbercrombie & Fitch Company (ANF) : Free Stock Analysis Report\nAmerican Eagle Outfitters, Inc. (AEO) : Free Stock Analysis Report\nLowe's Companies, Inc. (LOW) : Free Stock Analysis Report\nHibbett, Inc. (HIBB) : Free Stock Analysis Report\nTo read this article on Zacks.com click here.\nZacks Investment Research\nThe views and opinions expressed herein are the views and opinions of the author and do not necessarily reflect those of Nasdaq, Inc.",
         "Negative"
        ],
        [
         "37",
         "2019-01-11",
         "What Makes ArcBest (ARCB) a Strong Momentum Stock: Buy Now?",
         "ARCB",
         "Momentum investing revolves around the idea of following a stock's recent trend in either direction. In the 'long' context, investors will be essentially be \"buying high, but hoping to sell even higher.\" With this methodology, taking advantage of trends in a stock's price is key; once a stock establishes a course, it is more than likely to continue moving that way. The goal is that once a stock heads down a fixed path, it will lead to timely and profitable trades.\nEven though momentum is a popular stock characteristic, it can be tough to define. Debate surrounding which are the best and worst metrics to focus on is lengthy, but the Zacks Momentum Style Score, part of the Zacks Style Scores , helps address this issue for us.\nBelow, we take a look at ArcBest (ARCB) , a company that currently holds a Momentum Style Score of B. We also talk about price change and earnings estimate revisions, two of the main aspects of the Momentum Style Score.\nIt's also important to note that Style Scores work as a complement to the Zacks Rank, our stock rating system that has an impressive track record of outperformance. ArcBest currently has a Zacks Rank of #1 (Strong Buy). Our research shows that stocks rated Zacks Rank #1 (Strong Buy) and #2 (Buy) and Style Scores of A or B outperform the market over the following one-month period.\nYou can see the current list of Zacks #1 Rank Stocks here >>>\nSet to Beat the Market?\nIn order to see if ARCB is a promising momentum pick, let's examine some Momentum Style elements to see if this freight transportation and logistics company holds up.\nLooking at a stock's short-term price activity is a great way to gauge if it has momentum, since this can reflect both the current interest in a stock and if buyers or sellers have the upper hand at the moment. It's also helpful to compare a security to its industry; this can show investors the best companies in a particular area.\nFor ARCB, shares are up 2.67% over the past week while the Zacks Transportation - Truck industry is up 1.11% over the same time period. Shares are looking quite well from a longer time frame too, as the monthly price change of 10.12% compares favorably with the industry's 2.53% performance as well.\nConsidering longer term price metrics, like performance over the last three months or year, can be advantageous as well. Shares of ArcBest have increased 1.56% over the past quarter, and have gained 5.75% in the last year. In comparison, the S&P 500 has only moved -6.41% and -3.65%, respectively.\nInvestors should also take note of ARCB's average 20-day trading volume. Volume is a useful item in many ways, and the 20-day average establishes a good price-to-volume baseline; a rising stock with above average volume is generally a bullish sign, whereas a declining stock on above average volume is typically bearish. Right now, ARCB is averaging 238,534 shares for the last 20 days.\nEarnings Outlook\nThe Zacks Momentum Style Score encompasses many things, including estimate revisions and a stock's price movement. Investors should note tha t earnings estimates are also significant to the Zacks Rank, and a nice path here can be promising. We have recently been noticing this with ARCB.\nOver the past two months, 2 earnings estimates moved higher compared to 1 lower for the full year. These revisions helped boost ARCB's consensus estimate, increasing from $3.70 to $3.79 in the past 60 days. Looking at the next fiscal year, 3 estimates have moved upwards while there have been no downward revisions in the same time period.\nBottom Line\nTaking into account all of these elements, it should come as no surprise that ARCB is a #1 (Strong Buy) stock with a Momentum Score of B. If you've been searching for a fresh pick that's set to rise in the near-term, make sure to keep ArcBest on your short list.\nWant the latest recommendations from Zacks Investment Research? Today, you can download 7 Best Stocks for the Next 30 Days. Click to get this free report\nArcBest Corporation (ARCB): Free Stock Analysis Report\nTo read this article on Zacks.com click here.\nThe views and opinions expressed herein are the views and opinions of the author and do not necessarily reflect those of Nasdaq, Inc.\nThe views and opinions expressed herein are the views and opinions of the author and do not necessarily reflect those of Nasdaq, Inc.",
         "Negative"
        ],
        [
         "38",
         "2021-07-10",
         "Is NVIDIA Heading to $1,000?",
         "AMD",
         "In today's video I look at fundamentals, valuation metrics, and recent news for NVIDIA (NASDAQ:NVDA) and Advanced Micro Devices (NASDAQ:AMD). Below I share a few highlights from the video.\nIn the past nine days, as of July 9, 2021, NVIDIA has received numerous price target upgrades ranging as high as $1,000.\nNVIDIA still holds a strong lead on competitors based on the Steam Hardware & Software Survey for June 2021. Every month, Steam collects data on what kind of hardware and software is being used by its customers. As of June 2021, NVIDIA has roughly 76% of Steam's customers' market, and AMD has approximately 15%.\nThe top 12 graphics cards used by Steam customers make up roughly 48% of its customers' market. All top 12 are NVIDIA's products and are the older generations. Three out of the 12 are one generation behind, and the remaining nine are two generations behind. Investors can see this as a bullish case since gamers will need to upgrade their hardware in the future, boosting both AMD and NVIDIA's growth.\nClick the video below for my full thoughts and analysis.\n*Stock prices used were the midday prices of July 9, 2021. The video was published on July 9, 2021.\n\n\n10 stocks we like better than NVIDIA\nWhen our award-winning analyst team has a stock tip, it can pay to listen. After all, the newsletter they have run for over a decade, Motley Fool Stock Advisor, has tripled the market.*\nThey just revealed what they believe are the ten best stocks for investors to buy right now... and NVIDIA wasn't one of them! That's right -- they think these 10 stocks are even better buys.\nSee the 10 stocks\n*Stock Advisor returns as of June 7, 2021\n\nJose Najarro owns shares of Advanced Micro Devices and NVIDIA. The Motley Fool owns shares of and recommends NVIDIA. The Motley Fool recommends Advanced Micro Devices. The Motley Fool has a disclosure policy. Jose is an affiliate of The Motley Fool and may be compensated for promoting its services. If you choose to subscribe through his link, he will earn some extra money that supports his channel. His opinions remain his own and are unaffected by The Motley Fool.\nThe views and opinions expressed herein are the views and opinions of the author and do not necessarily reflect those of Nasdaq, Inc.",
         "Negative"
        ],
        [
         "39",
         "2022-08-29",
         "Here's How Much You'd Have If You Invested $1000 in Albemarle a Decade Ago",
         "ALB",
         "How much a stock's price changes over time is a significant driver for most investors. Not only can price performance impact your portfolio, but it can help you compare investment results across sectors and industries as well.\nAnother thing that can drive investing is the fear of missing out, or FOMO. This particularly applies to tech giants and popular consumer-facing stocks.\nWhat if you'd invested in Albemarle (ALB) ten years ago? It may not have been easy to hold on to ALB for all that time, but if you did, how much would your investment be worth today?\nAlbemarle's Business In-Depth\nWith that in mind, let's take a look at Albemarle's main business drivers.\nCharlotte, NC-based Albemarle Corporation is a premier specialty chemicals company with leading positions in attractive end markets globally. It is a leading producer of highly-engineered specialty chemicals geared to meet customer requirements across a bevy of end markets including petroleum refining, consumer electronics, energy storage, construction and automotive.\nAlbemarle, in January 2015, completed its acquisition of Rockwood Holdings, Inc for $5.7 billion. Rockwood became a fully-owned subsidiary of Albemarle following the deal closure.\nThe company’s former Performance Chemicals segment was split in 2016 into two separate segments, Lithium and Advanced Materials and Bromine Specialties. This led to the creation of three reportable segments – Lithium and Advanced Materials, Bromine Specialties and Refining Solutions.\nAlbemarle, in April 2018, completed the sale of its polyolefin catalysts and components business to W. R. Grace & Co. (GRA). Per the terms of the deal, the curatives and organometallics portions of the Performance Catalysts Solutions (PCS) business remain with Albemarle.\nThe company realigned its reportable segments following this divestment, effective first-quarter 2018. The PCS business has been merged with the Refining Solutions segment to form a new segment called Catalysts. As such, the company now has three reportable segments – Lithium, Bromine Specialties and Catalysts.\nThe Lithium unit is a low-cost producer of one of the most diverse portfolios of lithium derivatives in the industry. The segment develops lithium materials (including lithium carbonate and lithium hydroxide) for a vast range of end-use markets.\n\nThe company’s bromine business includes products used in fire safety solutions and other specialty chemicals applications.\n\nThe Catalysts unit includes product lines such as clean fuels technologies (CFT), FCC catalysts and additives and performance catalystsolutions (PCS).\n\nAlbemarle recorded sales of $3,327.9 million in 2021 with Lithium, Bromine Specialties and Catalysts segments accounting 41%, 34%, 23%, respectively. Its other businesses represented the balance 2% of sales.\n Bottom Line\nAnyone can invest, but building a successful investment portfolio takes a combination of a few things: research, patience, and a little bit of risk. So, if you had invested in Albemarle a decade ago, you're probably feeling pretty good about your investment today.\nAccording to our calculations, a $1000 investment made in August 2012 would be worth $5,109.22, or a 410.92% gain, as of August 29, 2022. Investors should keep in mind that this return excludes dividends but includes price appreciation.\nCompare this to the S&P 500's rally of 187.55% and gold's return of 0.73% over the same time frame.\nGoing forward, analysts are expecting more upside for ALB.\nAlbemarle’s adjusted earnings and sales for the second quarter of 2022 beat the respective Zacks Consensus Estimate. The company should gain from long-term growth in the battery-grade lithium market. It is expected to benefit from its actions to boost its global lithium derivative capacity. The company will also benefit from the synergies of the Rockwood acquisition. The buyout has enhanced diversity across end markets. The Qinzhou plant buyout will also drive volumes. Albemarle also remains focused on executing its cost-reduction program. Its cost saving actions are also expected to support margins in 2022. The company also remains committed to boost shareholder returns leveraging strong cash flows. It remains focused on maintaining its dividend payout. Albemarle has also outperformed the industry it belongs to over the past year.\nShares have gained 17.95% over the past four weeks and there have been 7 higher earnings estimate revisions for fiscal 2022 compared to none lower. The consensus estimate has moved up as well.\n7 Best Stocks for the Next 30 Days\nJust released: Experts distill 7 elite stocks from the current list of 220 Zacks Rank #1 Strong Buys. They deem these tickers \"Most Likely for Early Price Pops.\"\nSince 1988, the full list has beaten the market more than 2X over with an average gain of +24.8% per year. So be sure to give these hand-picked 7 your immediate attention. \nSee them now >>\n\nWant the latest recommendations from Zacks Investment Research? Today, you can download 7 Best Stocks for the Next 30 Days. Click to get this free report\n \nAlbemarle Corporation (ALB): Free Stock Analysis Report\n \nTo read this article on Zacks.com click here.\n \nZacks Investment Research\nThe views and opinions expressed herein are the views and opinions of the author and do not necessarily reflect those of Nasdaq, Inc.",
         "Negative"
        ],
        [
         "40",
         "2020-12-11",
         "You Need More Than Patience to Buy American Airlines",
         "AAL",
         "InvestorPlace - Stock Market News, Stock Advice & Trading Tips\nAmerican Airlines (NASDAQ:AAL) is taking part in the vaccine rally. Shares of AAL stock are up more than 38% over the last 30 days. And although there’s been other news, I have to believe it’s mostly due to the hope that stems from multiple novel coronavirus vaccine candidates.\nSource: GagliardiPhotography / Shutterstock.com\nBut American knows that they are looking at a blue Christmas with or without a vaccine. That’s why they’ve come up with an interesting partnership. They are offering passengers the opportunity to purchase an at-home Covid-19 testing kit from LetsGetChecked.\nThe idea is simple enough. If passengers are armed with a negative test result prior to boarding a plane they may avoid a mandatory quarantine at their destination. And having a negative test may also give skittish passengers the confidence to take to the skies.\nOn the latter I believe they may be on to something. But the former? Not so much. And that’s why I still find AAL stock to be a speculative buy at best.\nAn Overly Simple Solution\nI can respect American’s efforts to offer a solution that, at a quick glance, could offer peace of mind to travelers. However, it didn’t take me much time to formulate some rudimentary concerns.\n8 Battery Stocks That Electric Vehicle Companies Rely On\nFirst, by American’s own admission not all states will waive their quarantine requirements based on a negative test. So that means you pay $129 for the test (on top of your airfare) and you’ll still be subject to quarantine. That’s a privilege that many passengers will opt not to pay for.\nSecond, the test is a home test, which means that you’re relying on consumers to administer the test properly. Personally I’ve never had a test. I’ve heard from people who have. They’ve told me it’s a little painful when administered correctly. I don’t imagine that will be the case here. All I’m saying is I can see a lot of false or inconclusive results.\nThird, there’s the cost issue. I know that testing is still not readily available in all parts of the country. However, I live in a not densely populated area and I could go to my local Rite Aid (NYSE:RAD) and get a test performed for free. And I would get the results in the same time frame, or sooner, than the test being offered through LetsGetChecked.\nFinally, the whole problem with the virus is the potential for asymptomatic transmission. You could be virus-free one day and have the virus the next but feel absolutely fine. That is why I imagine some states are not waiving their requirements for a positive test.\nThe push for massive testing is useful in terms of contact tracing. But for providing the kind of certainty American is looking for, not so much.\nTaking the Temperature of Passengers\nI admit that if passengers have a negative test and believe, or know, that other passengers have a negative test it could give them more confidence to fly. But with fever being one of the most telltale symptoms of Covid-19 so might a quick temperature check.\nAnd it would cost a lot less.\nBut even then I suspect the gains would only be incremental. People that have to fly today will fly. And people that don’t won’t.\nAAL Stock Has Hit Its Vaccine Premium\nBy now we all know that no matter how many vaccines are available, the pandemic won’t end by Christmas. Or Valentine’s Day. In fact, if we’re watching a gigantic fireworks display on the Fourth of July, we may be very fortunate indeed.\nSo my advice with travel-related stocks is not to give the stock a vaccine premium. Yes, the reality (and it is a reality) of a vaccine puts a floor on American and other airline stocks. However whatever you felt about AAL stock in January is how you should feel about it today. Back then, other airline stocks looked like a better buy and the same is true today.\nThere are 20 analysts who cover American and they offer a 12-month price target of $14.50. That’s about 15% less than where the stock is as I write this. The high price target of $27 was offered in June. That seems like an eternity. Recent price targets aren’t as generous.\nIf you’re going to take a ride on AAL stock, patience may not be enough.\nOn the date of publication Chris Markoch did not have (either directly or indirectly) any positions in the securities mentioned in this article.\nChris Markoch is a freelance financial copywriter who has been covering the market for over six years. He has been writing for Investor Place since 2019.\nThe post You Need More Than Patience to Buy American Airlines appeared first on InvestorPlace.\nThe views and opinions expressed herein are the views and opinions of the author and do not necessarily reflect those of Nasdaq, Inc.",
         "Negative"
        ],
        [
         "41",
         "2023-10-20",
         "Noteworthy Friday Option Activity: ADM, BA, BALL",
         "ADM",
         "Among the underlying components of the S&P 500 index, we saw noteworthy options trading volume today in Archer Daniels Midland Co. (Symbol: ADM), where a total of 17,732 contracts have traded so far, representing approximately 1.8 million underlying shares. That amounts to about 88.5% of ADM's average daily trading volume over the past month of 2.0 million shares. Particularly high volume was seen for the $70 strike put option expiring October 27, 2023, with 15,056 contracts trading so far today, representing approximately 1.5 million underlying shares of ADM. Below is a chart showing ADM's trailing twelve month trading history, with the $70 strike highlighted in orange:\nBoeing Co. (Symbol: BA) options are showing a volume of 46,723 contracts thus far today. That number of contracts represents approximately 4.7 million underlying shares, working out to a sizeable 83.1% of BA's average daily trading volume over the past month, of 5.6 million shares. Particularly high volume was seen for the $185 strike call option expiring October 20, 2023, with 3,818 contracts trading so far today, representing approximately 381,800 underlying shares of BA. Below is a chart showing BA's trailing twelve month trading history, with the $185 strike highlighted in orange:\nAnd Ball Corp (Symbol: BALL) saw options trading volume of 13,043 contracts, representing approximately 1.3 million underlying shares or approximately 59.5% of BALL's average daily trading volume over the past month, of 2.2 million shares. Particularly high volume was seen for the $62.50 strike put option expiring November 17, 2023, with 4,540 contracts trading so far today, representing approximately 454,000 underlying shares of BALL. Below is a chart showing BALL's trailing twelve month trading history, with the $62.50 strike highlighted in orange:\nFor the various different available expirations for ADM options, BA options, or BALL options, visit StockOptionsChannel.com.\nToday's Most Active Call & Put Options of the S&P 500 »\nAlso see:\n Manufacturing Dividend Stocks\n TZL Videos\n XEL Stock Predictions\nThe views and opinions expressed herein are the views and opinions of the author and do not necessarily reflect those of Nasdaq, Inc.",
         "Negative"
        ],
        [
         "42",
         "2022-03-02",
         "Analysts Anticipate 12% Upside For ITA",
         "AIR",
         "Looking at the underlying holdings of the ETFs in our coverage universe at ETF Channel, we have compared the trading price of each holding against the average analyst 12-month forward target price, and computed the weighted average implied analyst target price for the ETF itself. For the iShares U.S. Aerospace & Defense ETF (Symbol: ITA), we found that the implied analyst target price for the ETF based upon its underlying holdings is $124.23 per unit.\nWith ITA trading at a recent price near $110.71 per unit, that means that analysts see 12.21% upside for this ETF looking through to the average analyst targets of the underlying holdings. Three of ITA's underlying holdings with notable upside to their analyst target prices are Howmet Aerospace Inc (Symbol: HWM), Parsons Corp (Symbol: PSN), and AAR Corp (Symbol: AIR). Although HWM has traded at a recent price of $33.11/share, the average analyst target is 17.79% higher at $39.00/share. Similarly, PSN has 16.45% upside from the recent share price of $33.92 if the average analyst target price of $39.50/share is reached, and analysts on average are expecting AIR to reach a target price of $49.50/share, which is 13.32% above the recent price of $43.68. Below is a twelve month price history chart comparing the stock performance of HWM, PSN, and AIR:\nCombined, HWM, PSN, and AIR represent 5.17% of the iShares U.S. Aerospace & Defense ETF. Below is a summary table of the current analyst target prices discussed above:\nNAME SYMBOL RECENT PRICE AVG. ANALYST 12-MO. TARGET % UPSIDE TO TARGET\niShares U.S. Aerospace & Defense ETF ITA $110.71 $124.23 12.21%\nHowmet Aerospace Inc HWM $33.11 $39.00 17.79%\nParsons Corp PSN $33.92 $39.50 16.45%\nAAR Corp AIR $43.68 $49.50 13.32%\nAre analysts justified in these targets, or overly optimistic about where these stocks will be trading 12 months from now? Do the analysts have a valid justification for their targets, or are they behind the curve on recent company and industry developments? A high price target relative to a stock's trading price can reflect optimism about the future, but can also be a precursor to target price downgrades if the targets were a relic of the past. These are questions that require further investor research.\n10 ETFs With Most Upside To Analyst Targets »\nThe views and opinions expressed herein are the views and opinions of the author and do not necessarily reflect those of Nasdaq, Inc.",
         "Negative"
        ],
        [
         "43",
         "2023-12-05",
         "IZEA Buys Hoozu, Expands Footprint in Asia-Pacific & Oceania",
         "AKO-B",
         "IZEA Worldwide IZEA is keeping no stone unturned to expand its influencer marketing platform.\n\nThe company recently acquired Hoozu, which will help it expand its footprint in the Asia-Pacific region and Oceania.\n\nIZEA intends to expand its presence in the Australian influencer market with the help of Hoozu’s talent management division, Huume. The company expects to expand its technological and marketing capabilities with the addition of Hoozu’s managed services business to its portfolio.\nIZEA WORLDWIDE, INC. Price and Consensus\n  IZEA WORLDWIDE, INC. price-consensus-chart | IZEA WORLDWIDE, INC. Quote\n Growth Prospects\nIZEA Worldwide’s success is driven by its expanding clientele and managed services. It recently achieved a milestone by registering more than $1 million users on its influencer marketing platforms.\n\nRecently, IZEA Worldwide added numerous new features in IZEA Flex for customers to benefit from, including integrated Google Mail, complete influencer marketing expense tracking and many more.  \n\nIZEA Worldwide also offered free access to ChatGPT-4 to help influencers and creators with the best possible OpenAI features.  \n\nThe company aims to help creators with improved influencer marketing strategies and invest more in improving their creator marketplace and Form AI.\nOutlook Strong\nIZEA reported third-quarter 2023 revenues of $7.9 million, which declined 27.1% year over year.\n\nManaged services bookings were $7.1 million, down 13.4% year over year. However, there was an increase of 18.2% year-over-year in managed service bookings for existing customers.\n\nFor 2023, IZEA expects revenues of $38 million, indicating 30% year-over-year growth.\nZacks Rank & Stocks to Consider\nCurrently, IZEA Worldwide carries a Zacks Rank #3 (Hold).\n\nThe company’s shares have returned 13.7% compared with the Zacks Computer & Technology sector’s return of 43.7%.\n\nSome better-ranked stocks in the broader technology sector are Flex FLEX, Badger Meter BMI and NVIDIA NVDA. While Flex and Badger Meter sport a Zacks Rank #1 (Strong Buy), Nvidia carries a Zacks Rank #2 (Buy). You can see the complete list of today’s Zacks #1 Rank stocks here.\n\nFlex shares have gained 17.5% in the year-to-date period. Flex’s long-term earnings growth rate is currently projected at 12.4%.\n\nBadger Meter’s shares have gained 37.4% in the year-to-date period. Badger Meter’s long-term earnings growth rate is currently projected at 20.39%.\n\nNVIDIA shares have gained 217.8% in the year-to-date period. NVIDIA's long-term earnings growth rate is currently projected at 13.5%.\n7 Best Stocks for the Next 30 Days\nJust released: Experts distill 7 elite stocks from the current list of 220 Zacks Rank #1 Strong Buys. They deem these tickers \"Most Likely for Early Price Pops.\"\nSince 1988, the full list has beaten the market more than 2X over with an average gain of +24.0% per year. So be sure to give these hand-picked 7 your immediate attention. \nSee them now >>\nWant the latest recommendations from Zacks Investment Research? Today, you can download 7 Best Stocks for the Next 30 Days. Click to get this free report\nBadger Meter, Inc. (BMI) : Free Stock Analysis Report\nNVIDIA Corporation (NVDA) : Free Stock Analysis Report\nFlex Ltd. (FLEX) : Free Stock Analysis Report\nIZEA WORLDWIDE, INC. (IZEA) : Free Stock Analysis Report\nTo read this article on Zacks.com click here.\nZacks Investment Research\nThe views and opinions expressed herein are the views and opinions of the author and do not necessarily reflect those of Nasdaq, Inc.",
         "Negative"
        ],
        [
         "44",
         "2023-12-08",
         "Wall Street Analysts See a 40.72% Upside in Jamf Holding (JAMF): Can the Stock Really Move This High?",
         "ARGD",
         "Jamf Holding (JAMF) closed the last trading session at $16.70, gaining 4.1% over the past four weeks, but there could be plenty of upside left in the stock if short-term price targets set by Wall Street analysts are any guide. The mean price target of $23.50 indicates a 40.7% upside potential.\nThe average comprises eight short-term price targets ranging from a low of $20 to a high of $30, with a standard deviation of $3.12. While the lowest estimate indicates an increase of 19.8% from the current price level, the most optimistic estimate points to a 79.6% upside. More than the range, one should note the standard deviation here, as it helps understand the variability of the estimates. The smaller the standard deviation, the greater the agreement among analysts.\nWhile the consensus price target is highly sought after by investors, the ability and unbiasedness of analysts in setting price targets have long been questionable. And investors making investment decisions solely based on this tool would arguably do themselves a disservice.\nBut, for JAMF, an impressive average price target is not the only indicator of a potential upside. Strong agreement among analysts about the company's ability to report better earnings than they predicted earlier strengthens this view. While a positive trend in earnings estimate revisions doesn't gauge how much a stock could gain, it has proven to be powerful in predicting an upside.\nHere's What You May Not Know About Analysts' Price Targets\nAccording to researchers at several universities across the globe, a price target is one of many pieces of information about a stock that misleads investors far more often than it guides. In fact, empirical research shows that price targets set by several analysts, irrespective of the extent of agreement, rarely indicate where the price of a stock could actually be heading.\nWhile Wall Street analysts have deep knowledge of a company's fundamentals and the sensitivity of its business to economic and industry issues, many of them tend to set overly optimistic price targets. Are you wondering why?\nThey usually do that to drum up interest in shares of companies that their firms either have existing business relationships with or are looking to be associated with. In other words, business incentives of firms covering a stock often result in inflated price targets set by analysts.\nHowever, a tight clustering of price targets, which is represented by a low standard deviation, indicates that analysts have a high degree of agreement about the direction and magnitude of a stock's price movement. While that doesn't necessarily mean the stock will hit the average price target, it could be a good starting point for further research aimed at identifying the potential fundamental driving forces.\nThat said, while investors should not entirely ignore price targets, making an investment decision solely based on them could lead to disappointing ROI. So, price targets should always be treated with a high degree of skepticism.\nHere's Why There Could be Plenty of Upside Left in JAMF\nThere has been increasing optimism among analysts lately about the company's earnings prospects, as indicated by strong agreement among them in revising EPS estimates higher. And that could be a legitimate reason to expect an upside in the stock. After all, empirical research shows a strong correlation between trends in earnings estimate revisions and near-term stock price movements.\nThe Zacks Consensus Estimate for the current year has increased 7.5% over the past month, as three estimates have gone higher compared to no negative revision.\nMoreover, JAMF currently has a Zacks Rank #2 (Buy), which means it is in the top 20% of more than the 4,000 stocks that we rank based on four factors related to earnings estimates. Given an impressive externally-audited track record, this is a more conclusive indication of the stock's potential upside in the near term. You can see the complete list of today's Zacks Rank #1 (Strong Buy) stocks here >>>>\nTherefore, while the consensus price target may not be a reliable indicator of how much JAMF could gain, the direction of price movement it implies does appear to be a good guide.\nZacks Names \"Single Best Pick to Double\"\nFrom thousands of stocks, 5 Zacks experts each have chosen their favorite to skyrocket +100% or more in months to come. From those 5, Director of Research Sheraz Mian hand-picks one to have the most explosive upside of all.\nIt’s a little-known chemical company that’s up 65% over last year, yet still dirt cheap. With unrelenting demand, soaring 2022 earnings estimates, and $1.5 billion for repurchasing shares, retail investors could jump in at any time.\nThis company could rival or surpass other recent Zacks’ Stocks Set to Double like Boston Beer Company which shot up +143.0% in little more than 9 months and NVIDIA which boomed +175.9% in one year.\nFree: See Our Top Stock and 4 Runners Up >>\nWant the latest recommendations from Zacks Investment Research? Today, you can download 7 Best Stocks for the Next 30 Days. Click to get this free report\nJamf Holding Corp. (JAMF) : Free Stock Analysis Report\nTo read this article on Zacks.com click here.\nZacks Investment Research\nThe views and opinions expressed herein are the views and opinions of the author and do not necessarily reflect those of Nasdaq, Inc.",
         "Negative"
        ],
        [
         "45",
         "2020-05-12",
         "Dow Movers: V, DOW",
         "BA",
         "In early trading on Tuesday, shares of Dow topped the list of the day's best performing Dow Jones Industrial Average components, trading up 1.7%. Year to date, Dow has lost about 37.0% of its value.\nAnd the worst performing Dow component thus far on the day is Visa, trading down 0.9%. Visa is lower by about 3.2% looking at the year to date performance.\nTwo other components making moves today are Microsoft, trading down 0.8%, and Boeing, trading up 1.0% on the day.\nVIDEO: Dow Movers: V, DOW\nThe views and opinions expressed herein are the views and opinions of the author and do not necessarily reflect those of Nasdaq, Inc.",
         "Negative"
        ],
        [
         "46",
         "2023-04-23",
         "3 Top Tech Stocks to Buy for 2023 and Beyond",
         "AMAT",
         "The bear market of 2022 was unkind to tech stocks, and semiconductor companies in particular took an extreme beating. Just as the global chip shortage was coming to an end, consumers started tapping the brakes on purchases of smartphones and PCs. Chip designers and manufacturers alike got clobbered.\nBut in recent months, semiconductor stocks have gotten hot again. The market is sniffing out the next up cycle, which could arrive in the second half of 2023. But besides a rebound, there's a lot to like about top names in the semiconductor space. Three Fool.com contributors like Micron Technology (NASDAQ: MU), Applied Materials (NASDAQ: AMAT), and Microchip Technology (NASDAQ: MCHP) right now. Here's why they could be great investments for 2023 and beyond.\nMemory market rebound: Don't miss Micron Technology's next cyclical upswing\nAnders Bylund (Micron Technology): The memory chip market has been a tough place to do business in recent months. An industrywide lack of supply for other types of semiconductors put a hard cap on production volumes in many key sectors. From cars and smartphones to medical devices and data center servers, the available supply of DRAM (operating memory) and NAND (long-term storage) modules far outstripped the device makers' demand for those chips. The giants of this industry run their own production lines, which separates the memory chip supply chain from the increasingly centralized pipelines of most other semiconductor types.\nSo warehouses swelled with unsold DRAM and NAND semiconductors, driving unit prices way down. These price drops tend to come along every few years in this sector. The main culprit is usually industry-leading producer Samsung cranking up its factory output and flooding the market, but the current downturn is different. This time, chip prices were slashed by the aftershocks of a global pandemic.\nEither way, the combination of slow sales and low unit prices is weighing heavily on Micron Technology's financial results and stock price. The pure-play memory chip expert's trailing sales are down by 29% in a year and free cash flows are printed in deeply red ink. As a result, the stock trades 37% below the all-time highs of January 2022.\nAnd the stars are aligning for another sharp upswing.\nSamsung can bring this industry down with ill-timed production jumps, but the opposite effect is also possible. In this case, the Korean technology giant announced memory-chip production cuts earlier this month -- and that's great news for fellow memory-chip makers such as Micron. Of course, Micron is doing its part to support higher prices, having lowered its production volumes earlier this year.\nOn top of that, the global chipmaking shortage is finally ending. Car production is rising again. Smartphone makers are cranking up their volume gently while including more memory in each handset. And in the data center, soaring demand for artificial intelligence (AI) tools and services should result in much larger memory banks per server -- efficient AI processes consume a lot of memory space.\nSo Micron's highly cyclical stock chart is poised for the next majestic upswing. It's still early and share prices are still low, so the buying window for Micron stock stands wide open.\nThe broadest portfolio of chip equipment doles out the cash\nNicholas Rossolillo (Applied Materials): Even as the chip downturn starts to show signs of easing up, semiconductor manufacturers are being cautious and scaling back their spending on expensive equipment. Such is normal when there's a threat of recession. As a result, 2023 is likely to be an off year for the semiconductor fab equipment specialists of the chip industry.\nIn spite of this, Applied Materials -- which has the broadest portfolio of chipmaking equipment around -- is anticipating it will outperform most of its peers. In fact, for the second quarter of fiscal 2023 (the three-month period that will conclude at the end of April 2023), Applied's management forecast revenue and adjusted earnings per share (EPS) could be up as much as 9% year over year. While that isn't blistering growth, it's not bad for a year like 2023 with recession worries at the top of many businesses' minds.\nLonger-term, Applied could continue grow as semiconductors keep proliferating across the global economy. This leader in chipmaking equipment also has a long history of rewarding shareholders with cash dividends and stock repurchases. And it looks dedicated to continuing that practice. In March, the quarterly dividend was increased 23% (making for an annual yield of 1.2%), and the stock repurchase program was replenished with another $10 billion commitment -- to be executed gradually over time.\nFor the record, $10 billion is currently worth over 10% of Applied Materials' market cap of $98 billion. It's a generous return of cash to shareholders.\nThe stock currently trades for less than 16 times trailing-12-month earnings per share, or about 25 times trailing-12-month free cash flow. This is one of the top tech stocks I've been buying so far in 2023, and I plan on buying some more.\nThis chip stock is growing like gangbusters through this downturn\nBilly Duberstein (Microchip Technology): Microchip Technology isn't a name that comes up often in conversations about glitzy topics like AI or electric vehicles, but the company just continues to execute.\nMicrochip is a designer of microcontrollers, microprocessors, digital and mixed-signal chips, analog chips, and field programmable gate arrays, mostly for industrial, auto, and data center applications. The company has delivered stellar results over the past year, benefiting from increased automation and electrification across the economy.\nWhile consumer electronics are in a severe downturn, auto and industrial chips have remained in high demand over the past year, and Microchip has continued to post strong results. Its December quarter revenue was up 23.4%. Not only that, but management guided for 2.5% sequential growth in March, and similar sequential growth in the June quarter. Given the extreme declines in PCs and smartphones these days, that resilience speaks to the strength of Microchip's end markets and product portfolio. Over the long term, Microchip believes it can grow at a 10% to 15% annualized growth rate, benefiting from secular megatrends.\nMicrochip also generates high profit margins, with a long-term model of 44% to 46% operating margin. And it's returning more and more of that profitability to shareholders every quarter, as the company is fast approaching its target leverage ratio of 1.5 times debt to EBITDA.\nThat milestone is actually a big deal, as it has been nearly five years in the making. Since 2018, Microchip has worked down the acquisition debt it took on to buy Microsemi for $10.3 billion that year. Since that time, Microchip has steadily paid down $6.2 billion of that debt.\nSo while Microchip has devoted most of its cash flow to paying down debt over the last five years, management plans to return 100% of free cash to shareholders after its debt target is reached. So Microchip's 1.77% dividend yield should grow handily in the future, with more share repurchases as well.\nWall Street projects $6.21 in 2024 EPS for the year ending March of 2024, meaning Microchip shares trade at just 12.8 times forward earnings. That seems like a bargain price, given the strength of Microchip's business, end markets, and increasing shareholder returns.\n10 stocks we like better than Micron Technology\nWhen our analyst team has a stock tip, it can pay to listen. After all, the newsletter they have run for over a decade, Motley Fool Stock Advisor, has tripled the market.*\nThey just revealed what they believe are the ten best stocks for investors to buy right now... and Micron Technology wasn't one of them! That's right -- they think these 10 stocks are even better buys.\nSee the 10 stocks\n*Stock Advisor returns as of April 10, 2023\nAnders Bylund has positions in Micron Technology. Billy Duberstein has positions in Applied Materials and Micron Technology. His clients may have positions in the stocks mentioned. Nicholas Rossolillo has positions in Applied Materials, Microchip Technology, and Micron Technology. His clients may have positions in the stocks mentioned. The Motley Fool has positions in and recommends Applied Materials. The Motley Fool has a disclosure policy.\nThe views and opinions expressed herein are the views and opinions of the author and do not necessarily reflect those of Nasdaq, Inc.",
         "Negative"
        ],
        [
         "47",
         "2019-03-05",
         "Cimarex's Resolute Energy Acquisition to Add to March Output",
         "AR",
         "Cimarex Energy Co.XEC recently announced that the company has closed the $1.6 billion cash-and-stock acquisition deal with Resolute Energy Corporation. Notably, Cimarex had issued around 5.7 million common shares for former shareholders of Resolute Energy. It also paid $325.6 million in cash.\nAdditionally, Cimarex announced that it is committed to achieve cashflow neutrality (after paying dividends) in 2019, with an assumed oil price of $52.50 per barrel.\nThe Resolute Energy acquisition, effective Mar 1, 2019, is anticipated to add 28,000 barrels of oil equivalent per day (BOED) of production (52.9% oil) to total output in March. For 2019, the company expects overall production to rise 18%, with oil output expected to increase 23%. It expects overall output to average 250,000-270,000 BOED in 2019. Including the effects from the acquisition, production in first-quarter 2019 is expected within the range of 245,000-257,000 BOED.\nThe strategic acquisition is expected to lead to significant commercial, financial and operational synergies, courtesy of integration of assets and systems. Cimarex holds about 94.4% stake in the combined entity, following the closing of the deal. The move is expected to be a prudent one as the deal is likely to be accretive to the company's earnings and non-GAAP cash flow. The agreement added around 21,100 net acres of Reeves County acreage to Cimarex's Permian portfolio, expanding its position by 34% to a total of 83,158 acres.\nNotably, in 2019, the company plans to invest $1.1-$1.2 billion for drilling and completion of 83 net wells, of which 66 are from the Permian Basin. As a result, around 85% of its total drilling and completion capital will be directed toward the Permian Basin.\nPrice Performance\nCimarex has lost 22.9% in the past year compared with 23.8% collective decline of its industry .\nZacks Rank and Stocks to Consider\nCurrently, Cimarex carries a Zacks Rank #3 (Hold). Investors interested in the energy sector can opt for some better-ranked stocks as given below:\nAustin, TX-based Jones Energy, Inc. JONE is an exploration and production company. For 2019, its bottom line, which has witnessed one upside revision over the past 60 days, is expected to grow 19% year over year. The company currently holds a Zacks Rank #2 (Buy). You can see the complete list of today's Zacks #1 Rank (Strong Buy) stocks here .\nDenver, CO-based Antero Resources Corporation AR is an upstream energy company. Its top line for 2019 is expected to increase 11.8% year over year. The stock currently has a Zacks Rank #2.\nEnbridge Inc. ENB is a Calgary, Canada-based energy infrastructure provider. The company delivered average positive earnings surprise of 31.8% in the trailing four quarters. It currently has a Zacks Rank #2.\nBreakout Biotech Stocks with Triple-Digit Profit Potential\nThe biotech sector is projected to surge beyond $775 billion by 2024 as scientists develop treatments for thousands of diseases. They're also finding ways to edit the human genome to literally erase our vulnerability to these diseases.\nZacks has just released Century of Biology: 7 Biotech Stocks to Buy Right Now to help investors profit from 7 stocks poised for outperformance. Our recent biotech recommendations have produced gains of +98% , +119% and +164% in as little as 1 month. The stocks in this report could perform even better.\nSee these 7 breakthrough stocks now>>\nWant the latest recommendations from Zacks Investment Research? Today, you can download 7 Best Stocks for the Next 30 Days. Click to get this free report\nEnbridge Inc (ENB): Free Stock Analysis Report\nAntero Resources Corporation (AR): Free Stock Analysis Report\nCimarex Energy Co (XEC): Free Stock Analysis Report\nJones Energy, Inc. (JONE): Free Stock Analysis Report\nTo read this article on Zacks.com click here.\nThe views and opinions expressed herein are the views and opinions of the author and do not necessarily reflect those of Nasdaq, Inc.\nThe views and opinions expressed herein are the views and opinions of the author and do not necessarily reflect those of Nasdaq, Inc.",
         "Negative"
        ],
        [
         "48",
         "2023-12-13",
         "Allegiant Travel (ALGT) Ascends While Market Falls: Some Facts to Note",
         "AKO-B",
         "In the latest trading session, Allegiant Travel (ALGT) closed at $82.25, marking a +1.33% move from the previous day. The stock's change was more than the S&P 500's daily loss of 0.01%. Meanwhile, the Dow experienced a rise of 0.15%, and the technology-dominated Nasdaq saw an increase of 0.36%.\nHeading into today, shares of the travel services company had gained 23.04% over the past month, outpacing the Transportation sector's gain of 9.83% and the S&P 500's gain of 5.21% in that time.\nThe investment community will be closely monitoring the performance of Allegiant Travel in its forthcoming earnings report. The company is predicted to post an EPS of -$0.66, indicating a 120.82% decline compared to the equivalent quarter last year. At the same time, our most recent consensus estimate is projecting a revenue of $599.9 million, reflecting a 1.91% fall from the equivalent quarter last year.\nALGT's full-year Zacks Consensus Estimates are calling for earnings of $7.13 per share and revenue of $2.5 billion. These results would represent year-over-year changes of +127.8% and +8.58%, respectively.\nAdditionally, investors should keep an eye on any recent revisions to analyst forecasts for Allegiant Travel. These latest adjustments often mirror the shifting dynamics of short-term business patterns. As a result, upbeat changes in estimates indicate analysts' favorable outlook on the company's business health and profitability.\nResearch indicates that these estimate revisions are directly correlated with near-term share price momentum. To utilize this, we have created the Zacks Rank, a proprietary model that integrates these estimate changes and provides a functional rating system.\nThe Zacks Rank system, which varies between #1 (Strong Buy) and #5 (Strong Sell), carries an impressive track record of exceeding expectations, confirmed by external audits, with stocks at #1 delivering an average annual return of +25% since 1988. Within the past 30 days, our consensus EPS projection has moved 4% lower. Allegiant Travel is currently sporting a Zacks Rank of #5 (Strong Sell).\nInvestors should also note Allegiant Travel's current valuation metrics, including its Forward P/E ratio of 11.38. For comparison, its industry has an average Forward P/E of 7.42, which means Allegiant Travel is trading at a premium to the group.\nThe Transportation - Airline industry is part of the Transportation sector. This industry currently has a Zacks Industry Rank of 195, which puts it in the bottom 23% of all 250+ industries.\nThe Zacks Industry Rank gauges the strength of our industry groups by measuring the average Zacks Rank of the individual stocks within the groups. Our research shows that the top 50% rated industries outperform the bottom half by a factor of 2 to 1.\nRemember to apply Zacks.com to follow these and more stock-moving metrics during the upcoming trading sessions.\nZacks Names \"Single Best Pick to Double\"\nFrom thousands of stocks, 5 Zacks experts each have chosen their favorite to skyrocket +100% or more in months to come. From those 5, Director of Research Sheraz Mian hand-picks one to have the most explosive upside of all.\nIt’s a little-known chemical company that’s up 65% over last year, yet still dirt cheap. With unrelenting demand, soaring 2022 earnings estimates, and $1.5 billion for repurchasing shares, retail investors could jump in at any time.\nThis company could rival or surpass other recent Zacks’ Stocks Set to Double like Boston Beer Company which shot up +143.0% in little more than 9 months and NVIDIA which boomed +175.9% in one year.\nFree: See Our Top Stock and 4 Runners Up >>\nWant the latest recommendations from Zacks Investment Research? Today, you can download 7 Best Stocks for the Next 30 Days. Click to get this free report\nAllegiant Travel Company (ALGT) : Free Stock Analysis Report\nTo read this article on Zacks.com click here.\nZacks Investment Research\nThe views and opinions expressed herein are the views and opinions of the author and do not necessarily reflect those of Nasdaq, Inc.",
         "Negative"
        ],
        [
         "49",
         "2023-11-30",
         "Advanced Micro (AMD) Up 14.6% Since Last Earnings Report: Can It Continue?",
         "AMD",
         "A month has gone by since the last earnings report for Advanced Micro Devices (AMD). Shares have added about 14.6% in that time frame, outperforming the S&P 500.\nWill the recent positive trend continue leading up to its next earnings release, or is Advanced Micro due for a pullback? Before we dive into how investors and analysts have reacted as of late, let's take a quick look at its most recent earnings report in order to get a better handle on the important drivers.\nAMD Q3 Earnings Beat, Top Line Aided by Solid Client Growth\nAdvanced Micro Devices reported third-quarter 2023 non-GAAP earnings of 70 cents per share, beating the Zacks Consensus Estimate by 2.94% and climbing 4.5% year over year.\n\nRevenues of $5.8 billion beat the Zacks Consensus Estimate by 1.65% and increased 4.2% year over year.\n\nAMD shares were down roughly 1.6% in pre-market trading, given the unimpressive fourth-quarter guidance. The company expects weakness in the Gaming and Embedded segment to hurt revenues in the current quarter.\nTop-Line Details\nData Center revenues declined 0.7% year over year to $1.6 billion and accounted for 27.6% of total revenues. Sequentially, revenues increased 21%, driven by strong adoption of fourth-generation AMD EPYC CPUs.\n\nOur model estimate for third-quarter Data Center revenues was pegged at $1.62 billion.\n\nThe Client segment revenues increased 42.2% year over year to $1.46 billion and accounted for 25.1% of total revenues. Higher Ryzen mobile processor sales drove top-line growth.\n\nRevenues jumped 46% sequentially, driven by strong Ryzen 7000 Series CPU sales. Our model estimate for third-quarter Client revenues was pegged at $1.24 billion.    \n\nThe Gaming segment revenues decreased 7.7% year over year to $1.51 billion and accounted for 26% of total revenues. The decline was primarily attributed to lower semi-custom revenues.\n\nOur model estimate for third-quarter Gaming revenues was pegged at $1.61 billion.\n\nThe Embedded segment revenues were $1.24 billion, down 4.6% year over year. The segment accounted for 21.4% of total revenues. The top line suffered from lower performance in the communications market. Our model estimate for third-quarter Embedded revenues was pegged at $1.23 billion.\nOperating Details\nNon-GAAP gross margin expanded 120 basis points (bps) on a year-over-year basis to 51.1%, primarily due to lower client segment revenues.\n\nNon-GAAP operating expenses increased 11.6% year over year to $1.7 billion.\n\nNon-GAAP operating margin contracted 70 bps on a year-over-year basis to 22% in the third quarter.\nBalance Sheet & Cash Flow\nAs of Sep 30, 2023, AMD had cash and cash equivalents (including marketable securities) of $5.79 billion compared with $6.29 billion as of Jul 1, 2023.\n\nAs of Sep 30, 2023, total debt was $2.47 billion, unchanged from the figure reported as of Jul 1, 2023.\n\nOperating cash flow was reported at $421 million compared with $379 million in the second quarter of 2023.\n\nFree cash flow was $297 million in the third quarter of 2023 compared with $254 million in the second quarter of 2023.\nGuidance\nAMD expects fourth-quarter 2023 revenues to be $6.1 billion (+/-$300 million), which indicates year-over-year growth of 9% and 5% sequentially at the mid-point.\n\nIt expects to witness year-over-year growth in the Data Center and Client segments by double-digit percentage. The Gaming segment is expected to decline due to the matured console cycle. Softness in the embedded market will likely hurt Embedded revenues.\n\nSequentially, Data Center segment revenues are expected to grow on a double-digit percentage, while Client is expected to increase. However, Gaming and Embedded segment revenues are expected to decline by a double-digit percentage.\n\nNon-GAAP gross margin is anticipated to be roughly 51.5%. Non-GAAP operating expenses are expected to be approximately $1.74 billion.\nHow Have Estimates Been Moving Since Then?\nIn the past month, investors have witnessed a downward trend in estimates revision.\nThe consensus estimate has shifted -17.41% due to these changes.\nVGM Scores\nAt this time, Advanced Micro has a poor Growth Score of F, a grade with the same score on the momentum front. Following the exact same course, the stock was allocated a grade of F on the value side, putting it in the fifth quintile for this investment strategy.\nOverall, the stock has an aggregate VGM Score of F. If you aren't focused on one strategy, this score is the one you should be interested in.\nOutlook\nEstimates have been broadly trending downward for the stock, and the magnitude of these revisions indicates a downward shift. Notably, Advanced Micro has a Zacks Rank #3 (Hold). We expect an in-line return from the stock in the next few months.\nPerformance of an Industry Player\nAdvanced Micro is part of the Zacks Electronics - Semiconductors industry. Over the past month, Amkor Technology (AMKR), a stock from the same industry, has gained 28.9%. The company reported its results for the quarter ended September 2023 more than a month ago.\nAmkor Technology reported revenues of $1.82 billion in the last reported quarter, representing a year-over-year change of -12.6%. EPS of $0.54 for the same period compares with $1.24 a year ago.\nFor the current quarter, Amkor Technology is expected to post earnings of $0.41 per share, indicating a change of -38.8% from the year-ago quarter. The Zacks Consensus Estimate has changed +0.4% over the last 30 days.\nThe overall direction and magnitude of estimate revisions translate into a Zacks Rank #5 (Strong Sell) for Amkor Technology. Also, the stock has a VGM Score of D.\nOnly $1 to See All Zacks' Buys and Sells\nWe're not kidding.\nSeveral years ago, we shocked our members by offering them 30-day access to all our picks for the total sum of only $1. No obligation to spend another cent.\nThousands have taken advantage of this opportunity. Thousands did not - they thought there must be a catch. Yes, we do have a reason. We want you to get acquainted with our portfolio services likeSurprise Trader, Stocks Under $10, Technology Innovators,and more. They've already closed 162 positions with double- and triple-digit gains in 2023 alone.\nSee Stocks Now >>\nWant the latest recommendations from Zacks Investment Research? Today, you can download 7 Best Stocks for the Next 30 Days. Click to get this free report\nAdvanced Micro Devices, Inc. (AMD) : Free Stock Analysis Report\nAmkor Technology, Inc. (AMKR) : Free Stock Analysis Report\nTo read this article on Zacks.com click here.\nZacks Investment Research\nThe views and opinions expressed herein are the views and opinions of the author and do not necessarily reflect those of Nasdaq, Inc.",
         "Negative"
        ]
       ],
       "shape": {
        "columns": 5,
        "rows": 9999
       }
      },
      "text/html": [
       "<div>\n",
       "<style scoped>\n",
       "    .dataframe tbody tr th:only-of-type {\n",
       "        vertical-align: middle;\n",
       "    }\n",
       "\n",
       "    .dataframe tbody tr th {\n",
       "        vertical-align: top;\n",
       "    }\n",
       "\n",
       "    .dataframe thead th {\n",
       "        text-align: right;\n",
       "    }\n",
       "</style>\n",
       "<table border=\"1\" class=\"dataframe\">\n",
       "  <thead>\n",
       "    <tr style=\"text-align: right;\">\n",
       "      <th></th>\n",
       "      <th>Date</th>\n",
       "      <th>Article_title</th>\n",
       "      <th>Stock_symbol</th>\n",
       "      <th>Article</th>\n",
       "      <th>Label</th>\n",
       "    </tr>\n",
       "  </thead>\n",
       "  <tbody>\n",
       "    <tr>\n",
       "      <th>0</th>\n",
       "      <td>2022-11-17</td>\n",
       "      <td>Foxconn hires over 100,000 workers for COVID-h...</td>\n",
       "      <td>AAPL</td>\n",
       "      <td>SHANGHAI, Nov 17 (Reuters) - Apple AAPL.O supp...</td>\n",
       "      <td>Negative</td>\n",
       "    </tr>\n",
       "    <tr>\n",
       "      <th>1</th>\n",
       "      <td>2023-09-26</td>\n",
       "      <td>Atmos Energy Stock Getting Very Oversold</td>\n",
       "      <td>ATO</td>\n",
       "      <td>In trading on Tuesday, shares of Atmos Energy ...</td>\n",
       "      <td>Negative</td>\n",
       "    </tr>\n",
       "    <tr>\n",
       "      <th>2</th>\n",
       "      <td>2021-09-22</td>\n",
       "      <td>September Sell-Off: 3 Dirt Cheap Growth Stocks...</td>\n",
       "      <td>BABA</td>\n",
       "      <td>September's been a rough month for the stock m...</td>\n",
       "      <td>Negative</td>\n",
       "    </tr>\n",
       "    <tr>\n",
       "      <th>3</th>\n",
       "      <td>2021-04-07</td>\n",
       "      <td>What Type Of Shareholders Make Up Aprea Therap...</td>\n",
       "      <td>APRE</td>\n",
       "      <td>Every investor in Aprea Therapeutics, Inc. (NA...</td>\n",
       "      <td>Negative</td>\n",
       "    </tr>\n",
       "    <tr>\n",
       "      <th>4</th>\n",
       "      <td>2023-12-06</td>\n",
       "      <td>This Generative Artificial Intelligence (AI) S...</td>\n",
       "      <td>AKO-B</td>\n",
       "      <td>Generative artificial intelligence (AI) applic...</td>\n",
       "      <td>Negative</td>\n",
       "    </tr>\n",
       "    <tr>\n",
       "      <th>...</th>\n",
       "      <td>...</td>\n",
       "      <td>...</td>\n",
       "      <td>...</td>\n",
       "      <td>...</td>\n",
       "      <td>...</td>\n",
       "    </tr>\n",
       "    <tr>\n",
       "      <th>9994</th>\n",
       "      <td>2021-05-03</td>\n",
       "      <td>Stock ETFs Start May on the Front Foot</td>\n",
       "      <td>ABEQ</td>\n",
       "      <td>Stocks and index ETFs started the first tradin...</td>\n",
       "      <td>Positive</td>\n",
       "    </tr>\n",
       "    <tr>\n",
       "      <th>9995</th>\n",
       "      <td>2023-11-30</td>\n",
       "      <td>Consumer Sector Update for 11/30/2023: VSCO, D...</td>\n",
       "      <td>AGM-A</td>\n",
       "      <td>Consumer stocks were mixed late Thursday after...</td>\n",
       "      <td>Positive</td>\n",
       "    </tr>\n",
       "    <tr>\n",
       "      <th>9996</th>\n",
       "      <td>2019-12-11</td>\n",
       "      <td>3 Stocks Immune to the U.S.-China Trade War</td>\n",
       "      <td>ADBE</td>\n",
       "      <td>With President Donald Trump signaling that the...</td>\n",
       "      <td>Positive</td>\n",
       "    </tr>\n",
       "    <tr>\n",
       "      <th>9997</th>\n",
       "      <td>2018-07-23</td>\n",
       "      <td>Should Victory CEMP US EQ Income Enhanced Vola...</td>\n",
       "      <td>AEP</td>\n",
       "      <td>Designed to provide broad exposure to the Larg...</td>\n",
       "      <td>Positive</td>\n",
       "    </tr>\n",
       "    <tr>\n",
       "      <th>9998</th>\n",
       "      <td>2022-03-29</td>\n",
       "      <td>Is Innovative Industrial Properties in Trouble?</td>\n",
       "      <td>AMT</td>\n",
       "      <td>How long can Innovative Industrial Properties ...</td>\n",
       "      <td>Positive</td>\n",
       "    </tr>\n",
       "  </tbody>\n",
       "</table>\n",
       "<p>9999 rows × 5 columns</p>\n",
       "</div>"
      ],
      "text/plain": [
       "            Date                                      Article_title  \\\n",
       "0     2022-11-17  Foxconn hires over 100,000 workers for COVID-h...   \n",
       "1     2023-09-26           Atmos Energy Stock Getting Very Oversold   \n",
       "2     2021-09-22  September Sell-Off: 3 Dirt Cheap Growth Stocks...   \n",
       "3     2021-04-07  What Type Of Shareholders Make Up Aprea Therap...   \n",
       "4     2023-12-06  This Generative Artificial Intelligence (AI) S...   \n",
       "...          ...                                                ...   \n",
       "9994  2021-05-03             Stock ETFs Start May on the Front Foot   \n",
       "9995  2023-11-30  Consumer Sector Update for 11/30/2023: VSCO, D...   \n",
       "9996  2019-12-11        3 Stocks Immune to the U.S.-China Trade War   \n",
       "9997  2018-07-23  Should Victory CEMP US EQ Income Enhanced Vola...   \n",
       "9998  2022-03-29    Is Innovative Industrial Properties in Trouble?   \n",
       "\n",
       "     Stock_symbol                                            Article     Label  \n",
       "0            AAPL  SHANGHAI, Nov 17 (Reuters) - Apple AAPL.O supp...  Negative  \n",
       "1             ATO  In trading on Tuesday, shares of Atmos Energy ...  Negative  \n",
       "2            BABA  September's been a rough month for the stock m...  Negative  \n",
       "3            APRE  Every investor in Aprea Therapeutics, Inc. (NA...  Negative  \n",
       "4           AKO-B  Generative artificial intelligence (AI) applic...  Negative  \n",
       "...           ...                                                ...       ...  \n",
       "9994         ABEQ  Stocks and index ETFs started the first tradin...  Positive  \n",
       "9995        AGM-A  Consumer stocks were mixed late Thursday after...  Positive  \n",
       "9996         ADBE  With President Donald Trump signaling that the...  Positive  \n",
       "9997          AEP  Designed to provide broad exposure to the Larg...  Positive  \n",
       "9998          AMT  How long can Innovative Industrial Properties ...  Positive  \n",
       "\n",
       "[9999 rows x 5 columns]"
      ]
     },
     "execution_count": 30,
     "metadata": {},
     "output_type": "execute_result"
    }
   ],
   "source": [
    "df_10k"
   ]
  },
  {
   "cell_type": "code",
   "execution_count": null,
   "id": "564e9812",
   "metadata": {},
   "outputs": [
    {
     "name": "stderr",
     "output_type": "stream",
     "text": [
      "C:\\Users\\saman\\AppData\\Local\\Temp\\ipykernel_7304\\3123855707.py:5: FutureWarning: DataFrameGroupBy.apply operated on the grouping columns. This behavior is deprecated, and in a future version of pandas the grouping columns will be excluded from the operation. Either pass `include_groups=False` to exclude the groupings or explicitly select the grouping columns after groupby to silence this warning.\n",
      "  .apply(lambda x: x.sample(n=target_per_class, random_state=42))\n"
     ]
    },
    {
     "name": "stdout",
     "output_type": "stream",
     "text": [
      "Label\n",
      "Negative    6666\n",
      "Neutral     6666\n",
      "Positive    6666\n",
      "Name: count, dtype: int64\n",
      "Final dataset size: (19998, 5)\n"
     ]
    }
   ],
   "source": [
    "target_per_class = 20000 // 3  \n",
    "\n",
    "df_20k = (\n",
    "    df_reduced.groupby(\"Label\")\n",
    "    .apply(lambda x: x.sample(n=target_per_class, random_state=42))\n",
    "    .reset_index(drop=True)\n",
    ")\n",
    "\n",
    "print(df_20k[\"Label\"].value_counts())\n",
    "print(\"Final dataset size:\", df_20k.shape)\n",
    "\n",
    "# Save for training\n",
    "df_20k.to_csv(r'F:\\College\\SEM 7\\19CSE453-Natural Language Processing\\Case Study\\Dataset\\FNSPID_20k_z_score.csv', index=False)"
   ]
  },
  {
   "cell_type": "code",
   "execution_count": 22,
   "id": "48f3d8cf",
   "metadata": {},
   "outputs": [
    {
     "name": "stdout",
     "output_type": "stream",
     "text": [
      "Year\n",
      "2018    2015\n",
      "2019    1430\n",
      "2020    1738\n",
      "2021    2181\n",
      "2022    3556\n",
      "2023    9078\n",
      "Name: Date, dtype: int64\n"
     ]
    }
   ],
   "source": [
    "df_20k[\"Year\"] = pd.to_datetime(df_20k[\"Date\"]).dt.year\n",
    "\n",
    "# Count articles per year\n",
    "year_counts = df_20k.groupby(\"Year\")[\"Date\"].count()\n",
    "\n",
    "print(year_counts)"
   ]
  },
  {
   "cell_type": "code",
   "execution_count": 23,
   "id": "57f3a4b6",
   "metadata": {},
   "outputs": [
    {
     "data": {
      "text/plain": [
       "(19998, 6)"
      ]
     },
     "execution_count": 23,
     "metadata": {},
     "output_type": "execute_result"
    }
   ],
   "source": [
    "df_20k.shape"
   ]
  }
 ],
 "metadata": {
  "kernelspec": {
   "display_name": "Python 3",
   "language": "python",
   "name": "python3"
  },
  "language_info": {
   "codemirror_mode": {
    "name": "ipython",
    "version": 3
   },
   "file_extension": ".py",
   "mimetype": "text/x-python",
   "name": "python",
   "nbconvert_exporter": "python",
   "pygments_lexer": "ipython3",
   "version": "3.11.9"
  }
 },
 "nbformat": 4,
 "nbformat_minor": 5
}
