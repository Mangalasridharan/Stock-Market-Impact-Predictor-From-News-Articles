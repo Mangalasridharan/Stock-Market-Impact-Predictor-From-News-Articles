{
 "cells": [
  {
   "metadata": {
    "ExecuteTime": {
     "end_time": "2025-09-21T14:10:15.359425Z",
     "start_time": "2025-09-21T14:10:12.161179Z"
    }
   },
   "cell_type": "code",
   "source": "import pandas as pd",
   "id": "f4b6ce72d607e4c",
   "outputs": [],
   "execution_count": 1
  },
  {
   "metadata": {
    "ExecuteTime": {
     "end_time": "2025-09-21T14:14:49.883052Z",
     "start_time": "2025-09-21T14:14:49.750364Z"
    }
   },
   "cell_type": "code",
   "source": "lm_dict = pd.read_csv(r\"C:\\Users\\saman\\Downloads\\Loughran-McDonald_MasterDictionary_1993-2024.csv\")",
   "id": "3028487e2ac34b6e",
   "outputs": [],
   "execution_count": 5
  },
  {
   "metadata": {
    "ExecuteTime": {
     "end_time": "2025-09-21T14:14:51.145329Z",
     "start_time": "2025-09-21T14:14:51.139774Z"
    }
   },
   "cell_type": "code",
   "source": "lm_dict.columns",
   "id": "bbd086d543fe48b0",
   "outputs": [
    {
     "data": {
      "text/plain": [
       "Index(['Word', 'Seq_num', 'Word Count', 'Word Proportion',\n",
       "       'Average Proportion', 'Std Dev', 'Doc Count', 'Negative', 'Positive',\n",
       "       'Uncertainty', 'Litigious', 'Strong_Modal', 'Weak_Modal',\n",
       "       'Constraining', 'Complexity', 'Syllables', 'Source'],\n",
       "      dtype='object')"
      ]
     },
     "execution_count": 6,
     "metadata": {},
     "output_type": "execute_result"
    }
   ],
   "execution_count": 6
  },
  {
   "metadata": {
    "ExecuteTime": {
     "end_time": "2025-09-21T14:15:21.459920Z",
     "start_time": "2025-09-21T14:15:21.443950Z"
    }
   },
   "cell_type": "code",
   "source": [
    "positive_words = set(lm_dict[lm_dict['Positive'] > 0]['Word'].str.lower())\n",
    "negative_words = set(lm_dict[lm_dict['Negative'] > 0]['Word'].str.lower())\n",
    "uncertain_words = set(lm_dict[lm_dict['Uncertainty'] > 0]['Word'].str.lower())\n",
    "modal_strong = set(lm_dict[lm_dict['Strong_Modal'] > 0]['Word'].str.lower())\n",
    "modal_weak = set(lm_dict[lm_dict['Weak_Modal'] > 0]['Word'].str.lower())\n",
    "constraining_words = set(lm_dict[lm_dict['Constraining'] > 0]['Word'].str.lower())"
   ],
   "id": "ab84c4f4de9eb380",
   "outputs": [],
   "execution_count": 8
  },
  {
   "metadata": {
    "ExecuteTime": {
     "end_time": "2025-09-21T14:15:50.752944Z",
     "start_time": "2025-09-21T14:15:50.743205Z"
    }
   },
   "cell_type": "code",
   "source": [
    "print(len(positive_words))\n",
    "print(len(negative_words))\n",
    "print(len(uncertain_words))\n",
    "print(len(modal_strong))\n",
    "print(len(modal_weak))\n",
    "print(len(constraining_words))"
   ],
   "id": "446ea9fb9507a11d",
   "outputs": [
    {
     "name": "stdout",
     "output_type": "stream",
     "text": [
      "347\n",
      "2345\n",
      "297\n",
      "19\n",
      "27\n",
      "184\n"
     ]
    }
   ],
   "execution_count": 9
  },
  {
   "metadata": {},
   "cell_type": "code",
   "outputs": [],
   "execution_count": null,
   "source": "",
   "id": "62a09acca2605783"
  }
 ],
 "metadata": {
  "kernelspec": {
   "name": "python3",
   "language": "python",
   "display_name": "Python 3 (ipykernel)"
  }
 },
 "nbformat": 4,
 "nbformat_minor": 5
}
